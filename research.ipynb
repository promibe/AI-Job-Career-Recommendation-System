{
 "cells": [
  {
   "cell_type": "markdown",
   "id": "16e661c2",
   "metadata": {
    "id": "16e661c2"
   },
   "source": [
    "# <center>AI Powered Career Guidance Job Recommender System</center>"
   ]
  },
  {
   "cell_type": "markdown",
   "id": "Sk31JD89iAx-",
   "metadata": {
    "id": "Sk31JD89iAx-"
   },
   "source": [
    "Will be using Transformers(distillbert):\n",
    "\n",
    "https://huggingface.co/docs/transformers/main/en/main_classes/model#transformers.PreTrainedModel"
   ]
  },
  {
   "cell_type": "code",
   "execution_count": 4,
   "id": "0FSt2JIfhzjw",
   "metadata": {
    "executionInfo": {
     "elapsed": 5,
     "status": "ok",
     "timestamp": 1748195979396,
     "user": {
      "displayName": "Promise Ibediogwu",
      "userId": "14544577992882322965"
     },
     "user_tz": -60
    },
    "id": "0FSt2JIfhzjw"
   },
   "outputs": [],
   "source": [
    "#library to ignore warnings\n",
    "import warnings\n",
    "warnings.filterwarnings('ignore')\n",
    "\n",
    "import pandas as pd\n",
    "import numpy as np\n",
    "import os"
   ]
  },
  {
   "cell_type": "code",
   "execution_count": null,
   "id": "17xanue-h4wq",
   "metadata": {
    "colab": {
     "base_uri": "https://localhost:8080/"
    },
    "executionInfo": {
     "elapsed": 2465,
     "status": "ok",
     "timestamp": 1748195981883,
     "user": {
      "displayName": "Promise Ibediogwu",
      "userId": "14544577992882322965"
     },
     "user_tz": -60
    },
    "id": "17xanue-h4wq",
    "outputId": "ce4baf87-cd70-4e55-f85e-986569b5a501"
   },
   "outputs": [
    {
     "name": "stdout",
     "output_type": "stream",
     "text": [
      "Drive already mounted at /content/drive; to attempt to forcibly remount, call drive.mount(\"/content/drive\", force_remount=True).\n"
     ]
    }
   ],
   "source": [
    "#from google.colab import drive\n",
    "#drive.mount('/content/drive')"
   ]
  },
  {
   "cell_type": "code",
   "execution_count": null,
   "id": "E49eH2FAv1nu",
   "metadata": {
    "colab": {
     "base_uri": "https://localhost:8080/"
    },
    "executionInfo": {
     "elapsed": 3885,
     "status": "ok",
     "timestamp": 1748047992223,
     "user": {
      "displayName": "Promise Ibediogwu",
      "userId": "14544577992882322965"
     },
     "user_tz": -60
    },
    "id": "E49eH2FAv1nu",
    "outputId": "089999df-5a2c-4082-a444-686a6b7d3f34"
   },
   "outputs": [
    {
     "name": "stdout",
     "output_type": "stream",
     "text": [
      "TensorFlow version: 2.18.0\n",
      "GPU Available: [PhysicalDevice(name='/physical_device:GPU:0', device_type='GPU')]\n"
     ]
    }
   ],
   "source": [
    "# For TensorFlow\n",
    "import tensorflow as tf\n",
    "print(\"TensorFlow version:\", tf.__version__)\n",
    "print(\"GPU Available:\", tf.config.list_physical_devices('GPU'))"
   ]
  },
  {
   "cell_type": "code",
   "execution_count": 3,
   "id": "839d87b7",
   "metadata": {
    "colab": {
     "base_uri": "https://localhost:8080/"
    },
    "collapsed": true,
    "executionInfo": {
     "elapsed": 7132,
     "status": "ok",
     "timestamp": 1748195700272,
     "user": {
      "displayName": "Promise Ibediogwu",
      "userId": "14544577992882322965"
     },
     "user_tz": -60
    },
    "id": "839d87b7",
    "outputId": "8628e362-1e19-4cec-c763-1920886a6557",
    "vscode": {
     "languageId": "powershell"
    }
   },
   "outputs": [
    {
     "name": "stdout",
     "output_type": "stream",
     "text": [
      "Collecting PyMuPDF\n",
      "  Downloading pymupdf-1.26.0-cp39-abi3-manylinux2014_x86_64.manylinux_2_17_x86_64.whl.metadata (3.4 kB)\n",
      "Collecting python-docx\n",
      "  Downloading python_docx-1.1.2-py3-none-any.whl.metadata (2.0 kB)\n",
      "Requirement already satisfied: lxml>=3.1.0 in /usr/local/lib/python3.11/dist-packages (from python-docx) (5.4.0)\n",
      "Requirement already satisfied: typing-extensions>=4.9.0 in /usr/local/lib/python3.11/dist-packages (from python-docx) (4.13.2)\n",
      "Downloading pymupdf-1.26.0-cp39-abi3-manylinux2014_x86_64.manylinux_2_17_x86_64.whl (24.1 MB)\n",
      "\u001b[2K   \u001b[90m━━━━━━━━━━━━━━━━━━━━━━━━━━━━━━━━━━━━━━━━\u001b[0m \u001b[32m24.1/24.1 MB\u001b[0m \u001b[31m49.4 MB/s\u001b[0m eta \u001b[36m0:00:00\u001b[0m\n",
      "\u001b[?25hDownloading python_docx-1.1.2-py3-none-any.whl (244 kB)\n",
      "\u001b[2K   \u001b[90m━━━━━━━━━━━━━━━━━━━━━━━━━━━━━━━━━━━━━━━━\u001b[0m \u001b[32m244.3/244.3 kB\u001b[0m \u001b[31m21.8 MB/s\u001b[0m eta \u001b[36m0:00:00\u001b[0m\n",
      "\u001b[?25hInstalling collected packages: python-docx, PyMuPDF\n",
      "Successfully installed PyMuPDF-1.26.0 python-docx-1.1.2\n"
     ]
    }
   ],
   "source": [
    "pip install PyMuPDF python-docx"
   ]
  },
  {
   "cell_type": "code",
   "execution_count": 5,
   "id": "4f6f81e7",
   "metadata": {
    "executionInfo": {
     "elapsed": 200,
     "status": "ok",
     "timestamp": 1748195741025,
     "user": {
      "displayName": "Promise Ibediogwu",
      "userId": "14544577992882322965"
     },
     "user_tz": -60
    },
    "id": "4f6f81e7",
    "vscode": {
     "languageId": "powershell"
    }
   },
   "outputs": [],
   "source": [
    "# import the necessary libaries to enable the loading of the resume, whether in doc or pdf format\n",
    "import pymupdf\n",
    "from docx import Document"
   ]
  },
  {
   "cell_type": "code",
   "execution_count": 16,
   "id": "Sr1Te5WlEfKD",
   "metadata": {
    "colab": {
     "base_uri": "https://localhost:8080/"
    },
    "executionInfo": {
     "elapsed": 8,
     "status": "ok",
     "timestamp": 1747735397880,
     "user": {
      "displayName": "Promise Ibediogwu",
      "userId": "14544577992882322965"
     },
     "user_tz": -60
    },
    "id": "Sr1Te5WlEfKD",
    "outputId": "d3e3a533-360d-498b-cd30-ba7e91a35d3f"
   },
   "outputs": [
    {
     "name": "stdout",
     "output_type": "stream",
     "text": [
      "training_datasets\\AI-powered-career-guidance-project-dataset\\data\\ACCOUNTANTE54236.pdf\n"
     ]
    }
   ],
   "source": [
    "file_path = r'training_datasets\\AI-powered-career-guidance-project-dataset\\data'\n",
    "file = file_path + '\\ACCOUNTANT\\10554236.pdf'\n",
    "print(file)"
   ]
  },
  {
   "cell_type": "code",
   "execution_count": 7,
   "id": "PyX8OtV3E606",
   "metadata": {
    "colab": {
     "base_uri": "https://localhost:8080/",
     "height": 176
    },
    "executionInfo": {
     "elapsed": 195,
     "status": "error",
     "timestamp": 1748195712225,
     "user": {
      "displayName": "Promise Ibediogwu",
      "userId": "14544577992882322965"
     },
     "user_tz": -60
    },
    "id": "PyX8OtV3E606",
    "outputId": "7a171c39-11af-42d8-b401-370c246ad3f3"
   },
   "outputs": [],
   "source": [
    "#creating a function to extract the text in the pdf\n",
    "def extract_text_from_pdf(pdf_path):\n",
    "    full_text = \"\"\n",
    "    try:\n",
    "        with pymupdf.open(pdf_path) as doc:\n",
    "          for page in doc:\n",
    "              full_text = \"\\n\".join([page.get_text() for page in doc])\n",
    "    except Exception as e:\n",
    "        print(f\"Failed to read PDF {pdf_path}: {e}\")\n",
    "    return full_text\n",
    "\n",
    "#print(extract_text_from_pdf(file))"
   ]
  },
  {
   "cell_type": "code",
   "execution_count": 8,
   "id": "_QFvi_m8E6yF",
   "metadata": {
    "id": "_QFvi_m8E6yF"
   },
   "outputs": [],
   "source": [
    "def extract_text_from_docx(docx_path):\n",
    "    text = \"\"\n",
    "    try:\n",
    "        doc = Document(docx_path)\n",
    "        text = \"\\n\".join([para.text for para in doc.paragraphs])\n",
    "    except Exception as e:\n",
    "        print(f\"Failed to read DOCX {docx_path}: {e}\")\n",
    "    return text\n"
   ]
  },
  {
   "cell_type": "code",
   "execution_count": 17,
   "id": "xvcn8pKBE6v8",
   "metadata": {
    "colab": {
     "base_uri": "https://localhost:8080/",
     "height": 53
    },
    "executionInfo": {
     "elapsed": 12,
     "status": "ok",
     "timestamp": 1747735060662,
     "user": {
      "displayName": "Promise Ibediogwu",
      "userId": "14544577992882322965"
     },
     "user_tz": -60
    },
    "id": "xvcn8pKBE6v8",
    "outputId": "e14479c6-c176-4239-f05d-4f61f5281e1f"
   },
   "outputs": [
    {
     "data": {
      "text/plain": [
       "'training_datasets\\\\AI-powered-career-guidance-project-dataset\\\\data\\\\DATA ANALYST_SCIENTIST\\\\Favoured ilamina furro.docx'"
      ]
     },
     "execution_count": 17,
     "metadata": {},
     "output_type": "execute_result"
    }
   ],
   "source": [
    "file = file_path + '\\DATA ANALYST_SCIENTIST\\Favoured ilamina furro.docx'\n",
    "file"
   ]
  },
  {
   "cell_type": "code",
   "execution_count": 18,
   "id": "-906jezlIlf7",
   "metadata": {
    "id": "-906jezlIlf7"
   },
   "outputs": [
    {
     "data": {
      "text/plain": [
       "'training_datasets\\\\AI-powered-career-guidance-project-dataset\\\\data\\\\DATA ANALYST_SCIENTIST\\\\Favoured ilamina furro.docx'"
      ]
     },
     "execution_count": 18,
     "metadata": {},
     "output_type": "execute_result"
    }
   ],
   "source": [
    "r'training_datasets\\AI-powered-career-guidance-project-dataset\\data\\DATA ANALYST_SCIENTIST\\Favoured ilamina furro.docx'"
   ]
  },
  {
   "cell_type": "code",
   "execution_count": 19,
   "id": "HDaxxd0-E6t0",
   "metadata": {
    "colab": {
     "base_uri": "https://localhost:8080/",
     "height": 313
    },
    "executionInfo": {
     "elapsed": 807,
     "status": "ok",
     "timestamp": 1747735260317,
     "user": {
      "displayName": "Promise Ibediogwu",
      "userId": "14544577992882322965"
     },
     "user_tz": -60
    },
    "id": "HDaxxd0-E6t0",
    "outputId": "a9fda6ff-6e95-446e-be7d-fcd0766b344a"
   },
   "outputs": [
    {
     "data": {
      "text/plain": [
       "'FURO FAVOURED ILAMINA | PETROCHEMICAL ENGINEER | DATA ANALYST\\nfavouredfuro@gmail.com\\n+2347065603910\\nLinkedIn Profile\\n\\n Data Analyst | Project Management | HSE Officer | Petrochemical Engineer\\n\\nHighly skilled and results-driven Data Analysis, Project Management, and HSE (Health, Safety, and Environment).\\n Expert in combining engineering knowledge with data-driven insights to optimize operations, enhance safety protocols, and ensure compliance with industry standards. \\nProficient in leading cross-functional teams, managing complex projects, and implementing robust safety and environmental strategies in high-stakes environments.\\n\\n\\n\\n\\nWork Experience\\n\\n\\nIndustrial Rigger \\t\\t\\t\\t\\t                                                2023          Onshore and Offshore Safety Institute\\t\\t\\t\\t\\t\\t\\t\\n•   Adjust actions in relation to other actions.\\n•   Conducting Quality Control Analysis.\\n•   Performing routine maintenance.\\n•   Determining the right kind of tool and equipment and operation monitoring skills.\\n•   Perform overall pre-operational checks. \\n\\nHSE Officer\\t\\t\\t\\t                                                                       2022 \\nOnshore and Offshore Safety Institute\\t\\t\\t\\t\\t\\t        \\nThorough knowledge of Health, Safety and Environment Legislation. \\nExperienced in formulating policies in a high risk environment then implementing. \\nAble to formulate preventive maintenance schedules. \\nTraining a workforce including managers in Health and Safety and Environment. \\nResponsible for Health and Safety on Companies training sites along with environmental compliance. \\n\\n\\n\\n\\n\\nSkills\\n\\nKnowledge on OSHA standards\\nSkilled in developing and improving quality procedures, work instructions, and quality documentation. \\nProven track record of identifying process gaps, implementing corrective actions, and driving continuous improvement initiatives.    \\nAbility to lead cross-functional teams, manage project budgets, and ensure timely completion of deliverables.\\nProficient in risk assessment and mitigation strategies, ensuring project success and customer satisfaction. \\nPresentation Creation\\nProblem-Solving Abilities\\nProactiveness\\nAttention to Detail\\nFoundational skills in data collection, cleaning, and visualization using tools like Excel,Google Sheets,Power BI and SQL.\\nFamiliar with basic statistical analysis and creating actionable insights from data trends to support decision-making.\\nEducation/CertificationRivers State University\\nBsc- Chemical/Petrochemical Engineering.\\n\\nOnshore and Offshore Safety Institute\\nForklift Operation and Advanced Rigging.\\n\\nData Analytics\\nHarvoxx Tech Hub.\\n\\n\\n\\n\\n\\n\\n\\n\\n'"
      ]
     },
     "execution_count": 19,
     "metadata": {},
     "output_type": "execute_result"
    }
   ],
   "source": [
    "extract_text_from_docx(file)"
   ]
  },
  {
   "cell_type": "markdown",
   "id": "oN7Q4MgoP28w",
   "metadata": {
    "id": "oN7Q4MgoP28w"
   },
   "source": [
    "### Extracting with both functions"
   ]
  },
  {
   "cell_type": "code",
   "execution_count": 13,
   "id": "0n_1-h19E6r3",
   "metadata": {
    "id": "0n_1-h19E6r3"
   },
   "outputs": [],
   "source": [
    "def extract_resume_text(file_path):\n",
    "    ext = os.path.splitext(file_path)[1].lower()\n",
    "    if ext == \".pdf\":\n",
    "        return extract_text_from_pdf(file_path)\n",
    "    elif ext == \".docx\":\n",
    "        return extract_text_from_docx(file_path)\n",
    "    else:\n",
    "        return None  # unsupported file type"
   ]
  },
  {
   "cell_type": "code",
   "execution_count": 22,
   "id": "DNYDtufVMU3_",
   "metadata": {
    "id": "DNYDtufVMU3_"
   },
   "outputs": [],
   "source": [
    "base_dir = r'training_datasets\\AI-powered-career-guidance-project-dataset\\data'"
   ]
  },
  {
   "cell_type": "code",
   "execution_count": 23,
   "id": "0ZziThKtMU0o",
   "metadata": {
    "colab": {
     "base_uri": "https://localhost:8080/"
    },
    "executionInfo": {
     "elapsed": 279432,
     "status": "ok",
     "timestamp": 1747736535994,
     "user": {
      "displayName": "Promise Ibediogwu",
      "userId": "14544577992882322965"
     },
     "user_tz": -60
    },
    "id": "0ZziThKtMU0o",
    "outputId": "2ed01d63-2636-4a07-ff3e-2a1112a1c008"
   },
   "outputs": [
    {
     "name": "stdout",
     "output_type": "stream",
     "text": [
      "Failed to read PDF training_datasets\\AI-powered-career-guidance-project-dataset\\data\\NOT_A_RESUME\\2025 Sticker 311224 approved[1].pdf: document closed or encrypted\n",
      "Failed to read DOCX training_datasets\\AI-powered-career-guidance-project-dataset\\data\\NOT_A_RESUME\\Letter_of_account_opening.docx: Bad CRC-32 for file 'word/media/image10.png'\n",
      "Failed to read DOCX training_datasets\\AI-powered-career-guidance-project-dataset\\data\\NOT_A_RESUME\\Project Review.docx: Package not found at 'training_datasets\\AI-powered-career-guidance-project-dataset\\data\\NOT_A_RESUME\\Project Review.docx'\n",
      "Failed to read PDF training_datasets\\AI-powered-career-guidance-project-dataset\\data\\NOT_A_RESUME\\Technical Writing_ Cultivating a Data-Driven Culture through Effective Documentation of Data Product.pptx.pdf: no such file: 'training_datasets\\AI-powered-career-guidance-project-dataset\\data\\NOT_A_RESUME\\Technical Writing_ Cultivating a Data-Driven Culture through Effective Documentation of Data Product.pptx.pdf'\n",
      "Failed to read DOCX training_datasets\\AI-powered-career-guidance-project-dataset\\data\\NOT_A_RESUME\\The appropriate age for children and young adults to engage with social media has been a topic of considerable debate in recent years.docx: Package not found at 'training_datasets\\AI-powered-career-guidance-project-dataset\\data\\NOT_A_RESUME\\The appropriate age for children and young adults to engage with social media has been a topic of considerable debate in recent years.docx'\n",
      "Failed to read DOCX training_datasets\\AI-powered-career-guidance-project-dataset\\data\\NOT_A_RESUME\\[With Scrptr] APPROVED - April 2024__Saturday_WSF_Teaching_Outline(HM) Blessings That Accompany Giving and Receiving.docx: Package not found at 'training_datasets\\AI-powered-career-guidance-project-dataset\\data\\NOT_A_RESUME\\[With Scrptr] APPROVED - April 2024__Saturday_WSF_Teaching_Outline(HM) Blessings That Accompany Giving and Receiving.docx'\n",
      "Failed to read DOCX training_datasets\\AI-powered-career-guidance-project-dataset\\data\\NOT_A_RESUME\\[With Scrptr] APPROVED - April_2024_MIDWEEK_SERVICES_TEACHING_OUTLINES_(HM) Walking in the Covenant of Supernatural Blessings.docx: Package not found at 'training_datasets\\AI-powered-career-guidance-project-dataset\\data\\NOT_A_RESUME\\[With Scrptr] APPROVED - April_2024_MIDWEEK_SERVICES_TEACHING_OUTLINES_(HM) Walking in the Covenant of Supernatural Blessings.docx'\n",
      "Failed to read DOCX training_datasets\\AI-powered-career-guidance-project-dataset\\data\\NOT_A_RESUME\\[With Scrptr] APPROVED - April_2024_Sunday_Teaching_outline - Gateways to Supernatural Blessings in Hard Times.docx: Package not found at 'training_datasets\\AI-powered-career-guidance-project-dataset\\data\\NOT_A_RESUME\\[With Scrptr] APPROVED - April_2024_Sunday_Teaching_outline - Gateways to Supernatural Blessings in Hard Times.docx'\n",
      "Failed to read DOCX training_datasets\\AI-powered-career-guidance-project-dataset\\data\\NOT_A_RESUME\\[With_Scrptr]_Sunday_January_5_2025_Teaching_Outline_-_Engaging_the_Wonders_of_Prayer_and_Fasting_-_Pt_1[1].docx: Package not found at 'training_datasets\\AI-powered-career-guidance-project-dataset\\data\\NOT_A_RESUME\\[With_Scrptr]_Sunday_January_5_2025_Teaching_Outline_-_Engaging_the_Wonders_of_Prayer_and_Fasting_-_Pt_1[1].docx'\n",
      "✅ Extracted and saved 2735 labeled resumes.\n"
     ]
    }
   ],
   "source": [
    "data = []\n",
    "\n",
    "for folder in os.listdir(base_dir):\n",
    "    folder_path = os.path.join(base_dir, folder)\n",
    "    if os.path.isdir(folder_path):\n",
    "        for filename in os.listdir(folder_path):\n",
    "            if filename.endswith((\".pdf\", \".docx\")):\n",
    "                file_path = os.path.join(folder_path, filename)\n",
    "                text = extract_resume_text(file_path)\n",
    "                if text:\n",
    "                    data.append((text, folder))  # (resume_text, label)\n",
    "\n",
    "# Create and save DataFrame\n",
    "df = pd.DataFrame(data, columns=[\"text\", \"label\"])\n",
    "df.to_csv(\"resume_data.csv\", index=False)\n",
    "\n",
    "print(f\"✅ Extracted and saved {len(df)} labeled resumes.\")"
   ]
  },
  {
   "cell_type": "code",
   "execution_count": null,
   "id": "32Y3yOsiOdt6",
   "metadata": {
    "colab": {
     "base_uri": "https://localhost:8080/"
    },
    "executionInfo": {
     "elapsed": 42,
     "status": "ok",
     "timestamp": 1747736941855,
     "user": {
      "displayName": "Promise Ibediogwu",
      "userId": "14544577992882322965"
     },
     "user_tz": -60
    },
    "id": "32Y3yOsiOdt6",
    "outputId": "aa2dc56f-f191-4d3d-8fc5-16a4efa95a0a"
   },
   "outputs": [
    {
     "name": "stdout",
     "output_type": "stream",
     "text": [
      "ENGINEERING\n",
      "/content/drive/MyDrive/Colab Notebooks/AI-Powered-Career-Guidance/AI-powered-career-guidance-project-dataset/data/ENGINEERING\n",
      "SALES\n",
      "/content/drive/MyDrive/Colab Notebooks/AI-Powered-Career-Guidance/AI-powered-career-guidance-project-dataset/data/SALES\n"
     ]
    }
   ],
   "source": [
    "for folder in os.listdir(base_dir)[:2]:\n",
    "  print(folder)\n",
    "  folder_path = os.path.join(base_dir, folder)\n",
    "  print(folder_path)"
   ]
  },
  {
   "cell_type": "code",
   "execution_count": 24,
   "id": "5uDzU_TDMUyV",
   "metadata": {
    "colab": {
     "base_uri": "https://localhost:8080/",
     "height": 423
    },
    "executionInfo": {
     "elapsed": 377,
     "status": "ok",
     "timestamp": 1747736558852,
     "user": {
      "displayName": "Promise Ibediogwu",
      "userId": "14544577992882322965"
     },
     "user_tz": -60
    },
    "id": "5uDzU_TDMUyV",
    "outputId": "868ff9ef-c4bc-47f8-96e8-780e8c8d3dc6"
   },
   "outputs": [
    {
     "data": {
      "text/html": [
       "<div>\n",
       "<style scoped>\n",
       "    .dataframe tbody tr th:only-of-type {\n",
       "        vertical-align: middle;\n",
       "    }\n",
       "\n",
       "    .dataframe tbody tr th {\n",
       "        vertical-align: top;\n",
       "    }\n",
       "\n",
       "    .dataframe thead th {\n",
       "        text-align: right;\n",
       "    }\n",
       "</style>\n",
       "<table border=\"1\" class=\"dataframe\">\n",
       "  <thead>\n",
       "    <tr style=\"text-align: right;\">\n",
       "      <th></th>\n",
       "      <th>text</th>\n",
       "      <th>label</th>\n",
       "    </tr>\n",
       "  </thead>\n",
       "  <tbody>\n",
       "    <tr>\n",
       "      <th>0</th>\n",
       "      <td>ACCOUNTANT\\nSummary\\nFinancial Accountant spec...</td>\n",
       "      <td>ACCOUNTANT</td>\n",
       "    </tr>\n",
       "    <tr>\n",
       "      <th>1</th>\n",
       "      <td>STAFF ACCOUNTANT\\nSummary\\nHighly analytical a...</td>\n",
       "      <td>ACCOUNTANT</td>\n",
       "    </tr>\n",
       "    <tr>\n",
       "      <th>2</th>\n",
       "      <td>ACCOUNTANT\\nProfessional Summary\\nTo obtain a ...</td>\n",
       "      <td>ACCOUNTANT</td>\n",
       "    </tr>\n",
       "    <tr>\n",
       "      <th>3</th>\n",
       "      <td>SENIOR ACCOUNTANT\\nExperience\\nCompany Name Ju...</td>\n",
       "      <td>ACCOUNTANT</td>\n",
       "    </tr>\n",
       "    <tr>\n",
       "      <th>4</th>\n",
       "      <td>SENIOR ACCOUNTANT\\nProfessional Summary\\nSenio...</td>\n",
       "      <td>ACCOUNTANT</td>\n",
       "    </tr>\n",
       "    <tr>\n",
       "      <th>...</th>\n",
       "      <td>...</td>\n",
       "      <td>...</td>\n",
       "    </tr>\n",
       "    <tr>\n",
       "      <th>2730</th>\n",
       "      <td>READING TEACHER\\nSummary\\nI am a highly motiva...</td>\n",
       "      <td>TEACHER</td>\n",
       "    </tr>\n",
       "    <tr>\n",
       "      <th>2731</th>\n",
       "      <td>HISTORY TEACHER\\nProfessional Summary\\nTo be e...</td>\n",
       "      <td>TEACHER</td>\n",
       "    </tr>\n",
       "    <tr>\n",
       "      <th>2732</th>\n",
       "      <td>TEACHER\\nSummary\\nHighly ethical, dependable, ...</td>\n",
       "      <td>TEACHER</td>\n",
       "    </tr>\n",
       "    <tr>\n",
       "      <th>2733</th>\n",
       "      <td>TEACHER\\nSummary\\nTalented early education pro...</td>\n",
       "      <td>TEACHER</td>\n",
       "    </tr>\n",
       "    <tr>\n",
       "      <th>2734</th>\n",
       "      <td>Kpandipou Koffi\\nSummary\\nCompassionate teachi...</td>\n",
       "      <td>TEACHER</td>\n",
       "    </tr>\n",
       "  </tbody>\n",
       "</table>\n",
       "<p>2735 rows × 2 columns</p>\n",
       "</div>"
      ],
      "text/plain": [
       "                                                   text       label\n",
       "0     ACCOUNTANT\\nSummary\\nFinancial Accountant spec...  ACCOUNTANT\n",
       "1     STAFF ACCOUNTANT\\nSummary\\nHighly analytical a...  ACCOUNTANT\n",
       "2     ACCOUNTANT\\nProfessional Summary\\nTo obtain a ...  ACCOUNTANT\n",
       "3     SENIOR ACCOUNTANT\\nExperience\\nCompany Name Ju...  ACCOUNTANT\n",
       "4     SENIOR ACCOUNTANT\\nProfessional Summary\\nSenio...  ACCOUNTANT\n",
       "...                                                 ...         ...\n",
       "2730  READING TEACHER\\nSummary\\nI am a highly motiva...     TEACHER\n",
       "2731  HISTORY TEACHER\\nProfessional Summary\\nTo be e...     TEACHER\n",
       "2732  TEACHER\\nSummary\\nHighly ethical, dependable, ...     TEACHER\n",
       "2733  TEACHER\\nSummary\\nTalented early education pro...     TEACHER\n",
       "2734  Kpandipou Koffi\\nSummary\\nCompassionate teachi...     TEACHER\n",
       "\n",
       "[2735 rows x 2 columns]"
      ]
     },
     "execution_count": 24,
     "metadata": {},
     "output_type": "execute_result"
    }
   ],
   "source": [
    "df"
   ]
  },
  {
   "cell_type": "code",
   "execution_count": 25,
   "id": "g4-tyyj1MUwN",
   "metadata": {
    "colab": {
     "base_uri": "https://localhost:8080/",
     "height": 139
    },
    "executionInfo": {
     "elapsed": 148,
     "status": "ok",
     "timestamp": 1747736663970,
     "user": {
      "displayName": "Promise Ibediogwu",
      "userId": "14544577992882322965"
     },
     "user_tz": -60
    },
    "id": "g4-tyyj1MUwN",
    "outputId": "0dae8e84-fa70-4f40-e1ba-8232026b3d95"
   },
   "outputs": [
    {
     "data": {
      "text/plain": [
       "'ACCOUNTANT\\nSummary\\nFinancial Accountant specializing in financial planning, reporting and analysis within the Department of Defense.\\nHighlights\\nAccount reconciliations\\nResults-oriented\\nFinancial reporting\\nCritical thinking\\nAccounting operations professional\\nAnalysis of financial systems\\nERP (Enterprise Resource Planning) software.\\nExcellent facilitator\\nAccomplishments\\nServed on a tiger team which identified and resolved General Ledger postings in DEAMS totaling $360B in accounting adjustments. This allowed\\nfor the first successful fiscal year-end close for 2012.\\nIn collaboration with DFAS Europe, developed an automated tool that identified duplicate obligations. This tool allowed HQ USAFE to\\ndeobligate over $5M in duplicate obligations.\\nExperience\\nCompany Name July 2011 to November 2012 Accountant \\nCity , State\\nEnterprise Resource Planning Office (ERO)\\nIn this position as an Accountant assigned to the Defense Enterprise Accounting and Management System (DEAMS) ERO I was\\nresponsible for identifying and resolving issues affecting the DEAMS General Ledger.\\nI worked with teammates from the Procure to Pay, Orders to Cash, and Budget to Report areas to resolve daily challenges encountered\\nwith the deployment of DEAMS to additional customers and when system change requests were promoted to production.\\nI supported the testing of scripts, patches, and system change requests ensuring any anomalies were identified to the DEAMS Functional\\nManagement Office for action by the DEAMS Program Management Office and/or the System Integrator.\\nIn addition, I served on a tiger team designed to identify and resolve General Ledger posting differences and supported the development of\\n$360B in accounting adjustments allowing for the first successful fiscal year-end close in 2012.\\nThese actions also allowed for the reconciliation and closure of fiscal year 2010 and 2011 accounting adjustments ensuring that all DEAMS\\nfiscal year-end requirements were completed.\\nThese actions were recognized as critical to the successful review report issued by the Air Force Operational Test and Evaluation Center\\n(AFOTEC) resulting in the Air Force receiving the authority to continue with the deployment of DEAMS.\\nCompany Name April 2010 to June 2011 Resource Advisor \\nCity , State\\nIn this position as Resource Advisor for the 1st Air Communications Operation Squadron (1ACOS) I was responsible for providing\\nfinancial advice and decision support to the Commander.\\nI was responsible for coordinating a $4.6M budget between four funding sources.\\nI coordinated with USAFE Directorate of Intelligence (USAFE/A2), USAFE Directorate of Air and Space Operations (USAFE/A3),\\nUSAFE Directorate of Communications (USAFE/A6) and the 435th Air Ground Operations Wing to ensure 1ACOS meets its mission\\nrequirements.\\nI consistently managed three separate timelines for providing budget/unfunded requirements, providing documentation and various reports in\\nthe required format for each organization.\\nI discussed the outcome of the Group and Directorate budget meetings providing feedback the same day to the Flight Chiefs and CC any\\nissue which affects 1ACOS directly.\\nI monitored the Defense Travel System (DTS) daily and identify orders and authorizations needing approval and provided notification to the\\nappropriate Reviewing Officials and Approvers.\\nUtilizing DTS and the General Accounting and Finance System I reviewed status reports to identify anomalies in obligations and have\\nidentified those orders which require correction prior to payment.\\nI provided Government Purchase Card (GPC) status reports the same day they are requested and in addition, communicated with the\\nappropriate cardholders when changes were required to support their program.\\nI identified cardholder training requirements and monitored these requirements to ensure all required training was completed in support of\\nthis mission critical program.\\nI developed guidance for the GPC cardholders on procedures for requesting training for the squadron and in addition I provided answers to\\ncardholder questions on unique or non-standard issues/concerns.\\n\\nAssumed the role of the Billing Official during my final rating period and completed a self inspection of the program for the Management\\nControl Program, zero findings.\\nDuring yearly audit by 700th CONS received zero findings.\\nCompany Name July 2008 to April 2010 Staff Accountant \\nCity , State\\nIn my position as the Staff Accountant for HQ USAFE I was responsible for providing accounting and financial oversight and advice to\\ncustomers throughout the Command in support of the USAFE Comptroller.\\nI was responsible for performing ongoing analysis of financial programs to identify negative trends and weaknesses, ensured specific\\nweaknesses were corrected, and determined whether systemic or repeat issues were identified and adequately addressed.\\nI was required to apply a comprehensive knowledge of analysis/reporting requirements and data produced to resolve these issues.\\nIn collaboration with DFAS Europe, developed an automated tool that identifies duplicate obligations by comparing records in the\\naccounting system to the contracting system and provided notification to the funds manager for review and resolution.\\nThis tool eliminated hours of manual research and results allowed HQ USAFE to deobligate over $5M in duplicate obligations.\\nI was responsible for establishing various performance metrics which ensured effective and efficient use of USAFE financial resources.\\nI supported the USAFE/FMA Financial metrics program by collaborating with DFAS Limestone in the development of an automated tool\\nthat provided senior leaders with visibility to any USAFE unit that is not in compliance with the established rules and regulations related to\\nthe GPC.\\nThis tool provides management reports that are used to populate the monthly metric charts which are briefed by the USAFE/FMA.\\nThis tool provided the capability for USAFE/FMA to collaborate with USAFE Contracting and develop/deploy joint guidance that supports\\nthe established Air Force Instruction mandating card suspension for card holders who are not in compliance with required reservation of\\nfunds in the entitlement system in support of the GPC.\\nI identified and resolved a problem with five GPC accounts that had been rejecting during the automated interface process each month.\\nMy research revealed that these accounts were rejecting for invalid paying station and required manual intervention by both Wing and\\nDFAS personnel.\\nThis not only created rework, it delayed the payment of the invoices.\\nI partnered with DFAS Denver, corrected the records in the Access On-Line accounts eliminating the error condition.\\nI identified a method to deliver one-on-one training in support of the USAFE deployment of the Open Document Analysis (ODA) tool in\\nFMSuite.\\nBy utilizing Defense Connect Online I provided training remotely, virtually eliminating the need to expend funds on Temporary Duty (TDY)\\ntravel.\\nThe results of this training produced results that went well above expectations and were noted by the ODA Program Management Office.\\nCompany Name January 2007 to July 2009 Chief, Reports Branch. Accounts Maintenance and Control \\nCity , State\\nIn my position as Chief of the Reports Branch in Accounts Maintenance & Control (AM&C) I was responsible for ensuring the\\ndevelopment and standardization of various managerial and system reports.\\nI was responsible for the completeness and accuracy of weekly, monthly, quarterly, semi-annual, and annual reports.\\nMy branch monitored errors in the General Accounting and Finance System (GAFS/BQ) and ensured corrective actions were\\naccomplished.\\nI also ensured fund balances were reconciled and reports were verified prior to release to base activities and higher headquarters.\\nLimestone reorganized under the High Performing Organization (HPO) in January 2007 and at that time I was reassigned to AM&C, a\\nDirectorate which previously did not exist.\\nMy challenge during that time was to staff my branch, implement an aggressive training schedule, and ensure the continuity of financial\\nreporting was maintained.\\nAs we transitioned into the HPO we continued defining the missions and functions for AM&C for the entire network.\\nI participated in biweekly conference calls with Standards and Compliance in an effort to define missions and functions for AM&C.\\nWorked with management in determining FTEs needed for the branch.\\nI was responsible for developing meaningful performance standards for my employees since this branch and its functions did not previously\\nexist.\\nLimestone POC for an initiative to eliminate suspense accounts throughout the agency.\\nIdentified suspense accounts not initially targeted, formulated strategies to eliminate accounts or requested waivers, and participated in plans\\nto modify processes using suspense accounts, such as the interfund suspense account.\\nThese actions provided initial progress towards meeting the Department of Treasury\\'s mandate to discontinue suspense accounts by\\nFebruary 2009.\\nWorked with staff to reduce reconciliations from $6.9 million in February 2007 to $1.1 million in August, accomplished this despite loss in\\nexperienced personnel and realigning resources to support critical initiatives in Accounts Payable.\\nI orchestrated the transition of reporting requirements for the Transportation Financial Management System (TFMS) workload from DFAS\\nOmaha to Limestone.\\nAfter transition to Limestone encouraged staff responsible for these reports to streamline the processes.\\nStaff automated a completely manual, time consuming process, thus eliminating potential key stroke errors and manually validating numerous\\nspreadsheets and listings.\\nContributor to Federal Managers Financial Integrity Act (FMFIA) Compliance Review and establishment of assessable units.\\n\\nIdentified inconsistencies in information provided by staff on foreign currency fluctuation adjustments.\\nPersisted in getting higher level review of regulatory and policy guidance.\\nReport of foreign currency fluctuation is now consistently accurate.\\nCompany Name February 2000 to January 2007 Chief, Accounts Payable Branch \\nCity , State\\nAs Chief Of Accounts Payable I was responsible for the overall management of a branch consisting of over 120 employees.\\nMy four first line supervisors were responsible for establishing priorities, schedules, and work assignments ensuring changes in workload are\\naccounted for to minimize the impact on normal office operations.\\nWe consistently reviewed these areas and made necessary personnel moves based on shifting priorities.\\nThis was extremely important during the DFAS Denver directed database consolidations and with the assumption of the Air National Guard\\nworkload.\\nWorkload increased rapidly while staffing increased gradually, which dictated frequent priority changes and personnel moves.\\nI also worked closely with the Major Commands supported by DFAS Limestone strengthening our partnership when workload spikes\\nnegatively impacted our customers.\\nIn December 2004, our overaged invoice percentage was nearing 25% and we had a backlog of vendor pay documents exceeding 30,000.\\nBy working with the DFAS Command Client Executives and the Major Command Comptrollers, I was instrumental in forming a strategy\\nthat included soliciting Air Force personnel assistance in document processing, identification of \"must pay now\" bills, and the formation of\\nspecial action response teams dedicated to responding to our customer\\'s most urgent requirements.\\nAs a result of these efforts, in a three month period, we were able to reduce our overaged invoice percentage by 19% and our backlog of\\ndocuments to no documents over 20 days old thereby minimizing the adverse impact on customer funds.\\nI was responsible for providing personnel feedback sessions quarterly and prepared supervisory appraisals of employees\\' performance and\\npotential for advancement.\\nPartnering with the management staff and employees, I was instrumental in establishing Employee Performance Plans that linked employee\\nperformance to established DFAS Strategies and Balance Scorecard goals.\\nIn this position as a supervisory accountant I was responsible for performing ongoing analysis of the Vendor Pay workflow and production\\nto identify negative trends and weaknesses, ensure specific weaknesses have been corrected, and determine whether systemic or repeat\\nissues have been identified and adequately addressed.\\nI was required to apply a comprehensive knowledge of analysis/reporting requirements, work processes, vendor pay system structures, and\\ndata produced to resolve these issues.\\nUtilizing my expertise with Louis II data retrieval software, I produced ad-hoc data queries for in-house and external use by our customers.\\nThese retrievals were designed to reduce the man- hours necessary to perform complex finance and accounting functions by DFAS and Air\\nForce personnel.\\nI was responsible for the budget resources necessary to operate the branch.\\nIn this capacity, I prepared budget over execution justifications, plan and monitor overtime costs, and control supply purchases to ensure the\\nmost cost efficient operation possible.\\nI was required to respond to inquiries from various sources, which include, but are not limited to, vendors, DFAS management, accounting\\nliaison offices, resource advisors, and other DFAS field sites.\\nThese inquiries required my ability to relay technical aspects of systems deficiencies to customers who are not familiar with our operation.\\nI participated in video teleconferences, conference calls, and briefings designed to address customer and DFAS management requirements.\\nI was called upon to explain, in laymen\\'s terms, DFAS policy and procedures with regards to delays in payment due to various reasons.\\nI responded to various audit reports and studies; ensuring senior management and audit personnel, understand particular situations within the\\nVendor Pay business process that result in these findings.\\nCompany Name February 1999 to February 2000 Chief, Recon and Reports Branch \\nCity , State\\nIn my position as Chief, Vendor Pay Reports and Recon Branch, I exercised supervision (either directly or indirectly) over 22 employees\\nprimarily in the \"525\" series in grades ranging from GS-5 through GS-8.\\nThis responsibility also included supervision of the German local national workers assigned to my duty section.\\nI was responsible for planning, directing, and supervising the activities of the work force in the review, interpretation, processing, and\\nreconciliation of vendor pay and accounting data and the production of timely and accurate financial statement report requirements.\\nI participated in the development of branch policies continually reviewing and evaluating the organizational operations, work distribution, and\\nprocedures.\\nI coordinated the activities of the assigned functions with those of other organizations to obtain the most effective correlation of financial\\ndata.\\nDirected and provided technical guidance to subordinates in the assigned area.\\nAssured the timeliness and accuracy of assigned workload.\\nPlanned, organized, directed, coordinated, and reviewed the work of subordinate\\'s sections ensuring the mission and functions of the\\ndivision were carried out.\\nI managed and realigned resources, conducted program analyses, and made decisions in accordance with unit cost principles, outputs,\\ntargets, and changing budgetary constraints.\\nI participated in long range planning, goal setting, and evaluating the subordinate staff.\\nInterpreted and clarified branch policies and resolved operational problems.\\nEnsured efficient utilization and professional development of my staff.\\n\\nI was expected to provide reasonable assurance that operations were conducted in compliance with applicable laws and that funds,\\nproperty, and other assets were safeguarded against waste, loss, unauthorized use, or misappropriation.\\nI ensured continuing and affirmative application and support of DoD and DFAS policy concerning the equal opportunity and affirmative\\naction programs.\\nEnsured personnel management within organizational entity under my supervision was accomplished without regard to race, color, religion,\\nsex, age, national origin, or handicap.\\nI kept abreast of developments, policy issuance, and other similar material in the equal opportunity field and fully supported the DoD and\\nDFAS Equal Opportunity Program.\\nI was responsible and accountable for the safety and health of my subordinates.\\nI ensured personnel were trained to work safely.\\nI enforced safety and health rules, corrected unsafe or unhealthy acts and unsafe or unhealthy mechanical or physical conditions, investigated\\nmishaps and tool other actions necessary to ensure the safety and health of my employees.\\nCompany Name June 1995 to February 1999 Chief, Accounts Payable Branch \\nCity , State\\nI was responsible for establishing priorities, schedules, and work assignments ensuring changes in workload are accounted for to minimize\\nthe impact on normal office operations.\\nThis was important during the DFAS Denver directed workload realighment to the Field Sites servicing our customers by Major Command.\\nWorkload increased which dictated frequent priority changes and personnel moves.\\nI also worked closely with the Major Commands supported by DFAS Limestone strengthening our partnership when workload spikes\\nnegatively impacted our customers.\\nI was responsible for providing personnel feedback sessions quarterly and preparedsupervisory appraisals of employees\\' performance and\\npotential for advancement.\\nAs a supervisory accountant I was responsible for performing ongoing analysis of the Vendor Pay workflow and production.\\nI identified negative trends and weaknesses, ensured specific weaknesses were corrected, and determine whether systemic or repeat issues\\nwere identified and adequately addressed.\\nI was required to apply a comprehensive knowledge of analysis/reporting requirements, work processes, vendor pay system structures, and\\ndata produced to resolve these issues.\\nUtilizing my knowledge with Louis II data retrieval software, I produced ad-hoc data queries for in-house and external use by our\\ncustomers.\\nThese retrievals are all designed to reduce the man- hours necessary to perform complex finance and accounting functions by DFAS and\\nAir Force personnel.\\nI was responsible for the budget resources necessary to operate the branch.\\nIn this capacity, I prepared budget over execution justifications, plan and monitor overtime costs, and control supply purchases to ensure the\\nmost cost efficient operation possible.\\nI was required to respond to inquiries from various sources, which include, but are not limited to, vendors, DFAS management, accounting\\nliaison offices, resource advisors, and other DFAS field sites.\\nThese inquiries require my ability to relay technical aspects of systems deficiencies to customers who are not familiar with our operation.\\nI participated in video teleconferences, conference calls, and briefings designed to address customer and DFAS management requirements.\\nI was often called upon to explain, in laymen\\'s terms, DFAS policy and procedures with regards to delays in payment due to various\\nreasons.\\nI was required to respond to various audit reports and studies; ensuring senior management and audit personnel, understand particular\\nsituations within the Vendor Pay business process that result in these findings.\\nI was hand selected by the Field Site Director and Vendor Pay Site Manager to represent DFAS Limestone on a team comprised of\\nrepresentatives from all DFAS Denver field sites to provide training to our Air Force base level Resource Advisors.\\nDuring a five week period, I provided \"Boot Camp\" training to over 400 base level personnel ensuring resource advisors were familiar with\\nthe DFAS structure and mission requirements related to funds management.\\nCompany Name June 1994 to June 1995 Accountant, Network Assistant Team \\nCity , State\\nAs a member of the Network Assistance Team, I was required to have an extensive working knowledge of DoD accounting systems,\\ntheory, policy, and procedures.\\nI was consistently called upon to develop and implement procedures consistent with DoD regulations.\\nCoordinated with DFAS Denver and the Omaha Field Site on the consolidation of the first geographically separated Defense Accounting\\nOffice into DFAS.\\nIn my position as a member of the Network Assistance Team I was required, upon arrival at each base level Defense Accounting Office\\n(DAO) to provide an in-brief.\\nThis briefing identified team members, the purpose of the visit, goals, and responsibilities.\\nUpon completion of the assignment, provided a written and oral out-brief outlining the team accomplishments during the visit.\\nI provided recommendations to preclude recurring problems and to prepare the organization for consolidation.\\nCompany Name June 1993 to June 1994 Supervisor, Accounts Control Branch \\nCity , State\\nI directed/supervised the accomplishment ofallfinancialreports and statements\\n\\nI directed/supervised the accomplishment of all financial reports and statements.\\nI was responsible for the completeness and accuracy of weekly, monthly, quarterly, semi-annual, and annual reports.\\nMonitored errors in the General Accounting and Finance System (GAFS/BQ) and ensured corrective actions were accomplished.\\nI also ensured fund balances were reconciled to the appropriate audit listings and verified reports prior to release to base activities and\\nhigher headquarters.\\nI furnished accounting data to base organizations often interpreting and analyzing the data to help funds managers resolve problems and\\nmanage their programs more effectively.\\nI attended Major Command (MAJCOM) and Headquarters level workshops to participate and contribute to accounting policy and system\\nchanges.\\nI provided professional assistance to Data Automation relevant to processing of accounting and finance data, interpreting deficiencies in\\nsoftware based on output products and system related problems.\\nI utilized my working knowledge of commercial and government accounting system principles and knowledge of Processing Centers (PCs)\\nto review, verify, analyze, and evaluate accounting and finance operations.\\nWhile serving as Chief, Account Control I ensured areas of concern were addressed, concentrating on problem areas related to the\\ndatabase.\\nI analyzed computer output products to determine processing deficiencies.\\nThey included, but were not limited to, the Open Document Listing (ODL), Operating Budget Ledger (OBL), Allotment Ledger (AL), and\\nthe Accounting and Finance Workload Information Management System (A&F WIMS) Extract list.\\nI provided technical assistance related to policy and procedural.\\nchanges required as a result of the impending base closure.\\nAnalyzed/developed and recommended improved training procedures enabling better use of system procedures ensuring governing\\ndirectives were followed.\\nI evaluated accuracy of accounting records prior to fiscal year closeout ensuring the Accounting and Finance Officer could certify their\\naccuracy as required by regulation.\\nExamined accounting transactions and documents to ensure they conformed to established accounting policy and principles.\\nCoordinated and directed fiscal year end conversion for the GAFS and Integrated Accounts Payable System (IAPS).\\nEducation\\nNorthern Maine Community College 1994 Associate : Accounting City , State , USA\\nEmphasis in Business\\n1994 Associates : Accounting City , State , USA GPA: GPA: 3.41\\nAccounting GPA: 3.41 174 Hours, Quarter\\nAttended Husson College, major Accounting 78 semester hours toward Bachelors degree.\\nProfessional Military Comptroller School, 6wk, 4-98; Managerial Accounting I, 09-98; Interested-Based Bargaining Training for Management,\\n24hrs, 09-01; Auditing Methods and Concepts 09-98; Organizational Leadership, 32hrs, 07-03; Management Development II, 32hrs, 07-03.\\nCertifications\\nCertified Defense Financial Manager, CDFM, May 2005\\nInterests\\nAmerican Society Of Military Comptrollers\\nAdditional Information\\nSkills\\nAccounting; General Accounting; Accounts Payable; Program Management.\\n'"
      ]
     },
     "execution_count": 25,
     "metadata": {},
     "output_type": "execute_result"
    }
   ],
   "source": [
    "df['text'][0]"
   ]
  },
  {
   "cell_type": "markdown",
   "id": "KjCn-BgRCnBo",
   "metadata": {
    "id": "KjCn-BgRCnBo"
   },
   "source": [
    "## Loading the dataset"
   ]
  },
  {
   "cell_type": "code",
   "execution_count": 32,
   "id": "StEkAi7CMUuB",
   "metadata": {
    "colab": {
     "base_uri": "https://localhost:8080/",
     "height": 206
    },
    "executionInfo": {
     "elapsed": 2501,
     "status": "ok",
     "timestamp": 1748048025320,
     "user": {
      "displayName": "Promise Ibediogwu",
      "userId": "14544577992882322965"
     },
     "user_tz": -60
    },
    "id": "StEkAi7CMUuB",
    "outputId": "0f9dc11b-b128-4877-a5b2-72b296dce607"
   },
   "outputs": [
    {
     "data": {
      "text/plain": [
       "127"
      ]
     },
     "execution_count": 32,
     "metadata": {},
     "output_type": "execute_result"
    }
   ],
   "source": [
    "df = pd.read_csv('resume_data.csv')\n",
    "len(df[df['label']=='NOT_A_RESUME'])"
   ]
  },
  {
   "cell_type": "code",
   "execution_count": 31,
   "id": "JqcR3hsHFpNd",
   "metadata": {
    "colab": {
     "base_uri": "https://localhost:8080/"
    },
    "executionInfo": {
     "elapsed": 9,
     "status": "ok",
     "timestamp": 1747952512865,
     "user": {
      "displayName": "Promise Ibediogwu",
      "userId": "14544577992882322965"
     },
     "user_tz": -60
    },
    "id": "JqcR3hsHFpNd",
    "outputId": "6184a373-cb08-420f-8e56-5fd67ec9c537"
   },
   "outputs": [
    {
     "data": {
      "text/plain": [
       "(2735, 2)"
      ]
     },
     "execution_count": 31,
     "metadata": {},
     "output_type": "execute_result"
    }
   ],
   "source": [
    "df.shape"
   ]
  },
  {
   "cell_type": "code",
   "execution_count": 33,
   "id": "3KwkyERDDCyh",
   "metadata": {
    "cellView": "form",
    "colab": {
     "base_uri": "https://localhost:8080/",
     "height": 695
    },
    "collapsed": true,
    "executionInfo": {
     "elapsed": 26,
     "status": "ok",
     "timestamp": 1747951951132,
     "user": {
      "displayName": "Promise Ibediogwu",
      "userId": "14544577992882322965"
     },
     "user_tz": -60
    },
    "id": "3KwkyERDDCyh",
    "outputId": "4357e4f7-f4dd-48b8-a121-61155fceebe3"
   },
   "outputs": [
    {
     "data": {
      "text/plain": [
       "'ACCOUNTANT\\nSummary\\nFinancial Accountant specializing in financial planning, reporting and analysis within the Department of Defense.\\nHighlights\\nAccount reconciliations\\nResults-oriented\\nFinancial reporting\\nCritical thinking\\nAccounting operations professional\\nAnalysis of financial systems\\nERP (Enterprise Resource Planning) software.\\nExcellent facilitator\\nAccomplishments\\nServed on a tiger team which identified and resolved General Ledger postings in DEAMS totaling $360B in accounting adjustments. This allowed\\nfor the first successful fiscal year-end close for 2012.\\nIn collaboration with DFAS Europe, developed an automated tool that identified duplicate obligations. This tool allowed HQ USAFE to\\ndeobligate over $5M in duplicate obligations.\\nExperience\\nCompany Name July 2011 to November 2012 Accountant \\nCity , State\\nEnterprise Resource Planning Office (ERO)\\nIn this position as an Accountant assigned to the Defense Enterprise Accounting and Management System (DEAMS) ERO I was\\nresponsible for identifying and resolving issues affecting the DEAMS General Ledger.\\nI worked with teammates from the Procure to Pay, Orders to Cash, and Budget to Report areas to resolve daily challenges encountered\\nwith the deployment of DEAMS to additional customers and when system change requests were promoted to production.\\nI supported the testing of scripts, patches, and system change requests ensuring any anomalies were identified to the DEAMS Functional\\nManagement Office for action by the DEAMS Program Management Office and/or the System Integrator.\\nIn addition, I served on a tiger team designed to identify and resolve General Ledger posting differences and supported the development of\\n$360B in accounting adjustments allowing for the first successful fiscal year-end close in 2012.\\nThese actions also allowed for the reconciliation and closure of fiscal year 2010 and 2011 accounting adjustments ensuring that all DEAMS\\nfiscal year-end requirements were completed.\\nThese actions were recognized as critical to the successful review report issued by the Air Force Operational Test and Evaluation Center\\n(AFOTEC) resulting in the Air Force receiving the authority to continue with the deployment of DEAMS.\\nCompany Name April 2010 to June 2011 Resource Advisor \\nCity , State\\nIn this position as Resource Advisor for the 1st Air Communications Operation Squadron (1ACOS) I was responsible for providing\\nfinancial advice and decision support to the Commander.\\nI was responsible for coordinating a $4.6M budget between four funding sources.\\nI coordinated with USAFE Directorate of Intelligence (USAFE/A2), USAFE Directorate of Air and Space Operations (USAFE/A3),\\nUSAFE Directorate of Communications (USAFE/A6) and the 435th Air Ground Operations Wing to ensure 1ACOS meets its mission\\nrequirements.\\nI consistently managed three separate timelines for providing budget/unfunded requirements, providing documentation and various reports in\\nthe required format for each organization.\\nI discussed the outcome of the Group and Directorate budget meetings providing feedback the same day to the Flight Chiefs and CC any\\nissue which affects 1ACOS directly.\\nI monitored the Defense Travel System (DTS) daily and identify orders and authorizations needing approval and provided notification to the\\nappropriate Reviewing Officials and Approvers.\\nUtilizing DTS and the General Accounting and Finance System I reviewed status reports to identify anomalies in obligations and have\\nidentified those orders which require correction prior to payment.\\nI provided Government Purchase Card (GPC) status reports the same day they are requested and in addition, communicated with the\\nappropriate cardholders when changes were required to support their program.\\nI identified cardholder training requirements and monitored these requirements to ensure all required training was completed in support of\\nthis mission critical program.\\nI developed guidance for the GPC cardholders on procedures for requesting training for the squadron and in addition I provided answers to\\ncardholder questions on unique or non-standard issues/concerns.\\n\\nAssumed the role of the Billing Official during my final rating period and completed a self inspection of the program for the Management\\nControl Program, zero findings.\\nDuring yearly audit by 700th CONS received zero findings.\\nCompany Name July 2008 to April 2010 Staff Accountant \\nCity , State\\nIn my position as the Staff Accountant for HQ USAFE I was responsible for providing accounting and financial oversight and advice to\\ncustomers throughout the Command in support of the USAFE Comptroller.\\nI was responsible for performing ongoing analysis of financial programs to identify negative trends and weaknesses, ensured specific\\nweaknesses were corrected, and determined whether systemic or repeat issues were identified and adequately addressed.\\nI was required to apply a comprehensive knowledge of analysis/reporting requirements and data produced to resolve these issues.\\nIn collaboration with DFAS Europe, developed an automated tool that identifies duplicate obligations by comparing records in the\\naccounting system to the contracting system and provided notification to the funds manager for review and resolution.\\nThis tool eliminated hours of manual research and results allowed HQ USAFE to deobligate over $5M in duplicate obligations.\\nI was responsible for establishing various performance metrics which ensured effective and efficient use of USAFE financial resources.\\nI supported the USAFE/FMA Financial metrics program by collaborating with DFAS Limestone in the development of an automated tool\\nthat provided senior leaders with visibility to any USAFE unit that is not in compliance with the established rules and regulations related to\\nthe GPC.\\nThis tool provides management reports that are used to populate the monthly metric charts which are briefed by the USAFE/FMA.\\nThis tool provided the capability for USAFE/FMA to collaborate with USAFE Contracting and develop/deploy joint guidance that supports\\nthe established Air Force Instruction mandating card suspension for card holders who are not in compliance with required reservation of\\nfunds in the entitlement system in support of the GPC.\\nI identified and resolved a problem with five GPC accounts that had been rejecting during the automated interface process each month.\\nMy research revealed that these accounts were rejecting for invalid paying station and required manual intervention by both Wing and\\nDFAS personnel.\\nThis not only created rework, it delayed the payment of the invoices.\\nI partnered with DFAS Denver, corrected the records in the Access On-Line accounts eliminating the error condition.\\nI identified a method to deliver one-on-one training in support of the USAFE deployment of the Open Document Analysis (ODA) tool in\\nFMSuite.\\nBy utilizing Defense Connect Online I provided training remotely, virtually eliminating the need to expend funds on Temporary Duty (TDY)\\ntravel.\\nThe results of this training produced results that went well above expectations and were noted by the ODA Program Management Office.\\nCompany Name January 2007 to July 2009 Chief, Reports Branch. Accounts Maintenance and Control \\nCity , State\\nIn my position as Chief of the Reports Branch in Accounts Maintenance & Control (AM&C) I was responsible for ensuring the\\ndevelopment and standardization of various managerial and system reports.\\nI was responsible for the completeness and accuracy of weekly, monthly, quarterly, semi-annual, and annual reports.\\nMy branch monitored errors in the General Accounting and Finance System (GAFS/BQ) and ensured corrective actions were\\naccomplished.\\nI also ensured fund balances were reconciled and reports were verified prior to release to base activities and higher headquarters.\\nLimestone reorganized under the High Performing Organization (HPO) in January 2007 and at that time I was reassigned to AM&C, a\\nDirectorate which previously did not exist.\\nMy challenge during that time was to staff my branch, implement an aggressive training schedule, and ensure the continuity of financial\\nreporting was maintained.\\nAs we transitioned into the HPO we continued defining the missions and functions for AM&C for the entire network.\\nI participated in biweekly conference calls with Standards and Compliance in an effort to define missions and functions for AM&C.\\nWorked with management in determining FTEs needed for the branch.\\nI was responsible for developing meaningful performance standards for my employees since this branch and its functions did not previously\\nexist.\\nLimestone POC for an initiative to eliminate suspense accounts throughout the agency.\\nIdentified suspense accounts not initially targeted, formulated strategies to eliminate accounts or requested waivers, and participated in plans\\nto modify processes using suspense accounts, such as the interfund suspense account.\\nThese actions provided initial progress towards meeting the Department of Treasury\\'s mandate to discontinue suspense accounts by\\nFebruary 2009.\\nWorked with staff to reduce reconciliations from $6.9 million in February 2007 to $1.1 million in August, accomplished this despite loss in\\nexperienced personnel and realigning resources to support critical initiatives in Accounts Payable.\\nI orchestrated the transition of reporting requirements for the Transportation Financial Management System (TFMS) workload from DFAS\\nOmaha to Limestone.\\nAfter transition to Limestone encouraged staff responsible for these reports to streamline the processes.\\nStaff automated a completely manual, time consuming process, thus eliminating potential key stroke errors and manually validating numerous\\nspreadsheets and listings.\\nContributor to Federal Managers Financial Integrity Act (FMFIA) Compliance Review and establishment of assessable units.\\n\\nIdentified inconsistencies in information provided by staff on foreign currency fluctuation adjustments.\\nPersisted in getting higher level review of regulatory and policy guidance.\\nReport of foreign currency fluctuation is now consistently accurate.\\nCompany Name February 2000 to January 2007 Chief, Accounts Payable Branch \\nCity , State\\nAs Chief Of Accounts Payable I was responsible for the overall management of a branch consisting of over 120 employees.\\nMy four first line supervisors were responsible for establishing priorities, schedules, and work assignments ensuring changes in workload are\\naccounted for to minimize the impact on normal office operations.\\nWe consistently reviewed these areas and made necessary personnel moves based on shifting priorities.\\nThis was extremely important during the DFAS Denver directed database consolidations and with the assumption of the Air National Guard\\nworkload.\\nWorkload increased rapidly while staffing increased gradually, which dictated frequent priority changes and personnel moves.\\nI also worked closely with the Major Commands supported by DFAS Limestone strengthening our partnership when workload spikes\\nnegatively impacted our customers.\\nIn December 2004, our overaged invoice percentage was nearing 25% and we had a backlog of vendor pay documents exceeding 30,000.\\nBy working with the DFAS Command Client Executives and the Major Command Comptrollers, I was instrumental in forming a strategy\\nthat included soliciting Air Force personnel assistance in document processing, identification of \"must pay now\" bills, and the formation of\\nspecial action response teams dedicated to responding to our customer\\'s most urgent requirements.\\nAs a result of these efforts, in a three month period, we were able to reduce our overaged invoice percentage by 19% and our backlog of\\ndocuments to no documents over 20 days old thereby minimizing the adverse impact on customer funds.\\nI was responsible for providing personnel feedback sessions quarterly and prepared supervisory appraisals of employees\\' performance and\\npotential for advancement.\\nPartnering with the management staff and employees, I was instrumental in establishing Employee Performance Plans that linked employee\\nperformance to established DFAS Strategies and Balance Scorecard goals.\\nIn this position as a supervisory accountant I was responsible for performing ongoing analysis of the Vendor Pay workflow and production\\nto identify negative trends and weaknesses, ensure specific weaknesses have been corrected, and determine whether systemic or repeat\\nissues have been identified and adequately addressed.\\nI was required to apply a comprehensive knowledge of analysis/reporting requirements, work processes, vendor pay system structures, and\\ndata produced to resolve these issues.\\nUtilizing my expertise with Louis II data retrieval software, I produced ad-hoc data queries for in-house and external use by our customers.\\nThese retrievals were designed to reduce the man- hours necessary to perform complex finance and accounting functions by DFAS and Air\\nForce personnel.\\nI was responsible for the budget resources necessary to operate the branch.\\nIn this capacity, I prepared budget over execution justifications, plan and monitor overtime costs, and control supply purchases to ensure the\\nmost cost efficient operation possible.\\nI was required to respond to inquiries from various sources, which include, but are not limited to, vendors, DFAS management, accounting\\nliaison offices, resource advisors, and other DFAS field sites.\\nThese inquiries required my ability to relay technical aspects of systems deficiencies to customers who are not familiar with our operation.\\nI participated in video teleconferences, conference calls, and briefings designed to address customer and DFAS management requirements.\\nI was called upon to explain, in laymen\\'s terms, DFAS policy and procedures with regards to delays in payment due to various reasons.\\nI responded to various audit reports and studies; ensuring senior management and audit personnel, understand particular situations within the\\nVendor Pay business process that result in these findings.\\nCompany Name February 1999 to February 2000 Chief, Recon and Reports Branch \\nCity , State\\nIn my position as Chief, Vendor Pay Reports and Recon Branch, I exercised supervision (either directly or indirectly) over 22 employees\\nprimarily in the \"525\" series in grades ranging from GS-5 through GS-8.\\nThis responsibility also included supervision of the German local national workers assigned to my duty section.\\nI was responsible for planning, directing, and supervising the activities of the work force in the review, interpretation, processing, and\\nreconciliation of vendor pay and accounting data and the production of timely and accurate financial statement report requirements.\\nI participated in the development of branch policies continually reviewing and evaluating the organizational operations, work distribution, and\\nprocedures.\\nI coordinated the activities of the assigned functions with those of other organizations to obtain the most effective correlation of financial\\ndata.\\nDirected and provided technical guidance to subordinates in the assigned area.\\nAssured the timeliness and accuracy of assigned workload.\\nPlanned, organized, directed, coordinated, and reviewed the work of subordinate\\'s sections ensuring the mission and functions of the\\ndivision were carried out.\\nI managed and realigned resources, conducted program analyses, and made decisions in accordance with unit cost principles, outputs,\\ntargets, and changing budgetary constraints.\\nI participated in long range planning, goal setting, and evaluating the subordinate staff.\\nInterpreted and clarified branch policies and resolved operational problems.\\nEnsured efficient utilization and professional development of my staff.\\n\\nI was expected to provide reasonable assurance that operations were conducted in compliance with applicable laws and that funds,\\nproperty, and other assets were safeguarded against waste, loss, unauthorized use, or misappropriation.\\nI ensured continuing and affirmative application and support of DoD and DFAS policy concerning the equal opportunity and affirmative\\naction programs.\\nEnsured personnel management within organizational entity under my supervision was accomplished without regard to race, color, religion,\\nsex, age, national origin, or handicap.\\nI kept abreast of developments, policy issuance, and other similar material in the equal opportunity field and fully supported the DoD and\\nDFAS Equal Opportunity Program.\\nI was responsible and accountable for the safety and health of my subordinates.\\nI ensured personnel were trained to work safely.\\nI enforced safety and health rules, corrected unsafe or unhealthy acts and unsafe or unhealthy mechanical or physical conditions, investigated\\nmishaps and tool other actions necessary to ensure the safety and health of my employees.\\nCompany Name June 1995 to February 1999 Chief, Accounts Payable Branch \\nCity , State\\nI was responsible for establishing priorities, schedules, and work assignments ensuring changes in workload are accounted for to minimize\\nthe impact on normal office operations.\\nThis was important during the DFAS Denver directed workload realighment to the Field Sites servicing our customers by Major Command.\\nWorkload increased which dictated frequent priority changes and personnel moves.\\nI also worked closely with the Major Commands supported by DFAS Limestone strengthening our partnership when workload spikes\\nnegatively impacted our customers.\\nI was responsible for providing personnel feedback sessions quarterly and preparedsupervisory appraisals of employees\\' performance and\\npotential for advancement.\\nAs a supervisory accountant I was responsible for performing ongoing analysis of the Vendor Pay workflow and production.\\nI identified negative trends and weaknesses, ensured specific weaknesses were corrected, and determine whether systemic or repeat issues\\nwere identified and adequately addressed.\\nI was required to apply a comprehensive knowledge of analysis/reporting requirements, work processes, vendor pay system structures, and\\ndata produced to resolve these issues.\\nUtilizing my knowledge with Louis II data retrieval software, I produced ad-hoc data queries for in-house and external use by our\\ncustomers.\\nThese retrievals are all designed to reduce the man- hours necessary to perform complex finance and accounting functions by DFAS and\\nAir Force personnel.\\nI was responsible for the budget resources necessary to operate the branch.\\nIn this capacity, I prepared budget over execution justifications, plan and monitor overtime costs, and control supply purchases to ensure the\\nmost cost efficient operation possible.\\nI was required to respond to inquiries from various sources, which include, but are not limited to, vendors, DFAS management, accounting\\nliaison offices, resource advisors, and other DFAS field sites.\\nThese inquiries require my ability to relay technical aspects of systems deficiencies to customers who are not familiar with our operation.\\nI participated in video teleconferences, conference calls, and briefings designed to address customer and DFAS management requirements.\\nI was often called upon to explain, in laymen\\'s terms, DFAS policy and procedures with regards to delays in payment due to various\\nreasons.\\nI was required to respond to various audit reports and studies; ensuring senior management and audit personnel, understand particular\\nsituations within the Vendor Pay business process that result in these findings.\\nI was hand selected by the Field Site Director and Vendor Pay Site Manager to represent DFAS Limestone on a team comprised of\\nrepresentatives from all DFAS Denver field sites to provide training to our Air Force base level Resource Advisors.\\nDuring a five week period, I provided \"Boot Camp\" training to over 400 base level personnel ensuring resource advisors were familiar with\\nthe DFAS structure and mission requirements related to funds management.\\nCompany Name June 1994 to June 1995 Accountant, Network Assistant Team \\nCity , State\\nAs a member of the Network Assistance Team, I was required to have an extensive working knowledge of DoD accounting systems,\\ntheory, policy, and procedures.\\nI was consistently called upon to develop and implement procedures consistent with DoD regulations.\\nCoordinated with DFAS Denver and the Omaha Field Site on the consolidation of the first geographically separated Defense Accounting\\nOffice into DFAS.\\nIn my position as a member of the Network Assistance Team I was required, upon arrival at each base level Defense Accounting Office\\n(DAO) to provide an in-brief.\\nThis briefing identified team members, the purpose of the visit, goals, and responsibilities.\\nUpon completion of the assignment, provided a written and oral out-brief outlining the team accomplishments during the visit.\\nI provided recommendations to preclude recurring problems and to prepare the organization for consolidation.\\nCompany Name June 1993 to June 1994 Supervisor, Accounts Control Branch \\nCity , State\\nI directed/supervised the accomplishment ofallfinancialreports and statements\\n\\nI directed/supervised the accomplishment of all financial reports and statements.\\nI was responsible for the completeness and accuracy of weekly, monthly, quarterly, semi-annual, and annual reports.\\nMonitored errors in the General Accounting and Finance System (GAFS/BQ) and ensured corrective actions were accomplished.\\nI also ensured fund balances were reconciled to the appropriate audit listings and verified reports prior to release to base activities and\\nhigher headquarters.\\nI furnished accounting data to base organizations often interpreting and analyzing the data to help funds managers resolve problems and\\nmanage their programs more effectively.\\nI attended Major Command (MAJCOM) and Headquarters level workshops to participate and contribute to accounting policy and system\\nchanges.\\nI provided professional assistance to Data Automation relevant to processing of accounting and finance data, interpreting deficiencies in\\nsoftware based on output products and system related problems.\\nI utilized my working knowledge of commercial and government accounting system principles and knowledge of Processing Centers (PCs)\\nto review, verify, analyze, and evaluate accounting and finance operations.\\nWhile serving as Chief, Account Control I ensured areas of concern were addressed, concentrating on problem areas related to the\\ndatabase.\\nI analyzed computer output products to determine processing deficiencies.\\nThey included, but were not limited to, the Open Document Listing (ODL), Operating Budget Ledger (OBL), Allotment Ledger (AL), and\\nthe Accounting and Finance Workload Information Management System (A&F WIMS) Extract list.\\nI provided technical assistance related to policy and procedural.\\nchanges required as a result of the impending base closure.\\nAnalyzed/developed and recommended improved training procedures enabling better use of system procedures ensuring governing\\ndirectives were followed.\\nI evaluated accuracy of accounting records prior to fiscal year closeout ensuring the Accounting and Finance Officer could certify their\\naccuracy as required by regulation.\\nExamined accounting transactions and documents to ensure they conformed to established accounting policy and principles.\\nCoordinated and directed fiscal year end conversion for the GAFS and Integrated Accounts Payable System (IAPS).\\nEducation\\nNorthern Maine Community College 1994 Associate : Accounting City , State , USA\\nEmphasis in Business\\n1994 Associates : Accounting City , State , USA GPA: GPA: 3.41\\nAccounting GPA: 3.41 174 Hours, Quarter\\nAttended Husson College, major Accounting 78 semester hours toward Bachelors degree.\\nProfessional Military Comptroller School, 6wk, 4-98; Managerial Accounting I, 09-98; Interested-Based Bargaining Training for Management,\\n24hrs, 09-01; Auditing Methods and Concepts 09-98; Organizational Leadership, 32hrs, 07-03; Management Development II, 32hrs, 07-03.\\nCertifications\\nCertified Defense Financial Manager, CDFM, May 2005\\nInterests\\nAmerican Society Of Military Comptrollers\\nAdditional Information\\nSkills\\nAccounting; General Accounting; Accounts Payable; Program Management.\\n'"
      ]
     },
     "execution_count": 33,
     "metadata": {},
     "output_type": "execute_result"
    }
   ],
   "source": [
    "#from google.colab import sheets\n",
    "#sheet = sheets.InteractiveSheet(df=df)\n",
    "df['text'][0]"
   ]
  },
  {
   "cell_type": "code",
   "execution_count": null,
   "id": "R4EAqVg8DAWZ",
   "metadata": {
    "id": "R4EAqVg8DAWZ"
   },
   "outputs": [],
   "source": []
  },
  {
   "cell_type": "markdown",
   "id": "XmTeqBFRRI5A",
   "metadata": {
    "id": "XmTeqBFRRI5A"
   },
   "source": [
    "## Preprocessing the text using BERT"
   ]
  },
  {
   "cell_type": "code",
   "execution_count": 6,
   "id": "rQ5_XWBkC_jt",
   "metadata": {
    "executionInfo": {
     "elapsed": 18,
     "status": "ok",
     "timestamp": 1748195752243,
     "user": {
      "displayName": "Promise Ibediogwu",
      "userId": "14544577992882322965"
     },
     "user_tz": -60
    },
    "id": "rQ5_XWBkC_jt"
   },
   "outputs": [],
   "source": [
    "import re\n",
    "\n",
    "def clean_text(text):\n",
    "    \"\"\"\n",
    "    Cleans raw resume text for BERT input.\n",
    "    - Removes URLs, special characters, and extra spaces\n",
    "    - Converts to lowercase\n",
    "    \"\"\"\n",
    "\n",
    "    if not isinstance(text, str):\n",
    "        return \"\"  # or np.nan if you want to track missing\n",
    "\n",
    "    # Remove URLs\n",
    "    text = re.sub(r\"http\\S+|www\\S+|https\\S+\", '', text, flags=re.MULTILINE)\n",
    "\n",
    "    # Remove emails\n",
    "    text = re.sub(r'\\S+@\\S+', '', text)\n",
    "\n",
    "    # Remove newline, tab, and multiple spaces\n",
    "    text = text.replace('\\n', ' ').replace('\\r', ' ').replace('\\t', ' ')\n",
    "    text = re.sub(' +', ' ', text)\n",
    "\n",
    "    # Remove special characters (except alphanumerics and basic punctuation)\n",
    "    text = re.sub(r\"[^a-zA-Z0-9.,!?()\\- ]\", '', text)\n",
    "\n",
    "    # Lowercase the text\n",
    "    text = text.lower()\n",
    "\n",
    "    return text.strip()\n"
   ]
  },
  {
   "cell_type": "code",
   "execution_count": null,
   "id": "rsQ91yoWEhs7",
   "metadata": {
    "colab": {
     "base_uri": "https://localhost:8080/",
     "height": 146
    },
    "executionInfo": {
     "elapsed": 32,
     "status": "ok",
     "timestamp": 1747952446488,
     "user": {
      "displayName": "Promise Ibediogwu",
      "userId": "14544577992882322965"
     },
     "user_tz": -60
    },
    "id": "rsQ91yoWEhs7",
    "outputId": "71fac9d8-5677-404f-c3e3-70d85e51907b"
   },
   "outputs": [
    {
     "data": {
      "text/html": [
       "<div>\n",
       "<style scoped>\n",
       "    .dataframe tbody tr th:only-of-type {\n",
       "        vertical-align: middle;\n",
       "    }\n",
       "\n",
       "    .dataframe tbody tr th {\n",
       "        vertical-align: top;\n",
       "    }\n",
       "\n",
       "    .dataframe thead th {\n",
       "        text-align: right;\n",
       "    }\n",
       "</style>\n",
       "<table border=\"1\" class=\"dataframe\">\n",
       "  <thead>\n",
       "    <tr style=\"text-align: right;\">\n",
       "      <th></th>\n",
       "      <th>0</th>\n",
       "    </tr>\n",
       "  </thead>\n",
       "  <tbody>\n",
       "    <tr>\n",
       "      <th>text</th>\n",
       "      <td>object</td>\n",
       "    </tr>\n",
       "    <tr>\n",
       "      <th>label</th>\n",
       "      <td>object</td>\n",
       "    </tr>\n",
       "  </tbody>\n",
       "</table>\n",
       "</div><br><label><b>dtype:</b> object</label>"
      ],
      "text/plain": [
       "text     object\n",
       "label    object\n",
       "dtype: object"
      ]
     },
     "execution_count": 20,
     "metadata": {},
     "output_type": "execute_result"
    }
   ],
   "source": [
    "df.dtypes"
   ]
  },
  {
   "cell_type": "code",
   "execution_count": null,
   "id": "hZtqzioYMUrm",
   "metadata": {
    "id": "hZtqzioYMUrm"
   },
   "outputs": [],
   "source": [
    "clean_df = df.copy()\n",
    "clean_df['text'] = clean_df['text'].apply(clean_text)"
   ]
  },
  {
   "cell_type": "code",
   "execution_count": null,
   "id": "iLk6F2LyE6pV",
   "metadata": {
    "colab": {
     "base_uri": "https://localhost:8080/"
    },
    "executionInfo": {
     "elapsed": 28,
     "status": "ok",
     "timestamp": 1747952485990,
     "user": {
      "displayName": "Promise Ibediogwu",
      "userId": "14544577992882322965"
     },
     "user_tz": -60
    },
    "id": "iLk6F2LyE6pV",
    "outputId": "c1d7fdec-7fd5-40d3-e568-7ac40e0f73ca"
   },
   "outputs": [
    {
     "data": {
      "text/plain": [
       "(2608, 2)"
      ]
     },
     "execution_count": 23,
     "metadata": {},
     "output_type": "execute_result"
    }
   ],
   "source": [
    "clean_df.shape"
   ]
  },
  {
   "cell_type": "code",
   "execution_count": null,
   "id": "e0igt1j3E6nF",
   "metadata": {
    "colab": {
     "base_uri": "https://localhost:8080/",
     "height": 660
    },
    "collapsed": true,
    "executionInfo": {
     "elapsed": 69,
     "status": "ok",
     "timestamp": 1747952554535,
     "user": {
      "displayName": "Promise Ibediogwu",
      "userId": "14544577992882322965"
     },
     "user_tz": -60
    },
    "id": "e0igt1j3E6nF",
    "outputId": "45919295-adbb-4165-f2ba-fb6c95f57522"
   },
   "outputs": [
    {
     "data": {
      "application/vnd.google.colaboratory.intrinsic+json": {
       "type": "string"
      },
      "text/plain": [
       "'software engineering manager summary experienced software engineer, and hands-on engineering manager with 20 years of product development experience in broadcast media, and 10 years of experience in leading development teams (20 engineers), hiring (10 offers, 40 interviews), hr personnel procedures, performance reviews, and project transitions. professional experience september 2009 to current company name city , state software engineering manager visual c, windows, stl, oop, mfc, threads, file maps, atl, ipc, ftp, tcp, http, xml, json, services, web services, rest api, soa, media formats and standards, codec sdk and integration, mpeg-dash, api design and documentation. bcd spinoff as imagine in 2013) nexio video servers and applications facilitate collaborative workflow in nexio lan with video servers, services and applications running in various nodes. media comes from proprietary san or generic storage off nas. development and team management, nexio servers applications, playout business unit relocated from il to ca, took on larger role, and video server applications as well. led team of 6 from burbank, team of 8 from naperville, and team of 8 (indirect report) from beijing. introduced peer reviews, repurposed components, and all 3 teams collaborated as one large team. adopted scrum since 2014 (scrummaster), team of 3 to 6 from burbank naperville office closed in 2013. team migrated source revision control to mercurial  jenkins, 30 products. recipient of reuse innovation award for ip reuse, major factor to server business unit turnaround. released deliverables for nexio software suite 6.0, 7.0, 8.0, global proxy suite 2.5, 3.0, 3.5 initiated, architected and executed soa from concept to completion to facilitate decoupled ui clients, 2 web services and 10 services, and selected hands-on projects include hercules web service for web player solution based off mpeg-dash created c engine to process uri, handle sessions, and deliver segmented mp4 atoms (h.264, aac) provides dynamic html5 player page javascript source based off dash js. supports multiple raster sizes and bit rates ready to go and just in time sessions. team helped with providing c web service framework, cli bridge layer, and device testing. published functional, rest api, and uri specification document. json services on tcp stack using c as part of soa created api framework classes multi-threaded server side socket classes. created header only json parser on top of open source rapid json for sax style reader. developed new services content manager, helper, picon, and requestor. evolved as services encoder, gprx, helios, mb, scavenger, and transcoder. guided gprx, helper, and requestor to completion. published 10 json protocol api documents for 3rd party and in-house use. content manager service for primary-backup workflows multi-threaded rules based engine to manage media contents between two domains. architected and developed new umid based solution (gen 2) for new workflow needs and scalability. scavenger, transcoder for low-res proxy management needed solution to improve legacy products, required regular hand holding, remained escalated. proposed new approach, teamed up, and successfully wrote two new 247 products. mediabase dll, desktop explorer for assets (c, mfc) guided to optimize original implementation for 200k ids to meet storage scalability needs. achieved constant ui performance under few milliseconds regardless of user operation. proposed to introduce dta-handler architecture in ftp-server approach helped to consolidate all media formats as one product build, and scalability. team added one converter dll per media container format for import and export. november 2005 to august 2009 company name city , state software engineering manager development and team management, nexio editing applications led team of 8 from naperville, and team of 8 (indirect report) from beijing. hired, mentored and built core editing team to size of 8, and collaborated with expanded team in beijing. established development process document for consistent procedures and peer code review guidelines. team established crash dump analysis procedures to help troubleshoot hard to repeat issues. released deliverables for video editing suite 2.5 proposed architecture and teamed up to develop server integration modules for video broadcast workflows. august 1997 to october 2005 company name city , state principal software engineer harris corporation acquired leitch) architected, designed, and implemented fundamental dll components for evolution of video editing product, and major projects include (c, win32, threads, gui) interactive playback architecture media file reader and writer components, scalable decoder and encoder architectures. video and audio rendering engines hardware integration modules, critical part of business success in post-production space. interactive picon and waveform drawing components 64-bit and unicode migration of all modules with over 4 million lines of code. august 1994 to july 1997 company name city , state software engineer dps acquired star media leitch acquired dps in 2000). star media, technology startup, created video editing software velocity for post-production space, and developed projects include project media management tools, render bank, and video effects. education and professional training illinois institute of technology city , state m.s  computer science computer science national institute of technology city , india b.e  electronics and communication engineering electronics and communication engineering products skills api, approach, atl, audio, backup, broadcast, c, cli, com, ca, hardware, concept, content, clients, documentation, dynamic html5, editing, xml, ftp, functional, drawing, gui, ids, innovation, explorer, ip, javascript, json, lan, mb, c, mfc, office, win, windows, 2000, migration, nas, oop, page, proxy, rendering, san, scrum, servers, specification, team management, threads, troubleshoot, video, video editing, visual c, workflow, writer'"
      ]
     },
     "execution_count": 26,
     "metadata": {},
     "output_type": "execute_result"
    }
   ],
   "source": [
    "clean_df['text'][0]"
   ]
  },
  {
   "cell_type": "markdown",
   "id": "GDMtWQL-HUnq",
   "metadata": {
    "id": "GDMtWQL-HUnq"
   },
   "source": [
    "## Encoding, Tokenization, DataLoader"
   ]
  },
  {
   "cell_type": "code",
   "execution_count": null,
   "id": "aRUZ3bowE6id",
   "metadata": {
    "id": "aRUZ3bowE6id"
   },
   "outputs": [],
   "source": [
    "#pip install transformers\n",
    "from transformers import AutoTokenizer, BertForSequenceClassification, Trainer, TrainingArguments\n",
    "import torch\n",
    "from sklearn.preprocessing import LabelEncoder\n",
    "from sklearn.model_selection import train_test_split\n",
    "from torch.utils.data import Dataset, DataLoader\n",
    "from transformers import AutoTokenizer"
   ]
  },
  {
   "cell_type": "code",
   "execution_count": null,
   "id": "Nvl_jZPPP8TZ",
   "metadata": {
    "id": "Nvl_jZPPP8TZ"
   },
   "outputs": [],
   "source": [
    "#encoding the target label\n",
    "le = LabelEncoder()\n",
    "clean_df['label'] = le.fit_transform(clean_df['label'])"
   ]
  },
  {
   "cell_type": "code",
   "execution_count": null,
   "id": "LW0SowRrLnSd",
   "metadata": {
    "colab": {
     "base_uri": "https://localhost:8080/"
    },
    "executionInfo": {
     "elapsed": 17,
     "status": "ok",
     "timestamp": 1748048076005,
     "user": {
      "displayName": "Promise Ibediogwu",
      "userId": "14544577992882322965"
     },
     "user_tz": -60
    },
    "id": "LW0SowRrLnSd",
    "outputId": "e5580a27-6439-4741-80b2-1f7697167905"
   },
   "outputs": [
    {
     "data": {
      "text/plain": [
       "array([16, 16, 16, ...,  1,  1,  1])"
      ]
     },
     "execution_count": 11,
     "metadata": {},
     "output_type": "execute_result"
    }
   ],
   "source": [
    "clean_df['label'].values"
   ]
  },
  {
   "cell_type": "code",
   "execution_count": null,
   "id": "CC4a2970LZU9",
   "metadata": {
    "colab": {
     "base_uri": "https://localhost:8080/"
    },
    "executionInfo": {
     "elapsed": 5,
     "status": "ok",
     "timestamp": 1748048076013,
     "user": {
      "displayName": "Promise Ibediogwu",
      "userId": "14544577992882322965"
     },
     "user_tz": -60
    },
    "id": "CC4a2970LZU9",
    "outputId": "455c11c4-11d5-4fc3-f72d-d11a870ca930"
   },
   "outputs": [
    {
     "data": {
      "text/plain": [
       "['ACCOUNTANT',\n",
       " 'ADVOCATE',\n",
       " 'AGRICULTURE',\n",
       " 'APPAREL',\n",
       " 'ARTS',\n",
       " 'AUTOMOBILE',\n",
       " 'AVIATION',\n",
       " 'BANKING',\n",
       " 'BPO',\n",
       " 'BUSINESS-DEVELOPMENT',\n",
       " 'CHEF',\n",
       " 'CONSTRUCTION',\n",
       " 'CONSULTANT',\n",
       " 'DATA ANALYST_SCIENTIST',\n",
       " 'DESIGNER',\n",
       " 'DIGITAL-MEDIA',\n",
       " 'ENGINEERING',\n",
       " 'FINANCE',\n",
       " 'FITNESS',\n",
       " 'HEALTHCARE',\n",
       " 'HR',\n",
       " 'INFORMATION-TECHNOLOGY',\n",
       " 'PUBLIC-RELATIONS',\n",
       " 'SALES',\n",
       " 'TEACHER']"
      ]
     },
     "execution_count": 12,
     "metadata": {},
     "output_type": "execute_result"
    }
   ],
   "source": [
    "#getting the labels name from the le, with their respective ending\n",
    "list(le.classes_)"
   ]
  },
  {
   "cell_type": "code",
   "execution_count": null,
   "id": "RQdl2tZQ8T6c",
   "metadata": {
    "colab": {
     "base_uri": "https://localhost:8080/"
    },
    "executionInfo": {
     "elapsed": 10,
     "status": "ok",
     "timestamp": 1747966846198,
     "user": {
      "displayName": "Promise Ibediogwu",
      "userId": "14544577992882322965"
     },
     "user_tz": -60
    },
    "id": "RQdl2tZQ8T6c",
    "outputId": "ffa04a6e-00ef-4a50-cefa-ab2f599c8268"
   },
   "outputs": [
    {
     "data": {
      "text/plain": [
       "25"
      ]
     },
     "execution_count": 30,
     "metadata": {},
     "output_type": "execute_result"
    }
   ],
   "source": [
    "len(le.classes_)"
   ]
  },
  {
   "cell_type": "code",
   "execution_count": null,
   "id": "fyQajiluduoI",
   "metadata": {
    "id": "fyQajiluduoI"
   },
   "outputs": [],
   "source": [
    "#saving the encoded label as dataframe\n",
    "encode_label = pd.DataFrame(list(le.classes_))\n",
    "encode_label.to_csv('/content/drive/MyDrive/Colab Notebooks/AI-Powered-Career-Guidance/AI-powered-career-guidance-project-dataset/encode_label.csv')"
   ]
  },
  {
   "cell_type": "code",
   "execution_count": null,
   "id": "H_xf9b2R59c-",
   "metadata": {
    "colab": {
     "base_uri": "https://localhost:8080/",
     "height": 170,
     "referenced_widgets": [
      "f5bda31ed9b64c5b8e0dcb62d9b8cb4d",
      "c9bcaf0e6c3448469b87a32b6a3f0e1c",
      "c9f89a88d9b5421a90cebb92b1c16d4a",
      "e0468a3654c0481bb1ac0bdc5edfbba5",
      "fe0d2f187c0a4f8bb271503d8003f6f1",
      "a1d85b8fc9644a5ea4b99666a0684556",
      "77b621fd9dbc4e789b1d128afb3f614e",
      "ccea9e6b9daa48949ee1dae38ae64b0d",
      "9e96b117b4d54d58a20e0a04df9156f9",
      "a7083e17b52d46b5839e0a207b05f659",
      "c763621eab57424e84e0c4a697cbf7fe",
      "07cb0e0dd9f7491bb267b7c89ddbcbcf",
      "527483df7d7346e8a032217cc0c126f0",
      "bc05f63a8e284945b1f657a57f42f1f1",
      "078d4e1106334f259dd68f4d3ed375df",
      "6cdabef2b411467993cf1dbcaad79cee",
      "0a16d5946cdd48ffb2e81303197becde",
      "c53a4631ba3a48848f0539fb4c90ad87",
      "42bf5028b4ae4ed384f97cabe9617a95",
      "0f762776d00e4248ac51381f18ef9f0e",
      "a66d7b92f15e4de080637f5f942c621a",
      "bf136dae7ea247dd8e03b8b0c566ee59"
     ]
    },
    "executionInfo": {
     "elapsed": 3287,
     "status": "ok",
     "timestamp": 1748048114282,
     "user": {
      "displayName": "Promise Ibediogwu",
      "userId": "14544577992882322965"
     },
     "user_tz": -60
    },
    "id": "H_xf9b2R59c-",
    "outputId": "55b4c923-b73f-4408-e4cf-8ead0977ee2f"
   },
   "outputs": [
    {
     "data": {
      "application/vnd.jupyter.widget-view+json": {
       "model_id": "f5bda31ed9b64c5b8e0dcb62d9b8cb4d",
       "version_major": 2,
       "version_minor": 0
      },
      "text/plain": [
       "config.json:   0%|          | 0.00/570 [00:00<?, ?B/s]"
      ]
     },
     "metadata": {},
     "output_type": "display_data"
    },
    {
     "name": "stderr",
     "output_type": "stream",
     "text": [
      "Xet Storage is enabled for this repo, but the 'hf_xet' package is not installed. Falling back to regular HTTP download. For better performance, install the package with: `pip install huggingface_hub[hf_xet]` or `pip install hf_xet`\n",
      "WARNING:huggingface_hub.file_download:Xet Storage is enabled for this repo, but the 'hf_xet' package is not installed. Falling back to regular HTTP download. For better performance, install the package with: `pip install huggingface_hub[hf_xet]` or `pip install hf_xet`\n"
     ]
    },
    {
     "data": {
      "application/vnd.jupyter.widget-view+json": {
       "model_id": "07cb0e0dd9f7491bb267b7c89ddbcbcf",
       "version_major": 2,
       "version_minor": 0
      },
      "text/plain": [
       "model.safetensors:   0%|          | 0.00/440M [00:00<?, ?B/s]"
      ]
     },
     "metadata": {},
     "output_type": "display_data"
    },
    {
     "name": "stderr",
     "output_type": "stream",
     "text": [
      "Some weights of BertForSequenceClassification were not initialized from the model checkpoint at bert-base-uncased and are newly initialized: ['classifier.bias', 'classifier.weight']\n",
      "You should probably TRAIN this model on a down-stream task to be able to use it for predictions and inference.\n"
     ]
    }
   ],
   "source": [
    "model = BertForSequenceClassification.from_pretrained('bert-base-uncased', num_labels=len(le.classes_))"
   ]
  },
  {
   "cell_type": "code",
   "execution_count": null,
   "id": "9XgjVvFy9BLl",
   "metadata": {
    "colab": {
     "base_uri": "https://localhost:8080/"
    },
    "executionInfo": {
     "elapsed": 3395,
     "status": "ok",
     "timestamp": 1748048129334,
     "user": {
      "displayName": "Promise Ibediogwu",
      "userId": "14544577992882322965"
     },
     "user_tz": -60
    },
    "id": "9XgjVvFy9BLl",
    "outputId": "31000c8e-1a21-405a-fdc4-3ba63596d5c4"
   },
   "outputs": [
    {
     "name": "stdout",
     "output_type": "stream",
     "text": [
      "Requirement already satisfied: huggingface_hub[hf_xet] in /usr/local/lib/python3.11/dist-packages (0.31.2)\n",
      "Requirement already satisfied: filelock in /usr/local/lib/python3.11/dist-packages (from huggingface_hub[hf_xet]) (3.18.0)\n",
      "Requirement already satisfied: fsspec>=2023.5.0 in /usr/local/lib/python3.11/dist-packages (from huggingface_hub[hf_xet]) (2025.3.2)\n",
      "Requirement already satisfied: packaging>=20.9 in /usr/local/lib/python3.11/dist-packages (from huggingface_hub[hf_xet]) (24.2)\n",
      "Requirement already satisfied: pyyaml>=5.1 in /usr/local/lib/python3.11/dist-packages (from huggingface_hub[hf_xet]) (6.0.2)\n",
      "Requirement already satisfied: requests in /usr/local/lib/python3.11/dist-packages (from huggingface_hub[hf_xet]) (2.32.3)\n",
      "Requirement already satisfied: tqdm>=4.42.1 in /usr/local/lib/python3.11/dist-packages (from huggingface_hub[hf_xet]) (4.67.1)\n",
      "Requirement already satisfied: typing-extensions>=3.7.4.3 in /usr/local/lib/python3.11/dist-packages (from huggingface_hub[hf_xet]) (4.13.2)\n",
      "Collecting hf-xet<2.0.0,>=1.1.1 (from huggingface_hub[hf_xet])\n",
      "  Downloading hf_xet-1.1.2-cp37-abi3-manylinux_2_17_x86_64.manylinux2014_x86_64.whl.metadata (879 bytes)\n",
      "Requirement already satisfied: charset-normalizer<4,>=2 in /usr/local/lib/python3.11/dist-packages (from requests->huggingface_hub[hf_xet]) (3.4.2)\n",
      "Requirement already satisfied: idna<4,>=2.5 in /usr/local/lib/python3.11/dist-packages (from requests->huggingface_hub[hf_xet]) (3.10)\n",
      "Requirement already satisfied: urllib3<3,>=1.21.1 in /usr/local/lib/python3.11/dist-packages (from requests->huggingface_hub[hf_xet]) (2.4.0)\n",
      "Requirement already satisfied: certifi>=2017.4.17 in /usr/local/lib/python3.11/dist-packages (from requests->huggingface_hub[hf_xet]) (2025.4.26)\n",
      "Downloading hf_xet-1.1.2-cp37-abi3-manylinux_2_17_x86_64.manylinux2014_x86_64.whl (5.2 MB)\n",
      "\u001b[2K   \u001b[90m━━━━━━━━━━━━━━━━━━━━━━━━━━━━━━━━━━━━━━━━\u001b[0m \u001b[32m5.2/5.2 MB\u001b[0m \u001b[31m65.1 MB/s\u001b[0m eta \u001b[36m0:00:00\u001b[0m\n",
      "\u001b[?25hInstalling collected packages: hf-xet\n",
      "Successfully installed hf-xet-1.1.2\n"
     ]
    }
   ],
   "source": [
    "pip install huggingface_hub[hf_xet]"
   ]
  },
  {
   "cell_type": "code",
   "execution_count": null,
   "id": "NL4WftuDP8Ng",
   "metadata": {
    "colab": {
     "base_uri": "https://localhost:8080/",
     "height": 145,
     "referenced_widgets": [
      "484e042878024b04844875041b19b750",
      "93f17e91a5a24a42814715ed55fe9c20",
      "1e036571ffb443c5b0cf15cc606c8176",
      "b06ccd3f2f2e4951a3df17a0d3a050b7",
      "f74f7c4ba8aa4f38ad2aa18f3e8b3e96",
      "9dd6c73ad46e4c23b75050cc300403c2",
      "ce5ece34e2ae471b9988c402f175ca96",
      "099f363248ab4c728ab3648493c469d6",
      "5074d3b0bdc0455c826c70e7a1e8b92f",
      "0181343d2c9e42b59120d8b4d25b9554",
      "711e2385880a440dbe25429e3f0509c8",
      "cae5e50e59f045a7ae6b38316f3d131d",
      "8096d020a67f48049eb13abf5f7cce02",
      "68df74bffc5f48ebb7e16bc93036d1f2",
      "5f0dbbb5e25743a1b7870ce0b72f715e",
      "7fd8348288f94738a559705f504bcc2f",
      "31f3fee265ea49d599cb08fef965601c",
      "0d921787822b4936886a81c41bd745e7",
      "ecfa44db96a740d0b28ca13d5d8e38f5",
      "90ea88bb8cd84048ad650116294f45a6",
      "edfe5cef23ae488181c7793996e58755",
      "5c4970d6319146cca5ef4e1dde7c3c65",
      "5b8221da5a244e19a76000d26c28bc3c",
      "e7c031e98ae5491986716e47913fc441",
      "d256483147184930a0fc6c8d47dfe4bb",
      "1c3f27b763a04a33913ae1724a94e9cc",
      "bc47c662b33b45e497af089fa9bf5abf",
      "30bd941ae7d143d2927ddc6aa9e08860",
      "c403e8149fa04e1787a99d49ffadd47a",
      "d7ceb752aafa44958e189faa46c83f1a",
      "4830023a12b745d5abae82806d10ccb1",
      "095c2867f84448e693594ef7eb6fe026",
      "226f1a01d14543fa9ec4d466fc3bea03",
      "f6241e307d334877af6cd76daad8b017",
      "525cf0412d654f3ca573cce3564a6983",
      "f820e28d487043e1b0f53c4fa0389460",
      "91b188bf807a4ff4b821c270dabfed5a",
      "5588ff5e81254bab8a30571e9f3e66c9",
      "662b4087e0ef4ac899eb84f5c0379d69",
      "20a5bf87e35045bca653552bd59c0aff",
      "1580d9f67cfd4c49afea04c560361e35",
      "90d82ba9704046798ed5f8241a62a8e8",
      "3e27388c00ed40cd9049ff81edfd476e",
      "92ae0102800b460899ec45ab2f3395a5"
     ]
    },
    "executionInfo": {
     "elapsed": 2187,
     "status": "ok",
     "timestamp": 1748048142301,
     "user": {
      "displayName": "Promise Ibediogwu",
      "userId": "14544577992882322965"
     },
     "user_tz": -60
    },
    "id": "NL4WftuDP8Ng",
    "outputId": "a676f3b1-f201-4b5e-e2b2-1cfb6af153eb"
   },
   "outputs": [
    {
     "data": {
      "application/vnd.jupyter.widget-view+json": {
       "model_id": "484e042878024b04844875041b19b750",
       "version_major": 2,
       "version_minor": 0
      },
      "text/plain": [
       "tokenizer_config.json:   0%|          | 0.00/48.0 [00:00<?, ?B/s]"
      ]
     },
     "metadata": {},
     "output_type": "display_data"
    },
    {
     "data": {
      "application/vnd.jupyter.widget-view+json": {
       "model_id": "cae5e50e59f045a7ae6b38316f3d131d",
       "version_major": 2,
       "version_minor": 0
      },
      "text/plain": [
       "config.json:   0%|          | 0.00/483 [00:00<?, ?B/s]"
      ]
     },
     "metadata": {},
     "output_type": "display_data"
    },
    {
     "data": {
      "application/vnd.jupyter.widget-view+json": {
       "model_id": "5b8221da5a244e19a76000d26c28bc3c",
       "version_major": 2,
       "version_minor": 0
      },
      "text/plain": [
       "vocab.txt:   0%|          | 0.00/232k [00:00<?, ?B/s]"
      ]
     },
     "metadata": {},
     "output_type": "display_data"
    },
    {
     "data": {
      "application/vnd.jupyter.widget-view+json": {
       "model_id": "f6241e307d334877af6cd76daad8b017",
       "version_major": 2,
       "version_minor": 0
      },
      "text/plain": [
       "tokenizer.json:   0%|          | 0.00/466k [00:00<?, ?B/s]"
      ]
     },
     "metadata": {},
     "output_type": "display_data"
    }
   ],
   "source": [
    "# Load tokenizer, using DistilBERT)\n",
    "tokenizer = AutoTokenizer.from_pretrained(\"distilbert-base-uncased\")\n",
    "\n",
    "class ResumeDataset(Dataset):\n",
    "    def __init__(self, texts, labels, tokenizer, max_len=512):\n",
    "        self.texts = texts\n",
    "        self.labels = labels\n",
    "        self.tokenizer = tokenizer\n",
    "        self.max_len = max_len\n",
    "\n",
    "    def __len__(self):\n",
    "        return len(self.texts)\n",
    "\n",
    "    def __getitem__(self, index):\n",
    "        text = str(self.texts[index])\n",
    "        label = self.labels[index]\n",
    "\n",
    "        encoding = self.tokenizer(\n",
    "            text,\n",
    "            truncation=True,\n",
    "            padding='max_length',\n",
    "            max_length=self.max_len,\n",
    "            return_tensors='pt',\n",
    "            return_attention_mask=True\n",
    "        )\n",
    "\n",
    "        return {\n",
    "            'input_ids': encoding['input_ids'].squeeze(0),\n",
    "            'attention_mask': encoding['attention_mask'].squeeze(0),\n",
    "            'labels': torch.tensor(label, dtype=torch.long)\n",
    "        }\n"
   ]
  },
  {
   "cell_type": "code",
   "execution_count": null,
   "id": "zYwiHJv8E6fp",
   "metadata": {
    "id": "zYwiHJv8E6fp"
   },
   "outputs": [],
   "source": [
    "#splitting the dataset for the data model and dataloader\n",
    "train_texts, val_texts, train_labels, val_labels = train_test_split(\n",
    "    clean_df['text'].tolist(),\n",
    "    clean_df['label'].tolist(),\n",
    "    test_size=0.2,\n",
    "    stratify=clean_df['label']\n",
    ")"
   ]
  },
  {
   "cell_type": "code",
   "execution_count": null,
   "id": "sNkHqo4SJiM0",
   "metadata": {
    "colab": {
     "base_uri": "https://localhost:8080/",
     "height": 139
    },
    "executionInfo": {
     "elapsed": 29,
     "status": "ok",
     "timestamp": 1748048154405,
     "user": {
      "displayName": "Promise Ibediogwu",
      "userId": "14544577992882322965"
     },
     "user_tz": -60
    },
    "id": "sNkHqo4SJiM0",
    "outputId": "470e9fc8-5eab-4847-b50f-ee45c9f6f2da"
   },
   "outputs": [
    {
     "data": {
      "application/vnd.google.colaboratory.intrinsic+json": {
       "type": "string"
      },
      "text/plain": [
       "'construction safety officer summary resourceful and extroverted safety professional with five plus years of hands on experience in safety coordination. expert in occupational safety and emergency management. well versed in handling employee compensation claims and supervising risk analysis. qualifications and expertise proficient in facility monitoring and implementation of osha employee safety guidelines demonstrated ability to manage care operations, insurance underwriting and claim forwarding expertise in filing, handling and processing employee claims thorough knowledge of industrial hygiene standards well familiar with osha regulatory authorities adept at designing and implementing viable precautionary programs based on risk analysis committed to establishment, implementation and promotion state approved occupational policies and guidelines experience construction safety officer sep 2010 to jul 2014 company name  city , state responsible for doing regular work site inspections and bringing any safety issues up to field management. responsible for filing regular local state and federal safety reports for each project. responsible for creating a monthly safety briefing for project managers and executives working out of the main office. safety coordinator nov 2008 to current company name  city , state conduct risk analysis and issue safe work method statements regularly monitor and supervise standard operation procedures at the premises conduct monthly employee safety audits, issue audit reports and make necessary changes in the standard procedures carry out safety inspections and incident investigations conceived and implemented a unique weekly risk analysis mechanism that reduced accident rate by 10 trained 25 employees regarding implementation of osha regulatory authority guidelines led the company in achieving monthly ohs targets consistently via ensuring implementation of best employee safety practices. safety intern jul 2008 company name  city , state provided safety guidance for operations and personnel at the resort. forwarded and processed employee claims. anticipated safety hazards via extensive surveying and took precautionary measures accordingly. supervised safety management at the environmental laboratory department. construction safety officer aug 2005 to sep 2010 company name  city , state responsible for weekly work site safety audits that were distributed to field and office management. worked closely with field management to maintain all local state and federal safety standards. responsible for developing safety policies for each project and updating policies for ongoing projects. construction safety officer jun 1998 to aug 2005 company name  city , state responsible for weekly safety reports that were presented field and office management. responsible for quarterly safety audits for the local state and federal safety agencies. responsible for developing and updating all safety policies on all work sites. education associate degree , risk management 2008 barrington college  state risk management associates degree , construction administration 1998 ullman community college  city , state construction administration certifications construction safety  employee claim processing  certified fire fighter and cpr trained  forklift certifiedtwic osha 500 authorized construction trainer osha authorized disaster site trainerhazmat certified national safety council cp nsc first aid instructor certification itt  baton rouge, la  completed courses inbasic pipefittingbasic operationsinstrumentation various other training programs, includingoccupational safetyhealth standards in construction industry louisiana building  construction trades council safety council coursefirefighting skills audit reports, cpr, filing, forklift, office, office management, personnel, policies, risk analysis, safety, unique'"
      ]
     },
     "execution_count": 17,
     "metadata": {},
     "output_type": "execute_result"
    }
   ],
   "source": [
    "train_texts[0]"
   ]
  },
  {
   "cell_type": "code",
   "execution_count": null,
   "id": "of4OSyom07gf",
   "metadata": {
    "id": "of4OSyom07gf"
   },
   "outputs": [],
   "source": [
    "train_dataset = ResumeDataset(train_texts, train_labels, tokenizer)\n",
    "val_dataset = ResumeDataset(val_texts, val_labels, tokenizer)"
   ]
  },
  {
   "cell_type": "code",
   "execution_count": null,
   "id": "f5WPbx3kXh1l",
   "metadata": {
    "colab": {
     "base_uri": "https://localhost:8080/"
    },
    "collapsed": true,
    "executionInfo": {
     "elapsed": 38,
     "status": "ok",
     "timestamp": 1748048175680,
     "user": {
      "displayName": "Promise Ibediogwu",
      "userId": "14544577992882322965"
     },
     "user_tz": -60
    },
    "id": "f5WPbx3kXh1l",
    "outputId": "ef3d4d50-2eb6-4c45-e611-2f08c7050271"
   },
   "outputs": [
    {
     "data": {
      "text/plain": [
       "{'input_ids': tensor([  101,  2810,  3808,  2961, 12654,  7692,  3993,  1998,  4654, 13181,\n",
       "         26686,  3808,  2658,  2007,  2274,  4606,  2086,  1997,  2398,  2006,\n",
       "          3325,  1999,  3808, 12016,  1012,  6739,  1999, 16928,  3808,  1998,\n",
       "          5057,  2968,  1012,  2092,  7893,  2094,  1999,  8304,  7904,  9430,\n",
       "          4447,  1998, 21238,  3891,  4106,  1012, 15644,  1998, 11532, 27029,\n",
       "          1999,  4322,  8822,  1998,  7375,  1997,  9808,  3270,  7904,  3808,\n",
       "         11594,  7645,  3754,  2000,  6133,  2729,  3136,  1010,  5427,  2104,\n",
       "         18560,  1998,  4366,  2830,  2075, 11532,  1999, 15242,  1010,  8304,\n",
       "          1998,  6364,  7904,  4447, 16030,  3716,  1997,  3919, 19548,  4781,\n",
       "          2092,  5220,  2007,  9808,  3270, 10738,  4614, 26398,  2012, 12697,\n",
       "          1998, 14972, 14874,  3653,  3540, 13700,  5649,  3454,  2241,  2006,\n",
       "          3891,  4106,  5462,  2000,  5069,  1010,  7375,  1998,  4712,  2110,\n",
       "          4844, 16928,  6043,  1998, 11594,  3325,  2810,  3808,  2961, 19802,\n",
       "          2230,  2000, 21650,  2297,  2194,  2171,  2103,  1010,  2110,  3625,\n",
       "          2005,  2725,  3180,  2147,  2609, 29589,  1998,  5026,  2151,  3808,\n",
       "          3314,  2039,  2000,  2492,  2968,  1012,  3625,  2005, 15242,  3180,\n",
       "          2334,  2110,  1998,  2976,  3808,  4311,  2005,  2169,  2622,  1012,\n",
       "          3625,  2005,  4526,  1037,  7058,  3808, 27918,  2005,  2622, 10489,\n",
       "          1998, 12706,  2551,  2041,  1997,  1996,  2364,  2436,  1012,  3808,\n",
       "         10669, 13292,  2263,  2000,  2783,  2194,  2171,  2103,  1010,  2110,\n",
       "          6204,  3891,  4106,  1998,  3277,  3647,  2147,  4118,  8635,  5570,\n",
       "          8080,  1998, 28589,  3115,  3169,  8853,  2012,  1996, 10345,  6204,\n",
       "          7058,  7904,  3808, 15727,  2015,  1010,  3277, 15727,  4311,  1998,\n",
       "          2191,  4072,  3431,  1999,  1996,  3115,  8853,  4287,  2041,  3808,\n",
       "         29589,  1998,  5043,  9751, 10141,  1998,  7528,  1037,  4310,  4882,\n",
       "          3891,  4106,  7337,  2008,  4359,  4926,  3446,  2011,  2184,  4738,\n",
       "          2423,  5126,  4953,  7375,  1997,  9808,  3270, 10738,  3691, 11594,\n",
       "          2419,  1996,  2194,  1999, 10910,  7058,  2821,  2015,  7889, 10862,\n",
       "          3081, 12725,  7375,  1997,  2190,  7904,  3808,  6078,  1012,  3808,\n",
       "         25204, 21650,  2263,  2194,  2171,  2103,  1010,  2110,  3024,  3808,\n",
       "          8606,  2005,  3136,  1998,  5073,  2012,  1996,  7001,  1012,  2830,\n",
       "          2098,  1998, 13995,  7904,  4447,  1012, 11436,  3808, 22010,  3081,\n",
       "          4866, 19654,  1998,  2165,  3653,  3540, 13700,  5649,  5761, 11914,\n",
       "          1012, 13588,  3808,  2968,  2012,  1996,  4483,  5911,  2533,  1012,\n",
       "          2810,  3808,  2961, 15476,  2384,  2000, 19802,  2230,  2194,  2171,\n",
       "          2103,  1010,  2110,  3625,  2005,  4882,  2147,  2609,  3808, 15727,\n",
       "          2015,  2008,  2020,  5500,  2000,  2492,  1998,  2436,  2968,  1012,\n",
       "          2499,  4876,  2007,  2492,  2968,  2000,  5441,  2035,  2334,  2110,\n",
       "          1998,  2976,  3808,  4781,  1012,  3625,  2005,  4975,  3808,  6043,\n",
       "          2005,  2169,  2622,  1998,  2039, 16616,  6043,  2005,  7552,  3934,\n",
       "          1012,  2810,  3808,  2961, 12022,  2687,  2000, 15476,  2384,  2194,\n",
       "          2171,  2103,  1010,  2110,  3625,  2005,  4882,  3808,  4311,  2008,\n",
       "          2020,  3591,  2492,  1998,  2436,  2968,  1012,  3625,  2005, 12174,\n",
       "          3808, 15727,  2015,  2005,  1996,  2334,  2110,  1998,  2976,  3808,\n",
       "          6736,  1012,  3625,  2005,  4975,  1998,  2039, 16616,  2035,  3808,\n",
       "          6043,  2006,  2035,  2147,  4573,  1012,  2495,  5482,  3014,  1010,\n",
       "          3891,  2968,  2263, 26469,  2267,  2110,  3891,  2968,  9228,  3014,\n",
       "          1010,  2810,  3447,  2687, 17359, 12624,  2451,  2267,  2103,  1010,\n",
       "          2110,  2810,  3447, 10618,  2015,  2810,  3808,  7904,  4366,  6364,\n",
       "          7378,  2543,  4959,  1998, 18133,  2099,  4738,  9292, 18412,  7378,\n",
       "          2102,  9148,  2278,  9808,  3270,  3156,  9362,  2810, 10365,  9808,\n",
       "          3270,   102]),\n",
       " 'attention_mask': tensor([1, 1, 1, 1, 1, 1, 1, 1, 1, 1, 1, 1, 1, 1, 1, 1, 1, 1, 1, 1, 1, 1, 1, 1,\n",
       "         1, 1, 1, 1, 1, 1, 1, 1, 1, 1, 1, 1, 1, 1, 1, 1, 1, 1, 1, 1, 1, 1, 1, 1,\n",
       "         1, 1, 1, 1, 1, 1, 1, 1, 1, 1, 1, 1, 1, 1, 1, 1, 1, 1, 1, 1, 1, 1, 1, 1,\n",
       "         1, 1, 1, 1, 1, 1, 1, 1, 1, 1, 1, 1, 1, 1, 1, 1, 1, 1, 1, 1, 1, 1, 1, 1,\n",
       "         1, 1, 1, 1, 1, 1, 1, 1, 1, 1, 1, 1, 1, 1, 1, 1, 1, 1, 1, 1, 1, 1, 1, 1,\n",
       "         1, 1, 1, 1, 1, 1, 1, 1, 1, 1, 1, 1, 1, 1, 1, 1, 1, 1, 1, 1, 1, 1, 1, 1,\n",
       "         1, 1, 1, 1, 1, 1, 1, 1, 1, 1, 1, 1, 1, 1, 1, 1, 1, 1, 1, 1, 1, 1, 1, 1,\n",
       "         1, 1, 1, 1, 1, 1, 1, 1, 1, 1, 1, 1, 1, 1, 1, 1, 1, 1, 1, 1, 1, 1, 1, 1,\n",
       "         1, 1, 1, 1, 1, 1, 1, 1, 1, 1, 1, 1, 1, 1, 1, 1, 1, 1, 1, 1, 1, 1, 1, 1,\n",
       "         1, 1, 1, 1, 1, 1, 1, 1, 1, 1, 1, 1, 1, 1, 1, 1, 1, 1, 1, 1, 1, 1, 1, 1,\n",
       "         1, 1, 1, 1, 1, 1, 1, 1, 1, 1, 1, 1, 1, 1, 1, 1, 1, 1, 1, 1, 1, 1, 1, 1,\n",
       "         1, 1, 1, 1, 1, 1, 1, 1, 1, 1, 1, 1, 1, 1, 1, 1, 1, 1, 1, 1, 1, 1, 1, 1,\n",
       "         1, 1, 1, 1, 1, 1, 1, 1, 1, 1, 1, 1, 1, 1, 1, 1, 1, 1, 1, 1, 1, 1, 1, 1,\n",
       "         1, 1, 1, 1, 1, 1, 1, 1, 1, 1, 1, 1, 1, 1, 1, 1, 1, 1, 1, 1, 1, 1, 1, 1,\n",
       "         1, 1, 1, 1, 1, 1, 1, 1, 1, 1, 1, 1, 1, 1, 1, 1, 1, 1, 1, 1, 1, 1, 1, 1,\n",
       "         1, 1, 1, 1, 1, 1, 1, 1, 1, 1, 1, 1, 1, 1, 1, 1, 1, 1, 1, 1, 1, 1, 1, 1,\n",
       "         1, 1, 1, 1, 1, 1, 1, 1, 1, 1, 1, 1, 1, 1, 1, 1, 1, 1, 1, 1, 1, 1, 1, 1,\n",
       "         1, 1, 1, 1, 1, 1, 1, 1, 1, 1, 1, 1, 1, 1, 1, 1, 1, 1, 1, 1, 1, 1, 1, 1,\n",
       "         1, 1, 1, 1, 1, 1, 1, 1, 1, 1, 1, 1, 1, 1, 1, 1, 1, 1, 1, 1, 1, 1, 1, 1,\n",
       "         1, 1, 1, 1, 1, 1, 1, 1, 1, 1, 1, 1, 1, 1, 1, 1, 1, 1, 1, 1, 1, 1, 1, 1,\n",
       "         1, 1, 1, 1, 1, 1, 1, 1, 1, 1, 1, 1, 1, 1, 1, 1, 1, 1, 1, 1, 1, 1, 1, 1,\n",
       "         1, 1, 1, 1, 1, 1, 1, 1]),\n",
       " 'labels': tensor(11)}"
      ]
     },
     "execution_count": 20,
     "metadata": {},
     "output_type": "execute_result"
    }
   ],
   "source": [
    "train_dataset[0]"
   ]
  },
  {
   "cell_type": "code",
   "execution_count": null,
   "id": "sAcztB2K5dkt",
   "metadata": {
    "colab": {
     "base_uri": "https://localhost:8080/"
    },
    "executionInfo": {
     "elapsed": 22,
     "status": "ok",
     "timestamp": 1748048183465,
     "user": {
      "displayName": "Promise Ibediogwu",
      "userId": "14544577992882322965"
     },
     "user_tz": -60
    },
    "id": "sAcztB2K5dkt",
    "outputId": "7447112f-29d9-4a00-c3a9-309b87ddfbde"
   },
   "outputs": [
    {
     "data": {
      "text/plain": [
       "2086"
      ]
     },
     "execution_count": 21,
     "metadata": {},
     "output_type": "execute_result"
    }
   ],
   "source": [
    "len(train_dataset)"
   ]
  },
  {
   "cell_type": "code",
   "execution_count": null,
   "id": "dATRRyMs07bF",
   "metadata": {
    "id": "dATRRyMs07bF"
   },
   "outputs": [],
   "source": [
    "train_loader = DataLoader(train_dataset, batch_size=16, shuffle=True)\n",
    "val_loader = DataLoader(val_dataset, batch_size=16)"
   ]
  },
  {
   "cell_type": "markdown",
   "id": "kCCkqN8A9rHo",
   "metadata": {
    "id": "kCCkqN8A9rHo"
   },
   "source": [
    "## Model Training"
   ]
  },
  {
   "cell_type": "code",
   "execution_count": null,
   "id": "8CVrQO9q07Xq",
   "metadata": {
    "id": "8CVrQO9q07Xq"
   },
   "outputs": [],
   "source": [
    "#training arguments\n",
    "training_args = TrainingArguments(\n",
    "    output_dir='/content/drive/MyDrive/Colab Notebooks/AI-Powered-Career-Guidance/results',\n",
    "    num_train_epochs=3,\n",
    "    per_device_train_batch_size=16,\n",
    "    per_device_eval_batch_size=64,\n",
    "    weight_decay=0.01,\n",
    "    logging_dir='/content/drive/MyDrive/Colab Notebooks/AI-Powered-Career-Guidance/logs',\n",
    "    logging_steps=10,\n",
    "    eval_strategy='epoch',\n",
    "    metric_for_best_model='eval_loss',\n",
    ")\n"
   ]
  },
  {
   "cell_type": "code",
   "execution_count": null,
   "id": "X4VAMcNJJiJ4",
   "metadata": {
    "id": "X4VAMcNJJiJ4"
   },
   "outputs": [],
   "source": [
    "#initialze the Trainer\n",
    "trainer = Trainer(\n",
    "    model=model,\n",
    "    args=training_args,\n",
    "    train_dataset=train_dataset,\n",
    "    eval_dataset=val_dataset,\n",
    ")"
   ]
  },
  {
   "cell_type": "code",
   "execution_count": null,
   "id": "8LzrLGJfJiGr",
   "metadata": {
    "colab": {
     "base_uri": "https://localhost:8080/",
     "height": 484
    },
    "executionInfo": {
     "elapsed": 785389,
     "status": "ok",
     "timestamp": 1748048997352,
     "user": {
      "displayName": "Promise Ibediogwu",
      "userId": "14544577992882322965"
     },
     "user_tz": -60
    },
    "id": "8LzrLGJfJiGr",
    "outputId": "1f03fdd6-671e-42dd-af62-8c8af3918426"
   },
   "outputs": [
    {
     "name": "stdout",
     "output_type": "stream",
     "text": [
      "Starting training...\n"
     ]
    },
    {
     "name": "stderr",
     "output_type": "stream",
     "text": [
      "\u001b[34m\u001b[1mwandb\u001b[0m: \u001b[33mWARNING\u001b[0m The `run_name` is currently set to the same value as `TrainingArguments.output_dir`. If this was not intended, please specify a different run name by setting the `TrainingArguments.run_name` parameter.\n"
     ]
    },
    {
     "data": {
      "application/javascript": "\n        window._wandbApiKey = new Promise((resolve, reject) => {\n            function loadScript(url) {\n            return new Promise(function(resolve, reject) {\n                let newScript = document.createElement(\"script\");\n                newScript.onerror = reject;\n                newScript.onload = resolve;\n                document.body.appendChild(newScript);\n                newScript.src = url;\n            });\n            }\n            loadScript(\"https://cdn.jsdelivr.net/npm/postmate/build/postmate.min.js\").then(() => {\n            const iframe = document.createElement('iframe')\n            iframe.style.cssText = \"width:0;height:0;border:none\"\n            document.body.appendChild(iframe)\n            const handshake = new Postmate({\n                container: iframe,\n                url: 'https://wandb.ai/authorize'\n            });\n            const timeout = setTimeout(() => reject(\"Couldn't auto authenticate\"), 5000)\n            handshake.then(function(child) {\n                child.on('authorize', data => {\n                    clearTimeout(timeout)\n                    resolve(data)\n                });\n            });\n            })\n        });\n    ",
      "text/plain": [
       "<IPython.core.display.Javascript object>"
      ]
     },
     "metadata": {},
     "output_type": "display_data"
    },
    {
     "name": "stderr",
     "output_type": "stream",
     "text": [
      "\u001b[34m\u001b[1mwandb\u001b[0m: Logging into wandb.ai. (Learn how to deploy a W&B server locally: https://wandb.me/wandb-server)\n",
      "\u001b[34m\u001b[1mwandb\u001b[0m: You can find your API key in your browser here: https://wandb.ai/authorize?ref=models\n",
      "wandb: Paste an API key from your profile and hit enter:"
     ]
    },
    {
     "name": "stdout",
     "output_type": "stream",
     "text": [
      " ··········\n"
     ]
    },
    {
     "name": "stderr",
     "output_type": "stream",
     "text": [
      "\u001b[34m\u001b[1mwandb\u001b[0m: \u001b[33mWARNING\u001b[0m If you're specifying your api key in code, ensure this code is not shared publicly.\n",
      "\u001b[34m\u001b[1mwandb\u001b[0m: \u001b[33mWARNING\u001b[0m Consider setting the WANDB_API_KEY environment variable, or running `wandb login` from the command line.\n",
      "\u001b[34m\u001b[1mwandb\u001b[0m: No netrc file found, creating one.\n",
      "\u001b[34m\u001b[1mwandb\u001b[0m: Appending key for api.wandb.ai to your netrc file: /root/.netrc\n",
      "\u001b[34m\u001b[1mwandb\u001b[0m: Currently logged in as: \u001b[33mpro9jaeduinfo\u001b[0m (\u001b[33mpro9jaeduinfo-poshem-technologies-institute\u001b[0m) to \u001b[32mhttps://api.wandb.ai\u001b[0m. Use \u001b[1m`wandb login --relogin`\u001b[0m to force relogin\n"
     ]
    },
    {
     "data": {
      "text/html": [
       "Tracking run with wandb version 0.19.11"
      ],
      "text/plain": [
       "<IPython.core.display.HTML object>"
      ]
     },
     "metadata": {},
     "output_type": "display_data"
    },
    {
     "data": {
      "text/html": [
       "Run data is saved locally in <code>/content/wandb/run-20250524_005738-57vprnrc</code>"
      ],
      "text/plain": [
       "<IPython.core.display.HTML object>"
      ]
     },
     "metadata": {},
     "output_type": "display_data"
    },
    {
     "data": {
      "text/html": [
       "Syncing run <strong><a href='https://wandb.ai/pro9jaeduinfo-poshem-technologies-institute/huggingface/runs/57vprnrc' target=\"_blank\">/content/drive/MyDrive/Colab Notebooks/AI-Powered-Career-Guidance/results</a></strong> to <a href='https://wandb.ai/pro9jaeduinfo-poshem-technologies-institute/huggingface' target=\"_blank\">Weights & Biases</a> (<a href='https://wandb.me/developer-guide' target=\"_blank\">docs</a>)<br>"
      ],
      "text/plain": [
       "<IPython.core.display.HTML object>"
      ]
     },
     "metadata": {},
     "output_type": "display_data"
    },
    {
     "data": {
      "text/html": [
       " View project at <a href='https://wandb.ai/pro9jaeduinfo-poshem-technologies-institute/huggingface' target=\"_blank\">https://wandb.ai/pro9jaeduinfo-poshem-technologies-institute/huggingface</a>"
      ],
      "text/plain": [
       "<IPython.core.display.HTML object>"
      ]
     },
     "metadata": {},
     "output_type": "display_data"
    },
    {
     "data": {
      "text/html": [
       " View run at <a href='https://wandb.ai/pro9jaeduinfo-poshem-technologies-institute/huggingface/runs/57vprnrc' target=\"_blank\">https://wandb.ai/pro9jaeduinfo-poshem-technologies-institute/huggingface/runs/57vprnrc</a>"
      ],
      "text/plain": [
       "<IPython.core.display.HTML object>"
      ]
     },
     "metadata": {},
     "output_type": "display_data"
    },
    {
     "data": {
      "text/html": [
       "\n",
       "    <div>\n",
       "      \n",
       "      <progress value='393' max='393' style='width:300px; height:20px; vertical-align: middle;'></progress>\n",
       "      [393/393 12:12, Epoch 3/3]\n",
       "    </div>\n",
       "    <table border=\"1\" class=\"dataframe\">\n",
       "  <thead>\n",
       " <tr style=\"text-align: left;\">\n",
       "      <th>Epoch</th>\n",
       "      <th>Training Loss</th>\n",
       "      <th>Validation Loss</th>\n",
       "    </tr>\n",
       "  </thead>\n",
       "  <tbody>\n",
       "    <tr>\n",
       "      <td>1</td>\n",
       "      <td>1.514000</td>\n",
       "      <td>1.304103</td>\n",
       "    </tr>\n",
       "    <tr>\n",
       "      <td>2</td>\n",
       "      <td>0.937100</td>\n",
       "      <td>0.769422</td>\n",
       "    </tr>\n",
       "    <tr>\n",
       "      <td>3</td>\n",
       "      <td>0.482000</td>\n",
       "      <td>0.665526</td>\n",
       "    </tr>\n",
       "  </tbody>\n",
       "</table><p>"
      ],
      "text/plain": [
       "<IPython.core.display.HTML object>"
      ]
     },
     "metadata": {},
     "output_type": "display_data"
    },
    {
     "name": "stdout",
     "output_type": "stream",
     "text": [
      "Training completed...\n"
     ]
    }
   ],
   "source": [
    "#Training the Model\n",
    "print(\"Starting training...\")\n",
    "trainer.train()\n",
    "print('Training completed...')"
   ]
  },
  {
   "cell_type": "code",
   "execution_count": null,
   "id": "aZkmmC0tBuhl",
   "metadata": {
    "colab": {
     "base_uri": "https://localhost:8080/",
     "height": 141
    },
    "executionInfo": {
     "elapsed": 18202,
     "status": "ok",
     "timestamp": 1748049034249,
     "user": {
      "displayName": "Promise Ibediogwu",
      "userId": "14544577992882322965"
     },
     "user_tz": -60
    },
    "id": "aZkmmC0tBuhl",
    "outputId": "4916b64a-5381-41b0-c11c-fa11d22077c2"
   },
   "outputs": [
    {
     "name": "stdout",
     "output_type": "stream",
     "text": [
      "Evaluating model\n"
     ]
    },
    {
     "data": {
      "text/html": [
       "\n",
       "    <div>\n",
       "      \n",
       "      <progress value='9' max='9' style='width:300px; height:20px; vertical-align: middle;'></progress>\n",
       "      [9/9 00:17]\n",
       "    </div>\n",
       "    "
      ],
      "text/plain": [
       "<IPython.core.display.HTML object>"
      ]
     },
     "metadata": {},
     "output_type": "display_data"
    },
    {
     "data": {
      "text/plain": [
       "{'eval_loss': 0.6655264496803284,\n",
       " 'eval_runtime': 18.1399,\n",
       " 'eval_samples_per_second': 28.776,\n",
       " 'eval_steps_per_second': 0.496,\n",
       " 'epoch': 3.0}"
      ]
     },
     "execution_count": 26,
     "metadata": {},
     "output_type": "execute_result"
    }
   ],
   "source": [
    "print('Evaluating model')\n",
    "trainer.evaluate()"
   ]
  },
  {
   "cell_type": "markdown",
   "id": "ScWY6IHrJ1x1",
   "metadata": {
    "id": "ScWY6IHrJ1x1"
   },
   "source": [
    "## Model Evaluation"
   ]
  },
  {
   "cell_type": "code",
   "execution_count": null,
   "id": "TWlrDIfEIkRu",
   "metadata": {
    "id": "TWlrDIfEIkRu"
   },
   "outputs": [],
   "source": [
    "from sklearn.metrics import classification_report, precision_score, recall_score, f1_score, accuracy_score, confusion_matrix"
   ]
  },
  {
   "cell_type": "code",
   "execution_count": null,
   "id": "vZRTNHJ2KFiD",
   "metadata": {
    "colab": {
     "base_uri": "https://localhost:8080/",
     "height": 399
    },
    "collapsed": true,
    "executionInfo": {
     "elapsed": 18022,
     "status": "ok",
     "timestamp": 1748049134233,
     "user": {
      "displayName": "Promise Ibediogwu",
      "userId": "14544577992882322965"
     },
     "user_tz": -60
    },
    "id": "vZRTNHJ2KFiD",
    "outputId": "3538fed9-8d2d-4a8f-cecb-3337e40f37fa"
   },
   "outputs": [
    {
     "data": {
      "text/html": [],
      "text/plain": [
       "<IPython.core.display.HTML object>"
      ]
     },
     "metadata": {},
     "output_type": "display_data"
    },
    {
     "name": "stdout",
     "output_type": "stream",
     "text": [
      "[ 3  6  9 18  6 11 11 24 12 21 23  6 22 12 18  1  6 17 10 20 22 23 15 18\n",
      " 10  6 20 21 23 14 22 10 13 24  2 19 17 18 12  7 24 23  4 16  4 22 11 10\n",
      "  6 10  7 10 11 20 13  0 17 15 16 11  9 21 15 13  7  1 13 22 19  1 14 20\n",
      "  0 12  0 23 11  9 23 12  7  6  1 15 15 13 17 21  0 18 13 16  2 11 20 15\n",
      " 22 14 24 18 21 19 16 19 24  6 23 13  9 11  9  9 20 16  4 23  6 12  3 19\n",
      "  6 16 16 11 15 14 21 19 24  9  3  7 24 12 23 14  0 22 24 16 16 20  0 21\n",
      "  7 14  1 15  7 21 17 21 22  9 14 23  3 19 10 14 14 17 18  7 24  3 12 16\n",
      " 16 19 10 11 19  9  6 16  4 23  6  4  3 16 13  9  1  0 24 17 10 19 15  1\n",
      " 21 19 10 21 16  6 24 10 11  9  7  7 20 14 17 13 22 12 17 13  3 15  7 22\n",
      "  2 12 13 21  7  4  7 22 10 13 17 11  7 15 14 22  6 19 23 17 10 20 14  4\n",
      " 17 23 21  0 11 16 17 12  0 17 11 11 19 21 11  4  0  0  9  2 24  4 23  9\n",
      " 13 14 20 19 18 22 18 19  6 12 13  6  6 20 13  3 10 22 22 23 12 22  6  2\n",
      " 17 15  1  9 10 14 19  0  1 12 13 20  2  3  1 13 14 24 22  7 22 15 16 22\n",
      " 19 21 23 10 20 12  6  1 15 21  0  0 16  6 21  9 16 14  7 18  0 13  0 24\n",
      "  1  0 21 24 18  3 12 18 17 10 21  9 17 12  3  6 22 17 19 10  7  3  7 13\n",
      " 20 17 24 19 23  4 18 18  1 18  3 19 18 16  1  4 23 12 12  1 15  7 16 16\n",
      " 16 12 11 24  7 11  9  2 22 23  4  3 11 21 23 12 20 22 17 15 12 10  1  1\n",
      " 19  9 10 24 16 13  6  9 23 12 21 12 11  0 21 17  9 20  9 22 18  1  3  0\n",
      " 21 18  9  6 18 10  1  6 14 20 15  7 23 20 19  6 13  0 22  1 20  6 22 13\n",
      " 15 10  7 23 14  2 13 10  7  6  9  6  9 21  0 20 14  4  7 21 23  1  1  7\n",
      "  0 17 17 13 16 20 18 19 15  2 16 17 11  7 19 24 17 23 13 22 23 23  0 18\n",
      " 20 12 11 13 17 18 24 24  6  3 14 24  9 18  6  1  0 14]\n"
     ]
    }
   ],
   "source": [
    "#predict on the validation set\n",
    "predictions = trainer.predict(val_dataset)\n",
    "y_pred = predictions.predictions.argmax(axis=-1)\n",
    "print(y_pred)"
   ]
  },
  {
   "cell_type": "code",
   "execution_count": null,
   "id": "BJqQkgH6KV39",
   "metadata": {
    "colab": {
     "base_uri": "https://localhost:8080/"
    },
    "collapsed": true,
    "executionInfo": {
     "elapsed": 23,
     "status": "ok",
     "timestamp": 1748049209604,
     "user": {
      "displayName": "Promise Ibediogwu",
      "userId": "14544577992882322965"
     },
     "user_tz": -60
    },
    "id": "BJqQkgH6KV39",
    "outputId": "10336d93-51c2-4717-fa77-b26fc0593187"
   },
   "outputs": [
    {
     "name": "stdout",
     "output_type": "stream",
     "text": [
      "[ 3  6  9 18  6 11 11 24 12 21 23  6 22 12 18  1  6 17 10 20 22 23 15 18\n",
      " 10  6 20 21 23 14 22 10 13 24 22 19 17 18 21  7 24 23  4 16  4 22 11 10\n",
      "  4 10  4 10 11 20 13  0  1 15 16 11  9  2 15 13  7  1 13 15 19  5 14 20\n",
      "  0 12  0 23 19  9 23 12  7  6  1  3 22 13 17 13  0 18 13 16  2 11 20 15\n",
      " 22 14 24 18 21 19 16 19 24  6 23 12 18 11  9  9 20 16  4 23  6  4  3 19\n",
      "  6 16 16 11  3 14 21 19 24  9 18  7 24 12 23 14  0 22 24 16 16 20  0 21\n",
      "  7 14  1 15  7 21 17  5 22  9 14 23  3 19  4 14 14 17  5  7 24  3 12 16\n",
      "  3 19 10 11  1  9  6 16  4 23  4  4  7 16 13  9  1  0 24 17 10  1 15  1\n",
      " 21 19 10 15 16  6 24 10 11  9 19  7 20 14 17 13 10 12 17 13  3 21  7 22\n",
      "  2 12 13 21  5  4  7  1 10 13 17 11  7 15 14 22  6 19  4 17 10 20 14  4\n",
      " 17 23 21  0 11 16 17 12  0 17 11 11 19 21 11 22  0  0  9  2 24  4 23  9\n",
      " 13 14 20 19 18 15  8 15  6 12 13  3  6 20 13  2  4 22 22 23 12 22  6 21\n",
      " 19 15  1  9 10 14 19  0  1 12 13 20  2  3  1 13 14 24 15  8 15 15 16 22\n",
      " 19 21 23 10 20 12  6  1 15 21  0  0 16  6 21  9 16 14  7 18  0 13  0 24\n",
      "  1  0 21 24  7  7 12 18 17 10 21  9 17 12  3  6 11 17  3 10  7  3  7 13\n",
      " 20 17  3 19 23  4 18 18  1 18 10 19  3 16  1  4  4 12  7  1  4  7 16 16\n",
      " 16 12 11 24  7 11  9  8  2 18  2  3 11 21 23 12 20 22 17 15 12 10  1 18\n",
      " 19  9 10 24 16 13  6  9 23 12  5 12 11  0 21 17  9 20  9 22 18  1  2  0\n",
      " 21 22  9  6 18 10  1  6 14 20 22  5 18 20 19  8 13  0  3 19 20  6 22 13\n",
      " 15 10  7 23 14  2  2 10  7  6  9 21  9 21  0 20 14  4  3 21 23  1  1  7\n",
      "  0 17 17 13 16 20 18 19 15  2 16 17 11  3  5 24 17 23 13 22 23 23  0 18\n",
      " 20 12 11 13 17 18 24  2 10  4 14 24  9 18  6  1  0 14]\n"
     ]
    }
   ],
   "source": [
    "y_val = predictions.label_ids\n",
    "print(y_val)"
   ]
  },
  {
   "cell_type": "code",
   "execution_count": null,
   "id": "bQG0aZUQKtt_",
   "metadata": {
    "colab": {
     "base_uri": "https://localhost:8080/"
    },
    "executionInfo": {
     "elapsed": 61,
     "status": "ok",
     "timestamp": 1748049220069,
     "user": {
      "displayName": "Promise Ibediogwu",
      "userId": "14544577992882322965"
     },
     "user_tz": -60
    },
    "id": "bQG0aZUQKtt_",
    "outputId": "c9298090-4c49-4d60-aa4f-c286c335ea38"
   },
   "outputs": [
    {
     "name": "stdout",
     "output_type": "stream",
     "text": [
      "Accuracy: 0.8544061302681992\n"
     ]
    }
   ],
   "source": [
    "#computing accuracy using accuracy_score\n",
    "\n",
    "accuracy = accuracy_score(y_val, y_pred)\n",
    "print(f\"Accuracy: {accuracy}\")\n"
   ]
  },
  {
   "cell_type": "code",
   "execution_count": null,
   "id": "E2sreFpENbXS",
   "metadata": {
    "colab": {
     "base_uri": "https://localhost:8080/"
    },
    "executionInfo": {
     "elapsed": 49,
     "status": "ok",
     "timestamp": 1748049225829,
     "user": {
      "displayName": "Promise Ibediogwu",
      "userId": "14544577992882322965"
     },
     "user_tz": -60
    },
    "id": "E2sreFpENbXS",
    "outputId": "542b53ff-29ce-426f-cf5f-5848fea8d91f"
   },
   "outputs": [
    {
     "name": "stdout",
     "output_type": "stream",
     "text": [
      "Precision: 0.8353100137210165\n"
     ]
    }
   ],
   "source": [
    "#precision\n",
    "precision = precision_score(y_val, y_pred, average='weighted')\n",
    "print(f\"Precision: {precision}\")"
   ]
  },
  {
   "cell_type": "code",
   "execution_count": null,
   "id": "lI1jQ9v1NiB5",
   "metadata": {
    "colab": {
     "base_uri": "https://localhost:8080/"
    },
    "executionInfo": {
     "elapsed": 12,
     "status": "ok",
     "timestamp": 1748049228073,
     "user": {
      "displayName": "Promise Ibediogwu",
      "userId": "14544577992882322965"
     },
     "user_tz": -60
    },
    "id": "lI1jQ9v1NiB5",
    "outputId": "82637360-5e32-471d-8020-3ff852c049fa"
   },
   "outputs": [
    {
     "name": "stdout",
     "output_type": "stream",
     "text": [
      "F1 Score: 0.8412733112394635\n"
     ]
    }
   ],
   "source": [
    "#fi-score\n",
    "f1 = f1_score(y_val, y_pred, average='weighted')\n",
    "print(f\"F1 Score: {f1}\")"
   ]
  },
  {
   "cell_type": "code",
   "execution_count": null,
   "id": "SPNeRCubNn5U",
   "metadata": {
    "colab": {
     "base_uri": "https://localhost:8080/"
    },
    "executionInfo": {
     "elapsed": 30,
     "status": "ok",
     "timestamp": 1748049230769,
     "user": {
      "displayName": "Promise Ibediogwu",
      "userId": "14544577992882322965"
     },
     "user_tz": -60
    },
    "id": "SPNeRCubNn5U",
    "outputId": "da8e753c-9c82-4df1-ebbd-5a904eb16f0c"
   },
   "outputs": [
    {
     "name": "stdout",
     "output_type": "stream",
     "text": [
      "                        precision    recall  f1-score   support\n",
      "\n",
      "            ACCOUNTANT       1.00      1.00      1.00        24\n",
      "              ADVOCATE       0.87      0.83      0.85        24\n",
      "           AGRICULTURE       0.67      0.46      0.55        13\n",
      "               APPAREL       0.56      0.47      0.51        19\n",
      "                  ARTS       0.85      0.52      0.65        21\n",
      "            AUTOMOBILE       0.00      0.00      0.00         7\n",
      "              AVIATION       0.80      1.00      0.89        24\n",
      "               BANKING       0.73      0.83      0.78        23\n",
      "                   BPO       0.00      0.00      0.00         4\n",
      "  BUSINESS-DEVELOPMENT       0.96      1.00      0.98        24\n",
      "                  CHEF       0.91      0.88      0.89        24\n",
      "          CONSTRUCTION       0.95      0.95      0.95        22\n",
      "            CONSULTANT       0.88      0.96      0.92        23\n",
      "DATA ANALYST_SCIENTIST       0.92      0.96      0.94        25\n",
      "              DESIGNER       1.00      1.00      1.00        21\n",
      "         DIGITAL-MEDIA       0.68      0.68      0.68        19\n",
      "           ENGINEERING       0.96      1.00      0.98        24\n",
      "               FINANCE       0.92      1.00      0.96        24\n",
      "               FITNESS       0.78      0.78      0.78        23\n",
      "            HEALTHCARE       0.79      0.83      0.81        23\n",
      "                    HR       1.00      1.00      1.00        22\n",
      "INFORMATION-TECHNOLOGY       0.80      0.83      0.82        24\n",
      "      PUBLIC-RELATIONS       0.65      0.77      0.71        22\n",
      "                 SALES       0.85      1.00      0.92        23\n",
      "               TEACHER       0.91      1.00      0.95        20\n",
      "\n",
      "              accuracy                           0.85       522\n",
      "             macro avg       0.78      0.79      0.78       522\n",
      "          weighted avg       0.84      0.85      0.84       522\n",
      "\n"
     ]
    }
   ],
   "source": [
    "#print confusion metricing using the class name of le\n",
    "print(classification_report(y_val, y_pred, target_names=le.classes_))"
   ]
  },
  {
   "cell_type": "code",
   "execution_count": null,
   "id": "reJMYNLuNyP5",
   "metadata": {
    "colab": {
     "base_uri": "https://localhost:8080/",
     "height": 648
    },
    "executionInfo": {
     "elapsed": 1242,
     "status": "ok",
     "timestamp": 1748049233933,
     "user": {
      "displayName": "Promise Ibediogwu",
      "userId": "14544577992882322965"
     },
     "user_tz": -60
    },
    "id": "reJMYNLuNyP5",
    "outputId": "c4d9f67b-3d92-4faa-e7ae-af04b1e10ba6"
   },
   "outputs": [
    {
     "name": "stdout",
     "output_type": "stream",
     "text": [
      "Confusion Matrix:\n"
     ]
    },
    {
     "data": {
      "image/png": "[encoded data removed]",
      "text/plain": [
       "<Figure size 640x480 with 2 Axes>"
      ]
     },
     "metadata": {},
     "output_type": "display_data"
    }
   ],
   "source": [
    "#confusion metrics\n",
    "confusion = confusion_matrix(y_val, y_pred)\n",
    "print(\"Confusion Matrix:\")\n",
    "confusion\n",
    "\n",
    "#plotting with heatmap\n",
    "sns.heatmap(confusion, annot=True, fmt='d', cmap='Blues', xticklabels=le.classes_, yticklabels=le.classes_)\n",
    "plt.xlabel('Predicted')\n",
    "plt.ylabel('True')\n",
    "plt.show()"
   ]
  },
  {
   "cell_type": "markdown",
   "id": "o31msy91RGlV",
   "metadata": {
    "id": "o31msy91RGlV"
   },
   "source": [
    "The model can still be improved by adding more dataset for training"
   ]
  },
  {
   "cell_type": "code",
   "execution_count": null,
   "id": "a6X56vCjSWMe",
   "metadata": {
    "id": "a6X56vCjSWMe"
   },
   "outputs": [],
   "source": []
  },
  {
   "cell_type": "markdown",
   "id": "yloOgQjSTa1l",
   "metadata": {
    "id": "yloOgQjSTa1l"
   },
   "source": [
    "## Testing on Resume"
   ]
  },
  {
   "cell_type": "markdown",
   "id": "lKFKXDn-SW9z",
   "metadata": {
    "id": "lKFKXDn-SW9z"
   },
   "source": [
    "### Loading and Extraction"
   ]
  },
  {
   "cell_type": "code",
   "execution_count": 7,
   "id": "lcQ7sBxiSTT6",
   "metadata": {
    "executionInfo": {
     "elapsed": 49,
     "status": "ok",
     "timestamp": 1748195784185,
     "user": {
      "displayName": "Promise Ibediogwu",
      "userId": "14544577992882322965"
     },
     "user_tz": -60
    },
    "id": "lcQ7sBxiSTT6"
   },
   "outputs": [],
   "source": [
    "#creating a function to extract the text in the pdf\n",
    "def extract_text_from_pdf(pdf_path):\n",
    "    full_text = \"\"\n",
    "    try:\n",
    "        with pymupdf.open(pdf_path) as doc:\n",
    "          for page in doc:\n",
    "              full_text = \"\\n\".join([page.get_text() for page in doc])\n",
    "    except Exception as e:\n",
    "        print(f\"Failed to read PDF {pdf_path}: {e}\")\n",
    "    return full_text"
   ]
  },
  {
   "cell_type": "code",
   "execution_count": 8,
   "id": "X35UfczXSr0X",
   "metadata": {
    "executionInfo": {
     "elapsed": 8,
     "status": "ok",
     "timestamp": 1748195785106,
     "user": {
      "displayName": "Promise Ibediogwu",
      "userId": "14544577992882322965"
     },
     "user_tz": -60
    },
    "id": "X35UfczXSr0X"
   },
   "outputs": [],
   "source": [
    "file = '/content/drive/MyDrive/Colab Notebooks/AI-Powered-Career-Guidance/AI-powered-career-guidance-project-dataset/data/ACCOUNTANT/10554236.pdf'"
   ]
  },
  {
   "cell_type": "code",
   "execution_count": 9,
   "id": "zr6DqJ-HRQKX",
   "metadata": {
    "executionInfo": {
     "elapsed": 2016,
     "status": "ok",
     "timestamp": 1748195789352,
     "user": {
      "displayName": "Promise Ibediogwu",
      "userId": "14544577992882322965"
     },
     "user_tz": -60
    },
    "id": "zr6DqJ-HRQKX"
   },
   "outputs": [],
   "source": [
    "#Resume loading and Text Extraction\n",
    "test_resume = extract_text_from_pdf(file)"
   ]
  },
  {
   "cell_type": "code",
   "execution_count": 10,
   "id": "j7aBl7ZeTRrQ",
   "metadata": {
    "colab": {
     "base_uri": "https://localhost:8080/",
     "height": 139
    },
    "collapsed": true,
    "executionInfo": {
     "elapsed": 93,
     "status": "ok",
     "timestamp": 1748195789893,
     "user": {
      "displayName": "Promise Ibediogwu",
      "userId": "14544577992882322965"
     },
     "user_tz": -60
    },
    "id": "j7aBl7ZeTRrQ",
    "outputId": "0c1f1808-cb86-4ed4-8418-814f09963b92"
   },
   "outputs": [
    {
     "data": {
      "application/vnd.google.colaboratory.intrinsic+json": {
       "type": "string"
      },
      "text/plain": [
       "'ACCOUNTANT\\nSummary\\nFinancial Accountant specializing in financial planning, reporting and analysis within the Department of Defense.\\nHighlights\\nAccount reconciliations\\nResults-oriented\\nFinancial reporting\\nCritical thinking\\nAccounting operations professional\\nAnalysis of financial systems\\nERP (Enterprise Resource Planning) software.\\nExcellent facilitator\\nAccomplishments\\nServed on a tiger team which identified and resolved General Ledger postings in DEAMS totaling $360B in accounting adjustments. This allowed\\nfor the first successful fiscal year-end close for 2012.\\nIn collaboration with DFAS Europe, developed an automated tool that identified duplicate obligations. This tool allowed HQ USAFE to\\ndeobligate over $5M in duplicate obligations.\\nExperience\\nCompany Name July 2011 to November 2012 Accountant \\nCity , State\\nEnterprise Resource Planning Office (ERO)\\nIn this position as an Accountant assigned to the Defense Enterprise Accounting and Management System (DEAMS) ERO I was\\nresponsible for identifying and resolving issues affecting the DEAMS General Ledger.\\nI worked with teammates from the Procure to Pay, Orders to Cash, and Budget to Report areas to resolve daily challenges encountered\\nwith the deployment of DEAMS to additional customers and when system change requests were promoted to production.\\nI supported the testing of scripts, patches, and system change requests ensuring any anomalies were identified to the DEAMS Functional\\nManagement Office for action by the DEAMS Program Management Office and/or the System Integrator.\\nIn addition, I served on a tiger team designed to identify and resolve General Ledger posting differences and supported the development of\\n$360B in accounting adjustments allowing for the first successful fiscal year-end close in 2012.\\nThese actions also allowed for the reconciliation and closure of fiscal year 2010 and 2011 accounting adjustments ensuring that all DEAMS\\nfiscal year-end requirements were completed.\\nThese actions were recognized as critical to the successful review report issued by the Air Force Operational Test and Evaluation Center\\n(AFOTEC) resulting in the Air Force receiving the authority to continue with the deployment of DEAMS.\\nCompany Name April 2010 to June 2011 Resource Advisor \\nCity , State\\nIn this position as Resource Advisor for the 1st Air Communications Operation Squadron (1ACOS) I was responsible for providing\\nfinancial advice and decision support to the Commander.\\nI was responsible for coordinating a $4.6M budget between four funding sources.\\nI coordinated with USAFE Directorate of Intelligence (USAFE/A2), USAFE Directorate of Air and Space Operations (USAFE/A3),\\nUSAFE Directorate of Communications (USAFE/A6) and the 435th Air Ground Operations Wing to ensure 1ACOS meets its mission\\nrequirements.\\nI consistently managed three separate timelines for providing budget/unfunded requirements, providing documentation and various reports in\\nthe required format for each organization.\\nI discussed the outcome of the Group and Directorate budget meetings providing feedback the same day to the Flight Chiefs and CC any\\nissue which affects 1ACOS directly.\\nI monitored the Defense Travel System (DTS) daily and identify orders and authorizations needing approval and provided notification to the\\nappropriate Reviewing Officials and Approvers.\\nUtilizing DTS and the General Accounting and Finance System I reviewed status reports to identify anomalies in obligations and have\\nidentified those orders which require correction prior to payment.\\nI provided Government Purchase Card (GPC) status reports the same day they are requested and in addition, communicated with the\\nappropriate cardholders when changes were required to support their program.\\nI identified cardholder training requirements and monitored these requirements to ensure all required training was completed in support of\\nthis mission critical program.\\nI developed guidance for the GPC cardholders on procedures for requesting training for the squadron and in addition I provided answers to\\ncardholder questions on unique or non-standard issues/concerns.\\n\\nAssumed the role of the Billing Official during my final rating period and completed a self inspection of the program for the Management\\nControl Program, zero findings.\\nDuring yearly audit by 700th CONS received zero findings.\\nCompany Name July 2008 to April 2010 Staff Accountant \\nCity , State\\nIn my position as the Staff Accountant for HQ USAFE I was responsible for providing accounting and financial oversight and advice to\\ncustomers throughout the Command in support of the USAFE Comptroller.\\nI was responsible for performing ongoing analysis of financial programs to identify negative trends and weaknesses, ensured specific\\nweaknesses were corrected, and determined whether systemic or repeat issues were identified and adequately addressed.\\nI was required to apply a comprehensive knowledge of analysis/reporting requirements and data produced to resolve these issues.\\nIn collaboration with DFAS Europe, developed an automated tool that identifies duplicate obligations by comparing records in the\\naccounting system to the contracting system and provided notification to the funds manager for review and resolution.\\nThis tool eliminated hours of manual research and results allowed HQ USAFE to deobligate over $5M in duplicate obligations.\\nI was responsible for establishing various performance metrics which ensured effective and efficient use of USAFE financial resources.\\nI supported the USAFE/FMA Financial metrics program by collaborating with DFAS Limestone in the development of an automated tool\\nthat provided senior leaders with visibility to any USAFE unit that is not in compliance with the established rules and regulations related to\\nthe GPC.\\nThis tool provides management reports that are used to populate the monthly metric charts which are briefed by the USAFE/FMA.\\nThis tool provided the capability for USAFE/FMA to collaborate with USAFE Contracting and develop/deploy joint guidance that supports\\nthe established Air Force Instruction mandating card suspension for card holders who are not in compliance with required reservation of\\nfunds in the entitlement system in support of the GPC.\\nI identified and resolved a problem with five GPC accounts that had been rejecting during the automated interface process each month.\\nMy research revealed that these accounts were rejecting for invalid paying station and required manual intervention by both Wing and\\nDFAS personnel.\\nThis not only created rework, it delayed the payment of the invoices.\\nI partnered with DFAS Denver, corrected the records in the Access On-Line accounts eliminating the error condition.\\nI identified a method to deliver one-on-one training in support of the USAFE deployment of the Open Document Analysis (ODA) tool in\\nFMSuite.\\nBy utilizing Defense Connect Online I provided training remotely, virtually eliminating the need to expend funds on Temporary Duty (TDY)\\ntravel.\\nThe results of this training produced results that went well above expectations and were noted by the ODA Program Management Office.\\nCompany Name January 2007 to July 2009 Chief, Reports Branch. Accounts Maintenance and Control \\nCity , State\\nIn my position as Chief of the Reports Branch in Accounts Maintenance & Control (AM&C) I was responsible for ensuring the\\ndevelopment and standardization of various managerial and system reports.\\nI was responsible for the completeness and accuracy of weekly, monthly, quarterly, semi-annual, and annual reports.\\nMy branch monitored errors in the General Accounting and Finance System (GAFS/BQ) and ensured corrective actions were\\naccomplished.\\nI also ensured fund balances were reconciled and reports were verified prior to release to base activities and higher headquarters.\\nLimestone reorganized under the High Performing Organization (HPO) in January 2007 and at that time I was reassigned to AM&C, a\\nDirectorate which previously did not exist.\\nMy challenge during that time was to staff my branch, implement an aggressive training schedule, and ensure the continuity of financial\\nreporting was maintained.\\nAs we transitioned into the HPO we continued defining the missions and functions for AM&C for the entire network.\\nI participated in biweekly conference calls with Standards and Compliance in an effort to define missions and functions for AM&C.\\nWorked with management in determining FTEs needed for the branch.\\nI was responsible for developing meaningful performance standards for my employees since this branch and its functions did not previously\\nexist.\\nLimestone POC for an initiative to eliminate suspense accounts throughout the agency.\\nIdentified suspense accounts not initially targeted, formulated strategies to eliminate accounts or requested waivers, and participated in plans\\nto modify processes using suspense accounts, such as the interfund suspense account.\\nThese actions provided initial progress towards meeting the Department of Treasury\\'s mandate to discontinue suspense accounts by\\nFebruary 2009.\\nWorked with staff to reduce reconciliations from $6.9 million in February 2007 to $1.1 million in August, accomplished this despite loss in\\nexperienced personnel and realigning resources to support critical initiatives in Accounts Payable.\\nI orchestrated the transition of reporting requirements for the Transportation Financial Management System (TFMS) workload from DFAS\\nOmaha to Limestone.\\nAfter transition to Limestone encouraged staff responsible for these reports to streamline the processes.\\nStaff automated a completely manual, time consuming process, thus eliminating potential key stroke errors and manually validating numerous\\nspreadsheets and listings.\\nContributor to Federal Managers Financial Integrity Act (FMFIA) Compliance Review and establishment of assessable units.\\n\\nIdentified inconsistencies in information provided by staff on foreign currency fluctuation adjustments.\\nPersisted in getting higher level review of regulatory and policy guidance.\\nReport of foreign currency fluctuation is now consistently accurate.\\nCompany Name February 2000 to January 2007 Chief, Accounts Payable Branch \\nCity , State\\nAs Chief Of Accounts Payable I was responsible for the overall management of a branch consisting of over 120 employees.\\nMy four first line supervisors were responsible for establishing priorities, schedules, and work assignments ensuring changes in workload are\\naccounted for to minimize the impact on normal office operations.\\nWe consistently reviewed these areas and made necessary personnel moves based on shifting priorities.\\nThis was extremely important during the DFAS Denver directed database consolidations and with the assumption of the Air National Guard\\nworkload.\\nWorkload increased rapidly while staffing increased gradually, which dictated frequent priority changes and personnel moves.\\nI also worked closely with the Major Commands supported by DFAS Limestone strengthening our partnership when workload spikes\\nnegatively impacted our customers.\\nIn December 2004, our overaged invoice percentage was nearing 25% and we had a backlog of vendor pay documents exceeding 30,000.\\nBy working with the DFAS Command Client Executives and the Major Command Comptrollers, I was instrumental in forming a strategy\\nthat included soliciting Air Force personnel assistance in document processing, identification of \"must pay now\" bills, and the formation of\\nspecial action response teams dedicated to responding to our customer\\'s most urgent requirements.\\nAs a result of these efforts, in a three month period, we were able to reduce our overaged invoice percentage by 19% and our backlog of\\ndocuments to no documents over 20 days old thereby minimizing the adverse impact on customer funds.\\nI was responsible for providing personnel feedback sessions quarterly and prepared supervisory appraisals of employees\\' performance and\\npotential for advancement.\\nPartnering with the management staff and employees, I was instrumental in establishing Employee Performance Plans that linked employee\\nperformance to established DFAS Strategies and Balance Scorecard goals.\\nIn this position as a supervisory accountant I was responsible for performing ongoing analysis of the Vendor Pay workflow and production\\nto identify negative trends and weaknesses, ensure specific weaknesses have been corrected, and determine whether systemic or repeat\\nissues have been identified and adequately addressed.\\nI was required to apply a comprehensive knowledge of analysis/reporting requirements, work processes, vendor pay system structures, and\\ndata produced to resolve these issues.\\nUtilizing my expertise with Louis II data retrieval software, I produced ad-hoc data queries for in-house and external use by our customers.\\nThese retrievals were designed to reduce the man- hours necessary to perform complex finance and accounting functions by DFAS and Air\\nForce personnel.\\nI was responsible for the budget resources necessary to operate the branch.\\nIn this capacity, I prepared budget over execution justifications, plan and monitor overtime costs, and control supply purchases to ensure the\\nmost cost efficient operation possible.\\nI was required to respond to inquiries from various sources, which include, but are not limited to, vendors, DFAS management, accounting\\nliaison offices, resource advisors, and other DFAS field sites.\\nThese inquiries required my ability to relay technical aspects of systems deficiencies to customers who are not familiar with our operation.\\nI participated in video teleconferences, conference calls, and briefings designed to address customer and DFAS management requirements.\\nI was called upon to explain, in laymen\\'s terms, DFAS policy and procedures with regards to delays in payment due to various reasons.\\nI responded to various audit reports and studies; ensuring senior management and audit personnel, understand particular situations within the\\nVendor Pay business process that result in these findings.\\nCompany Name February 1999 to February 2000 Chief, Recon and Reports Branch \\nCity , State\\nIn my position as Chief, Vendor Pay Reports and Recon Branch, I exercised supervision (either directly or indirectly) over 22 employees\\nprimarily in the \"525\" series in grades ranging from GS-5 through GS-8.\\nThis responsibility also included supervision of the German local national workers assigned to my duty section.\\nI was responsible for planning, directing, and supervising the activities of the work force in the review, interpretation, processing, and\\nreconciliation of vendor pay and accounting data and the production of timely and accurate financial statement report requirements.\\nI participated in the development of branch policies continually reviewing and evaluating the organizational operations, work distribution, and\\nprocedures.\\nI coordinated the activities of the assigned functions with those of other organizations to obtain the most effective correlation of financial\\ndata.\\nDirected and provided technical guidance to subordinates in the assigned area.\\nAssured the timeliness and accuracy of assigned workload.\\nPlanned, organized, directed, coordinated, and reviewed the work of subordinate\\'s sections ensuring the mission and functions of the\\ndivision were carried out.\\nI managed and realigned resources, conducted program analyses, and made decisions in accordance with unit cost principles, outputs,\\ntargets, and changing budgetary constraints.\\nI participated in long range planning, goal setting, and evaluating the subordinate staff.\\nInterpreted and clarified branch policies and resolved operational problems.\\nEnsured efficient utilization and professional development of my staff.\\n\\nI was expected to provide reasonable assurance that operations were conducted in compliance with applicable laws and that funds,\\nproperty, and other assets were safeguarded against waste, loss, unauthorized use, or misappropriation.\\nI ensured continuing and affirmative application and support of DoD and DFAS policy concerning the equal opportunity and affirmative\\naction programs.\\nEnsured personnel management within organizational entity under my supervision was accomplished without regard to race, color, religion,\\nsex, age, national origin, or handicap.\\nI kept abreast of developments, policy issuance, and other similar material in the equal opportunity field and fully supported the DoD and\\nDFAS Equal Opportunity Program.\\nI was responsible and accountable for the safety and health of my subordinates.\\nI ensured personnel were trained to work safely.\\nI enforced safety and health rules, corrected unsafe or unhealthy acts and unsafe or unhealthy mechanical or physical conditions, investigated\\nmishaps and tool other actions necessary to ensure the safety and health of my employees.\\nCompany Name June 1995 to February 1999 Chief, Accounts Payable Branch \\nCity , State\\nI was responsible for establishing priorities, schedules, and work assignments ensuring changes in workload are accounted for to minimize\\nthe impact on normal office operations.\\nThis was important during the DFAS Denver directed workload realighment to the Field Sites servicing our customers by Major Command.\\nWorkload increased which dictated frequent priority changes and personnel moves.\\nI also worked closely with the Major Commands supported by DFAS Limestone strengthening our partnership when workload spikes\\nnegatively impacted our customers.\\nI was responsible for providing personnel feedback sessions quarterly and preparedsupervisory appraisals of employees\\' performance and\\npotential for advancement.\\nAs a supervisory accountant I was responsible for performing ongoing analysis of the Vendor Pay workflow and production.\\nI identified negative trends and weaknesses, ensured specific weaknesses were corrected, and determine whether systemic or repeat issues\\nwere identified and adequately addressed.\\nI was required to apply a comprehensive knowledge of analysis/reporting requirements, work processes, vendor pay system structures, and\\ndata produced to resolve these issues.\\nUtilizing my knowledge with Louis II data retrieval software, I produced ad-hoc data queries for in-house and external use by our\\ncustomers.\\nThese retrievals are all designed to reduce the man- hours necessary to perform complex finance and accounting functions by DFAS and\\nAir Force personnel.\\nI was responsible for the budget resources necessary to operate the branch.\\nIn this capacity, I prepared budget over execution justifications, plan and monitor overtime costs, and control supply purchases to ensure the\\nmost cost efficient operation possible.\\nI was required to respond to inquiries from various sources, which include, but are not limited to, vendors, DFAS management, accounting\\nliaison offices, resource advisors, and other DFAS field sites.\\nThese inquiries require my ability to relay technical aspects of systems deficiencies to customers who are not familiar with our operation.\\nI participated in video teleconferences, conference calls, and briefings designed to address customer and DFAS management requirements.\\nI was often called upon to explain, in laymen\\'s terms, DFAS policy and procedures with regards to delays in payment due to various\\nreasons.\\nI was required to respond to various audit reports and studies; ensuring senior management and audit personnel, understand particular\\nsituations within the Vendor Pay business process that result in these findings.\\nI was hand selected by the Field Site Director and Vendor Pay Site Manager to represent DFAS Limestone on a team comprised of\\nrepresentatives from all DFAS Denver field sites to provide training to our Air Force base level Resource Advisors.\\nDuring a five week period, I provided \"Boot Camp\" training to over 400 base level personnel ensuring resource advisors were familiar with\\nthe DFAS structure and mission requirements related to funds management.\\nCompany Name June 1994 to June 1995 Accountant, Network Assistant Team \\nCity , State\\nAs a member of the Network Assistance Team, I was required to have an extensive working knowledge of DoD accounting systems,\\ntheory, policy, and procedures.\\nI was consistently called upon to develop and implement procedures consistent with DoD regulations.\\nCoordinated with DFAS Denver and the Omaha Field Site on the consolidation of the first geographically separated Defense Accounting\\nOffice into DFAS.\\nIn my position as a member of the Network Assistance Team I was required, upon arrival at each base level Defense Accounting Office\\n(DAO) to provide an in-brief.\\nThis briefing identified team members, the purpose of the visit, goals, and responsibilities.\\nUpon completion of the assignment, provided a written and oral out-brief outlining the team accomplishments during the visit.\\nI provided recommendations to preclude recurring problems and to prepare the organization for consolidation.\\nCompany Name June 1993 to June 1994 Supervisor, Accounts Control Branch \\nCity , State\\nI directed/supervised the accomplishment ofallfinancialreports and statements\\n\\nI directed/supervised the accomplishment of all financial reports and statements.\\nI was responsible for the completeness and accuracy of weekly, monthly, quarterly, semi-annual, and annual reports.\\nMonitored errors in the General Accounting and Finance System (GAFS/BQ) and ensured corrective actions were accomplished.\\nI also ensured fund balances were reconciled to the appropriate audit listings and verified reports prior to release to base activities and\\nhigher headquarters.\\nI furnished accounting data to base organizations often interpreting and analyzing the data to help funds managers resolve problems and\\nmanage their programs more effectively.\\nI attended Major Command (MAJCOM) and Headquarters level workshops to participate and contribute to accounting policy and system\\nchanges.\\nI provided professional assistance to Data Automation relevant to processing of accounting and finance data, interpreting deficiencies in\\nsoftware based on output products and system related problems.\\nI utilized my working knowledge of commercial and government accounting system principles and knowledge of Processing Centers (PCs)\\nto review, verify, analyze, and evaluate accounting and finance operations.\\nWhile serving as Chief, Account Control I ensured areas of concern were addressed, concentrating on problem areas related to the\\ndatabase.\\nI analyzed computer output products to determine processing deficiencies.\\nThey included, but were not limited to, the Open Document Listing (ODL), Operating Budget Ledger (OBL), Allotment Ledger (AL), and\\nthe Accounting and Finance Workload Information Management System (A&F WIMS) Extract list.\\nI provided technical assistance related to policy and procedural.\\nchanges required as a result of the impending base closure.\\nAnalyzed/developed and recommended improved training procedures enabling better use of system procedures ensuring governing\\ndirectives were followed.\\nI evaluated accuracy of accounting records prior to fiscal year closeout ensuring the Accounting and Finance Officer could certify their\\naccuracy as required by regulation.\\nExamined accounting transactions and documents to ensure they conformed to established accounting policy and principles.\\nCoordinated and directed fiscal year end conversion for the GAFS and Integrated Accounts Payable System (IAPS).\\nEducation\\nNorthern Maine Community College 1994 Associate : Accounting City , State , USA\\nEmphasis in Business\\n1994 Associates : Accounting City , State , USA GPA: GPA: 3.41\\nAccounting GPA: 3.41 174 Hours, Quarter\\nAttended Husson College, major Accounting 78 semester hours toward Bachelors degree.\\nProfessional Military Comptroller School, 6wk, 4-98; Managerial Accounting I, 09-98; Interested-Based Bargaining Training for Management,\\n24hrs, 09-01; Auditing Methods and Concepts 09-98; Organizational Leadership, 32hrs, 07-03; Management Development II, 32hrs, 07-03.\\nCertifications\\nCertified Defense Financial Manager, CDFM, May 2005\\nInterests\\nAmerican Society Of Military Comptrollers\\nAdditional Information\\nSkills\\nAccounting; General Accounting; Accounts Payable; Program Management.\\n'"
      ]
     },
     "execution_count": 10,
     "metadata": {},
     "output_type": "execute_result"
    }
   ],
   "source": [
    "test_resume"
   ]
  },
  {
   "cell_type": "markdown",
   "id": "iwM-J4lyTyuI",
   "metadata": {
    "id": "iwM-J4lyTyuI"
   },
   "source": [
    "### Preprocessing"
   ]
  },
  {
   "cell_type": "code",
   "execution_count": 11,
   "id": "aH0K4aATTTfy",
   "metadata": {
    "executionInfo": {
     "elapsed": 4,
     "status": "ok",
     "timestamp": 1748195798295,
     "user": {
      "displayName": "Promise Ibediogwu",
      "userId": "14544577992882322965"
     },
     "user_tz": -60
    },
    "id": "aH0K4aATTTfy"
   },
   "outputs": [],
   "source": [
    "clean_resume_text = clean_text(test_resume)"
   ]
  },
  {
   "cell_type": "code",
   "execution_count": 12,
   "id": "gS49KLKYTxRz",
   "metadata": {
    "colab": {
     "base_uri": "https://localhost:8080/",
     "height": 139
    },
    "executionInfo": {
     "elapsed": 92,
     "status": "ok",
     "timestamp": 1748195799238,
     "user": {
      "displayName": "Promise Ibediogwu",
      "userId": "14544577992882322965"
     },
     "user_tz": -60
    },
    "id": "gS49KLKYTxRz",
    "outputId": "a5a397a6-9807-4988-867a-af1d27297686"
   },
   "outputs": [
    {
     "data": {
      "application/vnd.google.colaboratory.intrinsic+json": {
       "type": "string"
      },
      "text/plain": [
       "'accountant summary financial accountant specializing in financial planning, reporting and analysis within the department of defense. highlights account reconciliations results-oriented financial reporting critical thinking accounting operations professional analysis of financial systems erp (enterprise resource planning) software. excellent facilitator accomplishments served on a tiger team which identified and resolved general ledger postings in deams totaling 360b in accounting adjustments. this allowed for the first successful fiscal year-end close for 2012. in collaboration with dfas europe, developed an automated tool that identified duplicate obligations. this tool allowed hq usafe to deobligate over 5m in duplicate obligations. experience company name july 2011 to november 2012 accountant city , state enterprise resource planning office (ero) in this position as an accountant assigned to the defense enterprise accounting and management system (deams) ero i was responsible for identifying and resolving issues affecting the deams general ledger. i worked with teammates from the procure to pay, orders to cash, and budget to report areas to resolve daily challenges encountered with the deployment of deams to additional customers and when system change requests were promoted to production. i supported the testing of scripts, patches, and system change requests ensuring any anomalies were identified to the deams functional management office for action by the deams program management office andor the system integrator. in addition, i served on a tiger team designed to identify and resolve general ledger posting differences and supported the development of 360b in accounting adjustments allowing for the first successful fiscal year-end close in 2012. these actions also allowed for the reconciliation and closure of fiscal year 2010 and 2011 accounting adjustments ensuring that all deams fiscal year-end requirements were completed. these actions were recognized as critical to the successful review report issued by the air force operational test and evaluation center (afotec) resulting in the air force receiving the authority to continue with the deployment of deams. company name april 2010 to june 2011 resource advisor city , state in this position as resource advisor for the 1st air communications operation squadron (1acos) i was responsible for providing financial advice and decision support to the commander. i was responsible for coordinating a 4.6m budget between four funding sources. i coordinated with usafe directorate of intelligence (usafea2), usafe directorate of air and space operations (usafea3), usafe directorate of communications (usafea6) and the 435th air ground operations wing to ensure 1acos meets its mission requirements. i consistently managed three separate timelines for providing budgetunfunded requirements, providing documentation and various reports in the required format for each organization. i discussed the outcome of the group and directorate budget meetings providing feedback the same day to the flight chiefs and cc any issue which affects 1acos directly. i monitored the defense travel system (dts) daily and identify orders and authorizations needing approval and provided notification to the appropriate reviewing officials and approvers. utilizing dts and the general accounting and finance system i reviewed status reports to identify anomalies in obligations and have identified those orders which require correction prior to payment. i provided government purchase card (gpc) status reports the same day they are requested and in addition, communicated with the appropriate cardholders when changes were required to support their program. i identified cardholder training requirements and monitored these requirements to ensure all required training was completed in support of this mission critical program. i developed guidance for the gpc cardholders on procedures for requesting training for the squadron and in addition i provided answers to cardholder questions on unique or non-standard issuesconcerns. assumed the role of the billing official during my final rating period and completed a self inspection of the program for the management control program, zero findings. during yearly audit by 700th cons received zero findings. company name july 2008 to april 2010 staff accountant city , state in my position as the staff accountant for hq usafe i was responsible for providing accounting and financial oversight and advice to customers throughout the command in support of the usafe comptroller. i was responsible for performing ongoing analysis of financial programs to identify negative trends and weaknesses, ensured specific weaknesses were corrected, and determined whether systemic or repeat issues were identified and adequately addressed. i was required to apply a comprehensive knowledge of analysisreporting requirements and data produced to resolve these issues. in collaboration with dfas europe, developed an automated tool that identifies duplicate obligations by comparing records in the accounting system to the contracting system and provided notification to the funds manager for review and resolution. this tool eliminated hours of manual research and results allowed hq usafe to deobligate over 5m in duplicate obligations. i was responsible for establishing various performance metrics which ensured effective and efficient use of usafe financial resources. i supported the usafefma financial metrics program by collaborating with dfas limestone in the development of an automated tool that provided senior leaders with visibility to any usafe unit that is not in compliance with the established rules and regulations related to the gpc. this tool provides management reports that are used to populate the monthly metric charts which are briefed by the usafefma. this tool provided the capability for usafefma to collaborate with usafe contracting and developdeploy joint guidance that supports the established air force instruction mandating card suspension for card holders who are not in compliance with required reservation of funds in the entitlement system in support of the gpc. i identified and resolved a problem with five gpc accounts that had been rejecting during the automated interface process each month. my research revealed that these accounts were rejecting for invalid paying station and required manual intervention by both wing and dfas personnel. this not only created rework, it delayed the payment of the invoices. i partnered with dfas denver, corrected the records in the access on-line accounts eliminating the error condition. i identified a method to deliver one-on-one training in support of the usafe deployment of the open document analysis (oda) tool in fmsuite. by utilizing defense connect online i provided training remotely, virtually eliminating the need to expend funds on temporary duty (tdy) travel. the results of this training produced results that went well above expectations and were noted by the oda program management office. company name january 2007 to july 2009 chief, reports branch. accounts maintenance and control city , state in my position as chief of the reports branch in accounts maintenance  control (amc) i was responsible for ensuring the development and standardization of various managerial and system reports. i was responsible for the completeness and accuracy of weekly, monthly, quarterly, semi-annual, and annual reports. my branch monitored errors in the general accounting and finance system (gafsbq) and ensured corrective actions were accomplished. i also ensured fund balances were reconciled and reports were verified prior to release to base activities and higher headquarters. limestone reorganized under the high performing organization (hpo) in january 2007 and at that time i was reassigned to amc, a directorate which previously did not exist. my challenge during that time was to staff my branch, implement an aggressive training schedule, and ensure the continuity of financial reporting was maintained. as we transitioned into the hpo we continued defining the missions and functions for amc for the entire network. i participated in biweekly conference calls with standards and compliance in an effort to define missions and functions for amc. worked with management in determining ftes needed for the branch. i was responsible for developing meaningful performance standards for my employees since this branch and its functions did not previously exist. limestone poc for an initiative to eliminate suspense accounts throughout the agency. identified suspense accounts not initially targeted, formulated strategies to eliminate accounts or requested waivers, and participated in plans to modify processes using suspense accounts, such as the interfund suspense account. these actions provided initial progress towards meeting the department of treasurys mandate to discontinue suspense accounts by february 2009. worked with staff to reduce reconciliations from 6.9 million in february 2007 to 1.1 million in august, accomplished this despite loss in experienced personnel and realigning resources to support critical initiatives in accounts payable. i orchestrated the transition of reporting requirements for the transportation financial management system (tfms) workload from dfas omaha to limestone. after transition to limestone encouraged staff responsible for these reports to streamline the processes. staff automated a completely manual, time consuming process, thus eliminating potential key stroke errors and manually validating numerous spreadsheets and listings. contributor to federal managers financial integrity act (fmfia) compliance review and establishment of assessable units. identified inconsistencies in information provided by staff on foreign currency fluctuation adjustments. persisted in getting higher level review of regulatory and policy guidance. report of foreign currency fluctuation is now consistently accurate. company name february 2000 to january 2007 chief, accounts payable branch city , state as chief of accounts payable i was responsible for the overall management of a branch consisting of over 120 employees. my four first line supervisors were responsible for establishing priorities, schedules, and work assignments ensuring changes in workload are accounted for to minimize the impact on normal office operations. we consistently reviewed these areas and made necessary personnel moves based on shifting priorities. this was extremely important during the dfas denver directed database consolidations and with the assumption of the air national guard workload. workload increased rapidly while staffing increased gradually, which dictated frequent priority changes and personnel moves. i also worked closely with the major commands supported by dfas limestone strengthening our partnership when workload spikes negatively impacted our customers. in december 2004, our overaged invoice percentage was nearing 25 and we had a backlog of vendor pay documents exceeding 30,000. by working with the dfas command client executives and the major command comptrollers, i was instrumental in forming a strategy that included soliciting air force personnel assistance in document processing, identification of must pay now bills, and the formation of special action response teams dedicated to responding to our customers most urgent requirements. as a result of these efforts, in a three month period, we were able to reduce our overaged invoice percentage by 19 and our backlog of documents to no documents over 20 days old thereby minimizing the adverse impact on customer funds. i was responsible for providing personnel feedback sessions quarterly and prepared supervisory appraisals of employees performance and potential for advancement. partnering with the management staff and employees, i was instrumental in establishing employee performance plans that linked employee performance to established dfas strategies and balance scorecard goals. in this position as a supervisory accountant i was responsible for performing ongoing analysis of the vendor pay workflow and production to identify negative trends and weaknesses, ensure specific weaknesses have been corrected, and determine whether systemic or repeat issues have been identified and adequately addressed. i was required to apply a comprehensive knowledge of analysisreporting requirements, work processes, vendor pay system structures, and data produced to resolve these issues. utilizing my expertise with louis ii data retrieval software, i produced ad-hoc data queries for in-house and external use by our customers. these retrievals were designed to reduce the man- hours necessary to perform complex finance and accounting functions by dfas and air force personnel. i was responsible for the budget resources necessary to operate the branch. in this capacity, i prepared budget over execution justifications, plan and monitor overtime costs, and control supply purchases to ensure the most cost efficient operation possible. i was required to respond to inquiries from various sources, which include, but are not limited to, vendors, dfas management, accounting liaison offices, resource advisors, and other dfas field sites. these inquiries required my ability to relay technical aspects of systems deficiencies to customers who are not familiar with our operation. i participated in video teleconferences, conference calls, and briefings designed to address customer and dfas management requirements. i was called upon to explain, in laymens terms, dfas policy and procedures with regards to delays in payment due to various reasons. i responded to various audit reports and studies ensuring senior management and audit personnel, understand particular situations within the vendor pay business process that result in these findings. company name february 1999 to february 2000 chief, recon and reports branch city , state in my position as chief, vendor pay reports and recon branch, i exercised supervision (either directly or indirectly) over 22 employees primarily in the 525 series in grades ranging from gs-5 through gs-8. this responsibility also included supervision of the german local national workers assigned to my duty section. i was responsible for planning, directing, and supervising the activities of the work force in the review, interpretation, processing, and reconciliation of vendor pay and accounting data and the production of timely and accurate financial statement report requirements. i participated in the development of branch policies continually reviewing and evaluating the organizational operations, work distribution, and procedures. i coordinated the activities of the assigned functions with those of other organizations to obtain the most effective correlation of financial data. directed and provided technical guidance to subordinates in the assigned area. assured the timeliness and accuracy of assigned workload. planned, organized, directed, coordinated, and reviewed the work of subordinates sections ensuring the mission and functions of the division were carried out. i managed and realigned resources, conducted program analyses, and made decisions in accordance with unit cost principles, outputs, targets, and changing budgetary constraints. i participated in long range planning, goal setting, and evaluating the subordinate staff. interpreted and clarified branch policies and resolved operational problems. ensured efficient utilization and professional development of my staff. i was expected to provide reasonable assurance that operations were conducted in compliance with applicable laws and that funds, property, and other assets were safeguarded against waste, loss, unauthorized use, or misappropriation. i ensured continuing and affirmative application and support of dod and dfas policy concerning the equal opportunity and affirmative action programs. ensured personnel management within organizational entity under my supervision was accomplished without regard to race, color, religion, sex, age, national origin, or handicap. i kept abreast of developments, policy issuance, and other similar material in the equal opportunity field and fully supported the dod and dfas equal opportunity program. i was responsible and accountable for the safety and health of my subordinates. i ensured personnel were trained to work safely. i enforced safety and health rules, corrected unsafe or unhealthy acts and unsafe or unhealthy mechanical or physical conditions, investigated mishaps and tool other actions necessary to ensure the safety and health of my employees. company name june 1995 to february 1999 chief, accounts payable branch city , state i was responsible for establishing priorities, schedules, and work assignments ensuring changes in workload are accounted for to minimize the impact on normal office operations. this was important during the dfas denver directed workload realighment to the field sites servicing our customers by major command. workload increased which dictated frequent priority changes and personnel moves. i also worked closely with the major commands supported by dfas limestone strengthening our partnership when workload spikes negatively impacted our customers. i was responsible for providing personnel feedback sessions quarterly and preparedsupervisory appraisals of employees performance and potential for advancement. as a supervisory accountant i was responsible for performing ongoing analysis of the vendor pay workflow and production. i identified negative trends and weaknesses, ensured specific weaknesses were corrected, and determine whether systemic or repeat issues were identified and adequately addressed. i was required to apply a comprehensive knowledge of analysisreporting requirements, work processes, vendor pay system structures, and data produced to resolve these issues. utilizing my knowledge with louis ii data retrieval software, i produced ad-hoc data queries for in-house and external use by our customers. these retrievals are all designed to reduce the man- hours necessary to perform complex finance and accounting functions by dfas and air force personnel. i was responsible for the budget resources necessary to operate the branch. in this capacity, i prepared budget over execution justifications, plan and monitor overtime costs, and control supply purchases to ensure the most cost efficient operation possible. i was required to respond to inquiries from various sources, which include, but are not limited to, vendors, dfas management, accounting liaison offices, resource advisors, and other dfas field sites. these inquiries require my ability to relay technical aspects of systems deficiencies to customers who are not familiar with our operation. i participated in video teleconferences, conference calls, and briefings designed to address customer and dfas management requirements. i was often called upon to explain, in laymens terms, dfas policy and procedures with regards to delays in payment due to various reasons. i was required to respond to various audit reports and studies ensuring senior management and audit personnel, understand particular situations within the vendor pay business process that result in these findings. i was hand selected by the field site director and vendor pay site manager to represent dfas limestone on a team comprised of representatives from all dfas denver field sites to provide training to our air force base level resource advisors. during a five week period, i provided boot camp training to over 400 base level personnel ensuring resource advisors were familiar with the dfas structure and mission requirements related to funds management. company name june 1994 to june 1995 accountant, network assistant team city , state as a member of the network assistance team, i was required to have an extensive working knowledge of dod accounting systems, theory, policy, and procedures. i was consistently called upon to develop and implement procedures consistent with dod regulations. coordinated with dfas denver and the omaha field site on the consolidation of the first geographically separated defense accounting office into dfas. in my position as a member of the network assistance team i was required, upon arrival at each base level defense accounting office (dao) to provide an in-brief. this briefing identified team members, the purpose of the visit, goals, and responsibilities. upon completion of the assignment, provided a written and oral out-brief outlining the team accomplishments during the visit. i provided recommendations to preclude recurring problems and to prepare the organization for consolidation. company name june 1993 to june 1994 supervisor, accounts control branch city , state i directedsupervised the accomplishment ofallfinancialreports and statements i directedsupervised the accomplishment of all financial reports and statements. i was responsible for the completeness and accuracy of weekly, monthly, quarterly, semi-annual, and annual reports. monitored errors in the general accounting and finance system (gafsbq) and ensured corrective actions were accomplished. i also ensured fund balances were reconciled to the appropriate audit listings and verified reports prior to release to base activities and higher headquarters. i furnished accounting data to base organizations often interpreting and analyzing the data to help funds managers resolve problems and manage their programs more effectively. i attended major command (majcom) and headquarters level workshops to participate and contribute to accounting policy and system changes. i provided professional assistance to data automation relevant to processing of accounting and finance data, interpreting deficiencies in software based on output products and system related problems. i utilized my working knowledge of commercial and government accounting system principles and knowledge of processing centers (pcs) to review, verify, analyze, and evaluate accounting and finance operations. while serving as chief, account control i ensured areas of concern were addressed, concentrating on problem areas related to the database. i analyzed computer output products to determine processing deficiencies. they included, but were not limited to, the open document listing (odl), operating budget ledger (obl), allotment ledger (al), and the accounting and finance workload information management system (af wims) extract list. i provided technical assistance related to policy and procedural. changes required as a result of the impending base closure. analyzeddeveloped and recommended improved training procedures enabling better use of system procedures ensuring governing directives were followed. i evaluated accuracy of accounting records prior to fiscal year closeout ensuring the accounting and finance officer could certify their accuracy as required by regulation. examined accounting transactions and documents to ensure they conformed to established accounting policy and principles. coordinated and directed fiscal year end conversion for the gafs and integrated accounts payable system (iaps). education northern maine community college 1994 associate  accounting city , state , usa emphasis in business 1994 associates  accounting city , state , usa gpa gpa 3.41 accounting gpa 3.41 174 hours, quarter attended husson college, major accounting 78 semester hours toward bachelors degree. professional military comptroller school, 6wk, 4-98 managerial accounting i, 09-98 interested-based bargaining training for management, 24hrs, 09-01 auditing methods and concepts 09-98 organizational leadership, 32hrs, 07-03 management development ii, 32hrs, 07-03. certifications certified defense financial manager, cdfm, may 2005 interests american society of military comptrollers additional information skills accounting general accounting accounts payable program management.'"
      ]
     },
     "execution_count": 12,
     "metadata": {},
     "output_type": "execute_result"
    }
   ],
   "source": [
    "clean_resume_text"
   ]
  },
  {
   "cell_type": "code",
   "execution_count": null,
   "id": "HEeHopQFYTBl",
   "metadata": {
    "colab": {
     "base_uri": "https://localhost:8080/"
    },
    "executionInfo": {
     "elapsed": 88,
     "status": "ok",
     "timestamp": 1748049265245,
     "user": {
      "displayName": "Promise Ibediogwu",
      "userId": "14544577992882322965"
     },
     "user_tz": -60
    },
    "id": "HEeHopQFYTBl",
    "outputId": "db423b41-d227-4e60-925f-30cb92809654"
   },
   "outputs": [
    {
     "name": "stdout",
     "output_type": "stream",
     "text": [
      "Predicted label: ACCOUNTANT (Confidence: 0.90)\n"
     ]
    }
   ],
   "source": [
    "#tokenization using bert and prediction\n",
    "label_names = list(le.classes_)\n",
    "\n",
    "device = torch.device(\"cuda\" if torch.cuda.is_available() else \"cpu\")\n",
    "\n",
    "# Move model to device once (outside the function ideally)\n",
    "trainer.model.to(device)\n",
    "\n",
    "def predict_resume(text, model, tokenizer, label_names):\n",
    "    inputs = tokenizer(text, padding=True, truncation=True, max_length=512, return_tensors=\"pt\")\n",
    "    # Move inputs to the same device as the model\n",
    "    inputs = {k: v.to(device) for k, v in inputs.items()}\n",
    "\n",
    "    model.eval()\n",
    "    with torch.no_grad():\n",
    "        outputs = model(**inputs)\n",
    "    logits = outputs.logits\n",
    "    probs = torch.nn.functional.softmax(logits, dim=1)\n",
    "    pred_idx = torch.argmax(probs, dim=1).item()\n",
    "    return label_names[pred_idx], probs[0][pred_idx].item()\n",
    "\n",
    "predicted_label, confidence = predict_resume(clean_resume_text, trainer.model, tokenizer, label_names)\n",
    "print(f\"Predicted label: {predicted_label} (Confidence: {confidence:.2f})\")"
   ]
  },
  {
   "cell_type": "markdown",
   "id": "jJfMQONpenrN",
   "metadata": {
    "id": "jJfMQONpenrN"
   },
   "source": [
    "## Saving the Model"
   ]
  },
  {
   "cell_type": "code",
   "execution_count": null,
   "id": "SjOShutdenXw",
   "metadata": {
    "colab": {
     "base_uri": "https://localhost:8080/"
    },
    "executionInfo": {
     "elapsed": 3654,
     "status": "ok",
     "timestamp": 1748049581785,
     "user": {
      "displayName": "Promise Ibediogwu",
      "userId": "14544577992882322965"
     },
     "user_tz": -60
    },
    "id": "SjOShutdenXw",
    "outputId": "32688de7-d285-414f-c19b-1df801f739fb"
   },
   "outputs": [
    {
     "data": {
      "text/plain": [
       "('/content/drive/MyDrive/Colab Notebooks/AI-Powered-Career-Guidance/Model/saved_resume_classifier/tokenizer_config.json',\n",
       " '/content/drive/MyDrive/Colab Notebooks/AI-Powered-Career-Guidance/Model/saved_resume_classifier/special_tokens_map.json',\n",
       " '/content/drive/MyDrive/Colab Notebooks/AI-Powered-Career-Guidance/Model/saved_resume_classifier/vocab.txt',\n",
       " '/content/drive/MyDrive/Colab Notebooks/AI-Powered-Career-Guidance/Model/saved_resume_classifier/added_tokens.json',\n",
       " '/content/drive/MyDrive/Colab Notebooks/AI-Powered-Career-Guidance/Model/saved_resume_classifier/tokenizer.json')"
      ]
     },
     "execution_count": 42,
     "metadata": {},
     "output_type": "execute_result"
    }
   ],
   "source": [
    "# 1. After training, save your model and tokenizer\n",
    "save_directory = \"/content/drive/MyDrive/Colab Notebooks/AI-Powered-Career-Guidance/models/saved_resume_classifier\"\n",
    "trainer.model.save_pretrained(save_directory)\n",
    "tokenizer.save_pretrained(save_directory)"
   ]
  },
  {
   "cell_type": "markdown",
   "id": "jmE4qCH74OQd",
   "metadata": {
    "id": "jmE4qCH74OQd"
   },
   "source": [
    "## Loading the Model"
   ]
  },
  {
   "cell_type": "code",
   "execution_count": null,
   "id": "e76-KYRYZC25",
   "metadata": {
    "id": "e76-KYRYZC25"
   },
   "outputs": [],
   "source": [
    "# 2. Later (or in a new session), load the model and tokenizer\n",
    "model = BertForSequenceClassification.from_pretrained(save_directory)\n",
    "tokenizer = AutoTokenizer.from_pretrained(save_directory)"
   ]
  },
  {
   "cell_type": "code",
   "execution_count": null,
   "id": "-ycDELu84Z7i",
   "metadata": {
    "colab": {
     "base_uri": "https://localhost:8080/"
    },
    "collapsed": true,
    "executionInfo": {
     "elapsed": 707,
     "status": "ok",
     "timestamp": 1748049774465,
     "user": {
      "displayName": "Promise Ibediogwu",
      "userId": "14544577992882322965"
     },
     "user_tz": -60
    },
    "id": "-ycDELu84Z7i",
    "outputId": "526ec101-25c7-4917-9299-7f6029faf535"
   },
   "outputs": [
    {
     "data": {
      "text/plain": [
       "BertForSequenceClassification(\n",
       "  (bert): BertModel(\n",
       "    (embeddings): BertEmbeddings(\n",
       "      (word_embeddings): Embedding(30522, 768, padding_idx=0)\n",
       "      (position_embeddings): Embedding(512, 768)\n",
       "      (token_type_embeddings): Embedding(2, 768)\n",
       "      (LayerNorm): LayerNorm((768,), eps=1e-12, elementwise_affine=True)\n",
       "      (dropout): Dropout(p=0.1, inplace=False)\n",
       "    )\n",
       "    (encoder): BertEncoder(\n",
       "      (layer): ModuleList(\n",
       "        (0-11): 12 x BertLayer(\n",
       "          (attention): BertAttention(\n",
       "            (self): BertSdpaSelfAttention(\n",
       "              (query): Linear(in_features=768, out_features=768, bias=True)\n",
       "              (key): Linear(in_features=768, out_features=768, bias=True)\n",
       "              (value): Linear(in_features=768, out_features=768, bias=True)\n",
       "              (dropout): Dropout(p=0.1, inplace=False)\n",
       "            )\n",
       "            (output): BertSelfOutput(\n",
       "              (dense): Linear(in_features=768, out_features=768, bias=True)\n",
       "              (LayerNorm): LayerNorm((768,), eps=1e-12, elementwise_affine=True)\n",
       "              (dropout): Dropout(p=0.1, inplace=False)\n",
       "            )\n",
       "          )\n",
       "          (intermediate): BertIntermediate(\n",
       "            (dense): Linear(in_features=768, out_features=3072, bias=True)\n",
       "            (intermediate_act_fn): GELUActivation()\n",
       "          )\n",
       "          (output): BertOutput(\n",
       "            (dense): Linear(in_features=3072, out_features=768, bias=True)\n",
       "            (LayerNorm): LayerNorm((768,), eps=1e-12, elementwise_affine=True)\n",
       "            (dropout): Dropout(p=0.1, inplace=False)\n",
       "          )\n",
       "        )\n",
       "      )\n",
       "    )\n",
       "    (pooler): BertPooler(\n",
       "      (dense): Linear(in_features=768, out_features=768, bias=True)\n",
       "      (activation): Tanh()\n",
       "    )\n",
       "  )\n",
       "  (dropout): Dropout(p=0.1, inplace=False)\n",
       "  (classifier): Linear(in_features=768, out_features=25, bias=True)\n",
       ")"
      ]
     },
     "execution_count": 44,
     "metadata": {},
     "output_type": "execute_result"
    }
   ],
   "source": [
    "# Detect device (GPU if available, else CPU)\n",
    "device = torch.device(\"cuda\" if torch.cuda.is_available() else \"cpu\")\n",
    "model.to(device)"
   ]
  },
  {
   "cell_type": "code",
   "execution_count": null,
   "id": "rgUOEHEk4sO8",
   "metadata": {
    "colab": {
     "base_uri": "https://localhost:8080/"
    },
    "collapsed": true,
    "executionInfo": {
     "elapsed": 57,
     "status": "ok",
     "timestamp": 1748049795219,
     "user": {
      "displayName": "Promise Ibediogwu",
      "userId": "14544577992882322965"
     },
     "user_tz": -60
    },
    "id": "rgUOEHEk4sO8",
    "outputId": "8445b900-1b77-40b1-c5d8-30c52cbce1d8"
   },
   "outputs": [
    {
     "name": "stdout",
     "output_type": "stream",
     "text": [
      "['ACCOUNTANT', 'ADVOCATE', 'AGRICULTURE', 'APPAREL', 'ARTS', 'AUTOMOBILE', 'AVIATION', 'BANKING', 'BPO', 'BUSINESS-DEVELOPMENT', 'CHEF', 'CONSTRUCTION', 'CONSULTANT', 'DATA ANALYST_SCIENTIST', 'DESIGNER', 'DIGITAL-MEDIA', 'ENGINEERING', 'FINANCE', 'FITNESS', 'HEALTHCARE', 'HR', 'INFORMATION-TECHNOLOGY', 'PUBLIC-RELATIONS', 'SALES', 'TEACHER']\n"
     ]
    }
   ],
   "source": [
    "# Your label names from LabelEncoder\n",
    "label_names = list(le.classes_)\n",
    "print(label_names)"
   ]
  },
  {
   "cell_type": "code",
   "execution_count": null,
   "id": "FxQ-lbK_4xdq",
   "metadata": {
    "id": "FxQ-lbK_4xdq"
   },
   "outputs": [],
   "source": [
    "def predict_resume(text, model, tokenizer, label_names):\n",
    "    # Tokenize inputs and move to the same device as model\n",
    "    inputs = tokenizer(text, padding=True, truncation=True, max_length=512, return_tensors=\"pt\")\n",
    "    inputs = {k: v.to(device) for k, v in inputs.items()}\n",
    "\n",
    "    model.eval()\n",
    "    with torch.no_grad():\n",
    "        outputs = model(**inputs)\n",
    "    logits = outputs.logits\n",
    "    probs = torch.nn.functional.softmax(logits, dim=1)\n",
    "    pred_idx = torch.argmax(probs, dim=1).item()\n",
    "    return label_names[pred_idx], probs[0][pred_idx].item()"
   ]
  },
  {
   "cell_type": "code",
   "execution_count": null,
   "id": "lr08jSwk5Ewz",
   "metadata": {
    "colab": {
     "base_uri": "https://localhost:8080/"
    },
    "executionInfo": {
     "elapsed": 61,
     "status": "ok",
     "timestamp": 1748049943866,
     "user": {
      "displayName": "Promise Ibediogwu",
      "userId": "14544577992882322965"
     },
     "user_tz": -60
    },
    "id": "lr08jSwk5Ewz",
    "outputId": "31df2761-2934-40e9-ce33-70fe559f8ebb"
   },
   "outputs": [
    {
     "name": "stdout",
     "output_type": "stream",
     "text": [
      "Predicted label: INFORMATION-TECHNOLOGY (Confidence: 0.70)\n"
     ]
    }
   ],
   "source": [
    "# Example usage\n",
    "new_resume_text = \"Experienced software engineer with expertise in cloud computing and APIs.\"\n",
    "\n",
    "predicted_label, confidence = predict_resume(new_resume_text, model, tokenizer, label_names)\n",
    "print(f\"Predicted label: {predicted_label} (Confidence: {confidence:.2f})\")"
   ]
  },
  {
   "cell_type": "code",
   "execution_count": null,
   "id": "wynGwCKJ5Vvn",
   "metadata": {
    "id": "wynGwCKJ5Vvn"
   },
   "outputs": [],
   "source": []
  },
  {
   "cell_type": "code",
   "execution_count": null,
   "id": "yy-OkbA2JwQ5",
   "metadata": {
    "id": "yy-OkbA2JwQ5"
   },
   "outputs": [],
   "source": []
  },
  {
   "cell_type": "markdown",
   "id": "68mAzKWiJqn8",
   "metadata": {
    "id": "68mAzKWiJqn8"
   },
   "source": [
    "# SKILL GAP MATCHING"
   ]
  },
  {
   "cell_type": "code",
   "execution_count": 13,
   "id": "j7lPtegnKjoA",
   "metadata": {
    "executionInfo": {
     "elapsed": 3,
     "status": "ok",
     "timestamp": 1748195818231,
     "user": {
      "displayName": "Promise Ibediogwu",
      "userId": "14544577992882322965"
     },
     "user_tz": -60
    },
    "id": "j7lPtegnKjoA"
   },
   "outputs": [],
   "source": [
    "import json"
   ]
  },
  {
   "cell_type": "code",
   "execution_count": 14,
   "id": "c8gjDb7tKDKl",
   "metadata": {
    "executionInfo": {
     "elapsed": 13,
     "status": "ok",
     "timestamp": 1748195819170,
     "user": {
      "displayName": "Promise Ibediogwu",
      "userId": "14544577992882322965"
     },
     "user_tz": -60
    },
    "id": "c8gjDb7tKDKl"
   },
   "outputs": [],
   "source": [
    "skill_gap_file_path = '/content/drive/MyDrive/Colab Notebooks/AI-Powered-Career-Guidance/AI-powered-career-guidance-project-dataset/data/skill_gap.json'"
   ]
  },
  {
   "cell_type": "code",
   "execution_count": 15,
   "id": "SnsOt1E6JvVX",
   "metadata": {
    "executionInfo": {
     "elapsed": 370,
     "status": "ok",
     "timestamp": 1748195820385,
     "user": {
      "displayName": "Promise Ibediogwu",
      "userId": "14544577992882322965"
     },
     "user_tz": -60
    },
    "id": "SnsOt1E6JvVX"
   },
   "outputs": [],
   "source": [
    "with open(skill_gap_file_path, 'r') as file:\n",
    "    skill_gap_data = json.load(file)"
   ]
  },
  {
   "cell_type": "code",
   "execution_count": 16,
   "id": "ShhcETCkKg3Q",
   "metadata": {
    "colab": {
     "base_uri": "https://localhost:8080/"
    },
    "executionInfo": {
     "elapsed": 11,
     "status": "ok",
     "timestamp": 1748195822078,
     "user": {
      "displayName": "Promise Ibediogwu",
      "userId": "14544577992882322965"
     },
     "user_tz": -60
    },
    "id": "ShhcETCkKg3Q",
    "outputId": "f883d62d-603d-4ad8-f421-6e31edaa7526"
   },
   "outputs": [
    {
     "data": {
      "text/plain": [
       "dict_keys(['ACCOUNTANT', 'ADVOCATE', 'AGRICULTURE', 'APPAREL', 'ARTS', 'AUTOMOBILE', 'AVIATION', 'BANKING', 'BPO', 'BUSINESS-DEVELOPMENT', 'CHEF', 'CONSTRUCTION', 'CONSULTANT', 'DATA ANALYST_SCIENTIST', 'DESIGNER', 'DIGITAL-MEDIA', 'ENGINEERING', 'FINANCE', 'FITNESS', 'HEALTHCARE', 'HR', 'INFORMATION-TECHNOLOGY', 'PUBLIC-RELATIONS', 'SALES', 'TEACHER'])"
      ]
     },
     "execution_count": 16,
     "metadata": {},
     "output_type": "execute_result"
    }
   ],
   "source": [
    "skill_gap_data.keys()"
   ]
  },
  {
   "cell_type": "code",
   "execution_count": 17,
   "id": "vHc77EW6Kom0",
   "metadata": {
    "colab": {
     "base_uri": "https://localhost:8080/",
     "height": 139
    },
    "executionInfo": {
     "elapsed": 91,
     "status": "ok",
     "timestamp": 1748195826205,
     "user": {
      "displayName": "Promise Ibediogwu",
      "userId": "14544577992882322965"
     },
     "user_tz": -60
    },
    "id": "vHc77EW6Kom0",
    "outputId": "716fbab8-0cb8-408b-d9e4-f8a92df870b2"
   },
   "outputs": [
    {
     "data": {
      "application/vnd.google.colaboratory.intrinsic+json": {
       "type": "string"
      },
      "text/plain": [
       "'accountant summary financial accountant specializing in financial planning, reporting and analysis within the department of defense. highlights account reconciliations results-oriented financial reporting critical thinking accounting operations professional analysis of financial systems erp (enterprise resource planning) software. excellent facilitator accomplishments served on a tiger team which identified and resolved general ledger postings in deams totaling 360b in accounting adjustments. this allowed for the first successful fiscal year-end close for 2012. in collaboration with dfas europe, developed an automated tool that identified duplicate obligations. this tool allowed hq usafe to deobligate over 5m in duplicate obligations. experience company name july 2011 to november 2012 accountant city , state enterprise resource planning office (ero) in this position as an accountant assigned to the defense enterprise accounting and management system (deams) ero i was responsible for identifying and resolving issues affecting the deams general ledger. i worked with teammates from the procure to pay, orders to cash, and budget to report areas to resolve daily challenges encountered with the deployment of deams to additional customers and when system change requests were promoted to production. i supported the testing of scripts, patches, and system change requests ensuring any anomalies were identified to the deams functional management office for action by the deams program management office andor the system integrator. in addition, i served on a tiger team designed to identify and resolve general ledger posting differences and supported the development of 360b in accounting adjustments allowing for the first successful fiscal year-end close in 2012. these actions also allowed for the reconciliation and closure of fiscal year 2010 and 2011 accounting adjustments ensuring that all deams fiscal year-end requirements were completed. these actions were recognized as critical to the successful review report issued by the air force operational test and evaluation center (afotec) resulting in the air force receiving the authority to continue with the deployment of deams. company name april 2010 to june 2011 resource advisor city , state in this position as resource advisor for the 1st air communications operation squadron (1acos) i was responsible for providing financial advice and decision support to the commander. i was responsible for coordinating a 4.6m budget between four funding sources. i coordinated with usafe directorate of intelligence (usafea2), usafe directorate of air and space operations (usafea3), usafe directorate of communications (usafea6) and the 435th air ground operations wing to ensure 1acos meets its mission requirements. i consistently managed three separate timelines for providing budgetunfunded requirements, providing documentation and various reports in the required format for each organization. i discussed the outcome of the group and directorate budget meetings providing feedback the same day to the flight chiefs and cc any issue which affects 1acos directly. i monitored the defense travel system (dts) daily and identify orders and authorizations needing approval and provided notification to the appropriate reviewing officials and approvers. utilizing dts and the general accounting and finance system i reviewed status reports to identify anomalies in obligations and have identified those orders which require correction prior to payment. i provided government purchase card (gpc) status reports the same day they are requested and in addition, communicated with the appropriate cardholders when changes were required to support their program. i identified cardholder training requirements and monitored these requirements to ensure all required training was completed in support of this mission critical program. i developed guidance for the gpc cardholders on procedures for requesting training for the squadron and in addition i provided answers to cardholder questions on unique or non-standard issuesconcerns. assumed the role of the billing official during my final rating period and completed a self inspection of the program for the management control program, zero findings. during yearly audit by 700th cons received zero findings. company name july 2008 to april 2010 staff accountant city , state in my position as the staff accountant for hq usafe i was responsible for providing accounting and financial oversight and advice to customers throughout the command in support of the usafe comptroller. i was responsible for performing ongoing analysis of financial programs to identify negative trends and weaknesses, ensured specific weaknesses were corrected, and determined whether systemic or repeat issues were identified and adequately addressed. i was required to apply a comprehensive knowledge of analysisreporting requirements and data produced to resolve these issues. in collaboration with dfas europe, developed an automated tool that identifies duplicate obligations by comparing records in the accounting system to the contracting system and provided notification to the funds manager for review and resolution. this tool eliminated hours of manual research and results allowed hq usafe to deobligate over 5m in duplicate obligations. i was responsible for establishing various performance metrics which ensured effective and efficient use of usafe financial resources. i supported the usafefma financial metrics program by collaborating with dfas limestone in the development of an automated tool that provided senior leaders with visibility to any usafe unit that is not in compliance with the established rules and regulations related to the gpc. this tool provides management reports that are used to populate the monthly metric charts which are briefed by the usafefma. this tool provided the capability for usafefma to collaborate with usafe contracting and developdeploy joint guidance that supports the established air force instruction mandating card suspension for card holders who are not in compliance with required reservation of funds in the entitlement system in support of the gpc. i identified and resolved a problem with five gpc accounts that had been rejecting during the automated interface process each month. my research revealed that these accounts were rejecting for invalid paying station and required manual intervention by both wing and dfas personnel. this not only created rework, it delayed the payment of the invoices. i partnered with dfas denver, corrected the records in the access on-line accounts eliminating the error condition. i identified a method to deliver one-on-one training in support of the usafe deployment of the open document analysis (oda) tool in fmsuite. by utilizing defense connect online i provided training remotely, virtually eliminating the need to expend funds on temporary duty (tdy) travel. the results of this training produced results that went well above expectations and were noted by the oda program management office. company name january 2007 to july 2009 chief, reports branch. accounts maintenance and control city , state in my position as chief of the reports branch in accounts maintenance  control (amc) i was responsible for ensuring the development and standardization of various managerial and system reports. i was responsible for the completeness and accuracy of weekly, monthly, quarterly, semi-annual, and annual reports. my branch monitored errors in the general accounting and finance system (gafsbq) and ensured corrective actions were accomplished. i also ensured fund balances were reconciled and reports were verified prior to release to base activities and higher headquarters. limestone reorganized under the high performing organization (hpo) in january 2007 and at that time i was reassigned to amc, a directorate which previously did not exist. my challenge during that time was to staff my branch, implement an aggressive training schedule, and ensure the continuity of financial reporting was maintained. as we transitioned into the hpo we continued defining the missions and functions for amc for the entire network. i participated in biweekly conference calls with standards and compliance in an effort to define missions and functions for amc. worked with management in determining ftes needed for the branch. i was responsible for developing meaningful performance standards for my employees since this branch and its functions did not previously exist. limestone poc for an initiative to eliminate suspense accounts throughout the agency. identified suspense accounts not initially targeted, formulated strategies to eliminate accounts or requested waivers, and participated in plans to modify processes using suspense accounts, such as the interfund suspense account. these actions provided initial progress towards meeting the department of treasurys mandate to discontinue suspense accounts by february 2009. worked with staff to reduce reconciliations from 6.9 million in february 2007 to 1.1 million in august, accomplished this despite loss in experienced personnel and realigning resources to support critical initiatives in accounts payable. i orchestrated the transition of reporting requirements for the transportation financial management system (tfms) workload from dfas omaha to limestone. after transition to limestone encouraged staff responsible for these reports to streamline the processes. staff automated a completely manual, time consuming process, thus eliminating potential key stroke errors and manually validating numerous spreadsheets and listings. contributor to federal managers financial integrity act (fmfia) compliance review and establishment of assessable units. identified inconsistencies in information provided by staff on foreign currency fluctuation adjustments. persisted in getting higher level review of regulatory and policy guidance. report of foreign currency fluctuation is now consistently accurate. company name february 2000 to january 2007 chief, accounts payable branch city , state as chief of accounts payable i was responsible for the overall management of a branch consisting of over 120 employees. my four first line supervisors were responsible for establishing priorities, schedules, and work assignments ensuring changes in workload are accounted for to minimize the impact on normal office operations. we consistently reviewed these areas and made necessary personnel moves based on shifting priorities. this was extremely important during the dfas denver directed database consolidations and with the assumption of the air national guard workload. workload increased rapidly while staffing increased gradually, which dictated frequent priority changes and personnel moves. i also worked closely with the major commands supported by dfas limestone strengthening our partnership when workload spikes negatively impacted our customers. in december 2004, our overaged invoice percentage was nearing 25 and we had a backlog of vendor pay documents exceeding 30,000. by working with the dfas command client executives and the major command comptrollers, i was instrumental in forming a strategy that included soliciting air force personnel assistance in document processing, identification of must pay now bills, and the formation of special action response teams dedicated to responding to our customers most urgent requirements. as a result of these efforts, in a three month period, we were able to reduce our overaged invoice percentage by 19 and our backlog of documents to no documents over 20 days old thereby minimizing the adverse impact on customer funds. i was responsible for providing personnel feedback sessions quarterly and prepared supervisory appraisals of employees performance and potential for advancement. partnering with the management staff and employees, i was instrumental in establishing employee performance plans that linked employee performance to established dfas strategies and balance scorecard goals. in this position as a supervisory accountant i was responsible for performing ongoing analysis of the vendor pay workflow and production to identify negative trends and weaknesses, ensure specific weaknesses have been corrected, and determine whether systemic or repeat issues have been identified and adequately addressed. i was required to apply a comprehensive knowledge of analysisreporting requirements, work processes, vendor pay system structures, and data produced to resolve these issues. utilizing my expertise with louis ii data retrieval software, i produced ad-hoc data queries for in-house and external use by our customers. these retrievals were designed to reduce the man- hours necessary to perform complex finance and accounting functions by dfas and air force personnel. i was responsible for the budget resources necessary to operate the branch. in this capacity, i prepared budget over execution justifications, plan and monitor overtime costs, and control supply purchases to ensure the most cost efficient operation possible. i was required to respond to inquiries from various sources, which include, but are not limited to, vendors, dfas management, accounting liaison offices, resource advisors, and other dfas field sites. these inquiries required my ability to relay technical aspects of systems deficiencies to customers who are not familiar with our operation. i participated in video teleconferences, conference calls, and briefings designed to address customer and dfas management requirements. i was called upon to explain, in laymens terms, dfas policy and procedures with regards to delays in payment due to various reasons. i responded to various audit reports and studies ensuring senior management and audit personnel, understand particular situations within the vendor pay business process that result in these findings. company name february 1999 to february 2000 chief, recon and reports branch city , state in my position as chief, vendor pay reports and recon branch, i exercised supervision (either directly or indirectly) over 22 employees primarily in the 525 series in grades ranging from gs-5 through gs-8. this responsibility also included supervision of the german local national workers assigned to my duty section. i was responsible for planning, directing, and supervising the activities of the work force in the review, interpretation, processing, and reconciliation of vendor pay and accounting data and the production of timely and accurate financial statement report requirements. i participated in the development of branch policies continually reviewing and evaluating the organizational operations, work distribution, and procedures. i coordinated the activities of the assigned functions with those of other organizations to obtain the most effective correlation of financial data. directed and provided technical guidance to subordinates in the assigned area. assured the timeliness and accuracy of assigned workload. planned, organized, directed, coordinated, and reviewed the work of subordinates sections ensuring the mission and functions of the division were carried out. i managed and realigned resources, conducted program analyses, and made decisions in accordance with unit cost principles, outputs, targets, and changing budgetary constraints. i participated in long range planning, goal setting, and evaluating the subordinate staff. interpreted and clarified branch policies and resolved operational problems. ensured efficient utilization and professional development of my staff. i was expected to provide reasonable assurance that operations were conducted in compliance with applicable laws and that funds, property, and other assets were safeguarded against waste, loss, unauthorized use, or misappropriation. i ensured continuing and affirmative application and support of dod and dfas policy concerning the equal opportunity and affirmative action programs. ensured personnel management within organizational entity under my supervision was accomplished without regard to race, color, religion, sex, age, national origin, or handicap. i kept abreast of developments, policy issuance, and other similar material in the equal opportunity field and fully supported the dod and dfas equal opportunity program. i was responsible and accountable for the safety and health of my subordinates. i ensured personnel were trained to work safely. i enforced safety and health rules, corrected unsafe or unhealthy acts and unsafe or unhealthy mechanical or physical conditions, investigated mishaps and tool other actions necessary to ensure the safety and health of my employees. company name june 1995 to february 1999 chief, accounts payable branch city , state i was responsible for establishing priorities, schedules, and work assignments ensuring changes in workload are accounted for to minimize the impact on normal office operations. this was important during the dfas denver directed workload realighment to the field sites servicing our customers by major command. workload increased which dictated frequent priority changes and personnel moves. i also worked closely with the major commands supported by dfas limestone strengthening our partnership when workload spikes negatively impacted our customers. i was responsible for providing personnel feedback sessions quarterly and preparedsupervisory appraisals of employees performance and potential for advancement. as a supervisory accountant i was responsible for performing ongoing analysis of the vendor pay workflow and production. i identified negative trends and weaknesses, ensured specific weaknesses were corrected, and determine whether systemic or repeat issues were identified and adequately addressed. i was required to apply a comprehensive knowledge of analysisreporting requirements, work processes, vendor pay system structures, and data produced to resolve these issues. utilizing my knowledge with louis ii data retrieval software, i produced ad-hoc data queries for in-house and external use by our customers. these retrievals are all designed to reduce the man- hours necessary to perform complex finance and accounting functions by dfas and air force personnel. i was responsible for the budget resources necessary to operate the branch. in this capacity, i prepared budget over execution justifications, plan and monitor overtime costs, and control supply purchases to ensure the most cost efficient operation possible. i was required to respond to inquiries from various sources, which include, but are not limited to, vendors, dfas management, accounting liaison offices, resource advisors, and other dfas field sites. these inquiries require my ability to relay technical aspects of systems deficiencies to customers who are not familiar with our operation. i participated in video teleconferences, conference calls, and briefings designed to address customer and dfas management requirements. i was often called upon to explain, in laymens terms, dfas policy and procedures with regards to delays in payment due to various reasons. i was required to respond to various audit reports and studies ensuring senior management and audit personnel, understand particular situations within the vendor pay business process that result in these findings. i was hand selected by the field site director and vendor pay site manager to represent dfas limestone on a team comprised of representatives from all dfas denver field sites to provide training to our air force base level resource advisors. during a five week period, i provided boot camp training to over 400 base level personnel ensuring resource advisors were familiar with the dfas structure and mission requirements related to funds management. company name june 1994 to june 1995 accountant, network assistant team city , state as a member of the network assistance team, i was required to have an extensive working knowledge of dod accounting systems, theory, policy, and procedures. i was consistently called upon to develop and implement procedures consistent with dod regulations. coordinated with dfas denver and the omaha field site on the consolidation of the first geographically separated defense accounting office into dfas. in my position as a member of the network assistance team i was required, upon arrival at each base level defense accounting office (dao) to provide an in-brief. this briefing identified team members, the purpose of the visit, goals, and responsibilities. upon completion of the assignment, provided a written and oral out-brief outlining the team accomplishments during the visit. i provided recommendations to preclude recurring problems and to prepare the organization for consolidation. company name june 1993 to june 1994 supervisor, accounts control branch city , state i directedsupervised the accomplishment ofallfinancialreports and statements i directedsupervised the accomplishment of all financial reports and statements. i was responsible for the completeness and accuracy of weekly, monthly, quarterly, semi-annual, and annual reports. monitored errors in the general accounting and finance system (gafsbq) and ensured corrective actions were accomplished. i also ensured fund balances were reconciled to the appropriate audit listings and verified reports prior to release to base activities and higher headquarters. i furnished accounting data to base organizations often interpreting and analyzing the data to help funds managers resolve problems and manage their programs more effectively. i attended major command (majcom) and headquarters level workshops to participate and contribute to accounting policy and system changes. i provided professional assistance to data automation relevant to processing of accounting and finance data, interpreting deficiencies in software based on output products and system related problems. i utilized my working knowledge of commercial and government accounting system principles and knowledge of processing centers (pcs) to review, verify, analyze, and evaluate accounting and finance operations. while serving as chief, account control i ensured areas of concern were addressed, concentrating on problem areas related to the database. i analyzed computer output products to determine processing deficiencies. they included, but were not limited to, the open document listing (odl), operating budget ledger (obl), allotment ledger (al), and the accounting and finance workload information management system (af wims) extract list. i provided technical assistance related to policy and procedural. changes required as a result of the impending base closure. analyzeddeveloped and recommended improved training procedures enabling better use of system procedures ensuring governing directives were followed. i evaluated accuracy of accounting records prior to fiscal year closeout ensuring the accounting and finance officer could certify their accuracy as required by regulation. examined accounting transactions and documents to ensure they conformed to established accounting policy and principles. coordinated and directed fiscal year end conversion for the gafs and integrated accounts payable system (iaps). education northern maine community college 1994 associate  accounting city , state , usa emphasis in business 1994 associates  accounting city , state , usa gpa gpa 3.41 accounting gpa 3.41 174 hours, quarter attended husson college, major accounting 78 semester hours toward bachelors degree. professional military comptroller school, 6wk, 4-98 managerial accounting i, 09-98 interested-based bargaining training for management, 24hrs, 09-01 auditing methods and concepts 09-98 organizational leadership, 32hrs, 07-03 management development ii, 32hrs, 07-03. certifications certified defense financial manager, cdfm, may 2005 interests american society of military comptrollers additional information skills accounting general accounting accounts payable program management.'"
      ]
     },
     "execution_count": 17,
     "metadata": {},
     "output_type": "execute_result"
    }
   ],
   "source": [
    "clean_resume_text"
   ]
  },
  {
   "cell_type": "code",
   "execution_count": 18,
   "id": "n-D8tUgRPcJN",
   "metadata": {
    "colab": {
     "base_uri": "https://localhost:8080/"
    },
    "executionInfo": {
     "elapsed": 31,
     "status": "ok",
     "timestamp": 1748195829454,
     "user": {
      "displayName": "Promise Ibediogwu",
      "userId": "14544577992882322965"
     },
     "user_tz": -60
    },
    "id": "n-D8tUgRPcJN",
    "outputId": "71ab2c74-62a9-4030-c0fa-92d36fbd73b9"
   },
   "outputs": [
    {
     "data": {
      "text/plain": [
       "['Financial Reporting',\n",
       " 'Taxation',\n",
       " 'Auditing',\n",
       " 'SAP',\n",
       " 'QuickBooks',\n",
       " 'Budget Forecasting',\n",
       " 'Excel (Advanced)',\n",
       " 'Data Analytics',\n",
       " 'GAAP',\n",
       " 'IFRS',\n",
       " 'Internal Controls',\n",
       " 'Cash Flow Management',\n",
       " 'Power BI',\n",
       " 'Financial Modeling',\n",
       " 'Automation in Accounting (RPA)']"
      ]
     },
     "execution_count": 18,
     "metadata": {},
     "output_type": "execute_result"
    }
   ],
   "source": [
    "skill_gap_data['ACCOUNTANT']"
   ]
  },
  {
   "cell_type": "code",
   "execution_count": 19,
   "id": "g0O_8zggR9Pb",
   "metadata": {
    "colab": {
     "base_uri": "https://localhost:8080/"
    },
    "executionInfo": {
     "elapsed": 2966,
     "status": "ok",
     "timestamp": 1748195834221,
     "user": {
      "displayName": "Promise Ibediogwu",
      "userId": "14544577992882322965"
     },
     "user_tz": -60
    },
    "id": "g0O_8zggR9Pb",
    "outputId": "68e392cc-d83b-4273-9d64-1a07f74777d9"
   },
   "outputs": [
    {
     "name": "stdout",
     "output_type": "stream",
     "text": [
      "Collecting fuzzywuzzy\n",
      "  Downloading fuzzywuzzy-0.18.0-py2.py3-none-any.whl.metadata (4.9 kB)\n",
      "Downloading fuzzywuzzy-0.18.0-py2.py3-none-any.whl (18 kB)\n",
      "Installing collected packages: fuzzywuzzy\n",
      "Successfully installed fuzzywuzzy-0.18.0\n"
     ]
    }
   ],
   "source": [
    "pip install fuzzywuzzy"
   ]
  },
  {
   "cell_type": "code",
   "execution_count": 20,
   "id": "tAyJoG0CPjJk",
   "metadata": {
    "executionInfo": {
     "elapsed": 7,
     "status": "ok",
     "timestamp": 1748195835919,
     "user": {
      "displayName": "Promise Ibediogwu",
      "userId": "14544577992882322965"
     },
     "user_tz": -60
    },
    "id": "tAyJoG0CPjJk"
   },
   "outputs": [],
   "source": [
    "## applying exact skill matching\n",
    "# from the required skill and the ones in the resume i want to create a percentage value for skill gap\n",
    "from fuzzywuzzy import fuzz\n",
    "\n",
    "def extract_skills(resume_text, skill_set, fuzzy_threshold=90):\n",
    "    resume_text = resume_text.lower()\n",
    "    matched_skills = set()\n",
    "\n",
    "    for skill in skill_set:\n",
    "        # Exact match\n",
    "        if skill.lower() in resume_text:\n",
    "            matched_skills.add(skill)\n",
    "        else:\n",
    "            # Fuzzy match if not found\n",
    "            ratio = fuzz.partial_ratio(skill.lower(), resume_text)\n",
    "            if ratio >= fuzzy_threshold:\n",
    "                matched_skills.add(skill)\n",
    "\n",
    "    #selecting the skills that are not in the matched_skills\n",
    "    remaining_skills = [skill for skill in skill_set if skill not in matched_skills]\n",
    "\n",
    "    #percentage value for skill gap\n",
    "    percentage_gap = (len(matched_skills) / len(skill_set)) * 100\n",
    "\n",
    "\n",
    "    return sorted(list(matched_skills)), remaining_skills, percentage_gap\n"
   ]
  },
  {
   "cell_type": "code",
   "execution_count": 21,
   "id": "mWznmkVKP76j",
   "metadata": {
    "colab": {
     "base_uri": "https://localhost:8080/"
    },
    "executionInfo": {
     "elapsed": 635,
     "status": "ok",
     "timestamp": 1748195838304,
     "user": {
      "displayName": "Promise Ibediogwu",
      "userId": "14544577992882322965"
     },
     "user_tz": -60
    },
    "id": "mWznmkVKP76j",
    "outputId": "97560e52-42c5-435a-edc4-ee54b759ae6d"
   },
   "outputs": [
    {
     "name": "stdout",
     "output_type": "stream",
     "text": [
      "(['Auditing', 'Financial Reporting', 'SAP'], ['Taxation', 'QuickBooks', 'Budget Forecasting', 'Excel (Advanced)', 'Data Analytics', 'GAAP', 'IFRS', 'Internal Controls', 'Cash Flow Management', 'Power BI', 'Financial Modeling', 'Automation in Accounting (RPA)'], 20.0)\n"
     ]
    }
   ],
   "source": [
    "#performing the extraction\n",
    "print(extract_skills(clean_resume_text, skill_gap_data['ACCOUNTANT']))\n"
   ]
  },
  {
   "cell_type": "code",
   "execution_count": 21,
   "id": "Nku1gH6LSODQ",
   "metadata": {
    "executionInfo": {
     "elapsed": 8,
     "status": "ok",
     "timestamp": 1748195840139,
     "user": {
      "displayName": "Promise Ibediogwu",
      "userId": "14544577992882322965"
     },
     "user_tz": -60
    },
    "id": "Nku1gH6LSODQ"
   },
   "outputs": [],
   "source": []
  },
  {
   "cell_type": "markdown",
   "id": "d4U9eMlhmIWu",
   "metadata": {
    "id": "d4U9eMlhmIWu"
   },
   "source": [
    "# COURSE RECOMMENDATION"
   ]
  },
  {
   "cell_type": "code",
   "execution_count": 24,
   "id": "RpItvPv9SV1q",
   "metadata": {
    "colab": {
     "base_uri": "https://localhost:8080/"
    },
    "executionInfo": {
     "elapsed": 112068,
     "status": "ok",
     "timestamp": 1748196108743,
     "user": {
      "displayName": "Promise Ibediogwu",
      "userId": "14544577992882322965"
     },
     "user_tz": -60
    },
    "id": "RpItvPv9SV1q",
    "outputId": "38c2e135-f660-4da8-d868-cf069fe69465"
   },
   "outputs": [
    {
     "name": "stdout",
     "output_type": "stream",
     "text": [
      "Requirement already satisfied: sentence-transformers in /usr/local/lib/python3.11/dist-packages (4.1.0)\n",
      "Requirement already satisfied: transformers<5.0.0,>=4.41.0 in /usr/local/lib/python3.11/dist-packages (from sentence-transformers) (4.51.3)\n",
      "Requirement already satisfied: tqdm in /usr/local/lib/python3.11/dist-packages (from sentence-transformers) (4.67.1)\n",
      "Requirement already satisfied: torch>=1.11.0 in /usr/local/lib/python3.11/dist-packages (from sentence-transformers) (2.6.0+cu124)\n",
      "Requirement already satisfied: scikit-learn in /usr/local/lib/python3.11/dist-packages (from sentence-transformers) (1.6.1)\n",
      "Requirement already satisfied: scipy in /usr/local/lib/python3.11/dist-packages (from sentence-transformers) (1.15.3)\n",
      "Requirement already satisfied: huggingface-hub>=0.20.0 in /usr/local/lib/python3.11/dist-packages (from sentence-transformers) (0.31.2)\n",
      "Requirement already satisfied: Pillow in /usr/local/lib/python3.11/dist-packages (from sentence-transformers) (11.2.1)\n",
      "Requirement already satisfied: typing_extensions>=4.5.0 in /usr/local/lib/python3.11/dist-packages (from sentence-transformers) (4.13.2)\n",
      "Requirement already satisfied: filelock in /usr/local/lib/python3.11/dist-packages (from huggingface-hub>=0.20.0->sentence-transformers) (3.18.0)\n",
      "Requirement already satisfied: fsspec>=2023.5.0 in /usr/local/lib/python3.11/dist-packages (from huggingface-hub>=0.20.0->sentence-transformers) (2025.3.2)\n",
      "Requirement already satisfied: packaging>=20.9 in /usr/local/lib/python3.11/dist-packages (from huggingface-hub>=0.20.0->sentence-transformers) (24.2)\n",
      "Requirement already satisfied: pyyaml>=5.1 in /usr/local/lib/python3.11/dist-packages (from huggingface-hub>=0.20.0->sentence-transformers) (6.0.2)\n",
      "Requirement already satisfied: requests in /usr/local/lib/python3.11/dist-packages (from huggingface-hub>=0.20.0->sentence-transformers) (2.32.3)\n",
      "Requirement already satisfied: networkx in /usr/local/lib/python3.11/dist-packages (from torch>=1.11.0->sentence-transformers) (3.4.2)\n",
      "Requirement already satisfied: jinja2 in /usr/local/lib/python3.11/dist-packages (from torch>=1.11.0->sentence-transformers) (3.1.6)\n",
      "Collecting nvidia-cuda-nvrtc-cu12==12.4.127 (from torch>=1.11.0->sentence-transformers)\n",
      "  Downloading nvidia_cuda_nvrtc_cu12-12.4.127-py3-none-manylinux2014_x86_64.whl.metadata (1.5 kB)\n",
      "Collecting nvidia-cuda-runtime-cu12==12.4.127 (from torch>=1.11.0->sentence-transformers)\n",
      "  Downloading nvidia_cuda_runtime_cu12-12.4.127-py3-none-manylinux2014_x86_64.whl.metadata (1.5 kB)\n",
      "Collecting nvidia-cuda-cupti-cu12==12.4.127 (from torch>=1.11.0->sentence-transformers)\n",
      "  Downloading nvidia_cuda_cupti_cu12-12.4.127-py3-none-manylinux2014_x86_64.whl.metadata (1.6 kB)\n",
      "Collecting nvidia-cudnn-cu12==9.1.0.70 (from torch>=1.11.0->sentence-transformers)\n",
      "  Downloading nvidia_cudnn_cu12-9.1.0.70-py3-none-manylinux2014_x86_64.whl.metadata (1.6 kB)\n",
      "Collecting nvidia-cublas-cu12==12.4.5.8 (from torch>=1.11.0->sentence-transformers)\n",
      "  Downloading nvidia_cublas_cu12-12.4.5.8-py3-none-manylinux2014_x86_64.whl.metadata (1.5 kB)\n",
      "Collecting nvidia-cufft-cu12==11.2.1.3 (from torch>=1.11.0->sentence-transformers)\n",
      "  Downloading nvidia_cufft_cu12-11.2.1.3-py3-none-manylinux2014_x86_64.whl.metadata (1.5 kB)\n",
      "Collecting nvidia-curand-cu12==10.3.5.147 (from torch>=1.11.0->sentence-transformers)\n",
      "  Downloading nvidia_curand_cu12-10.3.5.147-py3-none-manylinux2014_x86_64.whl.metadata (1.5 kB)\n",
      "Collecting nvidia-cusolver-cu12==11.6.1.9 (from torch>=1.11.0->sentence-transformers)\n",
      "  Downloading nvidia_cusolver_cu12-11.6.1.9-py3-none-manylinux2014_x86_64.whl.metadata (1.6 kB)\n",
      "Collecting nvidia-cusparse-cu12==12.3.1.170 (from torch>=1.11.0->sentence-transformers)\n",
      "  Downloading nvidia_cusparse_cu12-12.3.1.170-py3-none-manylinux2014_x86_64.whl.metadata (1.6 kB)\n",
      "Requirement already satisfied: nvidia-cusparselt-cu12==0.6.2 in /usr/local/lib/python3.11/dist-packages (from torch>=1.11.0->sentence-transformers) (0.6.2)\n",
      "Requirement already satisfied: nvidia-nccl-cu12==2.21.5 in /usr/local/lib/python3.11/dist-packages (from torch>=1.11.0->sentence-transformers) (2.21.5)\n",
      "Requirement already satisfied: nvidia-nvtx-cu12==12.4.127 in /usr/local/lib/python3.11/dist-packages (from torch>=1.11.0->sentence-transformers) (12.4.127)\n",
      "Collecting nvidia-nvjitlink-cu12==12.4.127 (from torch>=1.11.0->sentence-transformers)\n",
      "  Downloading nvidia_nvjitlink_cu12-12.4.127-py3-none-manylinux2014_x86_64.whl.metadata (1.5 kB)\n",
      "Requirement already satisfied: triton==3.2.0 in /usr/local/lib/python3.11/dist-packages (from torch>=1.11.0->sentence-transformers) (3.2.0)\n",
      "Requirement already satisfied: sympy==1.13.1 in /usr/local/lib/python3.11/dist-packages (from torch>=1.11.0->sentence-transformers) (1.13.1)\n",
      "Requirement already satisfied: mpmath<1.4,>=1.1.0 in /usr/local/lib/python3.11/dist-packages (from sympy==1.13.1->torch>=1.11.0->sentence-transformers) (1.3.0)\n",
      "Requirement already satisfied: numpy>=1.17 in /usr/local/lib/python3.11/dist-packages (from transformers<5.0.0,>=4.41.0->sentence-transformers) (2.0.2)\n",
      "Requirement already satisfied: regex!=2019.12.17 in /usr/local/lib/python3.11/dist-packages (from transformers<5.0.0,>=4.41.0->sentence-transformers) (2024.11.6)\n",
      "Requirement already satisfied: tokenizers<0.22,>=0.21 in /usr/local/lib/python3.11/dist-packages (from transformers<5.0.0,>=4.41.0->sentence-transformers) (0.21.1)\n",
      "Requirement already satisfied: safetensors>=0.4.3 in /usr/local/lib/python3.11/dist-packages (from transformers<5.0.0,>=4.41.0->sentence-transformers) (0.5.3)\n",
      "Requirement already satisfied: joblib>=1.2.0 in /usr/local/lib/python3.11/dist-packages (from scikit-learn->sentence-transformers) (1.5.0)\n",
      "Requirement already satisfied: threadpoolctl>=3.1.0 in /usr/local/lib/python3.11/dist-packages (from scikit-learn->sentence-transformers) (3.6.0)\n",
      "Requirement already satisfied: MarkupSafe>=2.0 in /usr/local/lib/python3.11/dist-packages (from jinja2->torch>=1.11.0->sentence-transformers) (3.0.2)\n",
      "Requirement already satisfied: charset-normalizer<4,>=2 in /usr/local/lib/python3.11/dist-packages (from requests->huggingface-hub>=0.20.0->sentence-transformers) (3.4.2)\n",
      "Requirement already satisfied: idna<4,>=2.5 in /usr/local/lib/python3.11/dist-packages (from requests->huggingface-hub>=0.20.0->sentence-transformers) (3.10)\n",
      "Requirement already satisfied: urllib3<3,>=1.21.1 in /usr/local/lib/python3.11/dist-packages (from requests->huggingface-hub>=0.20.0->sentence-transformers) (2.4.0)\n",
      "Requirement already satisfied: certifi>=2017.4.17 in /usr/local/lib/python3.11/dist-packages (from requests->huggingface-hub>=0.20.0->sentence-transformers) (2025.4.26)\n",
      "Downloading nvidia_cublas_cu12-12.4.5.8-py3-none-manylinux2014_x86_64.whl (363.4 MB)\n",
      "\u001b[2K   \u001b[90m━━━━━━━━━━━━━━━━━━━━━━━━━━━━━━━━━━━━━━━━\u001b[0m \u001b[32m363.4/363.4 MB\u001b[0m \u001b[31m3.0 MB/s\u001b[0m eta \u001b[36m0:00:00\u001b[0m\n",
      "\u001b[?25hDownloading nvidia_cuda_cupti_cu12-12.4.127-py3-none-manylinux2014_x86_64.whl (13.8 MB)\n",
      "\u001b[2K   \u001b[90m━━━━━━━━━━━━━━━━━━━━━━━━━━━━━━━━━━━━━━━━\u001b[0m \u001b[32m13.8/13.8 MB\u001b[0m \u001b[31m38.0 MB/s\u001b[0m eta \u001b[36m0:00:00\u001b[0m\n",
      "\u001b[?25hDownloading nvidia_cuda_nvrtc_cu12-12.4.127-py3-none-manylinux2014_x86_64.whl (24.6 MB)\n",
      "\u001b[2K   \u001b[90m━━━━━━━━━━━━━━━━━━━━━━━━━━━━━━━━━━━━━━━━\u001b[0m \u001b[32m24.6/24.6 MB\u001b[0m \u001b[31m24.3 MB/s\u001b[0m eta \u001b[36m0:00:00\u001b[0m\n",
      "\u001b[?25hDownloading nvidia_cuda_runtime_cu12-12.4.127-py3-none-manylinux2014_x86_64.whl (883 kB)\n",
      "\u001b[2K   \u001b[90m━━━━━━━━━━━━━━━━━━━━━━━━━━━━━━━━━━━━━━━━\u001b[0m \u001b[32m883.7/883.7 kB\u001b[0m \u001b[31m28.0 MB/s\u001b[0m eta \u001b[36m0:00:00\u001b[0m\n",
      "\u001b[?25hDownloading nvidia_cudnn_cu12-9.1.0.70-py3-none-manylinux2014_x86_64.whl (664.8 MB)\n",
      "\u001b[2K   \u001b[90m━━━━━━━━━━━━━━━━━━━━━━━━━━━━━━━━━━━━━━━━\u001b[0m \u001b[32m664.8/664.8 MB\u001b[0m \u001b[31m3.0 MB/s\u001b[0m eta \u001b[36m0:00:00\u001b[0m\n",
      "\u001b[?25hDownloading nvidia_cufft_cu12-11.2.1.3-py3-none-manylinux2014_x86_64.whl (211.5 MB)\n",
      "\u001b[2K   \u001b[90m━━━━━━━━━━━━━━━━━━━━━━━━━━━━━━━━━━━━━━━━\u001b[0m \u001b[32m211.5/211.5 MB\u001b[0m \u001b[31m6.2 MB/s\u001b[0m eta \u001b[36m0:00:00\u001b[0m\n",
      "\u001b[?25hDownloading nvidia_curand_cu12-10.3.5.147-py3-none-manylinux2014_x86_64.whl (56.3 MB)\n",
      "\u001b[2K   \u001b[90m━━━━━━━━━━━━━━━━━━━━━━━━━━━━━━━━━━━━━━━━\u001b[0m \u001b[32m56.3/56.3 MB\u001b[0m \u001b[31m18.3 MB/s\u001b[0m eta \u001b[36m0:00:00\u001b[0m\n",
      "\u001b[?25hDownloading nvidia_cusolver_cu12-11.6.1.9-py3-none-manylinux2014_x86_64.whl (127.9 MB)\n",
      "\u001b[2K   \u001b[90m━━━━━━━━━━━━━━━━━━━━━━━━━━━━━━━━━━━━━━━━\u001b[0m \u001b[32m127.9/127.9 MB\u001b[0m \u001b[31m7.8 MB/s\u001b[0m eta \u001b[36m0:00:00\u001b[0m\n",
      "\u001b[?25hDownloading nvidia_cusparse_cu12-12.3.1.170-py3-none-manylinux2014_x86_64.whl (207.5 MB)\n",
      "\u001b[2K   \u001b[90m━━━━━━━━━━━━━━━━━━━━━━━━━━━━━━━━━━━━━━━━\u001b[0m \u001b[32m207.5/207.5 MB\u001b[0m \u001b[31m6.2 MB/s\u001b[0m eta \u001b[36m0:00:00\u001b[0m\n",
      "\u001b[?25hDownloading nvidia_nvjitlink_cu12-12.4.127-py3-none-manylinux2014_x86_64.whl (21.1 MB)\n",
      "\u001b[2K   \u001b[90m━━━━━━━━━━━━━━━━━━━━━━━━━━━━━━━━━━━━━━━━\u001b[0m \u001b[32m21.1/21.1 MB\u001b[0m \u001b[31m52.8 MB/s\u001b[0m eta \u001b[36m0:00:00\u001b[0m\n",
      "\u001b[?25hInstalling collected packages: nvidia-nvjitlink-cu12, nvidia-curand-cu12, nvidia-cufft-cu12, nvidia-cuda-runtime-cu12, nvidia-cuda-nvrtc-cu12, nvidia-cuda-cupti-cu12, nvidia-cublas-cu12, nvidia-cusparse-cu12, nvidia-cudnn-cu12, nvidia-cusolver-cu12\n",
      "  Attempting uninstall: nvidia-nvjitlink-cu12\n",
      "    Found existing installation: nvidia-nvjitlink-cu12 12.5.82\n",
      "    Uninstalling nvidia-nvjitlink-cu12-12.5.82:\n",
      "      Successfully uninstalled nvidia-nvjitlink-cu12-12.5.82\n",
      "  Attempting uninstall: nvidia-curand-cu12\n",
      "    Found existing installation: nvidia-curand-cu12 10.3.6.82\n",
      "    Uninstalling nvidia-curand-cu12-10.3.6.82:\n",
      "      Successfully uninstalled nvidia-curand-cu12-10.3.6.82\n",
      "  Attempting uninstall: nvidia-cufft-cu12\n",
      "    Found existing installation: nvidia-cufft-cu12 11.2.3.61\n",
      "    Uninstalling nvidia-cufft-cu12-11.2.3.61:\n",
      "      Successfully uninstalled nvidia-cufft-cu12-11.2.3.61\n",
      "  Attempting uninstall: nvidia-cuda-runtime-cu12\n",
      "    Found existing installation: nvidia-cuda-runtime-cu12 12.5.82\n",
      "    Uninstalling nvidia-cuda-runtime-cu12-12.5.82:\n",
      "      Successfully uninstalled nvidia-cuda-runtime-cu12-12.5.82\n",
      "  Attempting uninstall: nvidia-cuda-nvrtc-cu12\n",
      "    Found existing installation: nvidia-cuda-nvrtc-cu12 12.5.82\n",
      "    Uninstalling nvidia-cuda-nvrtc-cu12-12.5.82:\n",
      "      Successfully uninstalled nvidia-cuda-nvrtc-cu12-12.5.82\n",
      "  Attempting uninstall: nvidia-cuda-cupti-cu12\n",
      "    Found existing installation: nvidia-cuda-cupti-cu12 12.5.82\n",
      "    Uninstalling nvidia-cuda-cupti-cu12-12.5.82:\n",
      "      Successfully uninstalled nvidia-cuda-cupti-cu12-12.5.82\n",
      "  Attempting uninstall: nvidia-cublas-cu12\n",
      "    Found existing installation: nvidia-cublas-cu12 12.5.3.2\n",
      "    Uninstalling nvidia-cublas-cu12-12.5.3.2:\n",
      "      Successfully uninstalled nvidia-cublas-cu12-12.5.3.2\n",
      "  Attempting uninstall: nvidia-cusparse-cu12\n",
      "    Found existing installation: nvidia-cusparse-cu12 12.5.1.3\n",
      "    Uninstalling nvidia-cusparse-cu12-12.5.1.3:\n",
      "      Successfully uninstalled nvidia-cusparse-cu12-12.5.1.3\n",
      "  Attempting uninstall: nvidia-cudnn-cu12\n",
      "    Found existing installation: nvidia-cudnn-cu12 9.3.0.75\n",
      "    Uninstalling nvidia-cudnn-cu12-9.3.0.75:\n",
      "      Successfully uninstalled nvidia-cudnn-cu12-9.3.0.75\n",
      "  Attempting uninstall: nvidia-cusolver-cu12\n",
      "    Found existing installation: nvidia-cusolver-cu12 11.6.3.83\n",
      "    Uninstalling nvidia-cusolver-cu12-11.6.3.83:\n",
      "      Successfully uninstalled nvidia-cusolver-cu12-11.6.3.83\n",
      "Successfully installed nvidia-cublas-cu12-12.4.5.8 nvidia-cuda-cupti-cu12-12.4.127 nvidia-cuda-nvrtc-cu12-12.4.127 nvidia-cuda-runtime-cu12-12.4.127 nvidia-cudnn-cu12-9.1.0.70 nvidia-cufft-cu12-11.2.1.3 nvidia-curand-cu12-10.3.5.147 nvidia-cusolver-cu12-11.6.1.9 nvidia-cusparse-cu12-12.3.1.170 nvidia-nvjitlink-cu12-12.4.127\n"
     ]
    }
   ],
   "source": [
    "pip install sentence-transformers"
   ]
  },
  {
   "cell_type": "code",
   "execution_count": 25,
   "id": "dW3ENFAQmRT4",
   "metadata": {
    "executionInfo": {
     "elapsed": 35385,
     "status": "ok",
     "timestamp": 1748196188659,
     "user": {
      "displayName": "Promise Ibediogwu",
      "userId": "14544577992882322965"
     },
     "user_tz": -60
    },
    "id": "dW3ENFAQmRT4"
   },
   "outputs": [],
   "source": [
    "from sentence_transformers import SentenceTransformer, util\n",
    "import torch"
   ]
  },
  {
   "cell_type": "code",
   "execution_count": 26,
   "id": "Ov7kcix-nFXP",
   "metadata": {
    "colab": {
     "base_uri": "https://localhost:8080/",
     "height": 424,
     "referenced_widgets": [
      "fa6d1ad8a34d422b99b52576c444be6e",
      "b0b889de2cd442deade8beaa1a3cfbb8",
      "d8a36b99ca024eefb84f233efb306a03",
      "e86b2bdbac9e41ce9efdac969469e5db",
      "7c11c5c2328949cca45f3162ef98faa9",
      "6ed35fb370fb4cbf81e38a34cacfbc64",
      "ceede9eb4e6d47498b0a9ffa29028e19",
      "c3f500afebd044eb9fdd11f74e6c83d8",
      "18b14f1863d74ecd99ce141e6d92ba93",
      "43424cdce75a4c9ea4acef13ab3b8df9",
      "b65842dac50e4af0ad0fd2264072324f",
      "c4aa8b12a0b247e2abca28727632e59d",
      "384954553671420b9fc9239fee5b454b",
      "29e1bb17fb3a4b50ab226ebedf6c7c7c",
      "787a68d22972494b8e7ab52d2fff750a",
      "8967bf35b56441e8994dd9ccfcfb6143",
      "f78a3e3cb1264a389efe51a44a482114",
      "724ee2b2d780464f92db8df1d499e5fc",
      "406b0e728cd643289d454846498e6074",
      "8e7bbcaf6ec04930972b4df8b96763e3",
      "fd787f14277a4987b8cfb6ca1c8b6954",
      "2101b0e1fa0443c4978b2977d0221e01",
      "058b8088475e418ca9b3b5df3fbac508",
      "a82fccc81a8a4ffb89f76cead0409f47",
      "a8f2778263a64f109e7aa55243161af0",
      "e0a0398e1f41434a8cf72efc91ba40ab",
      "7c0ae35548d247bab2e2c41b206bf7e0",
      "406bb3f3fbbd4336a1fceaa13c0721aa",
      "65ff909b2b384bb6871086f08b419fdd",
      "a4091b1e0c004445a4fa3cad122e7f8f",
      "a9f86d9e22104d8cbb53a0ba9d7d977b",
      "ced09a43156845d1adadc0b0bf475c01",
      "966b85cde43c4746997ab443f536da75",
      "c52e3781a1a24ac7a198b54acc6c6138",
      "8773ac6bb4064d18acaa7cde0cef6412",
      "ac85f95694fd48a39539db5882f6fef9",
      "0eee9d6779b5402d93d267ea4252fff8",
      "c16ee873c9f544a1a4177bba4b02db3b",
      "bcc1ad8291fa47fa8a6fe3f9ee7f593a",
      "a3f434bfb2864feebd83e342413e3372",
      "e7a5586a97764848836d0364b6cbc14e",
      "507b4fe7073c48eba698556c9154a023",
      "d63fadd179de45c4bb75627ed0c985b8",
      "ddd6fbba5ae245b791329de3f2ae4e14",
      "901944e8adb349afb9ecdd21faa17244",
      "81d4049501294c02814b3817e4fb1736",
      "a14cd8150c314c2d94c7714d56e9b33c",
      "05c2e8528df2457cbbf8432df643fc62",
      "c8318d2dc94045dab969de98df24ec03",
      "0830f6f9fcc240a08e0b64c2e3abbd1a",
      "7e2c6ec9832b4b47ae18e5ace26d0e68",
      "be362f475745448b93358a79e66c2c9f",
      "12ae1dda1d534faaa395caa3c9f214b4",
      "e62953726265403d8a082076e5a07659",
      "748ca267af9e4d95bafdaa6212b0d662",
      "77b08c04f0ec4e42b69c0acbebfe055e",
      "1e250b25e8ee4f47a6d3c18de326cfa3",
      "f9cbffb603e44308b70fa13b4ee98a59",
      "6c6a77a9751841d99c1f185f3163ceb2",
      "dc1e3646adc1459daa869841a35490a6",
      "dc11e24e8d734f1cae638f574d90cb46",
      "c39361a54087465795d3d95f9009c288",
      "c081ffb05a9d4657a027f51b703c55ca",
      "770cc8108be24a07b028d3d6779a6539",
      "5665db612ae54cb7becf6bef080e33ea",
      "dad4fc0982e04bd0982dd26c9cfcca0a",
      "ed8fc8363611466193ce8cb4f772d1c6",
      "290c9db38e954624a9052a9af82d71af",
      "a021ff9d98fb4fa6837a67b47f039062",
      "ec14ca78882340ad9a90807d5bbd756f",
      "d5709289cb6b4756a509b5606a61b763",
      "aa48b6e215e34882aedf9fe4f65fe188",
      "ea6e8db6a76b42b8b6570f6c066e9e76",
      "f34b44f598254ae2be24925faa301731",
      "73d9e1a17ab6470cb1477c8963826467",
      "f3ee1907d0b143959a908b2942f3d8e0",
      "cbfc30c07942413e96743ae6996e12d4",
      "0f8e7baafbb545fdabd6083c3748725c",
      "226dffd69cb54fb18b7e474dc22883f5",
      "f1ef3298fec047419803c52f2b2028e2",
      "1b435ffd157a4fe492935af104121fd7",
      "63e8a639d5db4e3f92a01c10266a7aea",
      "a3e33509e4324cba9e9e137f337c0e36",
      "c061e5f8f3424c9e8a9effc44e7c1ddd",
      "ac1705b8e1fa429385c7213ebf82448f",
      "4988bd519f1a42c481602d7b1eb71311",
      "626a6ea39c78484e90dca9a6520ec629",
      "fc170e6b06ec478d8d5a4dae0622e5b2",
      "a757773df9b24bddb5a6c4d1c4f65b1b",
      "76fff33a918e439e95064d5206712311",
      "d20164393c764d05b58c68105bf12de4",
      "1dcbb2cba4c442a698d3e39b6893838c",
      "b676d3a436e54f1fa86f9ba7df2bdf50",
      "8478406f342c4f9f9e589a18187dd7d2",
      "e6cabe0ed48a45048f9bf550d13b62f2",
      "1ac7f39cae7543f388e22bc70b19b730",
      "9f43db887fc24b41ae7e3e27eab009be",
      "1ecfc541944b49689041b10e56d722be",
      "0f4d92d7f57a48389d842a73cd8a0fcd",
      "52be171c78814db394cf291851298e89",
      "0a77cccdee194ea49a32a5968e7cc476",
      "e152466c1eeb4d3798d58978a598dbca",
      "e73d1dc278fc487fbc98a51484d4d4bf",
      "05e70047969b4f78adf6026c75521d90",
      "72b05127d075452db61d550f74059f02",
      "b4b159763004453f87fc89b2f487d383",
      "6923228d75434075bfd71027c2a2c38a",
      "c77cfe94b42b4bd9a1179a4d2e01786b",
      "afe51b15660340a88ae8828ec371878c",
      "79e508f05c67411a92984619380bc17d",
      "8cdb8eee85094864835fc1ac5e7beee9",
      "af73fa4f07f24ba49a33a0a824635025",
      "70c95be602fa458aafb615c31f36adf1",
      "f92bfabe658a4fdeac43161310c1851c",
      "ef4cfe1ee2fc4b2dbfc387553fa9ee30",
      "17c3b5ce30344251a59fca9511055616",
      "9ad106c0f3dc49e8ba851121f49bec2b",
      "1738df2caa034f4990857c8c3f46ccad",
      "3d2cbf2a9860493fa1117486bf60d109",
      "ca8a4ae0776e46e89c698afe1cdd3aca",
      "6a70a15f6543460ca28a0d6a2c25ffcc"
     ]
    },
    "executionInfo": {
     "elapsed": 15604,
     "status": "ok",
     "timestamp": 1748196262786,
     "user": {
      "displayName": "Promise Ibediogwu",
      "userId": "14544577992882322965"
     },
     "user_tz": -60
    },
    "id": "Ov7kcix-nFXP",
    "outputId": "d57c7e53-3866-4d80-bee1-22a5406d7d4d"
   },
   "outputs": [
    {
     "data": {
      "application/vnd.jupyter.widget-view+json": {
       "model_id": "fa6d1ad8a34d422b99b52576c444be6e",
       "version_major": 2,
       "version_minor": 0
      },
      "text/plain": [
       "modules.json:   0%|          | 0.00/349 [00:00<?, ?B/s]"
      ]
     },
     "metadata": {},
     "output_type": "display_data"
    },
    {
     "data": {
      "application/vnd.jupyter.widget-view+json": {
       "model_id": "c4aa8b12a0b247e2abca28727632e59d",
       "version_major": 2,
       "version_minor": 0
      },
      "text/plain": [
       "config_sentence_transformers.json:   0%|          | 0.00/116 [00:00<?, ?B/s]"
      ]
     },
     "metadata": {},
     "output_type": "display_data"
    },
    {
     "data": {
      "application/vnd.jupyter.widget-view+json": {
       "model_id": "058b8088475e418ca9b3b5df3fbac508",
       "version_major": 2,
       "version_minor": 0
      },
      "text/plain": [
       "README.md:   0%|          | 0.00/10.5k [00:00<?, ?B/s]"
      ]
     },
     "metadata": {},
     "output_type": "display_data"
    },
    {
     "data": {
      "application/vnd.jupyter.widget-view+json": {
       "model_id": "c52e3781a1a24ac7a198b54acc6c6138",
       "version_major": 2,
       "version_minor": 0
      },
      "text/plain": [
       "sentence_bert_config.json:   0%|          | 0.00/53.0 [00:00<?, ?B/s]"
      ]
     },
     "metadata": {},
     "output_type": "display_data"
    },
    {
     "data": {
      "application/vnd.jupyter.widget-view+json": {
       "model_id": "901944e8adb349afb9ecdd21faa17244",
       "version_major": 2,
       "version_minor": 0
      },
      "text/plain": [
       "config.json:   0%|          | 0.00/612 [00:00<?, ?B/s]"
      ]
     },
     "metadata": {},
     "output_type": "display_data"
    },
    {
     "name": "stderr",
     "output_type": "stream",
     "text": [
      "Xet Storage is enabled for this repo, but the 'hf_xet' package is not installed. Falling back to regular HTTP download. For better performance, install the package with: `pip install huggingface_hub[hf_xet]` or `pip install hf_xet`\n",
      "WARNING:huggingface_hub.file_download:Xet Storage is enabled for this repo, but the 'hf_xet' package is not installed. Falling back to regular HTTP download. For better performance, install the package with: `pip install huggingface_hub[hf_xet]` or `pip install hf_xet`\n"
     ]
    },
    {
     "data": {
      "application/vnd.jupyter.widget-view+json": {
       "model_id": "77b08c04f0ec4e42b69c0acbebfe055e",
       "version_major": 2,
       "version_minor": 0
      },
      "text/plain": [
       "model.safetensors:   0%|          | 0.00/90.9M [00:00<?, ?B/s]"
      ]
     },
     "metadata": {},
     "output_type": "display_data"
    },
    {
     "data": {
      "application/vnd.jupyter.widget-view+json": {
       "model_id": "ed8fc8363611466193ce8cb4f772d1c6",
       "version_major": 2,
       "version_minor": 0
      },
      "text/plain": [
       "tokenizer_config.json:   0%|          | 0.00/350 [00:00<?, ?B/s]"
      ]
     },
     "metadata": {},
     "output_type": "display_data"
    },
    {
     "data": {
      "application/vnd.jupyter.widget-view+json": {
       "model_id": "0f8e7baafbb545fdabd6083c3748725c",
       "version_major": 2,
       "version_minor": 0
      },
      "text/plain": [
       "vocab.txt:   0%|          | 0.00/232k [00:00<?, ?B/s]"
      ]
     },
     "metadata": {},
     "output_type": "display_data"
    },
    {
     "data": {
      "application/vnd.jupyter.widget-view+json": {
       "model_id": "a757773df9b24bddb5a6c4d1c4f65b1b",
       "version_major": 2,
       "version_minor": 0
      },
      "text/plain": [
       "tokenizer.json:   0%|          | 0.00/466k [00:00<?, ?B/s]"
      ]
     },
     "metadata": {},
     "output_type": "display_data"
    },
    {
     "data": {
      "application/vnd.jupyter.widget-view+json": {
       "model_id": "52be171c78814db394cf291851298e89",
       "version_major": 2,
       "version_minor": 0
      },
      "text/plain": [
       "special_tokens_map.json:   0%|          | 0.00/112 [00:00<?, ?B/s]"
      ]
     },
     "metadata": {},
     "output_type": "display_data"
    },
    {
     "data": {
      "application/vnd.jupyter.widget-view+json": {
       "model_id": "8cdb8eee85094864835fc1ac5e7beee9",
       "version_major": 2,
       "version_minor": 0
      },
      "text/plain": [
       "config.json:   0%|          | 0.00/190 [00:00<?, ?B/s]"
      ]
     },
     "metadata": {},
     "output_type": "display_data"
    }
   ],
   "source": [
    "# Load model\n",
    "model = SentenceTransformer('all-MiniLM-L6-v2')  # Fast and effective"
   ]
  },
  {
   "cell_type": "code",
   "execution_count": 27,
   "id": "dFHJUTmjncTm",
   "metadata": {
    "executionInfo": {
     "elapsed": 27,
     "status": "ok",
     "timestamp": 1748196284613,
     "user": {
      "displayName": "Promise Ibediogwu",
      "userId": "14544577992882322965"
     },
     "user_tz": -60
    },
    "id": "dFHJUTmjncTm"
   },
   "outputs": [],
   "source": [
    "# Skill gaps from resume\n",
    "missing_skills = [\"machine learning\", \"python\", \"deep learning\"]"
   ]
  },
  {
   "cell_type": "code",
   "execution_count": 30,
   "id": "3U4btNS4nlbd",
   "metadata": {
    "executionInfo": {
     "elapsed": 203,
     "status": "ok",
     "timestamp": 1748196370806,
     "user": {
      "displayName": "Promise Ibediogwu",
      "userId": "14544577992882322965"
     },
     "user_tz": -60
    },
    "id": "3U4btNS4nlbd"
   },
   "outputs": [],
   "source": [
    "#performing the extraction\n",
    "matched_skills, missing_skills, percentage = extract_skills(clean_resume_text, skill_gap_data['ACCOUNTANT'])\n"
   ]
  },
  {
   "cell_type": "code",
   "execution_count": 31,
   "id": "ObyL56SwnwO8",
   "metadata": {
    "colab": {
     "base_uri": "https://localhost:8080/"
    },
    "executionInfo": {
     "elapsed": 13,
     "status": "ok",
     "timestamp": 1748196381227,
     "user": {
      "displayName": "Promise Ibediogwu",
      "userId": "14544577992882322965"
     },
     "user_tz": -60
    },
    "id": "ObyL56SwnwO8",
    "outputId": "e7706203-fb2f-48dd-cf56-b68162b2ec9f"
   },
   "outputs": [
    {
     "data": {
      "text/plain": [
       "['Taxation',\n",
       " 'QuickBooks',\n",
       " 'Budget Forecasting',\n",
       " 'Excel (Advanced)',\n",
       " 'Data Analytics',\n",
       " 'GAAP',\n",
       " 'IFRS',\n",
       " 'Internal Controls',\n",
       " 'Cash Flow Management',\n",
       " 'Power BI',\n",
       " 'Financial Modeling',\n",
       " 'Automation in Accounting (RPA)']"
      ]
     },
     "execution_count": 31,
     "metadata": {},
     "output_type": "execute_result"
    }
   ],
   "source": [
    "missing_skills"
   ]
  },
  {
   "cell_type": "code",
   "execution_count": 32,
   "id": "beAoQRK5okYP",
   "metadata": {
    "executionInfo": {
     "elapsed": 5,
     "status": "ok",
     "timestamp": 1748196626708,
     "user": {
      "displayName": "Promise Ibediogwu",
      "userId": "14544577992882322965"
     },
     "user_tz": -60
    },
    "id": "beAoQRK5okYP"
   },
   "outputs": [],
   "source": [
    "recommended_courses_path = '/content/drive/MyDrive/Colab Notebooks/AI-Powered-Career-Guidance/AI-powered-career-guidance-project-dataset/data/recommended_courses.json'"
   ]
  },
  {
   "cell_type": "code",
   "execution_count": 33,
   "id": "yy0aClDwn9Cf",
   "metadata": {
    "executionInfo": {
     "elapsed": 405,
     "status": "ok",
     "timestamp": 1748196635910,
     "user": {
      "displayName": "Promise Ibediogwu",
      "userId": "14544577992882322965"
     },
     "user_tz": -60
    },
    "id": "yy0aClDwn9Cf"
   },
   "outputs": [],
   "source": [
    "with open(recommended_courses_path, 'r') as file:\n",
    "    recommended_courses_data = json.load(file)"
   ]
  },
  {
   "cell_type": "code",
   "execution_count": 34,
   "id": "YY1V5Vg_o7H9",
   "metadata": {
    "colab": {
     "base_uri": "https://localhost:8080/"
    },
    "executionInfo": {
     "elapsed": 25,
     "status": "ok",
     "timestamp": 1748196647400,
     "user": {
      "displayName": "Promise Ibediogwu",
      "userId": "14544577992882322965"
     },
     "user_tz": -60
    },
    "id": "YY1V5Vg_o7H9",
    "outputId": "095481a2-fe22-4a34-d208-c2d7208d5101"
   },
   "outputs": [
    {
     "data": {
      "text/plain": [
       "dict_keys(['ACCOUNTANT', 'ADVOCATE', 'AGRICULTURE', 'APPAREL', 'ARTS', 'AUTOMOBILE', 'AVIATION', 'BANKING', 'BPO', 'BUSINESS-DEVELOPMENT', 'CHEF', 'CONSTRUCTION', 'CONSULTANT', 'DATA ANALYST_SCIENTIST', 'DESIGNER', 'DIGITAL-MEDIA', 'ENGINEERING', 'FINANCE', 'FITNESS', 'HEALTHCARE', 'HR', 'INFORMATION-TECHNOLOGY', 'PUBLIC-RELATIONS', 'SALES', 'TEACHER'])"
      ]
     },
     "execution_count": 34,
     "metadata": {},
     "output_type": "execute_result"
    }
   ],
   "source": [
    "recommended_courses_data.keys()"
   ]
  },
  {
   "cell_type": "code",
   "execution_count": 35,
   "id": "h9KV6jTbo9_i",
   "metadata": {
    "executionInfo": {
     "elapsed": 76,
     "status": "ok",
     "timestamp": 1748196705450,
     "user": {
      "displayName": "Promise Ibediogwu",
      "userId": "14544577992882322965"
     },
     "user_tz": -60
    },
    "id": "h9KV6jTbo9_i"
   },
   "outputs": [],
   "source": [
    "# Combine course title + description for embedding\n",
    "course_texts = [c['title'] + \". \" + c['description'] for c in recommended_courses_data['ACCOUNTANT']]"
   ]
  },
  {
   "cell_type": "code",
   "execution_count": 37,
   "id": "W79ZQM46pMLo",
   "metadata": {
    "colab": {
     "base_uri": "https://localhost:8080/"
    },
    "executionInfo": {
     "elapsed": 11,
     "status": "ok",
     "timestamp": 1748196717101,
     "user": {
      "displayName": "Promise Ibediogwu",
      "userId": "14544577992882322965"
     },
     "user_tz": -60
    },
    "id": "W79ZQM46pMLo",
    "outputId": "1d6f3f55-421d-43e0-b84f-4b3e8a0bc057"
   },
   "outputs": [
    {
     "data": {
      "text/plain": [
       "['Introduction to Financial Accounting. Learn the basics of financial accounting including how to prepare and analyze financial statements.',\n",
       " 'Accounting Fundamentals. A foundational course covering key accounting principles and bookkeeping techniques.',\n",
       " 'CPA Exam Preparation: Financial Accounting. Focused preparation for the CPA exam with emphasis on financial accounting topics.',\n",
       " 'Excel Skills for Accounting. Master Excel tools and formulas essential for accounting and financial data analysis.']"
      ]
     },
     "execution_count": 37,
     "metadata": {},
     "output_type": "execute_result"
    }
   ],
   "source": [
    "course_texts"
   ]
  },
  {
   "cell_type": "code",
   "execution_count": 38,
   "id": "lZztX275pNzO",
   "metadata": {
    "executionInfo": {
     "elapsed": 804,
     "status": "ok",
     "timestamp": 1748197111510,
     "user": {
      "displayName": "Promise Ibediogwu",
      "userId": "14544577992882322965"
     },
     "user_tz": -60
    },
    "id": "lZztX275pNzO"
   },
   "outputs": [],
   "source": [
    "course_embeddings = model.encode(course_texts, convert_to_tensor=True)"
   ]
  },
  {
   "cell_type": "code",
   "execution_count": 39,
   "id": "Mg2AICsLqvJ1",
   "metadata": {
    "colab": {
     "base_uri": "https://localhost:8080/"
    },
    "executionInfo": {
     "elapsed": 35,
     "status": "ok",
     "timestamp": 1748197119695,
     "user": {
      "displayName": "Promise Ibediogwu",
      "userId": "14544577992882322965"
     },
     "user_tz": -60
    },
    "id": "Mg2AICsLqvJ1",
    "outputId": "daec7ee7-39f7-46a9-8768-93e7df06e672"
   },
   "outputs": [
    {
     "data": {
      "text/plain": [
       "tensor([[ 0.0274,  0.0328, -0.0441,  ...,  0.0667, -0.0078,  0.0548],\n",
       "        [-0.0002,  0.0499, -0.0672,  ..., -0.0378, -0.0016,  0.0509],\n",
       "        [-0.0035,  0.0669, -0.0794,  ...,  0.0137,  0.0134,  0.0295],\n",
       "        [ 0.0071,  0.0499, -0.0719,  ...,  0.0329, -0.0095,  0.0021]])"
      ]
     },
     "execution_count": 39,
     "metadata": {},
     "output_type": "execute_result"
    }
   ],
   "source": [
    "course_embeddings"
   ]
  },
  {
   "cell_type": "code",
   "execution_count": 47,
   "id": "zZhRgkgRqxUw",
   "metadata": {
    "colab": {
     "base_uri": "https://localhost:8080/"
    },
    "executionInfo": {
     "elapsed": 407,
     "status": "ok",
     "timestamp": 1748199701583,
     "user": {
      "displayName": "Promise Ibediogwu",
      "userId": "14544577992882322965"
     },
     "user_tz": -60
    },
    "id": "zZhRgkgRqxUw",
    "outputId": "2d19cbf8-f60e-4b32-fb1b-6f39a979e69e"
   },
   "outputs": [
    {
     "name": "stdout",
     "output_type": "stream",
     "text": [
      "\n",
      "🔹 Recommendations for Course for Taxation skill\n",
      "  - Accounting Fundamentals (https://www.udemy.com/course/accounting-fundamentals/)\n",
      "  - CPA Exam Preparation: Financial Accounting (https://www.udemy.com/course/cpa-financial-accounting/)\n",
      "  - Introduction to Financial Accounting (https://www.coursera.org/learn/wharton-accounting)\n",
      "\n",
      "🔹 Recommendations for Course for QuickBooks skill\n",
      "  - Excel Skills for Accounting (https://www.linkedin.com/learning/excel-for-accounting)\n",
      "  - Accounting Fundamentals (https://www.udemy.com/course/accounting-fundamentals/)\n",
      "  - CPA Exam Preparation: Financial Accounting (https://www.udemy.com/course/cpa-financial-accounting/)\n",
      "\n",
      "🔹 Recommendations for Course for Budget Forecasting skill\n",
      "  - CPA Exam Preparation: Financial Accounting (https://www.udemy.com/course/cpa-financial-accounting/)\n",
      "  - Introduction to Financial Accounting (https://www.coursera.org/learn/wharton-accounting)\n",
      "  - Excel Skills for Accounting (https://www.linkedin.com/learning/excel-for-accounting)\n",
      "\n",
      "🔹 Recommendations for Course for Excel (Advanced) skill\n",
      "  - Excel Skills for Accounting (https://www.linkedin.com/learning/excel-for-accounting)\n",
      "  - CPA Exam Preparation: Financial Accounting (https://www.udemy.com/course/cpa-financial-accounting/)\n",
      "  - Introduction to Financial Accounting (https://www.coursera.org/learn/wharton-accounting)\n",
      "\n",
      "🔹 Recommendations for Course for Data Analytics skill\n",
      "  - Excel Skills for Accounting (https://www.linkedin.com/learning/excel-for-accounting)\n",
      "  - Accounting Fundamentals (https://www.udemy.com/course/accounting-fundamentals/)\n",
      "  - Introduction to Financial Accounting (https://www.coursera.org/learn/wharton-accounting)\n",
      "\n",
      "🔹 Recommendations for Course for GAAP skill\n",
      "  - Accounting Fundamentals (https://www.udemy.com/course/accounting-fundamentals/)\n",
      "  - CPA Exam Preparation: Financial Accounting (https://www.udemy.com/course/cpa-financial-accounting/)\n",
      "  - Introduction to Financial Accounting (https://www.coursera.org/learn/wharton-accounting)\n",
      "\n",
      "🔹 Recommendations for Course for IFRS skill\n",
      "  - Excel Skills for Accounting (https://www.linkedin.com/learning/excel-for-accounting)\n",
      "  - Accounting Fundamentals (https://www.udemy.com/course/accounting-fundamentals/)\n",
      "  - CPA Exam Preparation: Financial Accounting (https://www.udemy.com/course/cpa-financial-accounting/)\n",
      "\n",
      "🔹 Recommendations for Course for Internal Controls skill\n",
      "  - CPA Exam Preparation: Financial Accounting (https://www.udemy.com/course/cpa-financial-accounting/)\n",
      "  - Accounting Fundamentals (https://www.udemy.com/course/accounting-fundamentals/)\n",
      "  - Excel Skills for Accounting (https://www.linkedin.com/learning/excel-for-accounting)\n",
      "\n",
      "🔹 Recommendations for Course for Cash Flow Management skill\n",
      "  - Accounting Fundamentals (https://www.udemy.com/course/accounting-fundamentals/)\n",
      "  - Introduction to Financial Accounting (https://www.coursera.org/learn/wharton-accounting)\n",
      "  - CPA Exam Preparation: Financial Accounting (https://www.udemy.com/course/cpa-financial-accounting/)\n",
      "\n",
      "🔹 Recommendations for Course for Power BI skill\n",
      "  - CPA Exam Preparation: Financial Accounting (https://www.udemy.com/course/cpa-financial-accounting/)\n",
      "  - Excel Skills for Accounting (https://www.linkedin.com/learning/excel-for-accounting)\n",
      "  - Accounting Fundamentals (https://www.udemy.com/course/accounting-fundamentals/)\n",
      "\n",
      "🔹 Recommendations for Course for Financial Modeling skill\n",
      "  - Introduction to Financial Accounting (https://www.coursera.org/learn/wharton-accounting)\n",
      "  - Accounting Fundamentals (https://www.udemy.com/course/accounting-fundamentals/)\n",
      "  - CPA Exam Preparation: Financial Accounting (https://www.udemy.com/course/cpa-financial-accounting/)\n",
      "\n",
      "🔹 Recommendations for Course for Automation in Accounting (RPA) skill\n",
      "  - CPA Exam Preparation: Financial Accounting (https://www.udemy.com/course/cpa-financial-accounting/)\n",
      "  - Accounting Fundamentals (https://www.udemy.com/course/accounting-fundamentals/)\n",
      "  - Introduction to Financial Accounting (https://www.coursera.org/learn/wharton-accounting)\n"
     ]
    }
   ],
   "source": [
    "# Encode each missing skill and get best matches\n",
    "recommendations = {}\n",
    "for skill in missing_skills:\n",
    "    skill_embedding = model.encode(skill, convert_to_tensor=True)\n",
    "    similarities = util.cos_sim(skill_embedding, course_embeddings)[0]\n",
    "\n",
    "    top_k = torch.topk(similarities, k=3)  # Top 2 matches\n",
    "    top_indices = top_k.indices.tolist()\n",
    "\n",
    "    matched_courses = [recommended_courses_data['ACCOUNTANT'][i] for i in top_indices]  # Use actual top matches\n",
    "    recommendations[skill] = matched_courses\n",
    "\n",
    "# Print result\n",
    "for skill, recs in recommendations.items():\n",
    "    print(f\"\\n🔹 Recommendations for Course for {skill} skill\")\n",
    "    for rec in recs:\n",
    "        print(f\"  - {rec['title']} ({rec['url']})\")"
   ]
  },
  {
   "cell_type": "code",
   "execution_count": null,
   "id": "Qs368LZ7rPCB",
   "metadata": {
    "id": "Qs368LZ7rPCB"
   },
   "outputs": [],
   "source": []
  }
 ],
 "metadata": {
  "colab": {
   "provenance": []
  },
  "kernelspec": {
   "display_name": "career-guidance",
   "language": "python",
   "name": "python3"
  },
  "language_info": {
   "codemirror_mode": {
    "name": "ipython",
    "version": 3
   },
   "file_extension": ".py",
   "mimetype": "text/x-python",
   "name": "python",
   "nbconvert_exporter": "python",
   "pygments_lexer": "ipython3",
   "version": "3.13.2"
  },
  "widgets": {
   "application/vnd.jupyter.widget-state+json": {
    "0181343d2c9e42b59120d8b4d25b9554": {
     "model_module": "@jupyter-widgets/base",
     "model_module_version": "1.2.0",
     "model_name": "LayoutModel",
     "state": {
      "_model_module": "@jupyter-widgets/base",
      "_model_module_version": "1.2.0",
      "_model_name": "LayoutModel",
      "_view_count": null,
      "_view_module": "@jupyter-widgets/base",
      "_view_module_version": "1.2.0",
      "_view_name": "LayoutView",
      "align_content": null,
      "align_items": null,
      "align_self": null,
      "border": null,
      "bottom": null,
      "display": null,
      "flex": null,
      "flex_flow": null,
      "grid_area": null,
      "grid_auto_columns": null,
      "grid_auto_flow": null,
      "grid_auto_rows": null,
      "grid_column": null,
      "grid_gap": null,
      "grid_row": null,
      "grid_template_areas": null,
      "grid_template_columns": null,
      "grid_template_rows": null,
      "height": null,
      "justify_content": null,
      "justify_items": null,
      "left": null,
      "margin": null,
      "max_height": null,
      "max_width": null,
      "min_height": null,
      "min_width": null,
      "object_fit": null,
      "object_position": null,
      "order": null,
      "overflow": null,
      "overflow_x": null,
      "overflow_y": null,
      "padding": null,
      "right": null,
      "top": null,
      "visibility": null,
      "width": null
     }
    },
    "058b8088475e418ca9b3b5df3fbac508": {
     "model_module": "@jupyter-widgets/controls",
     "model_module_version": "1.5.0",
     "model_name": "HBoxModel",
     "state": {
      "_dom_classes": [],
      "_model_module": "@jupyter-widgets/controls",
      "_model_module_version": "1.5.0",
      "_model_name": "HBoxModel",
      "_view_count": null,
      "_view_module": "@jupyter-widgets/controls",
      "_view_module_version": "1.5.0",
      "_view_name": "HBoxView",
      "box_style": "",
      "children": [
       "IPY_MODEL_a82fccc81a8a4ffb89f76cead0409f47",
       "IPY_MODEL_a8f2778263a64f109e7aa55243161af0",
       "IPY_MODEL_e0a0398e1f41434a8cf72efc91ba40ab"
      ],
      "layout": "IPY_MODEL_7c0ae35548d247bab2e2c41b206bf7e0"
     }
    },
    "05c2e8528df2457cbbf8432df643fc62": {
     "model_module": "@jupyter-widgets/controls",
     "model_module_version": "1.5.0",
     "model_name": "HTMLModel",
     "state": {
      "_dom_classes": [],
      "_model_module": "@jupyter-widgets/controls",
      "_model_module_version": "1.5.0",
      "_model_name": "HTMLModel",
      "_view_count": null,
      "_view_module": "@jupyter-widgets/controls",
      "_view_module_version": "1.5.0",
      "_view_name": "HTMLView",
      "description": "",
      "description_tooltip": null,
      "layout": "IPY_MODEL_e62953726265403d8a082076e5a07659",
      "placeholder": "​",
      "style": "IPY_MODEL_748ca267af9e4d95bafdaa6212b0d662",
      "value": " 612/612 [00:00&lt;00:00, 19.9kB/s]"
     }
    },
    "05e70047969b4f78adf6026c75521d90": {
     "model_module": "@jupyter-widgets/base",
     "model_module_version": "1.2.0",
     "model_name": "LayoutModel",
     "state": {
      "_model_module": "@jupyter-widgets/base",
      "_model_module_version": "1.2.0",
      "_model_name": "LayoutModel",
      "_view_count": null,
      "_view_module": "@jupyter-widgets/base",
      "_view_module_version": "1.2.0",
      "_view_name": "LayoutView",
      "align_content": null,
      "align_items": null,
      "align_self": null,
      "border": null,
      "bottom": null,
      "display": null,
      "flex": null,
      "flex_flow": null,
      "grid_area": null,
      "grid_auto_columns": null,
      "grid_auto_flow": null,
      "grid_auto_rows": null,
      "grid_column": null,
      "grid_gap": null,
      "grid_row": null,
      "grid_template_areas": null,
      "grid_template_columns": null,
      "grid_template_rows": null,
      "height": null,
      "justify_content": null,
      "justify_items": null,
      "left": null,
      "margin": null,
      "max_height": null,
      "max_width": null,
      "min_height": null,
      "min_width": null,
      "object_fit": null,
      "object_position": null,
      "order": null,
      "overflow": null,
      "overflow_x": null,
      "overflow_y": null,
      "padding": null,
      "right": null,
      "top": null,
      "visibility": null,
      "width": null
     }
    },
    "078d4e1106334f259dd68f4d3ed375df": {
     "model_module": "@jupyter-widgets/controls",
     "model_module_version": "1.5.0",
     "model_name": "HTMLModel",
     "state": {
      "_dom_classes": [],
      "_model_module": "@jupyter-widgets/controls",
      "_model_module_version": "1.5.0",
      "_model_name": "HTMLModel",
      "_view_count": null,
      "_view_module": "@jupyter-widgets/controls",
      "_view_module_version": "1.5.0",
      "_view_name": "HTMLView",
      "description": "",
      "description_tooltip": null,
      "layout": "IPY_MODEL_a66d7b92f15e4de080637f5f942c621a",
      "placeholder": "​",
      "style": "IPY_MODEL_bf136dae7ea247dd8e03b8b0c566ee59",
      "value": " 440M/440M [00:01&lt;00:00, 275MB/s]"
     }
    },
    "07cb0e0dd9f7491bb267b7c89ddbcbcf": {
     "model_module": "@jupyter-widgets/controls",
     "model_module_version": "1.5.0",
     "model_name": "HBoxModel",
     "state": {
      "_dom_classes": [],
      "_model_module": "@jupyter-widgets/controls",
      "_model_module_version": "1.5.0",
      "_model_name": "HBoxModel",
      "_view_count": null,
      "_view_module": "@jupyter-widgets/controls",
      "_view_module_version": "1.5.0",
      "_view_name": "HBoxView",
      "box_style": "",
      "children": [
       "IPY_MODEL_527483df7d7346e8a032217cc0c126f0",
       "IPY_MODEL_bc05f63a8e284945b1f657a57f42f1f1",
       "IPY_MODEL_078d4e1106334f259dd68f4d3ed375df"
      ],
      "layout": "IPY_MODEL_6cdabef2b411467993cf1dbcaad79cee"
     }
    },
    "0830f6f9fcc240a08e0b64c2e3abbd1a": {
     "model_module": "@jupyter-widgets/base",
     "model_module_version": "1.2.0",
     "model_name": "LayoutModel",
     "state": {
      "_model_module": "@jupyter-widgets/base",
      "_model_module_version": "1.2.0",
      "_model_name": "LayoutModel",
      "_view_count": null,
      "_view_module": "@jupyter-widgets/base",
      "_view_module_version": "1.2.0",
      "_view_name": "LayoutView",
      "align_content": null,
      "align_items": null,
      "align_self": null,
      "border": null,
      "bottom": null,
      "display": null,
      "flex": null,
      "flex_flow": null,
      "grid_area": null,
      "grid_auto_columns": null,
      "grid_auto_flow": null,
      "grid_auto_rows": null,
      "grid_column": null,
      "grid_gap": null,
      "grid_row": null,
      "grid_template_areas": null,
      "grid_template_columns": null,
      "grid_template_rows": null,
      "height": null,
      "justify_content": null,
      "justify_items": null,
      "left": null,
      "margin": null,
      "max_height": null,
      "max_width": null,
      "min_height": null,
      "min_width": null,
      "object_fit": null,
      "object_position": null,
      "order": null,
      "overflow": null,
      "overflow_x": null,
      "overflow_y": null,
      "padding": null,
      "right": null,
      "top": null,
      "visibility": null,
      "width": null
     }
    },
    "095c2867f84448e693594ef7eb6fe026": {
     "model_module": "@jupyter-widgets/base",
     "model_module_version": "1.2.0",
     "model_name": "LayoutModel",
     "state": {
      "_model_module": "@jupyter-widgets/base",
      "_model_module_version": "1.2.0",
      "_model_name": "LayoutModel",
      "_view_count": null,
      "_view_module": "@jupyter-widgets/base",
      "_view_module_version": "1.2.0",
      "_view_name": "LayoutView",
      "align_content": null,
      "align_items": null,
      "align_self": null,
      "border": null,
      "bottom": null,
      "display": null,
      "flex": null,
      "flex_flow": null,
      "grid_area": null,
      "grid_auto_columns": null,
      "grid_auto_flow": null,
      "grid_auto_rows": null,
      "grid_column": null,
      "grid_gap": null,
      "grid_row": null,
      "grid_template_areas": null,
      "grid_template_columns": null,
      "grid_template_rows": null,
      "height": null,
      "justify_content": null,
      "justify_items": null,
      "left": null,
      "margin": null,
      "max_height": null,
      "max_width": null,
      "min_height": null,
      "min_width": null,
      "object_fit": null,
      "object_position": null,
      "order": null,
      "overflow": null,
      "overflow_x": null,
      "overflow_y": null,
      "padding": null,
      "right": null,
      "top": null,
      "visibility": null,
      "width": null
     }
    },
    "099f363248ab4c728ab3648493c469d6": {
     "model_module": "@jupyter-widgets/base",
     "model_module_version": "1.2.0",
     "model_name": "LayoutModel",
     "state": {
      "_model_module": "@jupyter-widgets/base",
      "_model_module_version": "1.2.0",
      "_model_name": "LayoutModel",
      "_view_count": null,
      "_view_module": "@jupyter-widgets/base",
      "_view_module_version": "1.2.0",
      "_view_name": "LayoutView",
      "align_content": null,
      "align_items": null,
      "align_self": null,
      "border": null,
      "bottom": null,
      "display": null,
      "flex": null,
      "flex_flow": null,
      "grid_area": null,
      "grid_auto_columns": null,
      "grid_auto_flow": null,
      "grid_auto_rows": null,
      "grid_column": null,
      "grid_gap": null,
      "grid_row": null,
      "grid_template_areas": null,
      "grid_template_columns": null,
      "grid_template_rows": null,
      "height": null,
      "justify_content": null,
      "justify_items": null,
      "left": null,
      "margin": null,
      "max_height": null,
      "max_width": null,
      "min_height": null,
      "min_width": null,
      "object_fit": null,
      "object_position": null,
      "order": null,
      "overflow": null,
      "overflow_x": null,
      "overflow_y": null,
      "padding": null,
      "right": null,
      "top": null,
      "visibility": null,
      "width": null
     }
    },
    "0a16d5946cdd48ffb2e81303197becde": {
     "model_module": "@jupyter-widgets/base",
     "model_module_version": "1.2.0",
     "model_name": "LayoutModel",
     "state": {
      "_model_module": "@jupyter-widgets/base",
      "_model_module_version": "1.2.0",
      "_model_name": "LayoutModel",
      "_view_count": null,
      "_view_module": "@jupyter-widgets/base",
      "_view_module_version": "1.2.0",
      "_view_name": "LayoutView",
      "align_content": null,
      "align_items": null,
      "align_self": null,
      "border": null,
      "bottom": null,
      "display": null,
      "flex": null,
      "flex_flow": null,
      "grid_area": null,
      "grid_auto_columns": null,
      "grid_auto_flow": null,
      "grid_auto_rows": null,
      "grid_column": null,
      "grid_gap": null,
      "grid_row": null,
      "grid_template_areas": null,
      "grid_template_columns": null,
      "grid_template_rows": null,
      "height": null,
      "justify_content": null,
      "justify_items": null,
      "left": null,
      "margin": null,
      "max_height": null,
      "max_width": null,
      "min_height": null,
      "min_width": null,
      "object_fit": null,
      "object_position": null,
      "order": null,
      "overflow": null,
      "overflow_x": null,
      "overflow_y": null,
      "padding": null,
      "right": null,
      "top": null,
      "visibility": null,
      "width": null
     }
    },
    "0a77cccdee194ea49a32a5968e7cc476": {
     "model_module": "@jupyter-widgets/controls",
     "model_module_version": "1.5.0",
     "model_name": "HTMLModel",
     "state": {
      "_dom_classes": [],
      "_model_module": "@jupyter-widgets/controls",
      "_model_module_version": "1.5.0",
      "_model_name": "HTMLModel",
      "_view_count": null,
      "_view_module": "@jupyter-widgets/controls",
      "_view_module_version": "1.5.0",
      "_view_name": "HTMLView",
      "description": "",
      "description_tooltip": null,
      "layout": "IPY_MODEL_72b05127d075452db61d550f74059f02",
      "placeholder": "​",
      "style": "IPY_MODEL_b4b159763004453f87fc89b2f487d383",
      "value": "special_tokens_map.json: 100%"
     }
    },
    "0d921787822b4936886a81c41bd745e7": {
     "model_module": "@jupyter-widgets/controls",
     "model_module_version": "1.5.0",
     "model_name": "DescriptionStyleModel",
     "state": {
      "_model_module": "@jupyter-widgets/controls",
      "_model_module_version": "1.5.0",
      "_model_name": "DescriptionStyleModel",
      "_view_count": null,
      "_view_module": "@jupyter-widgets/base",
      "_view_module_version": "1.2.0",
      "_view_name": "StyleView",
      "description_width": ""
     }
    },
    "0eee9d6779b5402d93d267ea4252fff8": {
     "model_module": "@jupyter-widgets/controls",
     "model_module_version": "1.5.0",
     "model_name": "HTMLModel",
     "state": {
      "_dom_classes": [],
      "_model_module": "@jupyter-widgets/controls",
      "_model_module_version": "1.5.0",
      "_model_name": "HTMLModel",
      "_view_count": null,
      "_view_module": "@jupyter-widgets/controls",
      "_view_module_version": "1.5.0",
      "_view_name": "HTMLView",
      "description": "",
      "description_tooltip": null,
      "layout": "IPY_MODEL_d63fadd179de45c4bb75627ed0c985b8",
      "placeholder": "​",
      "style": "IPY_MODEL_ddd6fbba5ae245b791329de3f2ae4e14",
      "value": " 53.0/53.0 [00:00&lt;00:00, 1.52kB/s]"
     }
    },
    "0f4d92d7f57a48389d842a73cd8a0fcd": {
     "model_module": "@jupyter-widgets/controls",
     "model_module_version": "1.5.0",
     "model_name": "DescriptionStyleModel",
     "state": {
      "_model_module": "@jupyter-widgets/controls",
      "_model_module_version": "1.5.0",
      "_model_name": "DescriptionStyleModel",
      "_view_count": null,
      "_view_module": "@jupyter-widgets/base",
      "_view_module_version": "1.2.0",
      "_view_name": "StyleView",
      "description_width": ""
     }
    },
    "0f762776d00e4248ac51381f18ef9f0e": {
     "model_module": "@jupyter-widgets/controls",
     "model_module_version": "1.5.0",
     "model_name": "ProgressStyleModel",
     "state": {
      "_model_module": "@jupyter-widgets/controls",
      "_model_module_version": "1.5.0",
      "_model_name": "ProgressStyleModel",
      "_view_count": null,
      "_view_module": "@jupyter-widgets/base",
      "_view_module_version": "1.2.0",
      "_view_name": "StyleView",
      "bar_color": null,
      "description_width": ""
     }
    },
    "0f8e7baafbb545fdabd6083c3748725c": {
     "model_module": "@jupyter-widgets/controls",
     "model_module_version": "1.5.0",
     "model_name": "HBoxModel",
     "state": {
      "_dom_classes": [],
      "_model_module": "@jupyter-widgets/controls",
      "_model_module_version": "1.5.0",
      "_model_name": "HBoxModel",
      "_view_count": null,
      "_view_module": "@jupyter-widgets/controls",
      "_view_module_version": "1.5.0",
      "_view_name": "HBoxView",
      "box_style": "",
      "children": [
       "IPY_MODEL_226dffd69cb54fb18b7e474dc22883f5",
       "IPY_MODEL_f1ef3298fec047419803c52f2b2028e2",
       "IPY_MODEL_1b435ffd157a4fe492935af104121fd7"
      ],
      "layout": "IPY_MODEL_63e8a639d5db4e3f92a01c10266a7aea"
     }
    },
    "12ae1dda1d534faaa395caa3c9f214b4": {
     "model_module": "@jupyter-widgets/controls",
     "model_module_version": "1.5.0",
     "model_name": "ProgressStyleModel",
     "state": {
      "_model_module": "@jupyter-widgets/controls",
      "_model_module_version": "1.5.0",
      "_model_name": "ProgressStyleModel",
      "_view_count": null,
      "_view_module": "@jupyter-widgets/base",
      "_view_module_version": "1.2.0",
      "_view_name": "StyleView",
      "bar_color": null,
      "description_width": ""
     }
    },
    "1580d9f67cfd4c49afea04c560361e35": {
     "model_module": "@jupyter-widgets/base",
     "model_module_version": "1.2.0",
     "model_name": "LayoutModel",
     "state": {
      "_model_module": "@jupyter-widgets/base",
      "_model_module_version": "1.2.0",
      "_model_name": "LayoutModel",
      "_view_count": null,
      "_view_module": "@jupyter-widgets/base",
      "_view_module_version": "1.2.0",
      "_view_name": "LayoutView",
      "align_content": null,
      "align_items": null,
      "align_self": null,
      "border": null,
      "bottom": null,
      "display": null,
      "flex": null,
      "flex_flow": null,
      "grid_area": null,
      "grid_auto_columns": null,
      "grid_auto_flow": null,
      "grid_auto_rows": null,
      "grid_column": null,
      "grid_gap": null,
      "grid_row": null,
      "grid_template_areas": null,
      "grid_template_columns": null,
      "grid_template_rows": null,
      "height": null,
      "justify_content": null,
      "justify_items": null,
      "left": null,
      "margin": null,
      "max_height": null,
      "max_width": null,
      "min_height": null,
      "min_width": null,
      "object_fit": null,
      "object_position": null,
      "order": null,
      "overflow": null,
      "overflow_x": null,
      "overflow_y": null,
      "padding": null,
      "right": null,
      "top": null,
      "visibility": null,
      "width": null
     }
    },
    "1738df2caa034f4990857c8c3f46ccad": {
     "model_module": "@jupyter-widgets/base",
     "model_module_version": "1.2.0",
     "model_name": "LayoutModel",
     "state": {
      "_model_module": "@jupyter-widgets/base",
      "_model_module_version": "1.2.0",
      "_model_name": "LayoutModel",
      "_view_count": null,
      "_view_module": "@jupyter-widgets/base",
      "_view_module_version": "1.2.0",
      "_view_name": "LayoutView",
      "align_content": null,
      "align_items": null,
      "align_self": null,
      "border": null,
      "bottom": null,
      "display": null,
      "flex": null,
      "flex_flow": null,
      "grid_area": null,
      "grid_auto_columns": null,
      "grid_auto_flow": null,
      "grid_auto_rows": null,
      "grid_column": null,
      "grid_gap": null,
      "grid_row": null,
      "grid_template_areas": null,
      "grid_template_columns": null,
      "grid_template_rows": null,
      "height": null,
      "justify_content": null,
      "justify_items": null,
      "left": null,
      "margin": null,
      "max_height": null,
      "max_width": null,
      "min_height": null,
      "min_width": null,
      "object_fit": null,
      "object_position": null,
      "order": null,
      "overflow": null,
      "overflow_x": null,
      "overflow_y": null,
      "padding": null,
      "right": null,
      "top": null,
      "visibility": null,
      "width": null
     }
    },
    "17c3b5ce30344251a59fca9511055616": {
     "model_module": "@jupyter-widgets/base",
     "model_module_version": "1.2.0",
     "model_name": "LayoutModel",
     "state": {
      "_model_module": "@jupyter-widgets/base",
      "_model_module_version": "1.2.0",
      "_model_name": "LayoutModel",
      "_view_count": null,
      "_view_module": "@jupyter-widgets/base",
      "_view_module_version": "1.2.0",
      "_view_name": "LayoutView",
      "align_content": null,
      "align_items": null,
      "align_self": null,
      "border": null,
      "bottom": null,
      "display": null,
      "flex": null,
      "flex_flow": null,
      "grid_area": null,
      "grid_auto_columns": null,
      "grid_auto_flow": null,
      "grid_auto_rows": null,
      "grid_column": null,
      "grid_gap": null,
      "grid_row": null,
      "grid_template_areas": null,
      "grid_template_columns": null,
      "grid_template_rows": null,
      "height": null,
      "justify_content": null,
      "justify_items": null,
      "left": null,
      "margin": null,
      "max_height": null,
      "max_width": null,
      "min_height": null,
      "min_width": null,
      "object_fit": null,
      "object_position": null,
      "order": null,
      "overflow": null,
      "overflow_x": null,
      "overflow_y": null,
      "padding": null,
      "right": null,
      "top": null,
      "visibility": null,
      "width": null
     }
    },
    "18b14f1863d74ecd99ce141e6d92ba93": {
     "model_module": "@jupyter-widgets/controls",
     "model_module_version": "1.5.0",
     "model_name": "ProgressStyleModel",
     "state": {
      "_model_module": "@jupyter-widgets/controls",
      "_model_module_version": "1.5.0",
      "_model_name": "ProgressStyleModel",
      "_view_count": null,
      "_view_module": "@jupyter-widgets/base",
      "_view_module_version": "1.2.0",
      "_view_name": "StyleView",
      "bar_color": null,
      "description_width": ""
     }
    },
    "1ac7f39cae7543f388e22bc70b19b730": {
     "model_module": "@jupyter-widgets/base",
     "model_module_version": "1.2.0",
     "model_name": "LayoutModel",
     "state": {
      "_model_module": "@jupyter-widgets/base",
      "_model_module_version": "1.2.0",
      "_model_name": "LayoutModel",
      "_view_count": null,
      "_view_module": "@jupyter-widgets/base",
      "_view_module_version": "1.2.0",
      "_view_name": "LayoutView",
      "align_content": null,
      "align_items": null,
      "align_self": null,
      "border": null,
      "bottom": null,
      "display": null,
      "flex": null,
      "flex_flow": null,
      "grid_area": null,
      "grid_auto_columns": null,
      "grid_auto_flow": null,
      "grid_auto_rows": null,
      "grid_column": null,
      "grid_gap": null,
      "grid_row": null,
      "grid_template_areas": null,
      "grid_template_columns": null,
      "grid_template_rows": null,
      "height": null,
      "justify_content": null,
      "justify_items": null,
      "left": null,
      "margin": null,
      "max_height": null,
      "max_width": null,
      "min_height": null,
      "min_width": null,
      "object_fit": null,
      "object_position": null,
      "order": null,
      "overflow": null,
      "overflow_x": null,
      "overflow_y": null,
      "padding": null,
      "right": null,
      "top": null,
      "visibility": null,
      "width": null
     }
    },
    "1b435ffd157a4fe492935af104121fd7": {
     "model_module": "@jupyter-widgets/controls",
     "model_module_version": "1.5.0",
     "model_name": "HTMLModel",
     "state": {
      "_dom_classes": [],
      "_model_module": "@jupyter-widgets/controls",
      "_model_module_version": "1.5.0",
      "_model_name": "HTMLModel",
      "_view_count": null,
      "_view_module": "@jupyter-widgets/controls",
      "_view_module_version": "1.5.0",
      "_view_name": "HTMLView",
      "description": "",
      "description_tooltip": null,
      "layout": "IPY_MODEL_626a6ea39c78484e90dca9a6520ec629",
      "placeholder": "​",
      "style": "IPY_MODEL_fc170e6b06ec478d8d5a4dae0622e5b2",
      "value": " 232k/232k [00:00&lt;00:00, 6.61MB/s]"
     }
    },
    "1c3f27b763a04a33913ae1724a94e9cc": {
     "model_module": "@jupyter-widgets/controls",
     "model_module_version": "1.5.0",
     "model_name": "HTMLModel",
     "state": {
      "_dom_classes": [],
      "_model_module": "@jupyter-widgets/controls",
      "_model_module_version": "1.5.0",
      "_model_name": "HTMLModel",
      "_view_count": null,
      "_view_module": "@jupyter-widgets/controls",
      "_view_module_version": "1.5.0",
      "_view_name": "HTMLView",
      "description": "",
      "description_tooltip": null,
      "layout": "IPY_MODEL_095c2867f84448e693594ef7eb6fe026",
      "placeholder": "​",
      "style": "IPY_MODEL_226f1a01d14543fa9ec4d466fc3bea03",
      "value": " 232k/232k [00:00&lt;00:00, 4.19MB/s]"
     }
    },
    "1dcbb2cba4c442a698d3e39b6893838c": {
     "model_module": "@jupyter-widgets/controls",
     "model_module_version": "1.5.0",
     "model_name": "HTMLModel",
     "state": {
      "_dom_classes": [],
      "_model_module": "@jupyter-widgets/controls",
      "_model_module_version": "1.5.0",
      "_model_name": "HTMLModel",
      "_view_count": null,
      "_view_module": "@jupyter-widgets/controls",
      "_view_module_version": "1.5.0",
      "_view_name": "HTMLView",
      "description": "",
      "description_tooltip": null,
      "layout": "IPY_MODEL_1ecfc541944b49689041b10e56d722be",
      "placeholder": "​",
      "style": "IPY_MODEL_0f4d92d7f57a48389d842a73cd8a0fcd",
      "value": " 466k/466k [00:00&lt;00:00, 26.2MB/s]"
     }
    },
    "1e036571ffb443c5b0cf15cc606c8176": {
     "model_module": "@jupyter-widgets/controls",
     "model_module_version": "1.5.0",
     "model_name": "FloatProgressModel",
     "state": {
      "_dom_classes": [],
      "_model_module": "@jupyter-widgets/controls",
      "_model_module_version": "1.5.0",
      "_model_name": "FloatProgressModel",
      "_view_count": null,
      "_view_module": "@jupyter-widgets/controls",
      "_view_module_version": "1.5.0",
      "_view_name": "ProgressView",
      "bar_style": "success",
      "description": "",
      "description_tooltip": null,
      "layout": "IPY_MODEL_099f363248ab4c728ab3648493c469d6",
      "max": 48,
      "min": 0,
      "orientation": "horizontal",
      "style": "IPY_MODEL_5074d3b0bdc0455c826c70e7a1e8b92f",
      "value": 48
     }
    },
    "1e250b25e8ee4f47a6d3c18de326cfa3": {
     "model_module": "@jupyter-widgets/controls",
     "model_module_version": "1.5.0",
     "model_name": "HTMLModel",
     "state": {
      "_dom_classes": [],
      "_model_module": "@jupyter-widgets/controls",
      "_model_module_version": "1.5.0",
      "_model_name": "HTMLModel",
      "_view_count": null,
      "_view_module": "@jupyter-widgets/controls",
      "_view_module_version": "1.5.0",
      "_view_name": "HTMLView",
      "description": "",
      "description_tooltip": null,
      "layout": "IPY_MODEL_dc11e24e8d734f1cae638f574d90cb46",
      "placeholder": "​",
      "style": "IPY_MODEL_c39361a54087465795d3d95f9009c288",
      "value": "model.safetensors: 100%"
     }
    },
    "1ecfc541944b49689041b10e56d722be": {
     "model_module": "@jupyter-widgets/base",
     "model_module_version": "1.2.0",
     "model_name": "LayoutModel",
     "state": {
      "_model_module": "@jupyter-widgets/base",
      "_model_module_version": "1.2.0",
      "_model_name": "LayoutModel",
      "_view_count": null,
      "_view_module": "@jupyter-widgets/base",
      "_view_module_version": "1.2.0",
      "_view_name": "LayoutView",
      "align_content": null,
      "align_items": null,
      "align_self": null,
      "border": null,
      "bottom": null,
      "display": null,
      "flex": null,
      "flex_flow": null,
      "grid_area": null,
      "grid_auto_columns": null,
      "grid_auto_flow": null,
      "grid_auto_rows": null,
      "grid_column": null,
      "grid_gap": null,
      "grid_row": null,
      "grid_template_areas": null,
      "grid_template_columns": null,
      "grid_template_rows": null,
      "height": null,
      "justify_content": null,
      "justify_items": null,
      "left": null,
      "margin": null,
      "max_height": null,
      "max_width": null,
      "min_height": null,
      "min_width": null,
      "object_fit": null,
      "object_position": null,
      "order": null,
      "overflow": null,
      "overflow_x": null,
      "overflow_y": null,
      "padding": null,
      "right": null,
      "top": null,
      "visibility": null,
      "width": null
     }
    },
    "20a5bf87e35045bca653552bd59c0aff": {
     "model_module": "@jupyter-widgets/controls",
     "model_module_version": "1.5.0",
     "model_name": "DescriptionStyleModel",
     "state": {
      "_model_module": "@jupyter-widgets/controls",
      "_model_module_version": "1.5.0",
      "_model_name": "DescriptionStyleModel",
      "_view_count": null,
      "_view_module": "@jupyter-widgets/base",
      "_view_module_version": "1.2.0",
      "_view_name": "StyleView",
      "description_width": ""
     }
    },
    "2101b0e1fa0443c4978b2977d0221e01": {
     "model_module": "@jupyter-widgets/controls",
     "model_module_version": "1.5.0",
     "model_name": "DescriptionStyleModel",
     "state": {
      "_model_module": "@jupyter-widgets/controls",
      "_model_module_version": "1.5.0",
      "_model_name": "DescriptionStyleModel",
      "_view_count": null,
      "_view_module": "@jupyter-widgets/base",
      "_view_module_version": "1.2.0",
      "_view_name": "StyleView",
      "description_width": ""
     }
    },
    "226dffd69cb54fb18b7e474dc22883f5": {
     "model_module": "@jupyter-widgets/controls",
     "model_module_version": "1.5.0",
     "model_name": "HTMLModel",
     "state": {
      "_dom_classes": [],
      "_model_module": "@jupyter-widgets/controls",
      "_model_module_version": "1.5.0",
      "_model_name": "HTMLModel",
      "_view_count": null,
      "_view_module": "@jupyter-widgets/controls",
      "_view_module_version": "1.5.0",
      "_view_name": "HTMLView",
      "description": "",
      "description_tooltip": null,
      "layout": "IPY_MODEL_a3e33509e4324cba9e9e137f337c0e36",
      "placeholder": "​",
      "style": "IPY_MODEL_c061e5f8f3424c9e8a9effc44e7c1ddd",
      "value": "vocab.txt: 100%"
     }
    },
    "226f1a01d14543fa9ec4d466fc3bea03": {
     "model_module": "@jupyter-widgets/controls",
     "model_module_version": "1.5.0",
     "model_name": "DescriptionStyleModel",
     "state": {
      "_model_module": "@jupyter-widgets/controls",
      "_model_module_version": "1.5.0",
      "_model_name": "DescriptionStyleModel",
      "_view_count": null,
      "_view_module": "@jupyter-widgets/base",
      "_view_module_version": "1.2.0",
      "_view_name": "StyleView",
      "description_width": ""
     }
    },
    "290c9db38e954624a9052a9af82d71af": {
     "model_module": "@jupyter-widgets/controls",
     "model_module_version": "1.5.0",
     "model_name": "HTMLModel",
     "state": {
      "_dom_classes": [],
      "_model_module": "@jupyter-widgets/controls",
      "_model_module_version": "1.5.0",
      "_model_name": "HTMLModel",
      "_view_count": null,
      "_view_module": "@jupyter-widgets/controls",
      "_view_module_version": "1.5.0",
      "_view_name": "HTMLView",
      "description": "",
      "description_tooltip": null,
      "layout": "IPY_MODEL_aa48b6e215e34882aedf9fe4f65fe188",
      "placeholder": "​",
      "style": "IPY_MODEL_ea6e8db6a76b42b8b6570f6c066e9e76",
      "value": "tokenizer_config.json: 100%"
     }
    },
    "29e1bb17fb3a4b50ab226ebedf6c7c7c": {
     "model_module": "@jupyter-widgets/controls",
     "model_module_version": "1.5.0",
     "model_name": "FloatProgressModel",
     "state": {
      "_dom_classes": [],
      "_model_module": "@jupyter-widgets/controls",
      "_model_module_version": "1.5.0",
      "_model_name": "FloatProgressModel",
      "_view_count": null,
      "_view_module": "@jupyter-widgets/controls",
      "_view_module_version": "1.5.0",
      "_view_name": "ProgressView",
      "bar_style": "success",
      "description": "",
      "description_tooltip": null,
      "layout": "IPY_MODEL_406b0e728cd643289d454846498e6074",
      "max": 116,
      "min": 0,
      "orientation": "horizontal",
      "style": "IPY_MODEL_8e7bbcaf6ec04930972b4df8b96763e3",
      "value": 116
     }
    },
    "30bd941ae7d143d2927ddc6aa9e08860": {
     "model_module": "@jupyter-widgets/base",
     "model_module_version": "1.2.0",
     "model_name": "LayoutModel",
     "state": {
      "_model_module": "@jupyter-widgets/base",
      "_model_module_version": "1.2.0",
      "_model_name": "LayoutModel",
      "_view_count": null,
      "_view_module": "@jupyter-widgets/base",
      "_view_module_version": "1.2.0",
      "_view_name": "LayoutView",
      "align_content": null,
      "align_items": null,
      "align_self": null,
      "border": null,
      "bottom": null,
      "display": null,
      "flex": null,
      "flex_flow": null,
      "grid_area": null,
      "grid_auto_columns": null,
      "grid_auto_flow": null,
      "grid_auto_rows": null,
      "grid_column": null,
      "grid_gap": null,
      "grid_row": null,
      "grid_template_areas": null,
      "grid_template_columns": null,
      "grid_template_rows": null,
      "height": null,
      "justify_content": null,
      "justify_items": null,
      "left": null,
      "margin": null,
      "max_height": null,
      "max_width": null,
      "min_height": null,
      "min_width": null,
      "object_fit": null,
      "object_position": null,
      "order": null,
      "overflow": null,
      "overflow_x": null,
      "overflow_y": null,
      "padding": null,
      "right": null,
      "top": null,
      "visibility": null,
      "width": null
     }
    },
    "31f3fee265ea49d599cb08fef965601c": {
     "model_module": "@jupyter-widgets/base",
     "model_module_version": "1.2.0",
     "model_name": "LayoutModel",
     "state": {
      "_model_module": "@jupyter-widgets/base",
      "_model_module_version": "1.2.0",
      "_model_name": "LayoutModel",
      "_view_count": null,
      "_view_module": "@jupyter-widgets/base",
      "_view_module_version": "1.2.0",
      "_view_name": "LayoutView",
      "align_content": null,
      "align_items": null,
      "align_self": null,
      "border": null,
      "bottom": null,
      "display": null,
      "flex": null,
      "flex_flow": null,
      "grid_area": null,
      "grid_auto_columns": null,
      "grid_auto_flow": null,
      "grid_auto_rows": null,
      "grid_column": null,
      "grid_gap": null,
      "grid_row": null,
      "grid_template_areas": null,
      "grid_template_columns": null,
      "grid_template_rows": null,
      "height": null,
      "justify_content": null,
      "justify_items": null,
      "left": null,
      "margin": null,
      "max_height": null,
      "max_width": null,
      "min_height": null,
      "min_width": null,
      "object_fit": null,
      "object_position": null,
      "order": null,
      "overflow": null,
      "overflow_x": null,
      "overflow_y": null,
      "padding": null,
      "right": null,
      "top": null,
      "visibility": null,
      "width": null
     }
    },
    "384954553671420b9fc9239fee5b454b": {
     "model_module": "@jupyter-widgets/controls",
     "model_module_version": "1.5.0",
     "model_name": "HTMLModel",
     "state": {
      "_dom_classes": [],
      "_model_module": "@jupyter-widgets/controls",
      "_model_module_version": "1.5.0",
      "_model_name": "HTMLModel",
      "_view_count": null,
      "_view_module": "@jupyter-widgets/controls",
      "_view_module_version": "1.5.0",
      "_view_name": "HTMLView",
      "description": "",
      "description_tooltip": null,
      "layout": "IPY_MODEL_f78a3e3cb1264a389efe51a44a482114",
      "placeholder": "​",
      "style": "IPY_MODEL_724ee2b2d780464f92db8df1d499e5fc",
      "value": "config_sentence_transformers.json: 100%"
     }
    },
    "3d2cbf2a9860493fa1117486bf60d109": {
     "model_module": "@jupyter-widgets/controls",
     "model_module_version": "1.5.0",
     "model_name": "ProgressStyleModel",
     "state": {
      "_model_module": "@jupyter-widgets/controls",
      "_model_module_version": "1.5.0",
      "_model_name": "ProgressStyleModel",
      "_view_count": null,
      "_view_module": "@jupyter-widgets/base",
      "_view_module_version": "1.2.0",
      "_view_name": "StyleView",
      "bar_color": null,
      "description_width": ""
     }
    },
    "3e27388c00ed40cd9049ff81edfd476e": {
     "model_module": "@jupyter-widgets/base",
     "model_module_version": "1.2.0",
     "model_name": "LayoutModel",
     "state": {
      "_model_module": "@jupyter-widgets/base",
      "_model_module_version": "1.2.0",
      "_model_name": "LayoutModel",
      "_view_count": null,
      "_view_module": "@jupyter-widgets/base",
      "_view_module_version": "1.2.0",
      "_view_name": "LayoutView",
      "align_content": null,
      "align_items": null,
      "align_self": null,
      "border": null,
      "bottom": null,
      "display": null,
      "flex": null,
      "flex_flow": null,
      "grid_area": null,
      "grid_auto_columns": null,
      "grid_auto_flow": null,
      "grid_auto_rows": null,
      "grid_column": null,
      "grid_gap": null,
      "grid_row": null,
      "grid_template_areas": null,
      "grid_template_columns": null,
      "grid_template_rows": null,
      "height": null,
      "justify_content": null,
      "justify_items": null,
      "left": null,
      "margin": null,
      "max_height": null,
      "max_width": null,
      "min_height": null,
      "min_width": null,
      "object_fit": null,
      "object_position": null,
      "order": null,
      "overflow": null,
      "overflow_x": null,
      "overflow_y": null,
      "padding": null,
      "right": null,
      "top": null,
      "visibility": null,
      "width": null
     }
    },
    "406b0e728cd643289d454846498e6074": {
     "model_module": "@jupyter-widgets/base",
     "model_module_version": "1.2.0",
     "model_name": "LayoutModel",
     "state": {
      "_model_module": "@jupyter-widgets/base",
      "_model_module_version": "1.2.0",
      "_model_name": "LayoutModel",
      "_view_count": null,
      "_view_module": "@jupyter-widgets/base",
      "_view_module_version": "1.2.0",
      "_view_name": "LayoutView",
      "align_content": null,
      "align_items": null,
      "align_self": null,
      "border": null,
      "bottom": null,
      "display": null,
      "flex": null,
      "flex_flow": null,
      "grid_area": null,
      "grid_auto_columns": null,
      "grid_auto_flow": null,
      "grid_auto_rows": null,
      "grid_column": null,
      "grid_gap": null,
      "grid_row": null,
      "grid_template_areas": null,
      "grid_template_columns": null,
      "grid_template_rows": null,
      "height": null,
      "justify_content": null,
      "justify_items": null,
      "left": null,
      "margin": null,
      "max_height": null,
      "max_width": null,
      "min_height": null,
      "min_width": null,
      "object_fit": null,
      "object_position": null,
      "order": null,
      "overflow": null,
      "overflow_x": null,
      "overflow_y": null,
      "padding": null,
      "right": null,
      "top": null,
      "visibility": null,
      "width": null
     }
    },
    "406bb3f3fbbd4336a1fceaa13c0721aa": {
     "model_module": "@jupyter-widgets/base",
     "model_module_version": "1.2.0",
     "model_name": "LayoutModel",
     "state": {
      "_model_module": "@jupyter-widgets/base",
      "_model_module_version": "1.2.0",
      "_model_name": "LayoutModel",
      "_view_count": null,
      "_view_module": "@jupyter-widgets/base",
      "_view_module_version": "1.2.0",
      "_view_name": "LayoutView",
      "align_content": null,
      "align_items": null,
      "align_self": null,
      "border": null,
      "bottom": null,
      "display": null,
      "flex": null,
      "flex_flow": null,
      "grid_area": null,
      "grid_auto_columns": null,
      "grid_auto_flow": null,
      "grid_auto_rows": null,
      "grid_column": null,
      "grid_gap": null,
      "grid_row": null,
      "grid_template_areas": null,
      "grid_template_columns": null,
      "grid_template_rows": null,
      "height": null,
      "justify_content": null,
      "justify_items": null,
      "left": null,
      "margin": null,
      "max_height": null,
      "max_width": null,
      "min_height": null,
      "min_width": null,
      "object_fit": null,
      "object_position": null,
      "order": null,
      "overflow": null,
      "overflow_x": null,
      "overflow_y": null,
      "padding": null,
      "right": null,
      "top": null,
      "visibility": null,
      "width": null
     }
    },
    "42bf5028b4ae4ed384f97cabe9617a95": {
     "model_module": "@jupyter-widgets/base",
     "model_module_version": "1.2.0",
     "model_name": "LayoutModel",
     "state": {
      "_model_module": "@jupyter-widgets/base",
      "_model_module_version": "1.2.0",
      "_model_name": "LayoutModel",
      "_view_count": null,
      "_view_module": "@jupyter-widgets/base",
      "_view_module_version": "1.2.0",
      "_view_name": "LayoutView",
      "align_content": null,
      "align_items": null,
      "align_self": null,
      "border": null,
      "bottom": null,
      "display": null,
      "flex": null,
      "flex_flow": null,
      "grid_area": null,
      "grid_auto_columns": null,
      "grid_auto_flow": null,
      "grid_auto_rows": null,
      "grid_column": null,
      "grid_gap": null,
      "grid_row": null,
      "grid_template_areas": null,
      "grid_template_columns": null,
      "grid_template_rows": null,
      "height": null,
      "justify_content": null,
      "justify_items": null,
      "left": null,
      "margin": null,
      "max_height": null,
      "max_width": null,
      "min_height": null,
      "min_width": null,
      "object_fit": null,
      "object_position": null,
      "order": null,
      "overflow": null,
      "overflow_x": null,
      "overflow_y": null,
      "padding": null,
      "right": null,
      "top": null,
      "visibility": null,
      "width": null
     }
    },
    "43424cdce75a4c9ea4acef13ab3b8df9": {
     "model_module": "@jupyter-widgets/base",
     "model_module_version": "1.2.0",
     "model_name": "LayoutModel",
     "state": {
      "_model_module": "@jupyter-widgets/base",
      "_model_module_version": "1.2.0",
      "_model_name": "LayoutModel",
      "_view_count": null,
      "_view_module": "@jupyter-widgets/base",
      "_view_module_version": "1.2.0",
      "_view_name": "LayoutView",
      "align_content": null,
      "align_items": null,
      "align_self": null,
      "border": null,
      "bottom": null,
      "display": null,
      "flex": null,
      "flex_flow": null,
      "grid_area": null,
      "grid_auto_columns": null,
      "grid_auto_flow": null,
      "grid_auto_rows": null,
      "grid_column": null,
      "grid_gap": null,
      "grid_row": null,
      "grid_template_areas": null,
      "grid_template_columns": null,
      "grid_template_rows": null,
      "height": null,
      "justify_content": null,
      "justify_items": null,
      "left": null,
      "margin": null,
      "max_height": null,
      "max_width": null,
      "min_height": null,
      "min_width": null,
      "object_fit": null,
      "object_position": null,
      "order": null,
      "overflow": null,
      "overflow_x": null,
      "overflow_y": null,
      "padding": null,
      "right": null,
      "top": null,
      "visibility": null,
      "width": null
     }
    },
    "4830023a12b745d5abae82806d10ccb1": {
     "model_module": "@jupyter-widgets/controls",
     "model_module_version": "1.5.0",
     "model_name": "ProgressStyleModel",
     "state": {
      "_model_module": "@jupyter-widgets/controls",
      "_model_module_version": "1.5.0",
      "_model_name": "ProgressStyleModel",
      "_view_count": null,
      "_view_module": "@jupyter-widgets/base",
      "_view_module_version": "1.2.0",
      "_view_name": "StyleView",
      "bar_color": null,
      "description_width": ""
     }
    },
    "484e042878024b04844875041b19b750": {
     "model_module": "@jupyter-widgets/controls",
     "model_module_version": "1.5.0",
     "model_name": "HBoxModel",
     "state": {
      "_dom_classes": [],
      "_model_module": "@jupyter-widgets/controls",
      "_model_module_version": "1.5.0",
      "_model_name": "HBoxModel",
      "_view_count": null,
      "_view_module": "@jupyter-widgets/controls",
      "_view_module_version": "1.5.0",
      "_view_name": "HBoxView",
      "box_style": "",
      "children": [
       "IPY_MODEL_93f17e91a5a24a42814715ed55fe9c20",
       "IPY_MODEL_1e036571ffb443c5b0cf15cc606c8176",
       "IPY_MODEL_b06ccd3f2f2e4951a3df17a0d3a050b7"
      ],
      "layout": "IPY_MODEL_f74f7c4ba8aa4f38ad2aa18f3e8b3e96"
     }
    },
    "4988bd519f1a42c481602d7b1eb71311": {
     "model_module": "@jupyter-widgets/controls",
     "model_module_version": "1.5.0",
     "model_name": "ProgressStyleModel",
     "state": {
      "_model_module": "@jupyter-widgets/controls",
      "_model_module_version": "1.5.0",
      "_model_name": "ProgressStyleModel",
      "_view_count": null,
      "_view_module": "@jupyter-widgets/base",
      "_view_module_version": "1.2.0",
      "_view_name": "StyleView",
      "bar_color": null,
      "description_width": ""
     }
    },
    "5074d3b0bdc0455c826c70e7a1e8b92f": {
     "model_module": "@jupyter-widgets/controls",
     "model_module_version": "1.5.0",
     "model_name": "ProgressStyleModel",
     "state": {
      "_model_module": "@jupyter-widgets/controls",
      "_model_module_version": "1.5.0",
      "_model_name": "ProgressStyleModel",
      "_view_count": null,
      "_view_module": "@jupyter-widgets/base",
      "_view_module_version": "1.2.0",
      "_view_name": "StyleView",
      "bar_color": null,
      "description_width": ""
     }
    },
    "507b4fe7073c48eba698556c9154a023": {
     "model_module": "@jupyter-widgets/controls",
     "model_module_version": "1.5.0",
     "model_name": "ProgressStyleModel",
     "state": {
      "_model_module": "@jupyter-widgets/controls",
      "_model_module_version": "1.5.0",
      "_model_name": "ProgressStyleModel",
      "_view_count": null,
      "_view_module": "@jupyter-widgets/base",
      "_view_module_version": "1.2.0",
      "_view_name": "StyleView",
      "bar_color": null,
      "description_width": ""
     }
    },
    "525cf0412d654f3ca573cce3564a6983": {
     "model_module": "@jupyter-widgets/controls",
     "model_module_version": "1.5.0",
     "model_name": "HTMLModel",
     "state": {
      "_dom_classes": [],
      "_model_module": "@jupyter-widgets/controls",
      "_model_module_version": "1.5.0",
      "_model_name": "HTMLModel",
      "_view_count": null,
      "_view_module": "@jupyter-widgets/controls",
      "_view_module_version": "1.5.0",
      "_view_name": "HTMLView",
      "description": "",
      "description_tooltip": null,
      "layout": "IPY_MODEL_662b4087e0ef4ac899eb84f5c0379d69",
      "placeholder": "​",
      "style": "IPY_MODEL_20a5bf87e35045bca653552bd59c0aff",
      "value": "tokenizer.json: 100%"
     }
    },
    "527483df7d7346e8a032217cc0c126f0": {
     "model_module": "@jupyter-widgets/controls",
     "model_module_version": "1.5.0",
     "model_name": "HTMLModel",
     "state": {
      "_dom_classes": [],
      "_model_module": "@jupyter-widgets/controls",
      "_model_module_version": "1.5.0",
      "_model_name": "HTMLModel",
      "_view_count": null,
      "_view_module": "@jupyter-widgets/controls",
      "_view_module_version": "1.5.0",
      "_view_name": "HTMLView",
      "description": "",
      "description_tooltip": null,
      "layout": "IPY_MODEL_0a16d5946cdd48ffb2e81303197becde",
      "placeholder": "​",
      "style": "IPY_MODEL_c53a4631ba3a48848f0539fb4c90ad87",
      "value": "model.safetensors: 100%"
     }
    },
    "52be171c78814db394cf291851298e89": {
     "model_module": "@jupyter-widgets/controls",
     "model_module_version": "1.5.0",
     "model_name": "HBoxModel",
     "state": {
      "_dom_classes": [],
      "_model_module": "@jupyter-widgets/controls",
      "_model_module_version": "1.5.0",
      "_model_name": "HBoxModel",
      "_view_count": null,
      "_view_module": "@jupyter-widgets/controls",
      "_view_module_version": "1.5.0",
      "_view_name": "HBoxView",
      "box_style": "",
      "children": [
       "IPY_MODEL_0a77cccdee194ea49a32a5968e7cc476",
       "IPY_MODEL_e152466c1eeb4d3798d58978a598dbca",
       "IPY_MODEL_e73d1dc278fc487fbc98a51484d4d4bf"
      ],
      "layout": "IPY_MODEL_05e70047969b4f78adf6026c75521d90"
     }
    },
    "5588ff5e81254bab8a30571e9f3e66c9": {
     "model_module": "@jupyter-widgets/base",
     "model_module_version": "1.2.0",
     "model_name": "LayoutModel",
     "state": {
      "_model_module": "@jupyter-widgets/base",
      "_model_module_version": "1.2.0",
      "_model_name": "LayoutModel",
      "_view_count": null,
      "_view_module": "@jupyter-widgets/base",
      "_view_module_version": "1.2.0",
      "_view_name": "LayoutView",
      "align_content": null,
      "align_items": null,
      "align_self": null,
      "border": null,
      "bottom": null,
      "display": null,
      "flex": null,
      "flex_flow": null,
      "grid_area": null,
      "grid_auto_columns": null,
      "grid_auto_flow": null,
      "grid_auto_rows": null,
      "grid_column": null,
      "grid_gap": null,
      "grid_row": null,
      "grid_template_areas": null,
      "grid_template_columns": null,
      "grid_template_rows": null,
      "height": null,
      "justify_content": null,
      "justify_items": null,
      "left": null,
      "margin": null,
      "max_height": null,
      "max_width": null,
      "min_height": null,
      "min_width": null,
      "object_fit": null,
      "object_position": null,
      "order": null,
      "overflow": null,
      "overflow_x": null,
      "overflow_y": null,
      "padding": null,
      "right": null,
      "top": null,
      "visibility": null,
      "width": null
     }
    },
    "5665db612ae54cb7becf6bef080e33ea": {
     "model_module": "@jupyter-widgets/base",
     "model_module_version": "1.2.0",
     "model_name": "LayoutModel",
     "state": {
      "_model_module": "@jupyter-widgets/base",
      "_model_module_version": "1.2.0",
      "_model_name": "LayoutModel",
      "_view_count": null,
      "_view_module": "@jupyter-widgets/base",
      "_view_module_version": "1.2.0",
      "_view_name": "LayoutView",
      "align_content": null,
      "align_items": null,
      "align_self": null,
      "border": null,
      "bottom": null,
      "display": null,
      "flex": null,
      "flex_flow": null,
      "grid_area": null,
      "grid_auto_columns": null,
      "grid_auto_flow": null,
      "grid_auto_rows": null,
      "grid_column": null,
      "grid_gap": null,
      "grid_row": null,
      "grid_template_areas": null,
      "grid_template_columns": null,
      "grid_template_rows": null,
      "height": null,
      "justify_content": null,
      "justify_items": null,
      "left": null,
      "margin": null,
      "max_height": null,
      "max_width": null,
      "min_height": null,
      "min_width": null,
      "object_fit": null,
      "object_position": null,
      "order": null,
      "overflow": null,
      "overflow_x": null,
      "overflow_y": null,
      "padding": null,
      "right": null,
      "top": null,
      "visibility": null,
      "width": null
     }
    },
    "5b8221da5a244e19a76000d26c28bc3c": {
     "model_module": "@jupyter-widgets/controls",
     "model_module_version": "1.5.0",
     "model_name": "HBoxModel",
     "state": {
      "_dom_classes": [],
      "_model_module": "@jupyter-widgets/controls",
      "_model_module_version": "1.5.0",
      "_model_name": "HBoxModel",
      "_view_count": null,
      "_view_module": "@jupyter-widgets/controls",
      "_view_module_version": "1.5.0",
      "_view_name": "HBoxView",
      "box_style": "",
      "children": [
       "IPY_MODEL_e7c031e98ae5491986716e47913fc441",
       "IPY_MODEL_d256483147184930a0fc6c8d47dfe4bb",
       "IPY_MODEL_1c3f27b763a04a33913ae1724a94e9cc"
      ],
      "layout": "IPY_MODEL_bc47c662b33b45e497af089fa9bf5abf"
     }
    },
    "5c4970d6319146cca5ef4e1dde7c3c65": {
     "model_module": "@jupyter-widgets/controls",
     "model_module_version": "1.5.0",
     "model_name": "DescriptionStyleModel",
     "state": {
      "_model_module": "@jupyter-widgets/controls",
      "_model_module_version": "1.5.0",
      "_model_name": "DescriptionStyleModel",
      "_view_count": null,
      "_view_module": "@jupyter-widgets/base",
      "_view_module_version": "1.2.0",
      "_view_name": "StyleView",
      "description_width": ""
     }
    },
    "5f0dbbb5e25743a1b7870ce0b72f715e": {
     "model_module": "@jupyter-widgets/controls",
     "model_module_version": "1.5.0",
     "model_name": "HTMLModel",
     "state": {
      "_dom_classes": [],
      "_model_module": "@jupyter-widgets/controls",
      "_model_module_version": "1.5.0",
      "_model_name": "HTMLModel",
      "_view_count": null,
      "_view_module": "@jupyter-widgets/controls",
      "_view_module_version": "1.5.0",
      "_view_name": "HTMLView",
      "description": "",
      "description_tooltip": null,
      "layout": "IPY_MODEL_edfe5cef23ae488181c7793996e58755",
      "placeholder": "​",
      "style": "IPY_MODEL_5c4970d6319146cca5ef4e1dde7c3c65",
      "value": " 483/483 [00:00&lt;00:00, 6.83kB/s]"
     }
    },
    "626a6ea39c78484e90dca9a6520ec629": {
     "model_module": "@jupyter-widgets/base",
     "model_module_version": "1.2.0",
     "model_name": "LayoutModel",
     "state": {
      "_model_module": "@jupyter-widgets/base",
      "_model_module_version": "1.2.0",
      "_model_name": "LayoutModel",
      "_view_count": null,
      "_view_module": "@jupyter-widgets/base",
      "_view_module_version": "1.2.0",
      "_view_name": "LayoutView",
      "align_content": null,
      "align_items": null,
      "align_self": null,
      "border": null,
      "bottom": null,
      "display": null,
      "flex": null,
      "flex_flow": null,
      "grid_area": null,
      "grid_auto_columns": null,
      "grid_auto_flow": null,
      "grid_auto_rows": null,
      "grid_column": null,
      "grid_gap": null,
      "grid_row": null,
      "grid_template_areas": null,
      "grid_template_columns": null,
      "grid_template_rows": null,
      "height": null,
      "justify_content": null,
      "justify_items": null,
      "left": null,
      "margin": null,
      "max_height": null,
      "max_width": null,
      "min_height": null,
      "min_width": null,
      "object_fit": null,
      "object_position": null,
      "order": null,
      "overflow": null,
      "overflow_x": null,
      "overflow_y": null,
      "padding": null,
      "right": null,
      "top": null,
      "visibility": null,
      "width": null
     }
    },
    "63e8a639d5db4e3f92a01c10266a7aea": {
     "model_module": "@jupyter-widgets/base",
     "model_module_version": "1.2.0",
     "model_name": "LayoutModel",
     "state": {
      "_model_module": "@jupyter-widgets/base",
      "_model_module_version": "1.2.0",
      "_model_name": "LayoutModel",
      "_view_count": null,
      "_view_module": "@jupyter-widgets/base",
      "_view_module_version": "1.2.0",
      "_view_name": "LayoutView",
      "align_content": null,
      "align_items": null,
      "align_self": null,
      "border": null,
      "bottom": null,
      "display": null,
      "flex": null,
      "flex_flow": null,
      "grid_area": null,
      "grid_auto_columns": null,
      "grid_auto_flow": null,
      "grid_auto_rows": null,
      "grid_column": null,
      "grid_gap": null,
      "grid_row": null,
      "grid_template_areas": null,
      "grid_template_columns": null,
      "grid_template_rows": null,
      "height": null,
      "justify_content": null,
      "justify_items": null,
      "left": null,
      "margin": null,
      "max_height": null,
      "max_width": null,
      "min_height": null,
      "min_width": null,
      "object_fit": null,
      "object_position": null,
      "order": null,
      "overflow": null,
      "overflow_x": null,
      "overflow_y": null,
      "padding": null,
      "right": null,
      "top": null,
      "visibility": null,
      "width": null
     }
    },
    "65ff909b2b384bb6871086f08b419fdd": {
     "model_module": "@jupyter-widgets/controls",
     "model_module_version": "1.5.0",
     "model_name": "DescriptionStyleModel",
     "state": {
      "_model_module": "@jupyter-widgets/controls",
      "_model_module_version": "1.5.0",
      "_model_name": "DescriptionStyleModel",
      "_view_count": null,
      "_view_module": "@jupyter-widgets/base",
      "_view_module_version": "1.2.0",
      "_view_name": "StyleView",
      "description_width": ""
     }
    },
    "662b4087e0ef4ac899eb84f5c0379d69": {
     "model_module": "@jupyter-widgets/base",
     "model_module_version": "1.2.0",
     "model_name": "LayoutModel",
     "state": {
      "_model_module": "@jupyter-widgets/base",
      "_model_module_version": "1.2.0",
      "_model_name": "LayoutModel",
      "_view_count": null,
      "_view_module": "@jupyter-widgets/base",
      "_view_module_version": "1.2.0",
      "_view_name": "LayoutView",
      "align_content": null,
      "align_items": null,
      "align_self": null,
      "border": null,
      "bottom": null,
      "display": null,
      "flex": null,
      "flex_flow": null,
      "grid_area": null,
      "grid_auto_columns": null,
      "grid_auto_flow": null,
      "grid_auto_rows": null,
      "grid_column": null,
      "grid_gap": null,
      "grid_row": null,
      "grid_template_areas": null,
      "grid_template_columns": null,
      "grid_template_rows": null,
      "height": null,
      "justify_content": null,
      "justify_items": null,
      "left": null,
      "margin": null,
      "max_height": null,
      "max_width": null,
      "min_height": null,
      "min_width": null,
      "object_fit": null,
      "object_position": null,
      "order": null,
      "overflow": null,
      "overflow_x": null,
      "overflow_y": null,
      "padding": null,
      "right": null,
      "top": null,
      "visibility": null,
      "width": null
     }
    },
    "68df74bffc5f48ebb7e16bc93036d1f2": {
     "model_module": "@jupyter-widgets/controls",
     "model_module_version": "1.5.0",
     "model_name": "FloatProgressModel",
     "state": {
      "_dom_classes": [],
      "_model_module": "@jupyter-widgets/controls",
      "_model_module_version": "1.5.0",
      "_model_name": "FloatProgressModel",
      "_view_count": null,
      "_view_module": "@jupyter-widgets/controls",
      "_view_module_version": "1.5.0",
      "_view_name": "ProgressView",
      "bar_style": "success",
      "description": "",
      "description_tooltip": null,
      "layout": "IPY_MODEL_ecfa44db96a740d0b28ca13d5d8e38f5",
      "max": 483,
      "min": 0,
      "orientation": "horizontal",
      "style": "IPY_MODEL_90ea88bb8cd84048ad650116294f45a6",
      "value": 483
     }
    },
    "6923228d75434075bfd71027c2a2c38a": {
     "model_module": "@jupyter-widgets/base",
     "model_module_version": "1.2.0",
     "model_name": "LayoutModel",
     "state": {
      "_model_module": "@jupyter-widgets/base",
      "_model_module_version": "1.2.0",
      "_model_name": "LayoutModel",
      "_view_count": null,
      "_view_module": "@jupyter-widgets/base",
      "_view_module_version": "1.2.0",
      "_view_name": "LayoutView",
      "align_content": null,
      "align_items": null,
      "align_self": null,
      "border": null,
      "bottom": null,
      "display": null,
      "flex": null,
      "flex_flow": null,
      "grid_area": null,
      "grid_auto_columns": null,
      "grid_auto_flow": null,
      "grid_auto_rows": null,
      "grid_column": null,
      "grid_gap": null,
      "grid_row": null,
      "grid_template_areas": null,
      "grid_template_columns": null,
      "grid_template_rows": null,
      "height": null,
      "justify_content": null,
      "justify_items": null,
      "left": null,
      "margin": null,
      "max_height": null,
      "max_width": null,
      "min_height": null,
      "min_width": null,
      "object_fit": null,
      "object_position": null,
      "order": null,
      "overflow": null,
      "overflow_x": null,
      "overflow_y": null,
      "padding": null,
      "right": null,
      "top": null,
      "visibility": null,
      "width": null
     }
    },
    "6a70a15f6543460ca28a0d6a2c25ffcc": {
     "model_module": "@jupyter-widgets/controls",
     "model_module_version": "1.5.0",
     "model_name": "DescriptionStyleModel",
     "state": {
      "_model_module": "@jupyter-widgets/controls",
      "_model_module_version": "1.5.0",
      "_model_name": "DescriptionStyleModel",
      "_view_count": null,
      "_view_module": "@jupyter-widgets/base",
      "_view_module_version": "1.2.0",
      "_view_name": "StyleView",
      "description_width": ""
     }
    },
    "6c6a77a9751841d99c1f185f3163ceb2": {
     "model_module": "@jupyter-widgets/controls",
     "model_module_version": "1.5.0",
     "model_name": "HTMLModel",
     "state": {
      "_dom_classes": [],
      "_model_module": "@jupyter-widgets/controls",
      "_model_module_version": "1.5.0",
      "_model_name": "HTMLModel",
      "_view_count": null,
      "_view_module": "@jupyter-widgets/controls",
      "_view_module_version": "1.5.0",
      "_view_name": "HTMLView",
      "description": "",
      "description_tooltip": null,
      "layout": "IPY_MODEL_5665db612ae54cb7becf6bef080e33ea",
      "placeholder": "​",
      "style": "IPY_MODEL_dad4fc0982e04bd0982dd26c9cfcca0a",
      "value": " 90.9M/90.9M [00:00&lt;00:00, 220MB/s]"
     }
    },
    "6cdabef2b411467993cf1dbcaad79cee": {
     "model_module": "@jupyter-widgets/base",
     "model_module_version": "1.2.0",
     "model_name": "LayoutModel",
     "state": {
      "_model_module": "@jupyter-widgets/base",
      "_model_module_version": "1.2.0",
      "_model_name": "LayoutModel",
      "_view_count": null,
      "_view_module": "@jupyter-widgets/base",
      "_view_module_version": "1.2.0",
      "_view_name": "LayoutView",
      "align_content": null,
      "align_items": null,
      "align_self": null,
      "border": null,
      "bottom": null,
      "display": null,
      "flex": null,
      "flex_flow": null,
      "grid_area": null,
      "grid_auto_columns": null,
      "grid_auto_flow": null,
      "grid_auto_rows": null,
      "grid_column": null,
      "grid_gap": null,
      "grid_row": null,
      "grid_template_areas": null,
      "grid_template_columns": null,
      "grid_template_rows": null,
      "height": null,
      "justify_content": null,
      "justify_items": null,
      "left": null,
      "margin": null,
      "max_height": null,
      "max_width": null,
      "min_height": null,
      "min_width": null,
      "object_fit": null,
      "object_position": null,
      "order": null,
      "overflow": null,
      "overflow_x": null,
      "overflow_y": null,
      "padding": null,
      "right": null,
      "top": null,
      "visibility": null,
      "width": null
     }
    },
    "6ed35fb370fb4cbf81e38a34cacfbc64": {
     "model_module": "@jupyter-widgets/base",
     "model_module_version": "1.2.0",
     "model_name": "LayoutModel",
     "state": {
      "_model_module": "@jupyter-widgets/base",
      "_model_module_version": "1.2.0",
      "_model_name": "LayoutModel",
      "_view_count": null,
      "_view_module": "@jupyter-widgets/base",
      "_view_module_version": "1.2.0",
      "_view_name": "LayoutView",
      "align_content": null,
      "align_items": null,
      "align_self": null,
      "border": null,
      "bottom": null,
      "display": null,
      "flex": null,
      "flex_flow": null,
      "grid_area": null,
      "grid_auto_columns": null,
      "grid_auto_flow": null,
      "grid_auto_rows": null,
      "grid_column": null,
      "grid_gap": null,
      "grid_row": null,
      "grid_template_areas": null,
      "grid_template_columns": null,
      "grid_template_rows": null,
      "height": null,
      "justify_content": null,
      "justify_items": null,
      "left": null,
      "margin": null,
      "max_height": null,
      "max_width": null,
      "min_height": null,
      "min_width": null,
      "object_fit": null,
      "object_position": null,
      "order": null,
      "overflow": null,
      "overflow_x": null,
      "overflow_y": null,
      "padding": null,
      "right": null,
      "top": null,
      "visibility": null,
      "width": null
     }
    },
    "70c95be602fa458aafb615c31f36adf1": {
     "model_module": "@jupyter-widgets/controls",
     "model_module_version": "1.5.0",
     "model_name": "FloatProgressModel",
     "state": {
      "_dom_classes": [],
      "_model_module": "@jupyter-widgets/controls",
      "_model_module_version": "1.5.0",
      "_model_name": "FloatProgressModel",
      "_view_count": null,
      "_view_module": "@jupyter-widgets/controls",
      "_view_module_version": "1.5.0",
      "_view_name": "ProgressView",
      "bar_style": "success",
      "description": "",
      "description_tooltip": null,
      "layout": "IPY_MODEL_1738df2caa034f4990857c8c3f46ccad",
      "max": 190,
      "min": 0,
      "orientation": "horizontal",
      "style": "IPY_MODEL_3d2cbf2a9860493fa1117486bf60d109",
      "value": 190
     }
    },
    "711e2385880a440dbe25429e3f0509c8": {
     "model_module": "@jupyter-widgets/controls",
     "model_module_version": "1.5.0",
     "model_name": "DescriptionStyleModel",
     "state": {
      "_model_module": "@jupyter-widgets/controls",
      "_model_module_version": "1.5.0",
      "_model_name": "DescriptionStyleModel",
      "_view_count": null,
      "_view_module": "@jupyter-widgets/base",
      "_view_module_version": "1.2.0",
      "_view_name": "StyleView",
      "description_width": ""
     }
    },
    "724ee2b2d780464f92db8df1d499e5fc": {
     "model_module": "@jupyter-widgets/controls",
     "model_module_version": "1.5.0",
     "model_name": "DescriptionStyleModel",
     "state": {
      "_model_module": "@jupyter-widgets/controls",
      "_model_module_version": "1.5.0",
      "_model_name": "DescriptionStyleModel",
      "_view_count": null,
      "_view_module": "@jupyter-widgets/base",
      "_view_module_version": "1.2.0",
      "_view_name": "StyleView",
      "description_width": ""
     }
    },
    "72b05127d075452db61d550f74059f02": {
     "model_module": "@jupyter-widgets/base",
     "model_module_version": "1.2.0",
     "model_name": "LayoutModel",
     "state": {
      "_model_module": "@jupyter-widgets/base",
      "_model_module_version": "1.2.0",
      "_model_name": "LayoutModel",
      "_view_count": null,
      "_view_module": "@jupyter-widgets/base",
      "_view_module_version": "1.2.0",
      "_view_name": "LayoutView",
      "align_content": null,
      "align_items": null,
      "align_self": null,
      "border": null,
      "bottom": null,
      "display": null,
      "flex": null,
      "flex_flow": null,
      "grid_area": null,
      "grid_auto_columns": null,
      "grid_auto_flow": null,
      "grid_auto_rows": null,
      "grid_column": null,
      "grid_gap": null,
      "grid_row": null,
      "grid_template_areas": null,
      "grid_template_columns": null,
      "grid_template_rows": null,
      "height": null,
      "justify_content": null,
      "justify_items": null,
      "left": null,
      "margin": null,
      "max_height": null,
      "max_width": null,
      "min_height": null,
      "min_width": null,
      "object_fit": null,
      "object_position": null,
      "order": null,
      "overflow": null,
      "overflow_x": null,
      "overflow_y": null,
      "padding": null,
      "right": null,
      "top": null,
      "visibility": null,
      "width": null
     }
    },
    "73d9e1a17ab6470cb1477c8963826467": {
     "model_module": "@jupyter-widgets/controls",
     "model_module_version": "1.5.0",
     "model_name": "ProgressStyleModel",
     "state": {
      "_model_module": "@jupyter-widgets/controls",
      "_model_module_version": "1.5.0",
      "_model_name": "ProgressStyleModel",
      "_view_count": null,
      "_view_module": "@jupyter-widgets/base",
      "_view_module_version": "1.2.0",
      "_view_name": "StyleView",
      "bar_color": null,
      "description_width": ""
     }
    },
    "748ca267af9e4d95bafdaa6212b0d662": {
     "model_module": "@jupyter-widgets/controls",
     "model_module_version": "1.5.0",
     "model_name": "DescriptionStyleModel",
     "state": {
      "_model_module": "@jupyter-widgets/controls",
      "_model_module_version": "1.5.0",
      "_model_name": "DescriptionStyleModel",
      "_view_count": null,
      "_view_module": "@jupyter-widgets/base",
      "_view_module_version": "1.2.0",
      "_view_name": "StyleView",
      "description_width": ""
     }
    },
    "76fff33a918e439e95064d5206712311": {
     "model_module": "@jupyter-widgets/controls",
     "model_module_version": "1.5.0",
     "model_name": "HTMLModel",
     "state": {
      "_dom_classes": [],
      "_model_module": "@jupyter-widgets/controls",
      "_model_module_version": "1.5.0",
      "_model_name": "HTMLModel",
      "_view_count": null,
      "_view_module": "@jupyter-widgets/controls",
      "_view_module_version": "1.5.0",
      "_view_name": "HTMLView",
      "description": "",
      "description_tooltip": null,
      "layout": "IPY_MODEL_8478406f342c4f9f9e589a18187dd7d2",
      "placeholder": "​",
      "style": "IPY_MODEL_e6cabe0ed48a45048f9bf550d13b62f2",
      "value": "tokenizer.json: 100%"
     }
    },
    "770cc8108be24a07b028d3d6779a6539": {
     "model_module": "@jupyter-widgets/controls",
     "model_module_version": "1.5.0",
     "model_name": "ProgressStyleModel",
     "state": {
      "_model_module": "@jupyter-widgets/controls",
      "_model_module_version": "1.5.0",
      "_model_name": "ProgressStyleModel",
      "_view_count": null,
      "_view_module": "@jupyter-widgets/base",
      "_view_module_version": "1.2.0",
      "_view_name": "StyleView",
      "bar_color": null,
      "description_width": ""
     }
    },
    "77b08c04f0ec4e42b69c0acbebfe055e": {
     "model_module": "@jupyter-widgets/controls",
     "model_module_version": "1.5.0",
     "model_name": "HBoxModel",
     "state": {
      "_dom_classes": [],
      "_model_module": "@jupyter-widgets/controls",
      "_model_module_version": "1.5.0",
      "_model_name": "HBoxModel",
      "_view_count": null,
      "_view_module": "@jupyter-widgets/controls",
      "_view_module_version": "1.5.0",
      "_view_name": "HBoxView",
      "box_style": "",
      "children": [
       "IPY_MODEL_1e250b25e8ee4f47a6d3c18de326cfa3",
       "IPY_MODEL_f9cbffb603e44308b70fa13b4ee98a59",
       "IPY_MODEL_6c6a77a9751841d99c1f185f3163ceb2"
      ],
      "layout": "IPY_MODEL_dc1e3646adc1459daa869841a35490a6"
     }
    },
    "77b621fd9dbc4e789b1d128afb3f614e": {
     "model_module": "@jupyter-widgets/controls",
     "model_module_version": "1.5.0",
     "model_name": "DescriptionStyleModel",
     "state": {
      "_model_module": "@jupyter-widgets/controls",
      "_model_module_version": "1.5.0",
      "_model_name": "DescriptionStyleModel",
      "_view_count": null,
      "_view_module": "@jupyter-widgets/base",
      "_view_module_version": "1.2.0",
      "_view_name": "StyleView",
      "description_width": ""
     }
    },
    "787a68d22972494b8e7ab52d2fff750a": {
     "model_module": "@jupyter-widgets/controls",
     "model_module_version": "1.5.0",
     "model_name": "HTMLModel",
     "state": {
      "_dom_classes": [],
      "_model_module": "@jupyter-widgets/controls",
      "_model_module_version": "1.5.0",
      "_model_name": "HTMLModel",
      "_view_count": null,
      "_view_module": "@jupyter-widgets/controls",
      "_view_module_version": "1.5.0",
      "_view_name": "HTMLView",
      "description": "",
      "description_tooltip": null,
      "layout": "IPY_MODEL_fd787f14277a4987b8cfb6ca1c8b6954",
      "placeholder": "​",
      "style": "IPY_MODEL_2101b0e1fa0443c4978b2977d0221e01",
      "value": " 116/116 [00:00&lt;00:00, 2.59kB/s]"
     }
    },
    "79e508f05c67411a92984619380bc17d": {
     "model_module": "@jupyter-widgets/controls",
     "model_module_version": "1.5.0",
     "model_name": "DescriptionStyleModel",
     "state": {
      "_model_module": "@jupyter-widgets/controls",
      "_model_module_version": "1.5.0",
      "_model_name": "DescriptionStyleModel",
      "_view_count": null,
      "_view_module": "@jupyter-widgets/base",
      "_view_module_version": "1.2.0",
      "_view_name": "StyleView",
      "description_width": ""
     }
    },
    "7c0ae35548d247bab2e2c41b206bf7e0": {
     "model_module": "@jupyter-widgets/base",
     "model_module_version": "1.2.0",
     "model_name": "LayoutModel",
     "state": {
      "_model_module": "@jupyter-widgets/base",
      "_model_module_version": "1.2.0",
      "_model_name": "LayoutModel",
      "_view_count": null,
      "_view_module": "@jupyter-widgets/base",
      "_view_module_version": "1.2.0",
      "_view_name": "LayoutView",
      "align_content": null,
      "align_items": null,
      "align_self": null,
      "border": null,
      "bottom": null,
      "display": null,
      "flex": null,
      "flex_flow": null,
      "grid_area": null,
      "grid_auto_columns": null,
      "grid_auto_flow": null,
      "grid_auto_rows": null,
      "grid_column": null,
      "grid_gap": null,
      "grid_row": null,
      "grid_template_areas": null,
      "grid_template_columns": null,
      "grid_template_rows": null,
      "height": null,
      "justify_content": null,
      "justify_items": null,
      "left": null,
      "margin": null,
      "max_height": null,
      "max_width": null,
      "min_height": null,
      "min_width": null,
      "object_fit": null,
      "object_position": null,
      "order": null,
      "overflow": null,
      "overflow_x": null,
      "overflow_y": null,
      "padding": null,
      "right": null,
      "top": null,
      "visibility": null,
      "width": null
     }
    },
    "7c11c5c2328949cca45f3162ef98faa9": {
     "model_module": "@jupyter-widgets/base",
     "model_module_version": "1.2.0",
     "model_name": "LayoutModel",
     "state": {
      "_model_module": "@jupyter-widgets/base",
      "_model_module_version": "1.2.0",
      "_model_name": "LayoutModel",
      "_view_count": null,
      "_view_module": "@jupyter-widgets/base",
      "_view_module_version": "1.2.0",
      "_view_name": "LayoutView",
      "align_content": null,
      "align_items": null,
      "align_self": null,
      "border": null,
      "bottom": null,
      "display": null,
      "flex": null,
      "flex_flow": null,
      "grid_area": null,
      "grid_auto_columns": null,
      "grid_auto_flow": null,
      "grid_auto_rows": null,
      "grid_column": null,
      "grid_gap": null,
      "grid_row": null,
      "grid_template_areas": null,
      "grid_template_columns": null,
      "grid_template_rows": null,
      "height": null,
      "justify_content": null,
      "justify_items": null,
      "left": null,
      "margin": null,
      "max_height": null,
      "max_width": null,
      "min_height": null,
      "min_width": null,
      "object_fit": null,
      "object_position": null,
      "order": null,
      "overflow": null,
      "overflow_x": null,
      "overflow_y": null,
      "padding": null,
      "right": null,
      "top": null,
      "visibility": null,
      "width": null
     }
    },
    "7e2c6ec9832b4b47ae18e5ace26d0e68": {
     "model_module": "@jupyter-widgets/controls",
     "model_module_version": "1.5.0",
     "model_name": "DescriptionStyleModel",
     "state": {
      "_model_module": "@jupyter-widgets/controls",
      "_model_module_version": "1.5.0",
      "_model_name": "DescriptionStyleModel",
      "_view_count": null,
      "_view_module": "@jupyter-widgets/base",
      "_view_module_version": "1.2.0",
      "_view_name": "StyleView",
      "description_width": ""
     }
    },
    "7fd8348288f94738a559705f504bcc2f": {
     "model_module": "@jupyter-widgets/base",
     "model_module_version": "1.2.0",
     "model_name": "LayoutModel",
     "state": {
      "_model_module": "@jupyter-widgets/base",
      "_model_module_version": "1.2.0",
      "_model_name": "LayoutModel",
      "_view_count": null,
      "_view_module": "@jupyter-widgets/base",
      "_view_module_version": "1.2.0",
      "_view_name": "LayoutView",
      "align_content": null,
      "align_items": null,
      "align_self": null,
      "border": null,
      "bottom": null,
      "display": null,
      "flex": null,
      "flex_flow": null,
      "grid_area": null,
      "grid_auto_columns": null,
      "grid_auto_flow": null,
      "grid_auto_rows": null,
      "grid_column": null,
      "grid_gap": null,
      "grid_row": null,
      "grid_template_areas": null,
      "grid_template_columns": null,
      "grid_template_rows": null,
      "height": null,
      "justify_content": null,
      "justify_items": null,
      "left": null,
      "margin": null,
      "max_height": null,
      "max_width": null,
      "min_height": null,
      "min_width": null,
      "object_fit": null,
      "object_position": null,
      "order": null,
      "overflow": null,
      "overflow_x": null,
      "overflow_y": null,
      "padding": null,
      "right": null,
      "top": null,
      "visibility": null,
      "width": null
     }
    },
    "8096d020a67f48049eb13abf5f7cce02": {
     "model_module": "@jupyter-widgets/controls",
     "model_module_version": "1.5.0",
     "model_name": "HTMLModel",
     "state": {
      "_dom_classes": [],
      "_model_module": "@jupyter-widgets/controls",
      "_model_module_version": "1.5.0",
      "_model_name": "HTMLModel",
      "_view_count": null,
      "_view_module": "@jupyter-widgets/controls",
      "_view_module_version": "1.5.0",
      "_view_name": "HTMLView",
      "description": "",
      "description_tooltip": null,
      "layout": "IPY_MODEL_31f3fee265ea49d599cb08fef965601c",
      "placeholder": "​",
      "style": "IPY_MODEL_0d921787822b4936886a81c41bd745e7",
      "value": "config.json: 100%"
     }
    },
    "81d4049501294c02814b3817e4fb1736": {
     "model_module": "@jupyter-widgets/controls",
     "model_module_version": "1.5.0",
     "model_name": "HTMLModel",
     "state": {
      "_dom_classes": [],
      "_model_module": "@jupyter-widgets/controls",
      "_model_module_version": "1.5.0",
      "_model_name": "HTMLModel",
      "_view_count": null,
      "_view_module": "@jupyter-widgets/controls",
      "_view_module_version": "1.5.0",
      "_view_name": "HTMLView",
      "description": "",
      "description_tooltip": null,
      "layout": "IPY_MODEL_0830f6f9fcc240a08e0b64c2e3abbd1a",
      "placeholder": "​",
      "style": "IPY_MODEL_7e2c6ec9832b4b47ae18e5ace26d0e68",
      "value": "config.json: 100%"
     }
    },
    "8478406f342c4f9f9e589a18187dd7d2": {
     "model_module": "@jupyter-widgets/base",
     "model_module_version": "1.2.0",
     "model_name": "LayoutModel",
     "state": {
      "_model_module": "@jupyter-widgets/base",
      "_model_module_version": "1.2.0",
      "_model_name": "LayoutModel",
      "_view_count": null,
      "_view_module": "@jupyter-widgets/base",
      "_view_module_version": "1.2.0",
      "_view_name": "LayoutView",
      "align_content": null,
      "align_items": null,
      "align_self": null,
      "border": null,
      "bottom": null,
      "display": null,
      "flex": null,
      "flex_flow": null,
      "grid_area": null,
      "grid_auto_columns": null,
      "grid_auto_flow": null,
      "grid_auto_rows": null,
      "grid_column": null,
      "grid_gap": null,
      "grid_row": null,
      "grid_template_areas": null,
      "grid_template_columns": null,
      "grid_template_rows": null,
      "height": null,
      "justify_content": null,
      "justify_items": null,
      "left": null,
      "margin": null,
      "max_height": null,
      "max_width": null,
      "min_height": null,
      "min_width": null,
      "object_fit": null,
      "object_position": null,
      "order": null,
      "overflow": null,
      "overflow_x": null,
      "overflow_y": null,
      "padding": null,
      "right": null,
      "top": null,
      "visibility": null,
      "width": null
     }
    },
    "8773ac6bb4064d18acaa7cde0cef6412": {
     "model_module": "@jupyter-widgets/controls",
     "model_module_version": "1.5.0",
     "model_name": "HTMLModel",
     "state": {
      "_dom_classes": [],
      "_model_module": "@jupyter-widgets/controls",
      "_model_module_version": "1.5.0",
      "_model_name": "HTMLModel",
      "_view_count": null,
      "_view_module": "@jupyter-widgets/controls",
      "_view_module_version": "1.5.0",
      "_view_name": "HTMLView",
      "description": "",
      "description_tooltip": null,
      "layout": "IPY_MODEL_bcc1ad8291fa47fa8a6fe3f9ee7f593a",
      "placeholder": "​",
      "style": "IPY_MODEL_a3f434bfb2864feebd83e342413e3372",
      "value": "sentence_bert_config.json: 100%"
     }
    },
    "8967bf35b56441e8994dd9ccfcfb6143": {
     "model_module": "@jupyter-widgets/base",
     "model_module_version": "1.2.0",
     "model_name": "LayoutModel",
     "state": {
      "_model_module": "@jupyter-widgets/base",
      "_model_module_version": "1.2.0",
      "_model_name": "LayoutModel",
      "_view_count": null,
      "_view_module": "@jupyter-widgets/base",
      "_view_module_version": "1.2.0",
      "_view_name": "LayoutView",
      "align_content": null,
      "align_items": null,
      "align_self": null,
      "border": null,
      "bottom": null,
      "display": null,
      "flex": null,
      "flex_flow": null,
      "grid_area": null,
      "grid_auto_columns": null,
      "grid_auto_flow": null,
      "grid_auto_rows": null,
      "grid_column": null,
      "grid_gap": null,
      "grid_row": null,
      "grid_template_areas": null,
      "grid_template_columns": null,
      "grid_template_rows": null,
      "height": null,
      "justify_content": null,
      "justify_items": null,
      "left": null,
      "margin": null,
      "max_height": null,
      "max_width": null,
      "min_height": null,
      "min_width": null,
      "object_fit": null,
      "object_position": null,
      "order": null,
      "overflow": null,
      "overflow_x": null,
      "overflow_y": null,
      "padding": null,
      "right": null,
      "top": null,
      "visibility": null,
      "width": null
     }
    },
    "8cdb8eee85094864835fc1ac5e7beee9": {
     "model_module": "@jupyter-widgets/controls",
     "model_module_version": "1.5.0",
     "model_name": "HBoxModel",
     "state": {
      "_dom_classes": [],
      "_model_module": "@jupyter-widgets/controls",
      "_model_module_version": "1.5.0",
      "_model_name": "HBoxModel",
      "_view_count": null,
      "_view_module": "@jupyter-widgets/controls",
      "_view_module_version": "1.5.0",
      "_view_name": "HBoxView",
      "box_style": "",
      "children": [
       "IPY_MODEL_af73fa4f07f24ba49a33a0a824635025",
       "IPY_MODEL_70c95be602fa458aafb615c31f36adf1",
       "IPY_MODEL_f92bfabe658a4fdeac43161310c1851c"
      ],
      "layout": "IPY_MODEL_ef4cfe1ee2fc4b2dbfc387553fa9ee30"
     }
    },
    "8e7bbcaf6ec04930972b4df8b96763e3": {
     "model_module": "@jupyter-widgets/controls",
     "model_module_version": "1.5.0",
     "model_name": "ProgressStyleModel",
     "state": {
      "_model_module": "@jupyter-widgets/controls",
      "_model_module_version": "1.5.0",
      "_model_name": "ProgressStyleModel",
      "_view_count": null,
      "_view_module": "@jupyter-widgets/base",
      "_view_module_version": "1.2.0",
      "_view_name": "StyleView",
      "bar_color": null,
      "description_width": ""
     }
    },
    "901944e8adb349afb9ecdd21faa17244": {
     "model_module": "@jupyter-widgets/controls",
     "model_module_version": "1.5.0",
     "model_name": "HBoxModel",
     "state": {
      "_dom_classes": [],
      "_model_module": "@jupyter-widgets/controls",
      "_model_module_version": "1.5.0",
      "_model_name": "HBoxModel",
      "_view_count": null,
      "_view_module": "@jupyter-widgets/controls",
      "_view_module_version": "1.5.0",
      "_view_name": "HBoxView",
      "box_style": "",
      "children": [
       "IPY_MODEL_81d4049501294c02814b3817e4fb1736",
       "IPY_MODEL_a14cd8150c314c2d94c7714d56e9b33c",
       "IPY_MODEL_05c2e8528df2457cbbf8432df643fc62"
      ],
      "layout": "IPY_MODEL_c8318d2dc94045dab969de98df24ec03"
     }
    },
    "90d82ba9704046798ed5f8241a62a8e8": {
     "model_module": "@jupyter-widgets/controls",
     "model_module_version": "1.5.0",
     "model_name": "ProgressStyleModel",
     "state": {
      "_model_module": "@jupyter-widgets/controls",
      "_model_module_version": "1.5.0",
      "_model_name": "ProgressStyleModel",
      "_view_count": null,
      "_view_module": "@jupyter-widgets/base",
      "_view_module_version": "1.2.0",
      "_view_name": "StyleView",
      "bar_color": null,
      "description_width": ""
     }
    },
    "90ea88bb8cd84048ad650116294f45a6": {
     "model_module": "@jupyter-widgets/controls",
     "model_module_version": "1.5.0",
     "model_name": "ProgressStyleModel",
     "state": {
      "_model_module": "@jupyter-widgets/controls",
      "_model_module_version": "1.5.0",
      "_model_name": "ProgressStyleModel",
      "_view_count": null,
      "_view_module": "@jupyter-widgets/base",
      "_view_module_version": "1.2.0",
      "_view_name": "StyleView",
      "bar_color": null,
      "description_width": ""
     }
    },
    "91b188bf807a4ff4b821c270dabfed5a": {
     "model_module": "@jupyter-widgets/controls",
     "model_module_version": "1.5.0",
     "model_name": "HTMLModel",
     "state": {
      "_dom_classes": [],
      "_model_module": "@jupyter-widgets/controls",
      "_model_module_version": "1.5.0",
      "_model_name": "HTMLModel",
      "_view_count": null,
      "_view_module": "@jupyter-widgets/controls",
      "_view_module_version": "1.5.0",
      "_view_name": "HTMLView",
      "description": "",
      "description_tooltip": null,
      "layout": "IPY_MODEL_3e27388c00ed40cd9049ff81edfd476e",
      "placeholder": "​",
      "style": "IPY_MODEL_92ae0102800b460899ec45ab2f3395a5",
      "value": " 466k/466k [00:00&lt;00:00, 2.82MB/s]"
     }
    },
    "92ae0102800b460899ec45ab2f3395a5": {
     "model_module": "@jupyter-widgets/controls",
     "model_module_version": "1.5.0",
     "model_name": "DescriptionStyleModel",
     "state": {
      "_model_module": "@jupyter-widgets/controls",
      "_model_module_version": "1.5.0",
      "_model_name": "DescriptionStyleModel",
      "_view_count": null,
      "_view_module": "@jupyter-widgets/base",
      "_view_module_version": "1.2.0",
      "_view_name": "StyleView",
      "description_width": ""
     }
    },
    "93f17e91a5a24a42814715ed55fe9c20": {
     "model_module": "@jupyter-widgets/controls",
     "model_module_version": "1.5.0",
     "model_name": "HTMLModel",
     "state": {
      "_dom_classes": [],
      "_model_module": "@jupyter-widgets/controls",
      "_model_module_version": "1.5.0",
      "_model_name": "HTMLModel",
      "_view_count": null,
      "_view_module": "@jupyter-widgets/controls",
      "_view_module_version": "1.5.0",
      "_view_name": "HTMLView",
      "description": "",
      "description_tooltip": null,
      "layout": "IPY_MODEL_9dd6c73ad46e4c23b75050cc300403c2",
      "placeholder": "​",
      "style": "IPY_MODEL_ce5ece34e2ae471b9988c402f175ca96",
      "value": "tokenizer_config.json: 100%"
     }
    },
    "966b85cde43c4746997ab443f536da75": {
     "model_module": "@jupyter-widgets/controls",
     "model_module_version": "1.5.0",
     "model_name": "DescriptionStyleModel",
     "state": {
      "_model_module": "@jupyter-widgets/controls",
      "_model_module_version": "1.5.0",
      "_model_name": "DescriptionStyleModel",
      "_view_count": null,
      "_view_module": "@jupyter-widgets/base",
      "_view_module_version": "1.2.0",
      "_view_name": "StyleView",
      "description_width": ""
     }
    },
    "9ad106c0f3dc49e8ba851121f49bec2b": {
     "model_module": "@jupyter-widgets/controls",
     "model_module_version": "1.5.0",
     "model_name": "DescriptionStyleModel",
     "state": {
      "_model_module": "@jupyter-widgets/controls",
      "_model_module_version": "1.5.0",
      "_model_name": "DescriptionStyleModel",
      "_view_count": null,
      "_view_module": "@jupyter-widgets/base",
      "_view_module_version": "1.2.0",
      "_view_name": "StyleView",
      "description_width": ""
     }
    },
    "9dd6c73ad46e4c23b75050cc300403c2": {
     "model_module": "@jupyter-widgets/base",
     "model_module_version": "1.2.0",
     "model_name": "LayoutModel",
     "state": {
      "_model_module": "@jupyter-widgets/base",
      "_model_module_version": "1.2.0",
      "_model_name": "LayoutModel",
      "_view_count": null,
      "_view_module": "@jupyter-widgets/base",
      "_view_module_version": "1.2.0",
      "_view_name": "LayoutView",
      "align_content": null,
      "align_items": null,
      "align_self": null,
      "border": null,
      "bottom": null,
      "display": null,
      "flex": null,
      "flex_flow": null,
      "grid_area": null,
      "grid_auto_columns": null,
      "grid_auto_flow": null,
      "grid_auto_rows": null,
      "grid_column": null,
      "grid_gap": null,
      "grid_row": null,
      "grid_template_areas": null,
      "grid_template_columns": null,
      "grid_template_rows": null,
      "height": null,
      "justify_content": null,
      "justify_items": null,
      "left": null,
      "margin": null,
      "max_height": null,
      "max_width": null,
      "min_height": null,
      "min_width": null,
      "object_fit": null,
      "object_position": null,
      "order": null,
      "overflow": null,
      "overflow_x": null,
      "overflow_y": null,
      "padding": null,
      "right": null,
      "top": null,
      "visibility": null,
      "width": null
     }
    },
    "9e96b117b4d54d58a20e0a04df9156f9": {
     "model_module": "@jupyter-widgets/controls",
     "model_module_version": "1.5.0",
     "model_name": "ProgressStyleModel",
     "state": {
      "_model_module": "@jupyter-widgets/controls",
      "_model_module_version": "1.5.0",
      "_model_name": "ProgressStyleModel",
      "_view_count": null,
      "_view_module": "@jupyter-widgets/base",
      "_view_module_version": "1.2.0",
      "_view_name": "StyleView",
      "bar_color": null,
      "description_width": ""
     }
    },
    "9f43db887fc24b41ae7e3e27eab009be": {
     "model_module": "@jupyter-widgets/controls",
     "model_module_version": "1.5.0",
     "model_name": "ProgressStyleModel",
     "state": {
      "_model_module": "@jupyter-widgets/controls",
      "_model_module_version": "1.5.0",
      "_model_name": "ProgressStyleModel",
      "_view_count": null,
      "_view_module": "@jupyter-widgets/base",
      "_view_module_version": "1.2.0",
      "_view_name": "StyleView",
      "bar_color": null,
      "description_width": ""
     }
    },
    "a021ff9d98fb4fa6837a67b47f039062": {
     "model_module": "@jupyter-widgets/controls",
     "model_module_version": "1.5.0",
     "model_name": "FloatProgressModel",
     "state": {
      "_dom_classes": [],
      "_model_module": "@jupyter-widgets/controls",
      "_model_module_version": "1.5.0",
      "_model_name": "FloatProgressModel",
      "_view_count": null,
      "_view_module": "@jupyter-widgets/controls",
      "_view_module_version": "1.5.0",
      "_view_name": "ProgressView",
      "bar_style": "success",
      "description": "",
      "description_tooltip": null,
      "layout": "IPY_MODEL_f34b44f598254ae2be24925faa301731",
      "max": 350,
      "min": 0,
      "orientation": "horizontal",
      "style": "IPY_MODEL_73d9e1a17ab6470cb1477c8963826467",
      "value": 350
     }
    },
    "a14cd8150c314c2d94c7714d56e9b33c": {
     "model_module": "@jupyter-widgets/controls",
     "model_module_version": "1.5.0",
     "model_name": "FloatProgressModel",
     "state": {
      "_dom_classes": [],
      "_model_module": "@jupyter-widgets/controls",
      "_model_module_version": "1.5.0",
      "_model_name": "FloatProgressModel",
      "_view_count": null,
      "_view_module": "@jupyter-widgets/controls",
      "_view_module_version": "1.5.0",
      "_view_name": "ProgressView",
      "bar_style": "success",
      "description": "",
      "description_tooltip": null,
      "layout": "IPY_MODEL_be362f475745448b93358a79e66c2c9f",
      "max": 612,
      "min": 0,
      "orientation": "horizontal",
      "style": "IPY_MODEL_12ae1dda1d534faaa395caa3c9f214b4",
      "value": 612
     }
    },
    "a1d85b8fc9644a5ea4b99666a0684556": {
     "model_module": "@jupyter-widgets/base",
     "model_module_version": "1.2.0",
     "model_name": "LayoutModel",
     "state": {
      "_model_module": "@jupyter-widgets/base",
      "_model_module_version": "1.2.0",
      "_model_name": "LayoutModel",
      "_view_count": null,
      "_view_module": "@jupyter-widgets/base",
      "_view_module_version": "1.2.0",
      "_view_name": "LayoutView",
      "align_content": null,
      "align_items": null,
      "align_self": null,
      "border": null,
      "bottom": null,
      "display": null,
      "flex": null,
      "flex_flow": null,
      "grid_area": null,
      "grid_auto_columns": null,
      "grid_auto_flow": null,
      "grid_auto_rows": null,
      "grid_column": null,
      "grid_gap": null,
      "grid_row": null,
      "grid_template_areas": null,
      "grid_template_columns": null,
      "grid_template_rows": null,
      "height": null,
      "justify_content": null,
      "justify_items": null,
      "left": null,
      "margin": null,
      "max_height": null,
      "max_width": null,
      "min_height": null,
      "min_width": null,
      "object_fit": null,
      "object_position": null,
      "order": null,
      "overflow": null,
      "overflow_x": null,
      "overflow_y": null,
      "padding": null,
      "right": null,
      "top": null,
      "visibility": null,
      "width": null
     }
    },
    "a3e33509e4324cba9e9e137f337c0e36": {
     "model_module": "@jupyter-widgets/base",
     "model_module_version": "1.2.0",
     "model_name": "LayoutModel",
     "state": {
      "_model_module": "@jupyter-widgets/base",
      "_model_module_version": "1.2.0",
      "_model_name": "LayoutModel",
      "_view_count": null,
      "_view_module": "@jupyter-widgets/base",
      "_view_module_version": "1.2.0",
      "_view_name": "LayoutView",
      "align_content": null,
      "align_items": null,
      "align_self": null,
      "border": null,
      "bottom": null,
      "display": null,
      "flex": null,
      "flex_flow": null,
      "grid_area": null,
      "grid_auto_columns": null,
      "grid_auto_flow": null,
      "grid_auto_rows": null,
      "grid_column": null,
      "grid_gap": null,
      "grid_row": null,
      "grid_template_areas": null,
      "grid_template_columns": null,
      "grid_template_rows": null,
      "height": null,
      "justify_content": null,
      "justify_items": null,
      "left": null,
      "margin": null,
      "max_height": null,
      "max_width": null,
      "min_height": null,
      "min_width": null,
      "object_fit": null,
      "object_position": null,
      "order": null,
      "overflow": null,
      "overflow_x": null,
      "overflow_y": null,
      "padding": null,
      "right": null,
      "top": null,
      "visibility": null,
      "width": null
     }
    },
    "a3f434bfb2864feebd83e342413e3372": {
     "model_module": "@jupyter-widgets/controls",
     "model_module_version": "1.5.0",
     "model_name": "DescriptionStyleModel",
     "state": {
      "_model_module": "@jupyter-widgets/controls",
      "_model_module_version": "1.5.0",
      "_model_name": "DescriptionStyleModel",
      "_view_count": null,
      "_view_module": "@jupyter-widgets/base",
      "_view_module_version": "1.2.0",
      "_view_name": "StyleView",
      "description_width": ""
     }
    },
    "a4091b1e0c004445a4fa3cad122e7f8f": {
     "model_module": "@jupyter-widgets/base",
     "model_module_version": "1.2.0",
     "model_name": "LayoutModel",
     "state": {
      "_model_module": "@jupyter-widgets/base",
      "_model_module_version": "1.2.0",
      "_model_name": "LayoutModel",
      "_view_count": null,
      "_view_module": "@jupyter-widgets/base",
      "_view_module_version": "1.2.0",
      "_view_name": "LayoutView",
      "align_content": null,
      "align_items": null,
      "align_self": null,
      "border": null,
      "bottom": null,
      "display": null,
      "flex": null,
      "flex_flow": null,
      "grid_area": null,
      "grid_auto_columns": null,
      "grid_auto_flow": null,
      "grid_auto_rows": null,
      "grid_column": null,
      "grid_gap": null,
      "grid_row": null,
      "grid_template_areas": null,
      "grid_template_columns": null,
      "grid_template_rows": null,
      "height": null,
      "justify_content": null,
      "justify_items": null,
      "left": null,
      "margin": null,
      "max_height": null,
      "max_width": null,
      "min_height": null,
      "min_width": null,
      "object_fit": null,
      "object_position": null,
      "order": null,
      "overflow": null,
      "overflow_x": null,
      "overflow_y": null,
      "padding": null,
      "right": null,
      "top": null,
      "visibility": null,
      "width": null
     }
    },
    "a66d7b92f15e4de080637f5f942c621a": {
     "model_module": "@jupyter-widgets/base",
     "model_module_version": "1.2.0",
     "model_name": "LayoutModel",
     "state": {
      "_model_module": "@jupyter-widgets/base",
      "_model_module_version": "1.2.0",
      "_model_name": "LayoutModel",
      "_view_count": null,
      "_view_module": "@jupyter-widgets/base",
      "_view_module_version": "1.2.0",
      "_view_name": "LayoutView",
      "align_content": null,
      "align_items": null,
      "align_self": null,
      "border": null,
      "bottom": null,
      "display": null,
      "flex": null,
      "flex_flow": null,
      "grid_area": null,
      "grid_auto_columns": null,
      "grid_auto_flow": null,
      "grid_auto_rows": null,
      "grid_column": null,
      "grid_gap": null,
      "grid_row": null,
      "grid_template_areas": null,
      "grid_template_columns": null,
      "grid_template_rows": null,
      "height": null,
      "justify_content": null,
      "justify_items": null,
      "left": null,
      "margin": null,
      "max_height": null,
      "max_width": null,
      "min_height": null,
      "min_width": null,
      "object_fit": null,
      "object_position": null,
      "order": null,
      "overflow": null,
      "overflow_x": null,
      "overflow_y": null,
      "padding": null,
      "right": null,
      "top": null,
      "visibility": null,
      "width": null
     }
    },
    "a7083e17b52d46b5839e0a207b05f659": {
     "model_module": "@jupyter-widgets/base",
     "model_module_version": "1.2.0",
     "model_name": "LayoutModel",
     "state": {
      "_model_module": "@jupyter-widgets/base",
      "_model_module_version": "1.2.0",
      "_model_name": "LayoutModel",
      "_view_count": null,
      "_view_module": "@jupyter-widgets/base",
      "_view_module_version": "1.2.0",
      "_view_name": "LayoutView",
      "align_content": null,
      "align_items": null,
      "align_self": null,
      "border": null,
      "bottom": null,
      "display": null,
      "flex": null,
      "flex_flow": null,
      "grid_area": null,
      "grid_auto_columns": null,
      "grid_auto_flow": null,
      "grid_auto_rows": null,
      "grid_column": null,
      "grid_gap": null,
      "grid_row": null,
      "grid_template_areas": null,
      "grid_template_columns": null,
      "grid_template_rows": null,
      "height": null,
      "justify_content": null,
      "justify_items": null,
      "left": null,
      "margin": null,
      "max_height": null,
      "max_width": null,
      "min_height": null,
      "min_width": null,
      "object_fit": null,
      "object_position": null,
      "order": null,
      "overflow": null,
      "overflow_x": null,
      "overflow_y": null,
      "padding": null,
      "right": null,
      "top": null,
      "visibility": null,
      "width": null
     }
    },
    "a757773df9b24bddb5a6c4d1c4f65b1b": {
     "model_module": "@jupyter-widgets/controls",
     "model_module_version": "1.5.0",
     "model_name": "HBoxModel",
     "state": {
      "_dom_classes": [],
      "_model_module": "@jupyter-widgets/controls",
      "_model_module_version": "1.5.0",
      "_model_name": "HBoxModel",
      "_view_count": null,
      "_view_module": "@jupyter-widgets/controls",
      "_view_module_version": "1.5.0",
      "_view_name": "HBoxView",
      "box_style": "",
      "children": [
       "IPY_MODEL_76fff33a918e439e95064d5206712311",
       "IPY_MODEL_d20164393c764d05b58c68105bf12de4",
       "IPY_MODEL_1dcbb2cba4c442a698d3e39b6893838c"
      ],
      "layout": "IPY_MODEL_b676d3a436e54f1fa86f9ba7df2bdf50"
     }
    },
    "a82fccc81a8a4ffb89f76cead0409f47": {
     "model_module": "@jupyter-widgets/controls",
     "model_module_version": "1.5.0",
     "model_name": "HTMLModel",
     "state": {
      "_dom_classes": [],
      "_model_module": "@jupyter-widgets/controls",
      "_model_module_version": "1.5.0",
      "_model_name": "HTMLModel",
      "_view_count": null,
      "_view_module": "@jupyter-widgets/controls",
      "_view_module_version": "1.5.0",
      "_view_name": "HTMLView",
      "description": "",
      "description_tooltip": null,
      "layout": "IPY_MODEL_406bb3f3fbbd4336a1fceaa13c0721aa",
      "placeholder": "​",
      "style": "IPY_MODEL_65ff909b2b384bb6871086f08b419fdd",
      "value": "README.md: 100%"
     }
    },
    "a8f2778263a64f109e7aa55243161af0": {
     "model_module": "@jupyter-widgets/controls",
     "model_module_version": "1.5.0",
     "model_name": "FloatProgressModel",
     "state": {
      "_dom_classes": [],
      "_model_module": "@jupyter-widgets/controls",
      "_model_module_version": "1.5.0",
      "_model_name": "FloatProgressModel",
      "_view_count": null,
      "_view_module": "@jupyter-widgets/controls",
      "_view_module_version": "1.5.0",
      "_view_name": "ProgressView",
      "bar_style": "success",
      "description": "",
      "description_tooltip": null,
      "layout": "IPY_MODEL_a4091b1e0c004445a4fa3cad122e7f8f",
      "max": 10454,
      "min": 0,
      "orientation": "horizontal",
      "style": "IPY_MODEL_a9f86d9e22104d8cbb53a0ba9d7d977b",
      "value": 10454
     }
    },
    "a9f86d9e22104d8cbb53a0ba9d7d977b": {
     "model_module": "@jupyter-widgets/controls",
     "model_module_version": "1.5.0",
     "model_name": "ProgressStyleModel",
     "state": {
      "_model_module": "@jupyter-widgets/controls",
      "_model_module_version": "1.5.0",
      "_model_name": "ProgressStyleModel",
      "_view_count": null,
      "_view_module": "@jupyter-widgets/base",
      "_view_module_version": "1.2.0",
      "_view_name": "StyleView",
      "bar_color": null,
      "description_width": ""
     }
    },
    "aa48b6e215e34882aedf9fe4f65fe188": {
     "model_module": "@jupyter-widgets/base",
     "model_module_version": "1.2.0",
     "model_name": "LayoutModel",
     "state": {
      "_model_module": "@jupyter-widgets/base",
      "_model_module_version": "1.2.0",
      "_model_name": "LayoutModel",
      "_view_count": null,
      "_view_module": "@jupyter-widgets/base",
      "_view_module_version": "1.2.0",
      "_view_name": "LayoutView",
      "align_content": null,
      "align_items": null,
      "align_self": null,
      "border": null,
      "bottom": null,
      "display": null,
      "flex": null,
      "flex_flow": null,
      "grid_area": null,
      "grid_auto_columns": null,
      "grid_auto_flow": null,
      "grid_auto_rows": null,
      "grid_column": null,
      "grid_gap": null,
      "grid_row": null,
      "grid_template_areas": null,
      "grid_template_columns": null,
      "grid_template_rows": null,
      "height": null,
      "justify_content": null,
      "justify_items": null,
      "left": null,
      "margin": null,
      "max_height": null,
      "max_width": null,
      "min_height": null,
      "min_width": null,
      "object_fit": null,
      "object_position": null,
      "order": null,
      "overflow": null,
      "overflow_x": null,
      "overflow_y": null,
      "padding": null,
      "right": null,
      "top": null,
      "visibility": null,
      "width": null
     }
    },
    "ac1705b8e1fa429385c7213ebf82448f": {
     "model_module": "@jupyter-widgets/base",
     "model_module_version": "1.2.0",
     "model_name": "LayoutModel",
     "state": {
      "_model_module": "@jupyter-widgets/base",
      "_model_module_version": "1.2.0",
      "_model_name": "LayoutModel",
      "_view_count": null,
      "_view_module": "@jupyter-widgets/base",
      "_view_module_version": "1.2.0",
      "_view_name": "LayoutView",
      "align_content": null,
      "align_items": null,
      "align_self": null,
      "border": null,
      "bottom": null,
      "display": null,
      "flex": null,
      "flex_flow": null,
      "grid_area": null,
      "grid_auto_columns": null,
      "grid_auto_flow": null,
      "grid_auto_rows": null,
      "grid_column": null,
      "grid_gap": null,
      "grid_row": null,
      "grid_template_areas": null,
      "grid_template_columns": null,
      "grid_template_rows": null,
      "height": null,
      "justify_content": null,
      "justify_items": null,
      "left": null,
      "margin": null,
      "max_height": null,
      "max_width": null,
      "min_height": null,
      "min_width": null,
      "object_fit": null,
      "object_position": null,
      "order": null,
      "overflow": null,
      "overflow_x": null,
      "overflow_y": null,
      "padding": null,
      "right": null,
      "top": null,
      "visibility": null,
      "width": null
     }
    },
    "ac85f95694fd48a39539db5882f6fef9": {
     "model_module": "@jupyter-widgets/controls",
     "model_module_version": "1.5.0",
     "model_name": "FloatProgressModel",
     "state": {
      "_dom_classes": [],
      "_model_module": "@jupyter-widgets/controls",
      "_model_module_version": "1.5.0",
      "_model_name": "FloatProgressModel",
      "_view_count": null,
      "_view_module": "@jupyter-widgets/controls",
      "_view_module_version": "1.5.0",
      "_view_name": "ProgressView",
      "bar_style": "success",
      "description": "",
      "description_tooltip": null,
      "layout": "IPY_MODEL_e7a5586a97764848836d0364b6cbc14e",
      "max": 53,
      "min": 0,
      "orientation": "horizontal",
      "style": "IPY_MODEL_507b4fe7073c48eba698556c9154a023",
      "value": 53
     }
    },
    "af73fa4f07f24ba49a33a0a824635025": {
     "model_module": "@jupyter-widgets/controls",
     "model_module_version": "1.5.0",
     "model_name": "HTMLModel",
     "state": {
      "_dom_classes": [],
      "_model_module": "@jupyter-widgets/controls",
      "_model_module_version": "1.5.0",
      "_model_name": "HTMLModel",
      "_view_count": null,
      "_view_module": "@jupyter-widgets/controls",
      "_view_module_version": "1.5.0",
      "_view_name": "HTMLView",
      "description": "",
      "description_tooltip": null,
      "layout": "IPY_MODEL_17c3b5ce30344251a59fca9511055616",
      "placeholder": "​",
      "style": "IPY_MODEL_9ad106c0f3dc49e8ba851121f49bec2b",
      "value": "config.json: 100%"
     }
    },
    "afe51b15660340a88ae8828ec371878c": {
     "model_module": "@jupyter-widgets/base",
     "model_module_version": "1.2.0",
     "model_name": "LayoutModel",
     "state": {
      "_model_module": "@jupyter-widgets/base",
      "_model_module_version": "1.2.0",
      "_model_name": "LayoutModel",
      "_view_count": null,
      "_view_module": "@jupyter-widgets/base",
      "_view_module_version": "1.2.0",
      "_view_name": "LayoutView",
      "align_content": null,
      "align_items": null,
      "align_self": null,
      "border": null,
      "bottom": null,
      "display": null,
      "flex": null,
      "flex_flow": null,
      "grid_area": null,
      "grid_auto_columns": null,
      "grid_auto_flow": null,
      "grid_auto_rows": null,
      "grid_column": null,
      "grid_gap": null,
      "grid_row": null,
      "grid_template_areas": null,
      "grid_template_columns": null,
      "grid_template_rows": null,
      "height": null,
      "justify_content": null,
      "justify_items": null,
      "left": null,
      "margin": null,
      "max_height": null,
      "max_width": null,
      "min_height": null,
      "min_width": null,
      "object_fit": null,
      "object_position": null,
      "order": null,
      "overflow": null,
      "overflow_x": null,
      "overflow_y": null,
      "padding": null,
      "right": null,
      "top": null,
      "visibility": null,
      "width": null
     }
    },
    "b06ccd3f2f2e4951a3df17a0d3a050b7": {
     "model_module": "@jupyter-widgets/controls",
     "model_module_version": "1.5.0",
     "model_name": "HTMLModel",
     "state": {
      "_dom_classes": [],
      "_model_module": "@jupyter-widgets/controls",
      "_model_module_version": "1.5.0",
      "_model_name": "HTMLModel",
      "_view_count": null,
      "_view_module": "@jupyter-widgets/controls",
      "_view_module_version": "1.5.0",
      "_view_name": "HTMLView",
      "description": "",
      "description_tooltip": null,
      "layout": "IPY_MODEL_0181343d2c9e42b59120d8b4d25b9554",
      "placeholder": "​",
      "style": "IPY_MODEL_711e2385880a440dbe25429e3f0509c8",
      "value": " 48.0/48.0 [00:00&lt;00:00, 1.06kB/s]"
     }
    },
    "b0b889de2cd442deade8beaa1a3cfbb8": {
     "model_module": "@jupyter-widgets/controls",
     "model_module_version": "1.5.0",
     "model_name": "HTMLModel",
     "state": {
      "_dom_classes": [],
      "_model_module": "@jupyter-widgets/controls",
      "_model_module_version": "1.5.0",
      "_model_name": "HTMLModel",
      "_view_count": null,
      "_view_module": "@jupyter-widgets/controls",
      "_view_module_version": "1.5.0",
      "_view_name": "HTMLView",
      "description": "",
      "description_tooltip": null,
      "layout": "IPY_MODEL_6ed35fb370fb4cbf81e38a34cacfbc64",
      "placeholder": "​",
      "style": "IPY_MODEL_ceede9eb4e6d47498b0a9ffa29028e19",
      "value": "modules.json: 100%"
     }
    },
    "b4b159763004453f87fc89b2f487d383": {
     "model_module": "@jupyter-widgets/controls",
     "model_module_version": "1.5.0",
     "model_name": "DescriptionStyleModel",
     "state": {
      "_model_module": "@jupyter-widgets/controls",
      "_model_module_version": "1.5.0",
      "_model_name": "DescriptionStyleModel",
      "_view_count": null,
      "_view_module": "@jupyter-widgets/base",
      "_view_module_version": "1.2.0",
      "_view_name": "StyleView",
      "description_width": ""
     }
    },
    "b65842dac50e4af0ad0fd2264072324f": {
     "model_module": "@jupyter-widgets/controls",
     "model_module_version": "1.5.0",
     "model_name": "DescriptionStyleModel",
     "state": {
      "_model_module": "@jupyter-widgets/controls",
      "_model_module_version": "1.5.0",
      "_model_name": "DescriptionStyleModel",
      "_view_count": null,
      "_view_module": "@jupyter-widgets/base",
      "_view_module_version": "1.2.0",
      "_view_name": "StyleView",
      "description_width": ""
     }
    },
    "b676d3a436e54f1fa86f9ba7df2bdf50": {
     "model_module": "@jupyter-widgets/base",
     "model_module_version": "1.2.0",
     "model_name": "LayoutModel",
     "state": {
      "_model_module": "@jupyter-widgets/base",
      "_model_module_version": "1.2.0",
      "_model_name": "LayoutModel",
      "_view_count": null,
      "_view_module": "@jupyter-widgets/base",
      "_view_module_version": "1.2.0",
      "_view_name": "LayoutView",
      "align_content": null,
      "align_items": null,
      "align_self": null,
      "border": null,
      "bottom": null,
      "display": null,
      "flex": null,
      "flex_flow": null,
      "grid_area": null,
      "grid_auto_columns": null,
      "grid_auto_flow": null,
      "grid_auto_rows": null,
      "grid_column": null,
      "grid_gap": null,
      "grid_row": null,
      "grid_template_areas": null,
      "grid_template_columns": null,
      "grid_template_rows": null,
      "height": null,
      "justify_content": null,
      "justify_items": null,
      "left": null,
      "margin": null,
      "max_height": null,
      "max_width": null,
      "min_height": null,
      "min_width": null,
      "object_fit": null,
      "object_position": null,
      "order": null,
      "overflow": null,
      "overflow_x": null,
      "overflow_y": null,
      "padding": null,
      "right": null,
      "top": null,
      "visibility": null,
      "width": null
     }
    },
    "bc05f63a8e284945b1f657a57f42f1f1": {
     "model_module": "@jupyter-widgets/controls",
     "model_module_version": "1.5.0",
     "model_name": "FloatProgressModel",
     "state": {
      "_dom_classes": [],
      "_model_module": "@jupyter-widgets/controls",
      "_model_module_version": "1.5.0",
      "_model_name": "FloatProgressModel",
      "_view_count": null,
      "_view_module": "@jupyter-widgets/controls",
      "_view_module_version": "1.5.0",
      "_view_name": "ProgressView",
      "bar_style": "success",
      "description": "",
      "description_tooltip": null,
      "layout": "IPY_MODEL_42bf5028b4ae4ed384f97cabe9617a95",
      "max": 440449768,
      "min": 0,
      "orientation": "horizontal",
      "style": "IPY_MODEL_0f762776d00e4248ac51381f18ef9f0e",
      "value": 440449768
     }
    },
    "bc47c662b33b45e497af089fa9bf5abf": {
     "model_module": "@jupyter-widgets/base",
     "model_module_version": "1.2.0",
     "model_name": "LayoutModel",
     "state": {
      "_model_module": "@jupyter-widgets/base",
      "_model_module_version": "1.2.0",
      "_model_name": "LayoutModel",
      "_view_count": null,
      "_view_module": "@jupyter-widgets/base",
      "_view_module_version": "1.2.0",
      "_view_name": "LayoutView",
      "align_content": null,
      "align_items": null,
      "align_self": null,
      "border": null,
      "bottom": null,
      "display": null,
      "flex": null,
      "flex_flow": null,
      "grid_area": null,
      "grid_auto_columns": null,
      "grid_auto_flow": null,
      "grid_auto_rows": null,
      "grid_column": null,
      "grid_gap": null,
      "grid_row": null,
      "grid_template_areas": null,
      "grid_template_columns": null,
      "grid_template_rows": null,
      "height": null,
      "justify_content": null,
      "justify_items": null,
      "left": null,
      "margin": null,
      "max_height": null,
      "max_width": null,
      "min_height": null,
      "min_width": null,
      "object_fit": null,
      "object_position": null,
      "order": null,
      "overflow": null,
      "overflow_x": null,
      "overflow_y": null,
      "padding": null,
      "right": null,
      "top": null,
      "visibility": null,
      "width": null
     }
    },
    "bcc1ad8291fa47fa8a6fe3f9ee7f593a": {
     "model_module": "@jupyter-widgets/base",
     "model_module_version": "1.2.0",
     "model_name": "LayoutModel",
     "state": {
      "_model_module": "@jupyter-widgets/base",
      "_model_module_version": "1.2.0",
      "_model_name": "LayoutModel",
      "_view_count": null,
      "_view_module": "@jupyter-widgets/base",
      "_view_module_version": "1.2.0",
      "_view_name": "LayoutView",
      "align_content": null,
      "align_items": null,
      "align_self": null,
      "border": null,
      "bottom": null,
      "display": null,
      "flex": null,
      "flex_flow": null,
      "grid_area": null,
      "grid_auto_columns": null,
      "grid_auto_flow": null,
      "grid_auto_rows": null,
      "grid_column": null,
      "grid_gap": null,
      "grid_row": null,
      "grid_template_areas": null,
      "grid_template_columns": null,
      "grid_template_rows": null,
      "height": null,
      "justify_content": null,
      "justify_items": null,
      "left": null,
      "margin": null,
      "max_height": null,
      "max_width": null,
      "min_height": null,
      "min_width": null,
      "object_fit": null,
      "object_position": null,
      "order": null,
      "overflow": null,
      "overflow_x": null,
      "overflow_y": null,
      "padding": null,
      "right": null,
      "top": null,
      "visibility": null,
      "width": null
     }
    },
    "be362f475745448b93358a79e66c2c9f": {
     "model_module": "@jupyter-widgets/base",
     "model_module_version": "1.2.0",
     "model_name": "LayoutModel",
     "state": {
      "_model_module": "@jupyter-widgets/base",
      "_model_module_version": "1.2.0",
      "_model_name": "LayoutModel",
      "_view_count": null,
      "_view_module": "@jupyter-widgets/base",
      "_view_module_version": "1.2.0",
      "_view_name": "LayoutView",
      "align_content": null,
      "align_items": null,
      "align_self": null,
      "border": null,
      "bottom": null,
      "display": null,
      "flex": null,
      "flex_flow": null,
      "grid_area": null,
      "grid_auto_columns": null,
      "grid_auto_flow": null,
      "grid_auto_rows": null,
      "grid_column": null,
      "grid_gap": null,
      "grid_row": null,
      "grid_template_areas": null,
      "grid_template_columns": null,
      "grid_template_rows": null,
      "height": null,
      "justify_content": null,
      "justify_items": null,
      "left": null,
      "margin": null,
      "max_height": null,
      "max_width": null,
      "min_height": null,
      "min_width": null,
      "object_fit": null,
      "object_position": null,
      "order": null,
      "overflow": null,
      "overflow_x": null,
      "overflow_y": null,
      "padding": null,
      "right": null,
      "top": null,
      "visibility": null,
      "width": null
     }
    },
    "bf136dae7ea247dd8e03b8b0c566ee59": {
     "model_module": "@jupyter-widgets/controls",
     "model_module_version": "1.5.0",
     "model_name": "DescriptionStyleModel",
     "state": {
      "_model_module": "@jupyter-widgets/controls",
      "_model_module_version": "1.5.0",
      "_model_name": "DescriptionStyleModel",
      "_view_count": null,
      "_view_module": "@jupyter-widgets/base",
      "_view_module_version": "1.2.0",
      "_view_name": "StyleView",
      "description_width": ""
     }
    },
    "c061e5f8f3424c9e8a9effc44e7c1ddd": {
     "model_module": "@jupyter-widgets/controls",
     "model_module_version": "1.5.0",
     "model_name": "DescriptionStyleModel",
     "state": {
      "_model_module": "@jupyter-widgets/controls",
      "_model_module_version": "1.5.0",
      "_model_name": "DescriptionStyleModel",
      "_view_count": null,
      "_view_module": "@jupyter-widgets/base",
      "_view_module_version": "1.2.0",
      "_view_name": "StyleView",
      "description_width": ""
     }
    },
    "c081ffb05a9d4657a027f51b703c55ca": {
     "model_module": "@jupyter-widgets/base",
     "model_module_version": "1.2.0",
     "model_name": "LayoutModel",
     "state": {
      "_model_module": "@jupyter-widgets/base",
      "_model_module_version": "1.2.0",
      "_model_name": "LayoutModel",
      "_view_count": null,
      "_view_module": "@jupyter-widgets/base",
      "_view_module_version": "1.2.0",
      "_view_name": "LayoutView",
      "align_content": null,
      "align_items": null,
      "align_self": null,
      "border": null,
      "bottom": null,
      "display": null,
      "flex": null,
      "flex_flow": null,
      "grid_area": null,
      "grid_auto_columns": null,
      "grid_auto_flow": null,
      "grid_auto_rows": null,
      "grid_column": null,
      "grid_gap": null,
      "grid_row": null,
      "grid_template_areas": null,
      "grid_template_columns": null,
      "grid_template_rows": null,
      "height": null,
      "justify_content": null,
      "justify_items": null,
      "left": null,
      "margin": null,
      "max_height": null,
      "max_width": null,
      "min_height": null,
      "min_width": null,
      "object_fit": null,
      "object_position": null,
      "order": null,
      "overflow": null,
      "overflow_x": null,
      "overflow_y": null,
      "padding": null,
      "right": null,
      "top": null,
      "visibility": null,
      "width": null
     }
    },
    "c16ee873c9f544a1a4177bba4b02db3b": {
     "model_module": "@jupyter-widgets/base",
     "model_module_version": "1.2.0",
     "model_name": "LayoutModel",
     "state": {
      "_model_module": "@jupyter-widgets/base",
      "_model_module_version": "1.2.0",
      "_model_name": "LayoutModel",
      "_view_count": null,
      "_view_module": "@jupyter-widgets/base",
      "_view_module_version": "1.2.0",
      "_view_name": "LayoutView",
      "align_content": null,
      "align_items": null,
      "align_self": null,
      "border": null,
      "bottom": null,
      "display": null,
      "flex": null,
      "flex_flow": null,
      "grid_area": null,
      "grid_auto_columns": null,
      "grid_auto_flow": null,
      "grid_auto_rows": null,
      "grid_column": null,
      "grid_gap": null,
      "grid_row": null,
      "grid_template_areas": null,
      "grid_template_columns": null,
      "grid_template_rows": null,
      "height": null,
      "justify_content": null,
      "justify_items": null,
      "left": null,
      "margin": null,
      "max_height": null,
      "max_width": null,
      "min_height": null,
      "min_width": null,
      "object_fit": null,
      "object_position": null,
      "order": null,
      "overflow": null,
      "overflow_x": null,
      "overflow_y": null,
      "padding": null,
      "right": null,
      "top": null,
      "visibility": null,
      "width": null
     }
    },
    "c39361a54087465795d3d95f9009c288": {
     "model_module": "@jupyter-widgets/controls",
     "model_module_version": "1.5.0",
     "model_name": "DescriptionStyleModel",
     "state": {
      "_model_module": "@jupyter-widgets/controls",
      "_model_module_version": "1.5.0",
      "_model_name": "DescriptionStyleModel",
      "_view_count": null,
      "_view_module": "@jupyter-widgets/base",
      "_view_module_version": "1.2.0",
      "_view_name": "StyleView",
      "description_width": ""
     }
    },
    "c3f500afebd044eb9fdd11f74e6c83d8": {
     "model_module": "@jupyter-widgets/base",
     "model_module_version": "1.2.0",
     "model_name": "LayoutModel",
     "state": {
      "_model_module": "@jupyter-widgets/base",
      "_model_module_version": "1.2.0",
      "_model_name": "LayoutModel",
      "_view_count": null,
      "_view_module": "@jupyter-widgets/base",
      "_view_module_version": "1.2.0",
      "_view_name": "LayoutView",
      "align_content": null,
      "align_items": null,
      "align_self": null,
      "border": null,
      "bottom": null,
      "display": null,
      "flex": null,
      "flex_flow": null,
      "grid_area": null,
      "grid_auto_columns": null,
      "grid_auto_flow": null,
      "grid_auto_rows": null,
      "grid_column": null,
      "grid_gap": null,
      "grid_row": null,
      "grid_template_areas": null,
      "grid_template_columns": null,
      "grid_template_rows": null,
      "height": null,
      "justify_content": null,
      "justify_items": null,
      "left": null,
      "margin": null,
      "max_height": null,
      "max_width": null,
      "min_height": null,
      "min_width": null,
      "object_fit": null,
      "object_position": null,
      "order": null,
      "overflow": null,
      "overflow_x": null,
      "overflow_y": null,
      "padding": null,
      "right": null,
      "top": null,
      "visibility": null,
      "width": null
     }
    },
    "c403e8149fa04e1787a99d49ffadd47a": {
     "model_module": "@jupyter-widgets/controls",
     "model_module_version": "1.5.0",
     "model_name": "DescriptionStyleModel",
     "state": {
      "_model_module": "@jupyter-widgets/controls",
      "_model_module_version": "1.5.0",
      "_model_name": "DescriptionStyleModel",
      "_view_count": null,
      "_view_module": "@jupyter-widgets/base",
      "_view_module_version": "1.2.0",
      "_view_name": "StyleView",
      "description_width": ""
     }
    },
    "c4aa8b12a0b247e2abca28727632e59d": {
     "model_module": "@jupyter-widgets/controls",
     "model_module_version": "1.5.0",
     "model_name": "HBoxModel",
     "state": {
      "_dom_classes": [],
      "_model_module": "@jupyter-widgets/controls",
      "_model_module_version": "1.5.0",
      "_model_name": "HBoxModel",
      "_view_count": null,
      "_view_module": "@jupyter-widgets/controls",
      "_view_module_version": "1.5.0",
      "_view_name": "HBoxView",
      "box_style": "",
      "children": [
       "IPY_MODEL_384954553671420b9fc9239fee5b454b",
       "IPY_MODEL_29e1bb17fb3a4b50ab226ebedf6c7c7c",
       "IPY_MODEL_787a68d22972494b8e7ab52d2fff750a"
      ],
      "layout": "IPY_MODEL_8967bf35b56441e8994dd9ccfcfb6143"
     }
    },
    "c52e3781a1a24ac7a198b54acc6c6138": {
     "model_module": "@jupyter-widgets/controls",
     "model_module_version": "1.5.0",
     "model_name": "HBoxModel",
     "state": {
      "_dom_classes": [],
      "_model_module": "@jupyter-widgets/controls",
      "_model_module_version": "1.5.0",
      "_model_name": "HBoxModel",
      "_view_count": null,
      "_view_module": "@jupyter-widgets/controls",
      "_view_module_version": "1.5.0",
      "_view_name": "HBoxView",
      "box_style": "",
      "children": [
       "IPY_MODEL_8773ac6bb4064d18acaa7cde0cef6412",
       "IPY_MODEL_ac85f95694fd48a39539db5882f6fef9",
       "IPY_MODEL_0eee9d6779b5402d93d267ea4252fff8"
      ],
      "layout": "IPY_MODEL_c16ee873c9f544a1a4177bba4b02db3b"
     }
    },
    "c53a4631ba3a48848f0539fb4c90ad87": {
     "model_module": "@jupyter-widgets/controls",
     "model_module_version": "1.5.0",
     "model_name": "DescriptionStyleModel",
     "state": {
      "_model_module": "@jupyter-widgets/controls",
      "_model_module_version": "1.5.0",
      "_model_name": "DescriptionStyleModel",
      "_view_count": null,
      "_view_module": "@jupyter-widgets/base",
      "_view_module_version": "1.2.0",
      "_view_name": "StyleView",
      "description_width": ""
     }
    },
    "c763621eab57424e84e0c4a697cbf7fe": {
     "model_module": "@jupyter-widgets/controls",
     "model_module_version": "1.5.0",
     "model_name": "DescriptionStyleModel",
     "state": {
      "_model_module": "@jupyter-widgets/controls",
      "_model_module_version": "1.5.0",
      "_model_name": "DescriptionStyleModel",
      "_view_count": null,
      "_view_module": "@jupyter-widgets/base",
      "_view_module_version": "1.2.0",
      "_view_name": "StyleView",
      "description_width": ""
     }
    },
    "c77cfe94b42b4bd9a1179a4d2e01786b": {
     "model_module": "@jupyter-widgets/controls",
     "model_module_version": "1.5.0",
     "model_name": "ProgressStyleModel",
     "state": {
      "_model_module": "@jupyter-widgets/controls",
      "_model_module_version": "1.5.0",
      "_model_name": "ProgressStyleModel",
      "_view_count": null,
      "_view_module": "@jupyter-widgets/base",
      "_view_module_version": "1.2.0",
      "_view_name": "StyleView",
      "bar_color": null,
      "description_width": ""
     }
    },
    "c8318d2dc94045dab969de98df24ec03": {
     "model_module": "@jupyter-widgets/base",
     "model_module_version": "1.2.0",
     "model_name": "LayoutModel",
     "state": {
      "_model_module": "@jupyter-widgets/base",
      "_model_module_version": "1.2.0",
      "_model_name": "LayoutModel",
      "_view_count": null,
      "_view_module": "@jupyter-widgets/base",
      "_view_module_version": "1.2.0",
      "_view_name": "LayoutView",
      "align_content": null,
      "align_items": null,
      "align_self": null,
      "border": null,
      "bottom": null,
      "display": null,
      "flex": null,
      "flex_flow": null,
      "grid_area": null,
      "grid_auto_columns": null,
      "grid_auto_flow": null,
      "grid_auto_rows": null,
      "grid_column": null,
      "grid_gap": null,
      "grid_row": null,
      "grid_template_areas": null,
      "grid_template_columns": null,
      "grid_template_rows": null,
      "height": null,
      "justify_content": null,
      "justify_items": null,
      "left": null,
      "margin": null,
      "max_height": null,
      "max_width": null,
      "min_height": null,
      "min_width": null,
      "object_fit": null,
      "object_position": null,
      "order": null,
      "overflow": null,
      "overflow_x": null,
      "overflow_y": null,
      "padding": null,
      "right": null,
      "top": null,
      "visibility": null,
      "width": null
     }
    },
    "c9bcaf0e6c3448469b87a32b6a3f0e1c": {
     "model_module": "@jupyter-widgets/controls",
     "model_module_version": "1.5.0",
     "model_name": "HTMLModel",
     "state": {
      "_dom_classes": [],
      "_model_module": "@jupyter-widgets/controls",
      "_model_module_version": "1.5.0",
      "_model_name": "HTMLModel",
      "_view_count": null,
      "_view_module": "@jupyter-widgets/controls",
      "_view_module_version": "1.5.0",
      "_view_name": "HTMLView",
      "description": "",
      "description_tooltip": null,
      "layout": "IPY_MODEL_a1d85b8fc9644a5ea4b99666a0684556",
      "placeholder": "​",
      "style": "IPY_MODEL_77b621fd9dbc4e789b1d128afb3f614e",
      "value": "config.json: 100%"
     }
    },
    "c9f89a88d9b5421a90cebb92b1c16d4a": {
     "model_module": "@jupyter-widgets/controls",
     "model_module_version": "1.5.0",
     "model_name": "FloatProgressModel",
     "state": {
      "_dom_classes": [],
      "_model_module": "@jupyter-widgets/controls",
      "_model_module_version": "1.5.0",
      "_model_name": "FloatProgressModel",
      "_view_count": null,
      "_view_module": "@jupyter-widgets/controls",
      "_view_module_version": "1.5.0",
      "_view_name": "ProgressView",
      "bar_style": "success",
      "description": "",
      "description_tooltip": null,
      "layout": "IPY_MODEL_ccea9e6b9daa48949ee1dae38ae64b0d",
      "max": 570,
      "min": 0,
      "orientation": "horizontal",
      "style": "IPY_MODEL_9e96b117b4d54d58a20e0a04df9156f9",
      "value": 570
     }
    },
    "ca8a4ae0776e46e89c698afe1cdd3aca": {
     "model_module": "@jupyter-widgets/base",
     "model_module_version": "1.2.0",
     "model_name": "LayoutModel",
     "state": {
      "_model_module": "@jupyter-widgets/base",
      "_model_module_version": "1.2.0",
      "_model_name": "LayoutModel",
      "_view_count": null,
      "_view_module": "@jupyter-widgets/base",
      "_view_module_version": "1.2.0",
      "_view_name": "LayoutView",
      "align_content": null,
      "align_items": null,
      "align_self": null,
      "border": null,
      "bottom": null,
      "display": null,
      "flex": null,
      "flex_flow": null,
      "grid_area": null,
      "grid_auto_columns": null,
      "grid_auto_flow": null,
      "grid_auto_rows": null,
      "grid_column": null,
      "grid_gap": null,
      "grid_row": null,
      "grid_template_areas": null,
      "grid_template_columns": null,
      "grid_template_rows": null,
      "height": null,
      "justify_content": null,
      "justify_items": null,
      "left": null,
      "margin": null,
      "max_height": null,
      "max_width": null,
      "min_height": null,
      "min_width": null,
      "object_fit": null,
      "object_position": null,
      "order": null,
      "overflow": null,
      "overflow_x": null,
      "overflow_y": null,
      "padding": null,
      "right": null,
      "top": null,
      "visibility": null,
      "width": null
     }
    },
    "cae5e50e59f045a7ae6b38316f3d131d": {
     "model_module": "@jupyter-widgets/controls",
     "model_module_version": "1.5.0",
     "model_name": "HBoxModel",
     "state": {
      "_dom_classes": [],
      "_model_module": "@jupyter-widgets/controls",
      "_model_module_version": "1.5.0",
      "_model_name": "HBoxModel",
      "_view_count": null,
      "_view_module": "@jupyter-widgets/controls",
      "_view_module_version": "1.5.0",
      "_view_name": "HBoxView",
      "box_style": "",
      "children": [
       "IPY_MODEL_8096d020a67f48049eb13abf5f7cce02",
       "IPY_MODEL_68df74bffc5f48ebb7e16bc93036d1f2",
       "IPY_MODEL_5f0dbbb5e25743a1b7870ce0b72f715e"
      ],
      "layout": "IPY_MODEL_7fd8348288f94738a559705f504bcc2f"
     }
    },
    "cbfc30c07942413e96743ae6996e12d4": {
     "model_module": "@jupyter-widgets/controls",
     "model_module_version": "1.5.0",
     "model_name": "DescriptionStyleModel",
     "state": {
      "_model_module": "@jupyter-widgets/controls",
      "_model_module_version": "1.5.0",
      "_model_name": "DescriptionStyleModel",
      "_view_count": null,
      "_view_module": "@jupyter-widgets/base",
      "_view_module_version": "1.2.0",
      "_view_name": "StyleView",
      "description_width": ""
     }
    },
    "ccea9e6b9daa48949ee1dae38ae64b0d": {
     "model_module": "@jupyter-widgets/base",
     "model_module_version": "1.2.0",
     "model_name": "LayoutModel",
     "state": {
      "_model_module": "@jupyter-widgets/base",
      "_model_module_version": "1.2.0",
      "_model_name": "LayoutModel",
      "_view_count": null,
      "_view_module": "@jupyter-widgets/base",
      "_view_module_version": "1.2.0",
      "_view_name": "LayoutView",
      "align_content": null,
      "align_items": null,
      "align_self": null,
      "border": null,
      "bottom": null,
      "display": null,
      "flex": null,
      "flex_flow": null,
      "grid_area": null,
      "grid_auto_columns": null,
      "grid_auto_flow": null,
      "grid_auto_rows": null,
      "grid_column": null,
      "grid_gap": null,
      "grid_row": null,
      "grid_template_areas": null,
      "grid_template_columns": null,
      "grid_template_rows": null,
      "height": null,
      "justify_content": null,
      "justify_items": null,
      "left": null,
      "margin": null,
      "max_height": null,
      "max_width": null,
      "min_height": null,
      "min_width": null,
      "object_fit": null,
      "object_position": null,
      "order": null,
      "overflow": null,
      "overflow_x": null,
      "overflow_y": null,
      "padding": null,
      "right": null,
      "top": null,
      "visibility": null,
      "width": null
     }
    },
    "ce5ece34e2ae471b9988c402f175ca96": {
     "model_module": "@jupyter-widgets/controls",
     "model_module_version": "1.5.0",
     "model_name": "DescriptionStyleModel",
     "state": {
      "_model_module": "@jupyter-widgets/controls",
      "_model_module_version": "1.5.0",
      "_model_name": "DescriptionStyleModel",
      "_view_count": null,
      "_view_module": "@jupyter-widgets/base",
      "_view_module_version": "1.2.0",
      "_view_name": "StyleView",
      "description_width": ""
     }
    },
    "ced09a43156845d1adadc0b0bf475c01": {
     "model_module": "@jupyter-widgets/base",
     "model_module_version": "1.2.0",
     "model_name": "LayoutModel",
     "state": {
      "_model_module": "@jupyter-widgets/base",
      "_model_module_version": "1.2.0",
      "_model_name": "LayoutModel",
      "_view_count": null,
      "_view_module": "@jupyter-widgets/base",
      "_view_module_version": "1.2.0",
      "_view_name": "LayoutView",
      "align_content": null,
      "align_items": null,
      "align_self": null,
      "border": null,
      "bottom": null,
      "display": null,
      "flex": null,
      "flex_flow": null,
      "grid_area": null,
      "grid_auto_columns": null,
      "grid_auto_flow": null,
      "grid_auto_rows": null,
      "grid_column": null,
      "grid_gap": null,
      "grid_row": null,
      "grid_template_areas": null,
      "grid_template_columns": null,
      "grid_template_rows": null,
      "height": null,
      "justify_content": null,
      "justify_items": null,
      "left": null,
      "margin": null,
      "max_height": null,
      "max_width": null,
      "min_height": null,
      "min_width": null,
      "object_fit": null,
      "object_position": null,
      "order": null,
      "overflow": null,
      "overflow_x": null,
      "overflow_y": null,
      "padding": null,
      "right": null,
      "top": null,
      "visibility": null,
      "width": null
     }
    },
    "ceede9eb4e6d47498b0a9ffa29028e19": {
     "model_module": "@jupyter-widgets/controls",
     "model_module_version": "1.5.0",
     "model_name": "DescriptionStyleModel",
     "state": {
      "_model_module": "@jupyter-widgets/controls",
      "_model_module_version": "1.5.0",
      "_model_name": "DescriptionStyleModel",
      "_view_count": null,
      "_view_module": "@jupyter-widgets/base",
      "_view_module_version": "1.2.0",
      "_view_name": "StyleView",
      "description_width": ""
     }
    },
    "d20164393c764d05b58c68105bf12de4": {
     "model_module": "@jupyter-widgets/controls",
     "model_module_version": "1.5.0",
     "model_name": "FloatProgressModel",
     "state": {
      "_dom_classes": [],
      "_model_module": "@jupyter-widgets/controls",
      "_model_module_version": "1.5.0",
      "_model_name": "FloatProgressModel",
      "_view_count": null,
      "_view_module": "@jupyter-widgets/controls",
      "_view_module_version": "1.5.0",
      "_view_name": "ProgressView",
      "bar_style": "success",
      "description": "",
      "description_tooltip": null,
      "layout": "IPY_MODEL_1ac7f39cae7543f388e22bc70b19b730",
      "max": 466247,
      "min": 0,
      "orientation": "horizontal",
      "style": "IPY_MODEL_9f43db887fc24b41ae7e3e27eab009be",
      "value": 466247
     }
    },
    "d256483147184930a0fc6c8d47dfe4bb": {
     "model_module": "@jupyter-widgets/controls",
     "model_module_version": "1.5.0",
     "model_name": "FloatProgressModel",
     "state": {
      "_dom_classes": [],
      "_model_module": "@jupyter-widgets/controls",
      "_model_module_version": "1.5.0",
      "_model_name": "FloatProgressModel",
      "_view_count": null,
      "_view_module": "@jupyter-widgets/controls",
      "_view_module_version": "1.5.0",
      "_view_name": "ProgressView",
      "bar_style": "success",
      "description": "",
      "description_tooltip": null,
      "layout": "IPY_MODEL_d7ceb752aafa44958e189faa46c83f1a",
      "max": 231508,
      "min": 0,
      "orientation": "horizontal",
      "style": "IPY_MODEL_4830023a12b745d5abae82806d10ccb1",
      "value": 231508
     }
    },
    "d5709289cb6b4756a509b5606a61b763": {
     "model_module": "@jupyter-widgets/base",
     "model_module_version": "1.2.0",
     "model_name": "LayoutModel",
     "state": {
      "_model_module": "@jupyter-widgets/base",
      "_model_module_version": "1.2.0",
      "_model_name": "LayoutModel",
      "_view_count": null,
      "_view_module": "@jupyter-widgets/base",
      "_view_module_version": "1.2.0",
      "_view_name": "LayoutView",
      "align_content": null,
      "align_items": null,
      "align_self": null,
      "border": null,
      "bottom": null,
      "display": null,
      "flex": null,
      "flex_flow": null,
      "grid_area": null,
      "grid_auto_columns": null,
      "grid_auto_flow": null,
      "grid_auto_rows": null,
      "grid_column": null,
      "grid_gap": null,
      "grid_row": null,
      "grid_template_areas": null,
      "grid_template_columns": null,
      "grid_template_rows": null,
      "height": null,
      "justify_content": null,
      "justify_items": null,
      "left": null,
      "margin": null,
      "max_height": null,
      "max_width": null,
      "min_height": null,
      "min_width": null,
      "object_fit": null,
      "object_position": null,
      "order": null,
      "overflow": null,
      "overflow_x": null,
      "overflow_y": null,
      "padding": null,
      "right": null,
      "top": null,
      "visibility": null,
      "width": null
     }
    },
    "d63fadd179de45c4bb75627ed0c985b8": {
     "model_module": "@jupyter-widgets/base",
     "model_module_version": "1.2.0",
     "model_name": "LayoutModel",
     "state": {
      "_model_module": "@jupyter-widgets/base",
      "_model_module_version": "1.2.0",
      "_model_name": "LayoutModel",
      "_view_count": null,
      "_view_module": "@jupyter-widgets/base",
      "_view_module_version": "1.2.0",
      "_view_name": "LayoutView",
      "align_content": null,
      "align_items": null,
      "align_self": null,
      "border": null,
      "bottom": null,
      "display": null,
      "flex": null,
      "flex_flow": null,
      "grid_area": null,
      "grid_auto_columns": null,
      "grid_auto_flow": null,
      "grid_auto_rows": null,
      "grid_column": null,
      "grid_gap": null,
      "grid_row": null,
      "grid_template_areas": null,
      "grid_template_columns": null,
      "grid_template_rows": null,
      "height": null,
      "justify_content": null,
      "justify_items": null,
      "left": null,
      "margin": null,
      "max_height": null,
      "max_width": null,
      "min_height": null,
      "min_width": null,
      "object_fit": null,
      "object_position": null,
      "order": null,
      "overflow": null,
      "overflow_x": null,
      "overflow_y": null,
      "padding": null,
      "right": null,
      "top": null,
      "visibility": null,
      "width": null
     }
    },
    "d7ceb752aafa44958e189faa46c83f1a": {
     "model_module": "@jupyter-widgets/base",
     "model_module_version": "1.2.0",
     "model_name": "LayoutModel",
     "state": {
      "_model_module": "@jupyter-widgets/base",
      "_model_module_version": "1.2.0",
      "_model_name": "LayoutModel",
      "_view_count": null,
      "_view_module": "@jupyter-widgets/base",
      "_view_module_version": "1.2.0",
      "_view_name": "LayoutView",
      "align_content": null,
      "align_items": null,
      "align_self": null,
      "border": null,
      "bottom": null,
      "display": null,
      "flex": null,
      "flex_flow": null,
      "grid_area": null,
      "grid_auto_columns": null,
      "grid_auto_flow": null,
      "grid_auto_rows": null,
      "grid_column": null,
      "grid_gap": null,
      "grid_row": null,
      "grid_template_areas": null,
      "grid_template_columns": null,
      "grid_template_rows": null,
      "height": null,
      "justify_content": null,
      "justify_items": null,
      "left": null,
      "margin": null,
      "max_height": null,
      "max_width": null,
      "min_height": null,
      "min_width": null,
      "object_fit": null,
      "object_position": null,
      "order": null,
      "overflow": null,
      "overflow_x": null,
      "overflow_y": null,
      "padding": null,
      "right": null,
      "top": null,
      "visibility": null,
      "width": null
     }
    },
    "d8a36b99ca024eefb84f233efb306a03": {
     "model_module": "@jupyter-widgets/controls",
     "model_module_version": "1.5.0",
     "model_name": "FloatProgressModel",
     "state": {
      "_dom_classes": [],
      "_model_module": "@jupyter-widgets/controls",
      "_model_module_version": "1.5.0",
      "_model_name": "FloatProgressModel",
      "_view_count": null,
      "_view_module": "@jupyter-widgets/controls",
      "_view_module_version": "1.5.0",
      "_view_name": "ProgressView",
      "bar_style": "success",
      "description": "",
      "description_tooltip": null,
      "layout": "IPY_MODEL_c3f500afebd044eb9fdd11f74e6c83d8",
      "max": 349,
      "min": 0,
      "orientation": "horizontal",
      "style": "IPY_MODEL_18b14f1863d74ecd99ce141e6d92ba93",
      "value": 349
     }
    },
    "dad4fc0982e04bd0982dd26c9cfcca0a": {
     "model_module": "@jupyter-widgets/controls",
     "model_module_version": "1.5.0",
     "model_name": "DescriptionStyleModel",
     "state": {
      "_model_module": "@jupyter-widgets/controls",
      "_model_module_version": "1.5.0",
      "_model_name": "DescriptionStyleModel",
      "_view_count": null,
      "_view_module": "@jupyter-widgets/base",
      "_view_module_version": "1.2.0",
      "_view_name": "StyleView",
      "description_width": ""
     }
    },
    "dc11e24e8d734f1cae638f574d90cb46": {
     "model_module": "@jupyter-widgets/base",
     "model_module_version": "1.2.0",
     "model_name": "LayoutModel",
     "state": {
      "_model_module": "@jupyter-widgets/base",
      "_model_module_version": "1.2.0",
      "_model_name": "LayoutModel",
      "_view_count": null,
      "_view_module": "@jupyter-widgets/base",
      "_view_module_version": "1.2.0",
      "_view_name": "LayoutView",
      "align_content": null,
      "align_items": null,
      "align_self": null,
      "border": null,
      "bottom": null,
      "display": null,
      "flex": null,
      "flex_flow": null,
      "grid_area": null,
      "grid_auto_columns": null,
      "grid_auto_flow": null,
      "grid_auto_rows": null,
      "grid_column": null,
      "grid_gap": null,
      "grid_row": null,
      "grid_template_areas": null,
      "grid_template_columns": null,
      "grid_template_rows": null,
      "height": null,
      "justify_content": null,
      "justify_items": null,
      "left": null,
      "margin": null,
      "max_height": null,
      "max_width": null,
      "min_height": null,
      "min_width": null,
      "object_fit": null,
      "object_position": null,
      "order": null,
      "overflow": null,
      "overflow_x": null,
      "overflow_y": null,
      "padding": null,
      "right": null,
      "top": null,
      "visibility": null,
      "width": null
     }
    },
    "dc1e3646adc1459daa869841a35490a6": {
     "model_module": "@jupyter-widgets/base",
     "model_module_version": "1.2.0",
     "model_name": "LayoutModel",
     "state": {
      "_model_module": "@jupyter-widgets/base",
      "_model_module_version": "1.2.0",
      "_model_name": "LayoutModel",
      "_view_count": null,
      "_view_module": "@jupyter-widgets/base",
      "_view_module_version": "1.2.0",
      "_view_name": "LayoutView",
      "align_content": null,
      "align_items": null,
      "align_self": null,
      "border": null,
      "bottom": null,
      "display": null,
      "flex": null,
      "flex_flow": null,
      "grid_area": null,
      "grid_auto_columns": null,
      "grid_auto_flow": null,
      "grid_auto_rows": null,
      "grid_column": null,
      "grid_gap": null,
      "grid_row": null,
      "grid_template_areas": null,
      "grid_template_columns": null,
      "grid_template_rows": null,
      "height": null,
      "justify_content": null,
      "justify_items": null,
      "left": null,
      "margin": null,
      "max_height": null,
      "max_width": null,
      "min_height": null,
      "min_width": null,
      "object_fit": null,
      "object_position": null,
      "order": null,
      "overflow": null,
      "overflow_x": null,
      "overflow_y": null,
      "padding": null,
      "right": null,
      "top": null,
      "visibility": null,
      "width": null
     }
    },
    "ddd6fbba5ae245b791329de3f2ae4e14": {
     "model_module": "@jupyter-widgets/controls",
     "model_module_version": "1.5.0",
     "model_name": "DescriptionStyleModel",
     "state": {
      "_model_module": "@jupyter-widgets/controls",
      "_model_module_version": "1.5.0",
      "_model_name": "DescriptionStyleModel",
      "_view_count": null,
      "_view_module": "@jupyter-widgets/base",
      "_view_module_version": "1.2.0",
      "_view_name": "StyleView",
      "description_width": ""
     }
    },
    "e0468a3654c0481bb1ac0bdc5edfbba5": {
     "model_module": "@jupyter-widgets/controls",
     "model_module_version": "1.5.0",
     "model_name": "HTMLModel",
     "state": {
      "_dom_classes": [],
      "_model_module": "@jupyter-widgets/controls",
      "_model_module_version": "1.5.0",
      "_model_name": "HTMLModel",
      "_view_count": null,
      "_view_module": "@jupyter-widgets/controls",
      "_view_module_version": "1.5.0",
      "_view_name": "HTMLView",
      "description": "",
      "description_tooltip": null,
      "layout": "IPY_MODEL_a7083e17b52d46b5839e0a207b05f659",
      "placeholder": "​",
      "style": "IPY_MODEL_c763621eab57424e84e0c4a697cbf7fe",
      "value": " 570/570 [00:00&lt;00:00, 52.8kB/s]"
     }
    },
    "e0a0398e1f41434a8cf72efc91ba40ab": {
     "model_module": "@jupyter-widgets/controls",
     "model_module_version": "1.5.0",
     "model_name": "HTMLModel",
     "state": {
      "_dom_classes": [],
      "_model_module": "@jupyter-widgets/controls",
      "_model_module_version": "1.5.0",
      "_model_name": "HTMLModel",
      "_view_count": null,
      "_view_module": "@jupyter-widgets/controls",
      "_view_module_version": "1.5.0",
      "_view_name": "HTMLView",
      "description": "",
      "description_tooltip": null,
      "layout": "IPY_MODEL_ced09a43156845d1adadc0b0bf475c01",
      "placeholder": "​",
      "style": "IPY_MODEL_966b85cde43c4746997ab443f536da75",
      "value": " 10.5k/10.5k [00:00&lt;00:00, 266kB/s]"
     }
    },
    "e152466c1eeb4d3798d58978a598dbca": {
     "model_module": "@jupyter-widgets/controls",
     "model_module_version": "1.5.0",
     "model_name": "FloatProgressModel",
     "state": {
      "_dom_classes": [],
      "_model_module": "@jupyter-widgets/controls",
      "_model_module_version": "1.5.0",
      "_model_name": "FloatProgressModel",
      "_view_count": null,
      "_view_module": "@jupyter-widgets/controls",
      "_view_module_version": "1.5.0",
      "_view_name": "ProgressView",
      "bar_style": "success",
      "description": "",
      "description_tooltip": null,
      "layout": "IPY_MODEL_6923228d75434075bfd71027c2a2c38a",
      "max": 112,
      "min": 0,
      "orientation": "horizontal",
      "style": "IPY_MODEL_c77cfe94b42b4bd9a1179a4d2e01786b",
      "value": 112
     }
    },
    "e62953726265403d8a082076e5a07659": {
     "model_module": "@jupyter-widgets/base",
     "model_module_version": "1.2.0",
     "model_name": "LayoutModel",
     "state": {
      "_model_module": "@jupyter-widgets/base",
      "_model_module_version": "1.2.0",
      "_model_name": "LayoutModel",
      "_view_count": null,
      "_view_module": "@jupyter-widgets/base",
      "_view_module_version": "1.2.0",
      "_view_name": "LayoutView",
      "align_content": null,
      "align_items": null,
      "align_self": null,
      "border": null,
      "bottom": null,
      "display": null,
      "flex": null,
      "flex_flow": null,
      "grid_area": null,
      "grid_auto_columns": null,
      "grid_auto_flow": null,
      "grid_auto_rows": null,
      "grid_column": null,
      "grid_gap": null,
      "grid_row": null,
      "grid_template_areas": null,
      "grid_template_columns": null,
      "grid_template_rows": null,
      "height": null,
      "justify_content": null,
      "justify_items": null,
      "left": null,
      "margin": null,
      "max_height": null,
      "max_width": null,
      "min_height": null,
      "min_width": null,
      "object_fit": null,
      "object_position": null,
      "order": null,
      "overflow": null,
      "overflow_x": null,
      "overflow_y": null,
      "padding": null,
      "right": null,
      "top": null,
      "visibility": null,
      "width": null
     }
    },
    "e6cabe0ed48a45048f9bf550d13b62f2": {
     "model_module": "@jupyter-widgets/controls",
     "model_module_version": "1.5.0",
     "model_name": "DescriptionStyleModel",
     "state": {
      "_model_module": "@jupyter-widgets/controls",
      "_model_module_version": "1.5.0",
      "_model_name": "DescriptionStyleModel",
      "_view_count": null,
      "_view_module": "@jupyter-widgets/base",
      "_view_module_version": "1.2.0",
      "_view_name": "StyleView",
      "description_width": ""
     }
    },
    "e73d1dc278fc487fbc98a51484d4d4bf": {
     "model_module": "@jupyter-widgets/controls",
     "model_module_version": "1.5.0",
     "model_name": "HTMLModel",
     "state": {
      "_dom_classes": [],
      "_model_module": "@jupyter-widgets/controls",
      "_model_module_version": "1.5.0",
      "_model_name": "HTMLModel",
      "_view_count": null,
      "_view_module": "@jupyter-widgets/controls",
      "_view_module_version": "1.5.0",
      "_view_name": "HTMLView",
      "description": "",
      "description_tooltip": null,
      "layout": "IPY_MODEL_afe51b15660340a88ae8828ec371878c",
      "placeholder": "​",
      "style": "IPY_MODEL_79e508f05c67411a92984619380bc17d",
      "value": " 112/112 [00:00&lt;00:00, 6.36kB/s]"
     }
    },
    "e7a5586a97764848836d0364b6cbc14e": {
     "model_module": "@jupyter-widgets/base",
     "model_module_version": "1.2.0",
     "model_name": "LayoutModel",
     "state": {
      "_model_module": "@jupyter-widgets/base",
      "_model_module_version": "1.2.0",
      "_model_name": "LayoutModel",
      "_view_count": null,
      "_view_module": "@jupyter-widgets/base",
      "_view_module_version": "1.2.0",
      "_view_name": "LayoutView",
      "align_content": null,
      "align_items": null,
      "align_self": null,
      "border": null,
      "bottom": null,
      "display": null,
      "flex": null,
      "flex_flow": null,
      "grid_area": null,
      "grid_auto_columns": null,
      "grid_auto_flow": null,
      "grid_auto_rows": null,
      "grid_column": null,
      "grid_gap": null,
      "grid_row": null,
      "grid_template_areas": null,
      "grid_template_columns": null,
      "grid_template_rows": null,
      "height": null,
      "justify_content": null,
      "justify_items": null,
      "left": null,
      "margin": null,
      "max_height": null,
      "max_width": null,
      "min_height": null,
      "min_width": null,
      "object_fit": null,
      "object_position": null,
      "order": null,
      "overflow": null,
      "overflow_x": null,
      "overflow_y": null,
      "padding": null,
      "right": null,
      "top": null,
      "visibility": null,
      "width": null
     }
    },
    "e7c031e98ae5491986716e47913fc441": {
     "model_module": "@jupyter-widgets/controls",
     "model_module_version": "1.5.0",
     "model_name": "HTMLModel",
     "state": {
      "_dom_classes": [],
      "_model_module": "@jupyter-widgets/controls",
      "_model_module_version": "1.5.0",
      "_model_name": "HTMLModel",
      "_view_count": null,
      "_view_module": "@jupyter-widgets/controls",
      "_view_module_version": "1.5.0",
      "_view_name": "HTMLView",
      "description": "",
      "description_tooltip": null,
      "layout": "IPY_MODEL_30bd941ae7d143d2927ddc6aa9e08860",
      "placeholder": "​",
      "style": "IPY_MODEL_c403e8149fa04e1787a99d49ffadd47a",
      "value": "vocab.txt: 100%"
     }
    },
    "e86b2bdbac9e41ce9efdac969469e5db": {
     "model_module": "@jupyter-widgets/controls",
     "model_module_version": "1.5.0",
     "model_name": "HTMLModel",
     "state": {
      "_dom_classes": [],
      "_model_module": "@jupyter-widgets/controls",
      "_model_module_version": "1.5.0",
      "_model_name": "HTMLModel",
      "_view_count": null,
      "_view_module": "@jupyter-widgets/controls",
      "_view_module_version": "1.5.0",
      "_view_name": "HTMLView",
      "description": "",
      "description_tooltip": null,
      "layout": "IPY_MODEL_43424cdce75a4c9ea4acef13ab3b8df9",
      "placeholder": "​",
      "style": "IPY_MODEL_b65842dac50e4af0ad0fd2264072324f",
      "value": " 349/349 [00:00&lt;00:00, 9.32kB/s]"
     }
    },
    "ea6e8db6a76b42b8b6570f6c066e9e76": {
     "model_module": "@jupyter-widgets/controls",
     "model_module_version": "1.5.0",
     "model_name": "DescriptionStyleModel",
     "state": {
      "_model_module": "@jupyter-widgets/controls",
      "_model_module_version": "1.5.0",
      "_model_name": "DescriptionStyleModel",
      "_view_count": null,
      "_view_module": "@jupyter-widgets/base",
      "_view_module_version": "1.2.0",
      "_view_name": "StyleView",
      "description_width": ""
     }
    },
    "ec14ca78882340ad9a90807d5bbd756f": {
     "model_module": "@jupyter-widgets/controls",
     "model_module_version": "1.5.0",
     "model_name": "HTMLModel",
     "state": {
      "_dom_classes": [],
      "_model_module": "@jupyter-widgets/controls",
      "_model_module_version": "1.5.0",
      "_model_name": "HTMLModel",
      "_view_count": null,
      "_view_module": "@jupyter-widgets/controls",
      "_view_module_version": "1.5.0",
      "_view_name": "HTMLView",
      "description": "",
      "description_tooltip": null,
      "layout": "IPY_MODEL_f3ee1907d0b143959a908b2942f3d8e0",
      "placeholder": "​",
      "style": "IPY_MODEL_cbfc30c07942413e96743ae6996e12d4",
      "value": " 350/350 [00:00&lt;00:00, 16.4kB/s]"
     }
    },
    "ecfa44db96a740d0b28ca13d5d8e38f5": {
     "model_module": "@jupyter-widgets/base",
     "model_module_version": "1.2.0",
     "model_name": "LayoutModel",
     "state": {
      "_model_module": "@jupyter-widgets/base",
      "_model_module_version": "1.2.0",
      "_model_name": "LayoutModel",
      "_view_count": null,
      "_view_module": "@jupyter-widgets/base",
      "_view_module_version": "1.2.0",
      "_view_name": "LayoutView",
      "align_content": null,
      "align_items": null,
      "align_self": null,
      "border": null,
      "bottom": null,
      "display": null,
      "flex": null,
      "flex_flow": null,
      "grid_area": null,
      "grid_auto_columns": null,
      "grid_auto_flow": null,
      "grid_auto_rows": null,
      "grid_column": null,
      "grid_gap": null,
      "grid_row": null,
      "grid_template_areas": null,
      "grid_template_columns": null,
      "grid_template_rows": null,
      "height": null,
      "justify_content": null,
      "justify_items": null,
      "left": null,
      "margin": null,
      "max_height": null,
      "max_width": null,
      "min_height": null,
      "min_width": null,
      "object_fit": null,
      "object_position": null,
      "order": null,
      "overflow": null,
      "overflow_x": null,
      "overflow_y": null,
      "padding": null,
      "right": null,
      "top": null,
      "visibility": null,
      "width": null
     }
    },
    "ed8fc8363611466193ce8cb4f772d1c6": {
     "model_module": "@jupyter-widgets/controls",
     "model_module_version": "1.5.0",
     "model_name": "HBoxModel",
     "state": {
      "_dom_classes": [],
      "_model_module": "@jupyter-widgets/controls",
      "_model_module_version": "1.5.0",
      "_model_name": "HBoxModel",
      "_view_count": null,
      "_view_module": "@jupyter-widgets/controls",
      "_view_module_version": "1.5.0",
      "_view_name": "HBoxView",
      "box_style": "",
      "children": [
       "IPY_MODEL_290c9db38e954624a9052a9af82d71af",
       "IPY_MODEL_a021ff9d98fb4fa6837a67b47f039062",
       "IPY_MODEL_ec14ca78882340ad9a90807d5bbd756f"
      ],
      "layout": "IPY_MODEL_d5709289cb6b4756a509b5606a61b763"
     }
    },
    "edfe5cef23ae488181c7793996e58755": {
     "model_module": "@jupyter-widgets/base",
     "model_module_version": "1.2.0",
     "model_name": "LayoutModel",
     "state": {
      "_model_module": "@jupyter-widgets/base",
      "_model_module_version": "1.2.0",
      "_model_name": "LayoutModel",
      "_view_count": null,
      "_view_module": "@jupyter-widgets/base",
      "_view_module_version": "1.2.0",
      "_view_name": "LayoutView",
      "align_content": null,
      "align_items": null,
      "align_self": null,
      "border": null,
      "bottom": null,
      "display": null,
      "flex": null,
      "flex_flow": null,
      "grid_area": null,
      "grid_auto_columns": null,
      "grid_auto_flow": null,
      "grid_auto_rows": null,
      "grid_column": null,
      "grid_gap": null,
      "grid_row": null,
      "grid_template_areas": null,
      "grid_template_columns": null,
      "grid_template_rows": null,
      "height": null,
      "justify_content": null,
      "justify_items": null,
      "left": null,
      "margin": null,
      "max_height": null,
      "max_width": null,
      "min_height": null,
      "min_width": null,
      "object_fit": null,
      "object_position": null,
      "order": null,
      "overflow": null,
      "overflow_x": null,
      "overflow_y": null,
      "padding": null,
      "right": null,
      "top": null,
      "visibility": null,
      "width": null
     }
    },
    "ef4cfe1ee2fc4b2dbfc387553fa9ee30": {
     "model_module": "@jupyter-widgets/base",
     "model_module_version": "1.2.0",
     "model_name": "LayoutModel",
     "state": {
      "_model_module": "@jupyter-widgets/base",
      "_model_module_version": "1.2.0",
      "_model_name": "LayoutModel",
      "_view_count": null,
      "_view_module": "@jupyter-widgets/base",
      "_view_module_version": "1.2.0",
      "_view_name": "LayoutView",
      "align_content": null,
      "align_items": null,
      "align_self": null,
      "border": null,
      "bottom": null,
      "display": null,
      "flex": null,
      "flex_flow": null,
      "grid_area": null,
      "grid_auto_columns": null,
      "grid_auto_flow": null,
      "grid_auto_rows": null,
      "grid_column": null,
      "grid_gap": null,
      "grid_row": null,
      "grid_template_areas": null,
      "grid_template_columns": null,
      "grid_template_rows": null,
      "height": null,
      "justify_content": null,
      "justify_items": null,
      "left": null,
      "margin": null,
      "max_height": null,
      "max_width": null,
      "min_height": null,
      "min_width": null,
      "object_fit": null,
      "object_position": null,
      "order": null,
      "overflow": null,
      "overflow_x": null,
      "overflow_y": null,
      "padding": null,
      "right": null,
      "top": null,
      "visibility": null,
      "width": null
     }
    },
    "f1ef3298fec047419803c52f2b2028e2": {
     "model_module": "@jupyter-widgets/controls",
     "model_module_version": "1.5.0",
     "model_name": "FloatProgressModel",
     "state": {
      "_dom_classes": [],
      "_model_module": "@jupyter-widgets/controls",
      "_model_module_version": "1.5.0",
      "_model_name": "FloatProgressModel",
      "_view_count": null,
      "_view_module": "@jupyter-widgets/controls",
      "_view_module_version": "1.5.0",
      "_view_name": "ProgressView",
      "bar_style": "success",
      "description": "",
      "description_tooltip": null,
      "layout": "IPY_MODEL_ac1705b8e1fa429385c7213ebf82448f",
      "max": 231508,
      "min": 0,
      "orientation": "horizontal",
      "style": "IPY_MODEL_4988bd519f1a42c481602d7b1eb71311",
      "value": 231508
     }
    },
    "f34b44f598254ae2be24925faa301731": {
     "model_module": "@jupyter-widgets/base",
     "model_module_version": "1.2.0",
     "model_name": "LayoutModel",
     "state": {
      "_model_module": "@jupyter-widgets/base",
      "_model_module_version": "1.2.0",
      "_model_name": "LayoutModel",
      "_view_count": null,
      "_view_module": "@jupyter-widgets/base",
      "_view_module_version": "1.2.0",
      "_view_name": "LayoutView",
      "align_content": null,
      "align_items": null,
      "align_self": null,
      "border": null,
      "bottom": null,
      "display": null,
      "flex": null,
      "flex_flow": null,
      "grid_area": null,
      "grid_auto_columns": null,
      "grid_auto_flow": null,
      "grid_auto_rows": null,
      "grid_column": null,
      "grid_gap": null,
      "grid_row": null,
      "grid_template_areas": null,
      "grid_template_columns": null,
      "grid_template_rows": null,
      "height": null,
      "justify_content": null,
      "justify_items": null,
      "left": null,
      "margin": null,
      "max_height": null,
      "max_width": null,
      "min_height": null,
      "min_width": null,
      "object_fit": null,
      "object_position": null,
      "order": null,
      "overflow": null,
      "overflow_x": null,
      "overflow_y": null,
      "padding": null,
      "right": null,
      "top": null,
      "visibility": null,
      "width": null
     }
    },
    "f3ee1907d0b143959a908b2942f3d8e0": {
     "model_module": "@jupyter-widgets/base",
     "model_module_version": "1.2.0",
     "model_name": "LayoutModel",
     "state": {
      "_model_module": "@jupyter-widgets/base",
      "_model_module_version": "1.2.0",
      "_model_name": "LayoutModel",
      "_view_count": null,
      "_view_module": "@jupyter-widgets/base",
      "_view_module_version": "1.2.0",
      "_view_name": "LayoutView",
      "align_content": null,
      "align_items": null,
      "align_self": null,
      "border": null,
      "bottom": null,
      "display": null,
      "flex": null,
      "flex_flow": null,
      "grid_area": null,
      "grid_auto_columns": null,
      "grid_auto_flow": null,
      "grid_auto_rows": null,
      "grid_column": null,
      "grid_gap": null,
      "grid_row": null,
      "grid_template_areas": null,
      "grid_template_columns": null,
      "grid_template_rows": null,
      "height": null,
      "justify_content": null,
      "justify_items": null,
      "left": null,
      "margin": null,
      "max_height": null,
      "max_width": null,
      "min_height": null,
      "min_width": null,
      "object_fit": null,
      "object_position": null,
      "order": null,
      "overflow": null,
      "overflow_x": null,
      "overflow_y": null,
      "padding": null,
      "right": null,
      "top": null,
      "visibility": null,
      "width": null
     }
    },
    "f5bda31ed9b64c5b8e0dcb62d9b8cb4d": {
     "model_module": "@jupyter-widgets/controls",
     "model_module_version": "1.5.0",
     "model_name": "HBoxModel",
     "state": {
      "_dom_classes": [],
      "_model_module": "@jupyter-widgets/controls",
      "_model_module_version": "1.5.0",
      "_model_name": "HBoxModel",
      "_view_count": null,
      "_view_module": "@jupyter-widgets/controls",
      "_view_module_version": "1.5.0",
      "_view_name": "HBoxView",
      "box_style": "",
      "children": [
       "IPY_MODEL_c9bcaf0e6c3448469b87a32b6a3f0e1c",
       "IPY_MODEL_c9f89a88d9b5421a90cebb92b1c16d4a",
       "IPY_MODEL_e0468a3654c0481bb1ac0bdc5edfbba5"
      ],
      "layout": "IPY_MODEL_fe0d2f187c0a4f8bb271503d8003f6f1"
     }
    },
    "f6241e307d334877af6cd76daad8b017": {
     "model_module": "@jupyter-widgets/controls",
     "model_module_version": "1.5.0",
     "model_name": "HBoxModel",
     "state": {
      "_dom_classes": [],
      "_model_module": "@jupyter-widgets/controls",
      "_model_module_version": "1.5.0",
      "_model_name": "HBoxModel",
      "_view_count": null,
      "_view_module": "@jupyter-widgets/controls",
      "_view_module_version": "1.5.0",
      "_view_name": "HBoxView",
      "box_style": "",
      "children": [
       "IPY_MODEL_525cf0412d654f3ca573cce3564a6983",
       "IPY_MODEL_f820e28d487043e1b0f53c4fa0389460",
       "IPY_MODEL_91b188bf807a4ff4b821c270dabfed5a"
      ],
      "layout": "IPY_MODEL_5588ff5e81254bab8a30571e9f3e66c9"
     }
    },
    "f74f7c4ba8aa4f38ad2aa18f3e8b3e96": {
     "model_module": "@jupyter-widgets/base",
     "model_module_version": "1.2.0",
     "model_name": "LayoutModel",
     "state": {
      "_model_module": "@jupyter-widgets/base",
      "_model_module_version": "1.2.0",
      "_model_name": "LayoutModel",
      "_view_count": null,
      "_view_module": "@jupyter-widgets/base",
      "_view_module_version": "1.2.0",
      "_view_name": "LayoutView",
      "align_content": null,
      "align_items": null,
      "align_self": null,
      "border": null,
      "bottom": null,
      "display": null,
      "flex": null,
      "flex_flow": null,
      "grid_area": null,
      "grid_auto_columns": null,
      "grid_auto_flow": null,
      "grid_auto_rows": null,
      "grid_column": null,
      "grid_gap": null,
      "grid_row": null,
      "grid_template_areas": null,
      "grid_template_columns": null,
      "grid_template_rows": null,
      "height": null,
      "justify_content": null,
      "justify_items": null,
      "left": null,
      "margin": null,
      "max_height": null,
      "max_width": null,
      "min_height": null,
      "min_width": null,
      "object_fit": null,
      "object_position": null,
      "order": null,
      "overflow": null,
      "overflow_x": null,
      "overflow_y": null,
      "padding": null,
      "right": null,
      "top": null,
      "visibility": null,
      "width": null
     }
    },
    "f78a3e3cb1264a389efe51a44a482114": {
     "model_module": "@jupyter-widgets/base",
     "model_module_version": "1.2.0",
     "model_name": "LayoutModel",
     "state": {
      "_model_module": "@jupyter-widgets/base",
      "_model_module_version": "1.2.0",
      "_model_name": "LayoutModel",
      "_view_count": null,
      "_view_module": "@jupyter-widgets/base",
      "_view_module_version": "1.2.0",
      "_view_name": "LayoutView",
      "align_content": null,
      "align_items": null,
      "align_self": null,
      "border": null,
      "bottom": null,
      "display": null,
      "flex": null,
      "flex_flow": null,
      "grid_area": null,
      "grid_auto_columns": null,
      "grid_auto_flow": null,
      "grid_auto_rows": null,
      "grid_column": null,
      "grid_gap": null,
      "grid_row": null,
      "grid_template_areas": null,
      "grid_template_columns": null,
      "grid_template_rows": null,
      "height": null,
      "justify_content": null,
      "justify_items": null,
      "left": null,
      "margin": null,
      "max_height": null,
      "max_width": null,
      "min_height": null,
      "min_width": null,
      "object_fit": null,
      "object_position": null,
      "order": null,
      "overflow": null,
      "overflow_x": null,
      "overflow_y": null,
      "padding": null,
      "right": null,
      "top": null,
      "visibility": null,
      "width": null
     }
    },
    "f820e28d487043e1b0f53c4fa0389460": {
     "model_module": "@jupyter-widgets/controls",
     "model_module_version": "1.5.0",
     "model_name": "FloatProgressModel",
     "state": {
      "_dom_classes": [],
      "_model_module": "@jupyter-widgets/controls",
      "_model_module_version": "1.5.0",
      "_model_name": "FloatProgressModel",
      "_view_count": null,
      "_view_module": "@jupyter-widgets/controls",
      "_view_module_version": "1.5.0",
      "_view_name": "ProgressView",
      "bar_style": "success",
      "description": "",
      "description_tooltip": null,
      "layout": "IPY_MODEL_1580d9f67cfd4c49afea04c560361e35",
      "max": 466062,
      "min": 0,
      "orientation": "horizontal",
      "style": "IPY_MODEL_90d82ba9704046798ed5f8241a62a8e8",
      "value": 466062
     }
    },
    "f92bfabe658a4fdeac43161310c1851c": {
     "model_module": "@jupyter-widgets/controls",
     "model_module_version": "1.5.0",
     "model_name": "HTMLModel",
     "state": {
      "_dom_classes": [],
      "_model_module": "@jupyter-widgets/controls",
      "_model_module_version": "1.5.0",
      "_model_name": "HTMLModel",
      "_view_count": null,
      "_view_module": "@jupyter-widgets/controls",
      "_view_module_version": "1.5.0",
      "_view_name": "HTMLView",
      "description": "",
      "description_tooltip": null,
      "layout": "IPY_MODEL_ca8a4ae0776e46e89c698afe1cdd3aca",
      "placeholder": "​",
      "style": "IPY_MODEL_6a70a15f6543460ca28a0d6a2c25ffcc",
      "value": " 190/190 [00:00&lt;00:00, 14.1kB/s]"
     }
    },
    "f9cbffb603e44308b70fa13b4ee98a59": {
     "model_module": "@jupyter-widgets/controls",
     "model_module_version": "1.5.0",
     "model_name": "FloatProgressModel",
     "state": {
      "_dom_classes": [],
      "_model_module": "@jupyter-widgets/controls",
      "_model_module_version": "1.5.0",
      "_model_name": "FloatProgressModel",
      "_view_count": null,
      "_view_module": "@jupyter-widgets/controls",
      "_view_module_version": "1.5.0",
      "_view_name": "ProgressView",
      "bar_style": "success",
      "description": "",
      "description_tooltip": null,
      "layout": "IPY_MODEL_c081ffb05a9d4657a027f51b703c55ca",
      "max": 90868376,
      "min": 0,
      "orientation": "horizontal",
      "style": "IPY_MODEL_770cc8108be24a07b028d3d6779a6539",
      "value": 90868376
     }
    },
    "fa6d1ad8a34d422b99b52576c444be6e": {
     "model_module": "@jupyter-widgets/controls",
     "model_module_version": "1.5.0",
     "model_name": "HBoxModel",
     "state": {
      "_dom_classes": [],
      "_model_module": "@jupyter-widgets/controls",
      "_model_module_version": "1.5.0",
      "_model_name": "HBoxModel",
      "_view_count": null,
      "_view_module": "@jupyter-widgets/controls",
      "_view_module_version": "1.5.0",
      "_view_name": "HBoxView",
      "box_style": "",
      "children": [
       "IPY_MODEL_b0b889de2cd442deade8beaa1a3cfbb8",
       "IPY_MODEL_d8a36b99ca024eefb84f233efb306a03",
       "IPY_MODEL_e86b2bdbac9e41ce9efdac969469e5db"
      ],
      "layout": "IPY_MODEL_7c11c5c2328949cca45f3162ef98faa9"
     }
    },
    "fc170e6b06ec478d8d5a4dae0622e5b2": {
     "model_module": "@jupyter-widgets/controls",
     "model_module_version": "1.5.0",
     "model_name": "DescriptionStyleModel",
     "state": {
      "_model_module": "@jupyter-widgets/controls",
      "_model_module_version": "1.5.0",
      "_model_name": "DescriptionStyleModel",
      "_view_count": null,
      "_view_module": "@jupyter-widgets/base",
      "_view_module_version": "1.2.0",
      "_view_name": "StyleView",
      "description_width": ""
     }
    },
    "fd787f14277a4987b8cfb6ca1c8b6954": {
     "model_module": "@jupyter-widgets/base",
     "model_module_version": "1.2.0",
     "model_name": "LayoutModel",
     "state": {
      "_model_module": "@jupyter-widgets/base",
      "_model_module_version": "1.2.0",
      "_model_name": "LayoutModel",
      "_view_count": null,
      "_view_module": "@jupyter-widgets/base",
      "_view_module_version": "1.2.0",
      "_view_name": "LayoutView",
      "align_content": null,
      "align_items": null,
      "align_self": null,
      "border": null,
      "bottom": null,
      "display": null,
      "flex": null,
      "flex_flow": null,
      "grid_area": null,
      "grid_auto_columns": null,
      "grid_auto_flow": null,
      "grid_auto_rows": null,
      "grid_column": null,
      "grid_gap": null,
      "grid_row": null,
      "grid_template_areas": null,
      "grid_template_columns": null,
      "grid_template_rows": null,
      "height": null,
      "justify_content": null,
      "justify_items": null,
      "left": null,
      "margin": null,
      "max_height": null,
      "max_width": null,
      "min_height": null,
      "min_width": null,
      "object_fit": null,
      "object_position": null,
      "order": null,
      "overflow": null,
      "overflow_x": null,
      "overflow_y": null,
      "padding": null,
      "right": null,
      "top": null,
      "visibility": null,
      "width": null
     }
    },
    "fe0d2f187c0a4f8bb271503d8003f6f1": {
     "model_module": "@jupyter-widgets/base",
     "model_module_version": "1.2.0",
     "model_name": "LayoutModel",
     "state": {
      "_model_module": "@jupyter-widgets/base",
      "_model_module_version": "1.2.0",
      "_model_name": "LayoutModel",
      "_view_count": null,
      "_view_module": "@jupyter-widgets/base",
      "_view_module_version": "1.2.0",
      "_view_name": "LayoutView",
      "align_content": null,
      "align_items": null,
      "align_self": null,
      "border": null,
      "bottom": null,
      "display": null,
      "flex": null,
      "flex_flow": null,
      "grid_area": null,
      "grid_auto_columns": null,
      "grid_auto_flow": null,
      "grid_auto_rows": null,
      "grid_column": null,
      "grid_gap": null,
      "grid_row": null,
      "grid_template_areas": null,
      "grid_template_columns": null,
      "grid_template_rows": null,
      "height": null,
      "justify_content": null,
      "justify_items": null,
      "left": null,
      "margin": null,
      "max_height": null,
      "max_width": null,
      "min_height": null,
      "min_width": null,
      "object_fit": null,
      "object_position": null,
      "order": null,
      "overflow": null,
      "overflow_x": null,
      "overflow_y": null,
      "padding": null,
      "right": null,
      "top": null,
      "visibility": null,
      "width": null
     }
    }
   }
  }
 },
 "nbformat": 4,
 "nbformat_minor": 5
}
